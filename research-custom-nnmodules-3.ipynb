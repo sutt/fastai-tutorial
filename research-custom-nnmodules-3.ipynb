{
 "cells": [
  {
   "cell_type": "markdown",
   "metadata": {},
   "source": [
    "## Research: adding argmin/max features\n",
    "\n",
    "Adding these features at the beginning of the calc\n",
    "\n",
    "**Note:** this notebook mistakenly uses center-point, (not topleft-point) as the target.\n",
    "\n",
    "Can we still do `.forward` when we caluclate features from X in a non-differentiable way? Yes.\n",
    "\n",
    "In this notebook we look at:\n",
    "  \n",
    "  - Visualizing the additional features created by using argmax/argmin on an unflattened image.\n",
    "  \n",
    "  - Construct `BaseNet`, a simple NN and examine the effect of changing the hidden layer size when training on the top-left-point task.\n",
    "  \n",
    "  - Construct `FeatsNet` which has ability to turn on/off the additional argmin/max features to before running the thru BaseNet-style model. We'll examine the benefits of adding these features.\n",
    "  "
   ]
  },
  {
   "cell_type": "markdown",
   "metadata": {},
   "source": [
    "### Setup - imported from previous books"
   ]
  },
  {
   "cell_type": "code",
   "execution_count": 1,
   "metadata": {},
   "outputs": [
    {
     "data": {
      "text/plain": [
       "torch.Size([2, 1, 28, 28])"
      ]
     },
     "execution_count": 1,
     "metadata": {},
     "output_type": "execute_result"
    }
   ],
   "source": [
    "import os, sys\n",
    "import copy as copyroot\n",
    "import pandas as pd\n",
    "from IPython.display import display\n",
    "from matplotlib import pyplot as plt\n",
    "\n",
    "from fastai2.basics import *\n",
    "from fastai2.vision.all import *\n",
    "\n",
    "from sklearn.preprocessing import StandardScaler\n",
    "\n",
    "%load_ext autoreload\n",
    "%autoreload 2\n",
    "\n",
    "from module.mnist_helpers import build_df, eda_fig_1\n",
    "from module.mnist_helpers import img_pt_plot, train_history_dualplot\n",
    "\n",
    "path = untar_data(URLs.MNIST_TINY)\n",
    "df = build_df(path)\n",
    "df.head(2)\n",
    "\n",
    "y_names = [\n",
    "    'point_topleft_x', \n",
    "    'point_topleft_y',\n",
    "    'point_center_x',\n",
    "    'point_center_y'\n",
    "    ]\n",
    "\n",
    "db =   DataBlock(blocks=(ImageBlock(cls=PILImageBW), \n",
    "                         PointBlock), \n",
    "                splitter=RandomSplitter(seed=0),\n",
    "                get_x=ColReader('fn', pref=path),\n",
    "                )\n",
    "\n",
    "db_1_topleft = copyroot.deepcopy(db)\n",
    "db_1_center  = copyroot.deepcopy(db)\n",
    "db_2         = copyroot.deepcopy(db)\n",
    "\n",
    "def set_get_y(db, cr):\n",
    "    db.get_y = cr\n",
    "    db.getters[db.n_inp:] = L(db.get_y)\n",
    "\n",
    "set_get_y( db_1_topleft, ColReader(y_names[:2]) )\n",
    "set_get_y( db_1_center,  ColReader(y_names[2:]) )\n",
    "set_get_y( db_2,         ColReader(y_names) )\n",
    "\n",
    "dl_1_topleft = db_1_topleft.dataloaders(df)\n",
    "dl_1_center  = db_1_center.dataloaders(df)\n",
    "dl_2         = db_2.dataloaders(df)\n",
    "\n",
    "# remake a datablock with BW-style images\n",
    "\n",
    "y_names = [\n",
    "    'point_topleft_x', \n",
    "    'point_topleft_y',\n",
    "    'point_center_x',\n",
    "    'point_center_y'\n",
    "    ]\n",
    "\n",
    "dblock = DataBlock(blocks=(ImageBlock(cls=PILImageBW), PointBlock), \n",
    "                  splitter=RandomSplitter(),\n",
    "                   get_x=ColReader('fn', pref=path),\n",
    "                   get_y=ColReader(y_names[2:]),\n",
    "                  )\n",
    "\n",
    "dls = dblock.dataloaders(df)\n",
    "\n",
    "x, y = dls.one_batch()\n",
    "\n",
    "x.shape\n",
    "\n",
    "x_2 = x[:2]\n",
    "x_2.shape"
   ]
  },
  {
   "cell_type": "markdown",
   "metadata": {},
   "source": [
    "### Visualize the observation and exapnded feature set\n",
    "\"expanded feature set\" created via argmin/argmax"
   ]
  },
  {
   "cell_type": "code",
   "execution_count": 2,
   "metadata": {},
   "outputs": [
    {
     "data": {
      "image/png": "[encoded data removed]",
      "text/plain": [
       "<Figure size 144x144 with 1 Axes>"
      ]
     },
     "metadata": {
      "needs_background": "light"
     },
     "output_type": "display_data"
    }
   ],
   "source": [
    "plt.figure(figsize=(2,2)); plt.imshow(x_2[0].squeeze(0));"
   ]
  },
  {
   "cell_type": "code",
   "execution_count": 115,
   "metadata": {},
   "outputs": [
    {
     "data": {
      "image/png": "[encoded data removed]",
      "text/plain": [
       "<Figure size 432x288 with 1 Axes>"
      ]
     },
     "metadata": {
      "needs_background": "light"
     },
     "output_type": "display_data"
    }
   ],
   "source": [
    "plt.scatter(y.squeeze(1).numpy()[:,0], y.squeeze(1).numpy()[:,1])\n",
    "plt.xlim(-1,1); plt.ylim(-1,1);"
   ]
  },
  {
   "cell_type": "code",
   "execution_count": 106,
   "metadata": {},
   "outputs": [
    {
     "data": {
      "text/plain": [
       "tensor([[0.0000, 0.0000, 0.0000, 0.0000, 0.0000, 0.0000, 0.0000, 0.0000, 0.0000,\n",
       "         0.0000],\n",
       "        [0.0000, 0.0000, 0.0000, 0.0000, 0.0000, 0.0000, 0.0000, 0.0000, 0.0000,\n",
       "         0.0000],\n",
       "        [0.0000, 0.0000, 0.0000, 0.0000, 0.0000, 0.0000, 0.0000, 0.0000, 0.0000,\n",
       "         0.0000],\n",
       "        [0.0000, 0.0000, 0.0000, 0.0000, 0.0000, 0.0000, 0.0000, 0.0000, 0.0000,\n",
       "         0.0000],\n",
       "        [0.0000, 0.0000, 0.0000, 0.0000, 0.0000, 0.0000, 0.0000, 0.0000, 0.0000,\n",
       "         0.0000],\n",
       "        [0.0000, 0.0000, 0.0000, 0.0000, 0.0000, 0.0000, 0.0000, 0.0000, 0.0000,\n",
       "         0.0000],\n",
       "        [0.0000, 0.0000, 0.0000, 0.0000, 0.0000, 0.0000, 0.0000, 0.0000, 0.0000,\n",
       "         0.0000],\n",
       "        [0.0000, 0.0000, 0.0000, 0.0000, 0.0000, 0.0000, 0.0000, 0.0000, 0.0000,\n",
       "         0.0000],\n",
       "        [0.0000, 0.0000, 0.0000, 0.0000, 0.0000, 0.0000, 0.0000, 0.0000, 0.0000,\n",
       "         0.0353],\n",
       "        [0.0000, 0.0000, 0.0000, 0.0000, 0.0000, 0.0000, 0.0000, 0.0000, 0.0000,\n",
       "         0.0314]])"
      ]
     },
     "execution_count": 106,
     "metadata": {},
     "output_type": "execute_result"
    }
   ],
   "source": [
    "x_2[0,0, :10,:10]"
   ]
  },
  {
   "cell_type": "code",
   "execution_count": 3,
   "metadata": {},
   "outputs": [
    {
     "data": {
      "image/png": "[encoded data removed]",
      "text/plain": [
       "<Figure size 216x216 with 1 Axes>"
      ]
     },
     "metadata": {
      "needs_background": "light"
     },
     "output_type": "display_data"
    }
   ],
   "source": [
    "max2 = x_2[0].argmax(dim=1)\n",
    "max3 = x_2[0].argmax(dim=2)\n",
    "plt.figure(figsize=(3,3))\n",
    "plt.scatter(max3, max2);\n",
    "plt.xlim(0,28); plt.ylim(0,28);"
   ]
  },
  {
   "cell_type": "code",
   "execution_count": 4,
   "metadata": {},
   "outputs": [
    {
     "data": {
      "image/png": "[encoded data removed]",
      "text/plain": [
       "<Figure size 216x216 with 1 Axes>"
      ]
     },
     "metadata": {
      "needs_background": "light"
     },
     "output_type": "display_data"
    }
   ],
   "source": [
    "max2 = x_2[0].argmin(dim=1)\n",
    "max3 = x_2[0].argmin(dim=2)\n",
    "plt.figure(figsize=(3,3))\n",
    "plt.scatter(max3, max2);\n",
    "plt.xlim(0,28); plt.ylim(0,28);"
   ]
  },
  {
   "cell_type": "markdown",
   "metadata": {},
   "source": [
    "### BaseNet \n",
    "Simple one hidden layer network"
   ]
  },
  {
   "cell_type": "code",
   "execution_count": 5,
   "metadata": {},
   "outputs": [],
   "source": [
    "class BaseNet(torch.nn.Module):\n",
    "    def __init__(self, D_in=28, H=28):\n",
    "        super(BaseNet, self).__init__()\n",
    "        self.flat    = nn.Flatten()\n",
    "        self.linear1 = nn.Linear(in_features=D_in**2, out_features=H)\n",
    "        self.linear2 = nn.Linear(in_features=H, out_features=2, bias=False)\n",
    "        self.sig     = SigmoidRange(-1., 1)\n",
    "    \n",
    "    def forward(self, x):\n",
    "        l0 = self.flat(x)\n",
    "        l1 = self.linear1(l0)\n",
    "        l2 = self.linear2(l1)\n",
    "        y =  self.sig(l2)\n",
    "        return y"
   ]
  },
  {
   "cell_type": "code",
   "execution_count": 6,
   "metadata": {},
   "outputs": [
    {
     "data": {
      "text/plain": [
       "tensor([[0.0468, 0.0322],\n",
       "        [0.0118, 0.0542]], grad_fn=<AddBackward0>)"
      ]
     },
     "execution_count": 6,
     "metadata": {},
     "output_type": "execute_result"
    }
   ],
   "source": [
    "basenet = BaseNet(28,28)\n",
    "basenet(x_2)"
   ]
  },
  {
   "cell_type": "code",
   "execution_count": 7,
   "metadata": {},
   "outputs": [
    {
     "data": {
      "text/html": [
       "<table border=\"1\" class=\"dataframe\">\n",
       "  <thead>\n",
       "    <tr style=\"text-align: left;\">\n",
       "      <th>epoch</th>\n",
       "      <th>train_loss</th>\n",
       "      <th>valid_loss</th>\n",
       "      <th>time</th>\n",
       "    </tr>\n",
       "  </thead>\n",
       "  <tbody>\n",
       "    <tr>\n",
       "      <td>0</td>\n",
       "      <td>0.008513</td>\n",
       "      <td>0.006726</td>\n",
       "      <td>00:01</td>\n",
       "    </tr>\n",
       "    <tr>\n",
       "      <td>1</td>\n",
       "      <td>0.006385</td>\n",
       "      <td>0.004067</td>\n",
       "      <td>00:01</td>\n",
       "    </tr>\n",
       "    <tr>\n",
       "      <td>2</td>\n",
       "      <td>0.005162</td>\n",
       "      <td>0.002820</td>\n",
       "      <td>00:01</td>\n",
       "    </tr>\n",
       "    <tr>\n",
       "      <td>3</td>\n",
       "      <td>0.004326</td>\n",
       "      <td>0.003150</td>\n",
       "      <td>00:01</td>\n",
       "    </tr>\n",
       "    <tr>\n",
       "      <td>4</td>\n",
       "      <td>0.003747</td>\n",
       "      <td>0.002663</td>\n",
       "      <td>00:01</td>\n",
       "    </tr>\n",
       "  </tbody>\n",
       "</table>"
      ],
      "text/plain": [
       "<IPython.core.display.HTML object>"
      ]
     },
     "metadata": {},
     "output_type": "display_data"
    }
   ],
   "source": [
    "basenet = BaseNet(D_in=28, H=28)\n",
    "learn_bn = Learner(dls, basenet, loss_func=MSELossFlat() )\n",
    "learn_bn.fit(5)"
   ]
  },
  {
   "cell_type": "markdown",
   "metadata": {},
   "source": [
    "#### Test the effect of hidden layer size, `H`"
   ]
  },
  {
   "cell_type": "code",
   "execution_count": null,
   "metadata": {},
   "outputs": [],
   "source": [
    "TRIALS = 5\n",
    "EPOCHS = 8\n",
    "d_mse = {}\n",
    "\n",
    "for _h in (2, 12, 28, 52):\n",
    "    \n",
    "    print(f'H: {_h}')\n",
    "    d_mse[_h] = []\n",
    "    for trial in range(TRIALS):\n",
    "        \n",
    "        learn = Learner(dls, BaseNet(D_in=28, H=_h), \n",
    "                        loss_func=MSELossFlat())\n",
    "\n",
    "        with learn.no_logging(): learn.fit(EPOCHS)\n",
    "\n",
    "        preds = learn.get_preds()\n",
    "        _mse = mse(preds[0], preds[1])\n",
    "        d_mse[_h].append(_mse)"
   ]
  },
  {
   "cell_type": "code",
   "execution_count": 45,
   "metadata": {},
   "outputs": [
    {
     "data": {
      "text/html": [
       "<div>\n",
       "<style scoped>\n",
       "    .dataframe tbody tr th:only-of-type {\n",
       "        vertical-align: middle;\n",
       "    }\n",
       "\n",
       "    .dataframe tbody tr th {\n",
       "        vertical-align: top;\n",
       "    }\n",
       "\n",
       "    .dataframe thead th {\n",
       "        text-align: right;\n",
       "    }\n",
       "</style>\n",
       "<table border=\"1\" class=\"dataframe\">\n",
       "  <thead>\n",
       "    <tr style=\"text-align: right;\">\n",
       "      <th></th>\n",
       "      <th>avg</th>\n",
       "      <th>min</th>\n",
       "      <th>max</th>\n",
       "    </tr>\n",
       "  </thead>\n",
       "  <tbody>\n",
       "    <tr>\n",
       "      <th>2</th>\n",
       "      <td>0.0032</td>\n",
       "      <td>0.0029</td>\n",
       "      <td>0.0041</td>\n",
       "    </tr>\n",
       "    <tr>\n",
       "      <th>12</th>\n",
       "      <td>0.0026</td>\n",
       "      <td>0.0023</td>\n",
       "      <td>0.0028</td>\n",
       "    </tr>\n",
       "    <tr>\n",
       "      <th>28</th>\n",
       "      <td>0.0023</td>\n",
       "      <td>0.0022</td>\n",
       "      <td>0.0025</td>\n",
       "    </tr>\n",
       "    <tr>\n",
       "      <th>52</th>\n",
       "      <td>0.0024</td>\n",
       "      <td>0.0022</td>\n",
       "      <td>0.0027</td>\n",
       "    </tr>\n",
       "  </tbody>\n",
       "</table>\n",
       "</div>"
      ],
      "text/plain": [
       "       avg     min     max\n",
       "2   0.0032  0.0029  0.0041\n",
       "12  0.0026  0.0023  0.0028\n",
       "28  0.0023  0.0022  0.0025\n",
       "52  0.0024  0.0022  0.0027"
      ]
     },
     "execution_count": 45,
     "metadata": {},
     "output_type": "execute_result"
    }
   ],
   "source": [
    "df_mse = pd.DataFrame({k:[e.item() for e in v] for k,v in d_mse.items()})\n",
    "\n",
    "df_mse = df_mse.T\n",
    "\n",
    "df_mse['avg'] = df_mse.apply(np.mean, axis=1)\n",
    "df_mse['min'] = df_mse.apply(np.min, axis=1)\n",
    "df_mse['max'] = df_mse.apply(np.max, axis=1)\n",
    "\n",
    "df_mse.iloc[:, -3:].round(4)"
   ]
  },
  {
   "cell_type": "code",
   "execution_count": 46,
   "metadata": {},
   "outputs": [],
   "source": [
    "df_mse.to_csv('rcnnm-3-dfmse.csv')"
   ]
  },
  {
   "cell_type": "markdown",
   "metadata": {},
   "source": [
    "So there is a benefit to adding more hidden layers from 2 thru 28, but then we start to slightly overfit and lose power."
   ]
  },
  {
   "cell_type": "markdown",
   "metadata": {},
   "source": [
    "### Build a NN with a variable amount of features\n",
    "\n",
    "TODO - do standard scaling on min/max features"
   ]
  },
  {
   "cell_type": "code",
   "execution_count": 80,
   "metadata": {},
   "outputs": [],
   "source": [
    "class FeatsNet(torch.nn.Module):\n",
    "    \n",
    "    def __init__(self, D_in=28, H=28, feats=['pix']):\n",
    "        \n",
    "        self.feats = feats\n",
    "        self.D = D_in\n",
    "        \n",
    "        super(FeatsNet, self).__init__()\n",
    "        \n",
    "        len_ins = 0\n",
    "        if 'pix'      in self.feats: len_ins += D_in**2\n",
    "        if 'max'      in self.feats: len_ins += D_in*2\n",
    "        if 'min'      in self.feats: len_ins += D_in*2\n",
    "        if len_ins == 0: \n",
    "            raise Exception('Need a valid code in `feats`')\n",
    "            \n",
    "        self.flat    = nn.Flatten()\n",
    "        \n",
    "        self.linear1 = nn.Linear(in_features=len_ins, out_features=H)\n",
    "        self.linear2 = nn.Linear(in_features=H,       out_features=2, \n",
    "                                 bias=False)\n",
    "        \n",
    "        self.sig     = SigmoidRange(-1., 1)\n",
    "        \n",
    "    def build_feats(self, x):\n",
    "        \n",
    "        l0 = torch.tensor([])\n",
    "        \n",
    "        if 'pix' in self.feats:\n",
    "            l0 = self.flat(x)\n",
    "        \n",
    "        if 'max' in self.feats:\n",
    "            max2  = self.flat(x.argmax(dim=2).float()) / float(self.D)\n",
    "            max3  = self.flat(x.argmax(dim=3).float()) / float(self.D)\n",
    "            l0 = torch.cat((l0, max2, max3), dim=1)\n",
    "            \n",
    "        if 'min' in self.feats:    \n",
    "            min2  = self.flat(x.argmin(dim=2).float()) / float(self.D)\n",
    "            min3  = self.flat(x.argmin(dim=3).float()) / float(self.D)\n",
    "            l0 = torch.cat((l0, min2, min3), dim=1)\n",
    "            \n",
    "        return l0\n",
    "    \n",
    "    def forward(self, x):\n",
    "        \n",
    "        l0 = self.build_feats(x)\n",
    "        \n",
    "        l1 = self.linear1(l0)\n",
    "        l2 = self.linear2(l1)\n",
    "        y =  self.sig(l2)\n",
    "        return y"
   ]
  },
  {
   "cell_type": "markdown",
   "metadata": {},
   "source": [
    "##### Show the change in feature size based on inputs requested in `feats`"
   ]
  },
  {
   "cell_type": "code",
   "execution_count": 81,
   "metadata": {},
   "outputs": [
    {
     "name": "stdout",
     "output_type": "stream",
     "text": [
      "feats: ['pix']                   | torch.Size([2, 784])\n",
      "feats: ['pix', 'max']            | torch.Size([2, 840])\n",
      "feats: ['min', 'max']            | torch.Size([2, 112])\n",
      "feats: ['pix', 'min', 'max']     | torch.Size([2, 896])\n"
     ]
    }
   ],
   "source": [
    "def fn_info(feats):\n",
    "    fn = FeatsNet(feats=feats)\n",
    "    x2_feats = fn.build_feats(x_2)\n",
    "    print(f'feats: {str(feats).ljust(25)} | {x2_feats.shape}')\n",
    "\n",
    "feats = ['pix',]\n",
    "fn_info(feats)\n",
    "\n",
    "feats = ['pix', 'max']\n",
    "fn_info(feats)\n",
    "\n",
    "feats = ['min', 'max']\n",
    "fn_info(feats)\n",
    "\n",
    "feats = ['pix', 'min', 'max']\n",
    "fn_info(feats)"
   ]
  },
  {
   "cell_type": "markdown",
   "metadata": {},
   "source": [
    "##### Run Sample Models\n",
    "With original feature set vs. expanded featrue set  "
   ]
  },
  {
   "cell_type": "code",
   "execution_count": 97,
   "metadata": {},
   "outputs": [
    {
     "data": {
      "text/html": [
       "<table border=\"1\" class=\"dataframe\">\n",
       "  <thead>\n",
       "    <tr style=\"text-align: left;\">\n",
       "      <th>epoch</th>\n",
       "      <th>train_loss</th>\n",
       "      <th>valid_loss</th>\n",
       "      <th>time</th>\n",
       "    </tr>\n",
       "  </thead>\n",
       "  <tbody>\n",
       "    <tr>\n",
       "      <td>0</td>\n",
       "      <td>0.008959</td>\n",
       "      <td>0.006458</td>\n",
       "      <td>00:01</td>\n",
       "    </tr>\n",
       "    <tr>\n",
       "      <td>1</td>\n",
       "      <td>0.006554</td>\n",
       "      <td>0.004224</td>\n",
       "      <td>00:01</td>\n",
       "    </tr>\n",
       "    <tr>\n",
       "      <td>2</td>\n",
       "      <td>0.005220</td>\n",
       "      <td>0.003217</td>\n",
       "      <td>00:01</td>\n",
       "    </tr>\n",
       "    <tr>\n",
       "      <td>3</td>\n",
       "      <td>0.004319</td>\n",
       "      <td>0.002555</td>\n",
       "      <td>00:01</td>\n",
       "    </tr>\n",
       "    <tr>\n",
       "      <td>4</td>\n",
       "      <td>0.003725</td>\n",
       "      <td>0.002690</td>\n",
       "      <td>00:01</td>\n",
       "    </tr>\n",
       "    <tr>\n",
       "      <td>5</td>\n",
       "      <td>0.003278</td>\n",
       "      <td>0.002563</td>\n",
       "      <td>00:01</td>\n",
       "    </tr>\n",
       "    <tr>\n",
       "      <td>6</td>\n",
       "      <td>0.002921</td>\n",
       "      <td>0.002305</td>\n",
       "      <td>00:01</td>\n",
       "    </tr>\n",
       "    <tr>\n",
       "      <td>7</td>\n",
       "      <td>0.002639</td>\n",
       "      <td>0.002279</td>\n",
       "      <td>00:01</td>\n",
       "    </tr>\n",
       "    <tr>\n",
       "      <td>8</td>\n",
       "      <td>0.002410</td>\n",
       "      <td>0.002433</td>\n",
       "      <td>00:01</td>\n",
       "    </tr>\n",
       "    <tr>\n",
       "      <td>9</td>\n",
       "      <td>0.002225</td>\n",
       "      <td>0.002288</td>\n",
       "      <td>00:01</td>\n",
       "    </tr>\n",
       "  </tbody>\n",
       "</table>"
      ],
      "text/plain": [
       "<IPython.core.display.HTML object>"
      ]
     },
     "metadata": {},
     "output_type": "display_data"
    }
   ],
   "source": [
    "fn = FeatsNet(feats=['pix'])\n",
    "learn = Learner(dls, fn, loss_func=MSELossFlat())\n",
    "learn.fit(10)"
   ]
  },
  {
   "cell_type": "code",
   "execution_count": 98,
   "metadata": {},
   "outputs": [
    {
     "data": {
      "text/html": [
       "<table border=\"1\" class=\"dataframe\">\n",
       "  <thead>\n",
       "    <tr style=\"text-align: left;\">\n",
       "      <th>epoch</th>\n",
       "      <th>train_loss</th>\n",
       "      <th>valid_loss</th>\n",
       "      <th>time</th>\n",
       "    </tr>\n",
       "  </thead>\n",
       "  <tbody>\n",
       "    <tr>\n",
       "      <td>0</td>\n",
       "      <td>0.009138</td>\n",
       "      <td>0.005300</td>\n",
       "      <td>00:01</td>\n",
       "    </tr>\n",
       "    <tr>\n",
       "      <td>1</td>\n",
       "      <td>0.006701</td>\n",
       "      <td>0.002914</td>\n",
       "      <td>00:01</td>\n",
       "    </tr>\n",
       "    <tr>\n",
       "      <td>2</td>\n",
       "      <td>0.005118</td>\n",
       "      <td>0.002837</td>\n",
       "      <td>00:01</td>\n",
       "    </tr>\n",
       "    <tr>\n",
       "      <td>3</td>\n",
       "      <td>0.004122</td>\n",
       "      <td>0.002029</td>\n",
       "      <td>00:01</td>\n",
       "    </tr>\n",
       "    <tr>\n",
       "      <td>4</td>\n",
       "      <td>0.003437</td>\n",
       "      <td>0.002135</td>\n",
       "      <td>00:01</td>\n",
       "    </tr>\n",
       "    <tr>\n",
       "      <td>5</td>\n",
       "      <td>0.002930</td>\n",
       "      <td>0.002222</td>\n",
       "      <td>00:01</td>\n",
       "    </tr>\n",
       "    <tr>\n",
       "      <td>6</td>\n",
       "      <td>0.002566</td>\n",
       "      <td>0.001817</td>\n",
       "      <td>00:01</td>\n",
       "    </tr>\n",
       "    <tr>\n",
       "      <td>7</td>\n",
       "      <td>0.002275</td>\n",
       "      <td>0.001657</td>\n",
       "      <td>00:01</td>\n",
       "    </tr>\n",
       "    <tr>\n",
       "      <td>8</td>\n",
       "      <td>0.002028</td>\n",
       "      <td>0.001562</td>\n",
       "      <td>00:01</td>\n",
       "    </tr>\n",
       "    <tr>\n",
       "      <td>9</td>\n",
       "      <td>0.001826</td>\n",
       "      <td>0.001647</td>\n",
       "      <td>00:01</td>\n",
       "    </tr>\n",
       "  </tbody>\n",
       "</table>"
      ],
      "text/plain": [
       "<IPython.core.display.HTML object>"
      ]
     },
     "metadata": {},
     "output_type": "display_data"
    }
   ],
   "source": [
    "fn = FeatsNet(feats=['pix','min', 'max'])\n",
    "learn = Learner(dls, fn, loss_func=MSELossFlat())\n",
    "learn.fit(10)"
   ]
  },
  {
   "cell_type": "markdown",
   "metadata": {},
   "source": [
    "So the additional features push model err below the asymptote, we're on the right track"
   ]
  },
  {
   "cell_type": "markdown",
   "metadata": {},
   "source": [
    "#### Build Table of Results\n",
    "Fit multiple times a model with differnet feature sets, and record the validation mse. Compare results below:"
   ]
  },
  {
   "cell_type": "code",
   "execution_count": null,
   "metadata": {},
   "outputs": [],
   "source": [
    "TRIALS = 5\n",
    "EPOCHS = 8\n",
    "d_mse = {}\n",
    "\n",
    "for feats in (['pix'], ['pix', 'min'], ['pix', 'max'],\n",
    "              ['pix','min','max']):\n",
    "    \n",
    "    k = '|'.join(feats)\n",
    "    print(f'feats: {k}')\n",
    "    d_mse[k] = []\n",
    "    \n",
    "    for trial in range(TRIALS):\n",
    "        \n",
    "        learn = Learner(dls, FeatsNet(feats=feats), \n",
    "                        loss_func=MSELossFlat())\n",
    "        with learn.no_logging(): learn.fit(EPOCHS)\n",
    "        preds = learn.get_preds()\n",
    "        _mse = mse(preds[0], preds[1])\n",
    "        d_mse[k].append(_mse)"
   ]
  },
  {
   "cell_type": "code",
   "execution_count": 93,
   "metadata": {},
   "outputs": [
    {
     "data": {
      "text/html": [
       "<div>\n",
       "<style scoped>\n",
       "    .dataframe tbody tr th:only-of-type {\n",
       "        vertical-align: middle;\n",
       "    }\n",
       "\n",
       "    .dataframe tbody tr th {\n",
       "        vertical-align: top;\n",
       "    }\n",
       "\n",
       "    .dataframe thead th {\n",
       "        text-align: right;\n",
       "    }\n",
       "</style>\n",
       "<table border=\"1\" class=\"dataframe\">\n",
       "  <thead>\n",
       "    <tr style=\"text-align: right;\">\n",
       "      <th></th>\n",
       "      <th>avg</th>\n",
       "      <th>min</th>\n",
       "      <th>max</th>\n",
       "    </tr>\n",
       "  </thead>\n",
       "  <tbody>\n",
       "    <tr>\n",
       "      <th>pix</th>\n",
       "      <td>0.0024</td>\n",
       "      <td>0.0023</td>\n",
       "      <td>0.0025</td>\n",
       "    </tr>\n",
       "    <tr>\n",
       "      <th>pix|min</th>\n",
       "      <td>0.0021</td>\n",
       "      <td>0.0019</td>\n",
       "      <td>0.0022</td>\n",
       "    </tr>\n",
       "    <tr>\n",
       "      <th>pix|max</th>\n",
       "      <td>0.0019</td>\n",
       "      <td>0.0016</td>\n",
       "      <td>0.0021</td>\n",
       "    </tr>\n",
       "    <tr>\n",
       "      <th>pix|min|max</th>\n",
       "      <td>0.0019</td>\n",
       "      <td>0.0016</td>\n",
       "      <td>0.0023</td>\n",
       "    </tr>\n",
       "  </tbody>\n",
       "</table>\n",
       "</div>"
      ],
      "text/plain": [
       "                avg     min     max\n",
       "pix          0.0024  0.0023  0.0025\n",
       "pix|min      0.0021  0.0019  0.0022\n",
       "pix|max      0.0019  0.0016  0.0021\n",
       "pix|min|max  0.0019  0.0016  0.0023"
      ]
     },
     "execution_count": 93,
     "metadata": {},
     "output_type": "execute_result"
    }
   ],
   "source": [
    "df_mse = pd.DataFrame({k:[e.item() for e in v] for k,v in d_mse.items()})\n",
    "\n",
    "df_mse = df_mse.T\n",
    "\n",
    "df_mse['avg'] = df_mse.apply(np.mean, axis=1)\n",
    "df_mse['min'] = df_mse.apply(np.min, axis=1)\n",
    "df_mse['max'] = df_mse.apply(np.max, axis=1)\n",
    "\n",
    "df_mse.iloc[:, -3:].round(4)"
   ]
  },
  {
   "cell_type": "code",
   "execution_count": 96,
   "metadata": {},
   "outputs": [],
   "source": [
    "df_mse.to_csv('rcnnm-3-dfmse-featsnet.csv')"
   ]
  },
  {
   "cell_type": "markdown",
   "metadata": {},
   "source": [
    "Excellent, the additional features perform better than the with the original featue set, reducing error by 15-30%. (They also have more variance).\n",
    "\n",
    "It appaears the `max` features are the beneficial ones here."
   ]
  },
  {
   "cell_type": "code",
   "execution_count": null,
   "metadata": {},
   "outputs": [],
   "source": []
  }
 ],
 "metadata": {
  "kernelspec": {
   "display_name": "Python 3",
   "language": "python",
   "name": "python3"
  },
  "language_info": {
   "codemirror_mode": {
    "name": "ipython",
    "version": 3
   },
   "file_extension": ".py",
   "mimetype": "text/x-python",
   "name": "python",
   "nbconvert_exporter": "python",
   "pygments_lexer": "ipython3",
   "version": "3.7.6"
  }
 },
 "nbformat": 4,
 "nbformat_minor": 4
}
