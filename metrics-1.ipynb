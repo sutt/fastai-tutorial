{
 "cells": [
  {
   "cell_type": "markdown",
   "metadata": {},
   "source": [
    "### Metrics 1 - Fit, Eval and Save for Net3"
   ]
  },
  {
   "cell_type": "code",
   "execution_count": 11,
   "metadata": {},
   "outputs": [
    {
     "name": "stdout",
     "output_type": "stream",
     "text": [
      "The autoreload extension is already loaded. To reload it, use:\n",
      "  %reload_ext autoreload\n"
     ]
    }
   ],
   "source": [
    "import os, sys\n",
    "import copy as copyroot\n",
    "import pandas as pd\n",
    "from IPython.display import display\n",
    "from matplotlib import pyplot as plt\n",
    "from fastai2.basics import *\n",
    "from fastai2.vision.all import *\n",
    "%load_ext autoreload\n",
    "%autoreload 2\n",
    "\n",
    "from module.mnist_helpers import build_df, eda_fig_1, build_dls\n",
    "from module.mnist_models import FeatsNet\n",
    "from module.mnist_metrics import metrics_df"
   ]
  },
  {
   "cell_type": "code",
   "execution_count": 12,
   "metadata": {},
   "outputs": [],
   "source": [
    "dls_tl = build_dls(target='topleft')\n",
    "dls_cr = build_dls(target='center')"
   ]
  },
  {
   "cell_type": "code",
   "execution_count": 13,
   "metadata": {},
   "outputs": [
    {
     "data": {
      "text/plain": [
       "torch.Size([64, 1, 28, 28])"
      ]
     },
     "execution_count": 13,
     "metadata": {},
     "output_type": "execute_result"
    }
   ],
   "source": [
    "x, y = dls_tl.one_batch()\n",
    "x.shape"
   ]
  },
  {
   "cell_type": "code",
   "execution_count": 14,
   "metadata": {},
   "outputs": [],
   "source": [
    "def build_net3():\n",
    "    net3 = nn.Sequential(\n",
    "                nn.Flatten(),\n",
    "                nn.Linear(in_features=784, out_features=28),\n",
    "                nn.Linear(in_features=28, out_features=2, bias=False),\n",
    "                SigmoidRange(-1., 1),\n",
    "                )\n",
    "    return net3\n"
   ]
  },
  {
   "cell_type": "code",
   "execution_count": 15,
   "metadata": {},
   "outputs": [
    {
     "data": {
      "text/html": [
       "<table border=\"1\" class=\"dataframe\">\n",
       "  <thead>\n",
       "    <tr style=\"text-align: left;\">\n",
       "      <th>epoch</th>\n",
       "      <th>train_loss</th>\n",
       "      <th>valid_loss</th>\n",
       "      <th>time</th>\n",
       "    </tr>\n",
       "  </thead>\n",
       "  <tbody>\n",
       "    <tr>\n",
       "      <td>0</td>\n",
       "      <td>0.102103</td>\n",
       "      <td>0.036844</td>\n",
       "      <td>00:01</td>\n",
       "    </tr>\n",
       "    <tr>\n",
       "      <td>1</td>\n",
       "      <td>0.070461</td>\n",
       "      <td>0.046114</td>\n",
       "      <td>00:01</td>\n",
       "    </tr>\n",
       "    <tr>\n",
       "      <td>2</td>\n",
       "      <td>0.057702</td>\n",
       "      <td>0.032345</td>\n",
       "      <td>00:01</td>\n",
       "    </tr>\n",
       "    <tr>\n",
       "      <td>3</td>\n",
       "      <td>0.047579</td>\n",
       "      <td>0.025123</td>\n",
       "      <td>00:01</td>\n",
       "    </tr>\n",
       "    <tr>\n",
       "      <td>4</td>\n",
       "      <td>0.040680</td>\n",
       "      <td>0.025922</td>\n",
       "      <td>00:01</td>\n",
       "    </tr>\n",
       "    <tr>\n",
       "      <td>5</td>\n",
       "      <td>0.035446</td>\n",
       "      <td>0.022276</td>\n",
       "      <td>00:01</td>\n",
       "    </tr>\n",
       "    <tr>\n",
       "      <td>6</td>\n",
       "      <td>0.031565</td>\n",
       "      <td>0.023018</td>\n",
       "      <td>00:01</td>\n",
       "    </tr>\n",
       "    <tr>\n",
       "      <td>7</td>\n",
       "      <td>0.028455</td>\n",
       "      <td>0.020932</td>\n",
       "      <td>00:01</td>\n",
       "    </tr>\n",
       "    <tr>\n",
       "      <td>8</td>\n",
       "      <td>0.026049</td>\n",
       "      <td>0.021573</td>\n",
       "      <td>00:01</td>\n",
       "    </tr>\n",
       "    <tr>\n",
       "      <td>9</td>\n",
       "      <td>0.023888</td>\n",
       "      <td>0.020588</td>\n",
       "      <td>00:01</td>\n",
       "    </tr>\n",
       "  </tbody>\n",
       "</table>"
      ],
      "text/plain": [
       "<IPython.core.display.HTML object>"
      ]
     },
     "metadata": {},
     "output_type": "display_data"
    }
   ],
   "source": [
    "net3_tl = Learner(dls_tl, build_net3(), loss_func=MSELossFlat(), )\n",
    "net3_tl.fit(10)"
   ]
  },
  {
   "cell_type": "code",
   "execution_count": 16,
   "metadata": {},
   "outputs": [
    {
     "data": {
      "text/html": [
       "<table border=\"1\" class=\"dataframe\">\n",
       "  <thead>\n",
       "    <tr style=\"text-align: left;\">\n",
       "      <th>epoch</th>\n",
       "      <th>train_loss</th>\n",
       "      <th>valid_loss</th>\n",
       "      <th>time</th>\n",
       "    </tr>\n",
       "  </thead>\n",
       "  <tbody>\n",
       "    <tr>\n",
       "      <td>0</td>\n",
       "      <td>0.006305</td>\n",
       "      <td>0.005020</td>\n",
       "      <td>00:01</td>\n",
       "    </tr>\n",
       "    <tr>\n",
       "      <td>1</td>\n",
       "      <td>0.004953</td>\n",
       "      <td>0.003183</td>\n",
       "      <td>00:01</td>\n",
       "    </tr>\n",
       "    <tr>\n",
       "      <td>2</td>\n",
       "      <td>0.004027</td>\n",
       "      <td>0.002701</td>\n",
       "      <td>00:01</td>\n",
       "    </tr>\n",
       "    <tr>\n",
       "      <td>3</td>\n",
       "      <td>0.003448</td>\n",
       "      <td>0.002816</td>\n",
       "      <td>00:01</td>\n",
       "    </tr>\n",
       "    <tr>\n",
       "      <td>4</td>\n",
       "      <td>0.003042</td>\n",
       "      <td>0.002625</td>\n",
       "      <td>00:01</td>\n",
       "    </tr>\n",
       "    <tr>\n",
       "      <td>5</td>\n",
       "      <td>0.002760</td>\n",
       "      <td>0.002681</td>\n",
       "      <td>00:01</td>\n",
       "    </tr>\n",
       "    <tr>\n",
       "      <td>6</td>\n",
       "      <td>0.002524</td>\n",
       "      <td>0.002429</td>\n",
       "      <td>00:01</td>\n",
       "    </tr>\n",
       "    <tr>\n",
       "      <td>7</td>\n",
       "      <td>0.002331</td>\n",
       "      <td>0.002362</td>\n",
       "      <td>00:01</td>\n",
       "    </tr>\n",
       "    <tr>\n",
       "      <td>8</td>\n",
       "      <td>0.002162</td>\n",
       "      <td>0.002254</td>\n",
       "      <td>00:01</td>\n",
       "    </tr>\n",
       "    <tr>\n",
       "      <td>9</td>\n",
       "      <td>0.002001</td>\n",
       "      <td>0.002321</td>\n",
       "      <td>00:01</td>\n",
       "    </tr>\n",
       "  </tbody>\n",
       "</table>"
      ],
      "text/plain": [
       "<IPython.core.display.HTML object>"
      ]
     },
     "metadata": {},
     "output_type": "display_data"
    }
   ],
   "source": [
    "net3_cr = Learner(dls_cr, build_net3(), loss_func=MSELossFlat(), )\n",
    "net3_cr.fit(10)"
   ]
  },
  {
   "cell_type": "code",
   "execution_count": 17,
   "metadata": {},
   "outputs": [
    {
     "data": {
      "text/html": [],
      "text/plain": [
       "<IPython.core.display.HTML object>"
      ]
     },
     "metadata": {},
     "output_type": "display_data"
    },
    {
     "data": {
      "text/html": [],
      "text/plain": [
       "<IPython.core.display.HTML object>"
      ]
     },
     "metadata": {},
     "output_type": "display_data"
    },
    {
     "data": {
      "text/html": [
       "<div>\n",
       "<style scoped>\n",
       "    .dataframe tbody tr th:only-of-type {\n",
       "        vertical-align: middle;\n",
       "    }\n",
       "\n",
       "    .dataframe tbody tr th {\n",
       "        vertical-align: top;\n",
       "    }\n",
       "\n",
       "    .dataframe thead th {\n",
       "        text-align: right;\n",
       "    }\n",
       "</style>\n",
       "<table border=\"1\" class=\"dataframe\">\n",
       "  <thead>\n",
       "    <tr style=\"text-align: right;\">\n",
       "      <th></th>\n",
       "      <th>model</th>\n",
       "      <th>details</th>\n",
       "      <th>target</th>\n",
       "      <th>split</th>\n",
       "      <th>mse</th>\n",
       "      <th>mae</th>\n",
       "      <th>r2</th>\n",
       "      <th>dist_avg</th>\n",
       "      <th>dist_r2</th>\n",
       "      <th>sqdist_avg</th>\n",
       "      <th>sqdist_r2</th>\n",
       "    </tr>\n",
       "  </thead>\n",
       "  <tbody>\n",
       "    <tr>\n",
       "      <th>0</th>\n",
       "      <td>Net3</td>\n",
       "      <td>10 fit epochs</td>\n",
       "      <td>topleft</td>\n",
       "      <td>valid</td>\n",
       "      <td>0.020588</td>\n",
       "      <td>0.103328</td>\n",
       "      <td>0.170152</td>\n",
       "      <td>0.166890</td>\n",
       "      <td>0.227500</td>\n",
       "      <td>0.041177</td>\n",
       "      <td>0.355698</td>\n",
       "    </tr>\n",
       "    <tr>\n",
       "      <th>1</th>\n",
       "      <td>Net3</td>\n",
       "      <td>10 fit epochs</td>\n",
       "      <td>topleft</td>\n",
       "      <td>train</td>\n",
       "      <td>0.014115</td>\n",
       "      <td>0.086962</td>\n",
       "      <td>0.388219</td>\n",
       "      <td>0.138814</td>\n",
       "      <td>0.409787</td>\n",
       "      <td>0.028231</td>\n",
       "      <td>0.628363</td>\n",
       "    </tr>\n",
       "  </tbody>\n",
       "</table>\n",
       "</div>"
      ],
      "text/plain": [
       "  model        details   target  split       mse       mae        r2  \\\n",
       "0  Net3  10 fit epochs  topleft  valid  0.020588  0.103328  0.170152   \n",
       "1  Net3  10 fit epochs  topleft  train  0.014115  0.086962  0.388219   \n",
       "\n",
       "   dist_avg   dist_r2  sqdist_avg  sqdist_r2  \n",
       "0  0.166890  0.227500    0.041177   0.355698  \n",
       "1  0.138814  0.409787    0.028231   0.628363  "
      ]
     },
     "execution_count": 17,
     "metadata": {},
     "output_type": "execute_result"
    }
   ],
   "source": [
    "df_tl = metrics_df(net3_tl, 'Net3', '10 fit epochs', 'topleft')\n",
    "df_tl"
   ]
  },
  {
   "cell_type": "code",
   "execution_count": 18,
   "metadata": {},
   "outputs": [
    {
     "data": {
      "text/html": [],
      "text/plain": [
       "<IPython.core.display.HTML object>"
      ]
     },
     "metadata": {},
     "output_type": "display_data"
    },
    {
     "data": {
      "text/html": [],
      "text/plain": [
       "<IPython.core.display.HTML object>"
      ]
     },
     "metadata": {},
     "output_type": "display_data"
    },
    {
     "data": {
      "text/html": [
       "<div>\n",
       "<style scoped>\n",
       "    .dataframe tbody tr th:only-of-type {\n",
       "        vertical-align: middle;\n",
       "    }\n",
       "\n",
       "    .dataframe tbody tr th {\n",
       "        vertical-align: top;\n",
       "    }\n",
       "\n",
       "    .dataframe thead th {\n",
       "        text-align: right;\n",
       "    }\n",
       "</style>\n",
       "<table border=\"1\" class=\"dataframe\">\n",
       "  <thead>\n",
       "    <tr style=\"text-align: right;\">\n",
       "      <th></th>\n",
       "      <th>model</th>\n",
       "      <th>details</th>\n",
       "      <th>target</th>\n",
       "      <th>split</th>\n",
       "      <th>mse</th>\n",
       "      <th>mae</th>\n",
       "      <th>r2</th>\n",
       "      <th>dist_avg</th>\n",
       "      <th>dist_r2</th>\n",
       "      <th>sqdist_avg</th>\n",
       "      <th>sqdist_r2</th>\n",
       "    </tr>\n",
       "  </thead>\n",
       "  <tbody>\n",
       "    <tr>\n",
       "      <th>0</th>\n",
       "      <td>Net3</td>\n",
       "      <td>10 fit epochs</td>\n",
       "      <td>center</td>\n",
       "      <td>valid</td>\n",
       "      <td>0.002321</td>\n",
       "      <td>0.035860</td>\n",
       "      <td>0.529265</td>\n",
       "      <td>0.057386</td>\n",
       "      <td>0.430105</td>\n",
       "      <td>0.004642</td>\n",
       "      <td>0.625702</td>\n",
       "    </tr>\n",
       "    <tr>\n",
       "      <th>1</th>\n",
       "      <td>Net3</td>\n",
       "      <td>10 fit epochs</td>\n",
       "      <td>center</td>\n",
       "      <td>train</td>\n",
       "      <td>0.001251</td>\n",
       "      <td>0.026886</td>\n",
       "      <td>0.780596</td>\n",
       "      <td>0.042757</td>\n",
       "      <td>0.590545</td>\n",
       "      <td>0.002502</td>\n",
       "      <td>0.810111</td>\n",
       "    </tr>\n",
       "  </tbody>\n",
       "</table>\n",
       "</div>"
      ],
      "text/plain": [
       "  model        details  target  split       mse       mae        r2  dist_avg  \\\n",
       "0  Net3  10 fit epochs  center  valid  0.002321  0.035860  0.529265  0.057386   \n",
       "1  Net3  10 fit epochs  center  train  0.001251  0.026886  0.780596  0.042757   \n",
       "\n",
       "    dist_r2  sqdist_avg  sqdist_r2  \n",
       "0  0.430105    0.004642   0.625702  \n",
       "1  0.590545    0.002502   0.810111  "
      ]
     },
     "execution_count": 18,
     "metadata": {},
     "output_type": "execute_result"
    }
   ],
   "source": [
    "df_cr = metrics_df(net3_cr, 'Net3', '10 fit epochs', 'center')\n",
    "df_cr"
   ]
  },
  {
   "cell_type": "code",
   "execution_count": 19,
   "metadata": {},
   "outputs": [
    {
     "data": {
      "text/html": [
       "<div>\n",
       "<style scoped>\n",
       "    .dataframe tbody tr th:only-of-type {\n",
       "        vertical-align: middle;\n",
       "    }\n",
       "\n",
       "    .dataframe tbody tr th {\n",
       "        vertical-align: top;\n",
       "    }\n",
       "\n",
       "    .dataframe thead th {\n",
       "        text-align: right;\n",
       "    }\n",
       "</style>\n",
       "<table border=\"1\" class=\"dataframe\">\n",
       "  <thead>\n",
       "    <tr style=\"text-align: right;\">\n",
       "      <th></th>\n",
       "      <th>model</th>\n",
       "      <th>details</th>\n",
       "      <th>target</th>\n",
       "      <th>split</th>\n",
       "      <th>mse</th>\n",
       "      <th>mae</th>\n",
       "      <th>r2</th>\n",
       "      <th>dist_avg</th>\n",
       "      <th>dist_r2</th>\n",
       "      <th>sqdist_avg</th>\n",
       "      <th>sqdist_r2</th>\n",
       "    </tr>\n",
       "  </thead>\n",
       "  <tbody>\n",
       "    <tr>\n",
       "      <th>0</th>\n",
       "      <td>Net3</td>\n",
       "      <td>10 fit epochs</td>\n",
       "      <td>center</td>\n",
       "      <td>valid</td>\n",
       "      <td>0.002321</td>\n",
       "      <td>0.035860</td>\n",
       "      <td>0.529265</td>\n",
       "      <td>0.057386</td>\n",
       "      <td>0.430105</td>\n",
       "      <td>0.004642</td>\n",
       "      <td>0.625702</td>\n",
       "    </tr>\n",
       "    <tr>\n",
       "      <th>1</th>\n",
       "      <td>Net3</td>\n",
       "      <td>10 fit epochs</td>\n",
       "      <td>center</td>\n",
       "      <td>train</td>\n",
       "      <td>0.001251</td>\n",
       "      <td>0.026886</td>\n",
       "      <td>0.780596</td>\n",
       "      <td>0.042757</td>\n",
       "      <td>0.590545</td>\n",
       "      <td>0.002502</td>\n",
       "      <td>0.810111</td>\n",
       "    </tr>\n",
       "    <tr>\n",
       "      <th>0</th>\n",
       "      <td>Net3</td>\n",
       "      <td>10 fit epochs</td>\n",
       "      <td>topleft</td>\n",
       "      <td>valid</td>\n",
       "      <td>0.020588</td>\n",
       "      <td>0.103328</td>\n",
       "      <td>0.170152</td>\n",
       "      <td>0.166890</td>\n",
       "      <td>0.227500</td>\n",
       "      <td>0.041177</td>\n",
       "      <td>0.355698</td>\n",
       "    </tr>\n",
       "    <tr>\n",
       "      <th>1</th>\n",
       "      <td>Net3</td>\n",
       "      <td>10 fit epochs</td>\n",
       "      <td>topleft</td>\n",
       "      <td>train</td>\n",
       "      <td>0.014115</td>\n",
       "      <td>0.086962</td>\n",
       "      <td>0.388219</td>\n",
       "      <td>0.138814</td>\n",
       "      <td>0.409787</td>\n",
       "      <td>0.028231</td>\n",
       "      <td>0.628363</td>\n",
       "    </tr>\n",
       "  </tbody>\n",
       "</table>\n",
       "</div>"
      ],
      "text/plain": [
       "  model        details   target  split       mse       mae        r2  \\\n",
       "0  Net3  10 fit epochs   center  valid  0.002321  0.035860  0.529265   \n",
       "1  Net3  10 fit epochs   center  train  0.001251  0.026886  0.780596   \n",
       "0  Net3  10 fit epochs  topleft  valid  0.020588  0.103328  0.170152   \n",
       "1  Net3  10 fit epochs  topleft  train  0.014115  0.086962  0.388219   \n",
       "\n",
       "   dist_avg   dist_r2  sqdist_avg  sqdist_r2  \n",
       "0  0.057386  0.430105    0.004642   0.625702  \n",
       "1  0.042757  0.590545    0.002502   0.810111  \n",
       "0  0.166890  0.227500    0.041177   0.355698  \n",
       "1  0.138814  0.409787    0.028231   0.628363  "
      ]
     },
     "execution_count": 19,
     "metadata": {},
     "output_type": "execute_result"
    }
   ],
   "source": [
    "df = pd.concat((df_cr, df_tl), axis=0)\n",
    "df"
   ]
  },
  {
   "cell_type": "code",
   "execution_count": 20,
   "metadata": {},
   "outputs": [],
   "source": [
    "dir_fn = 'assets/metrics-dfs/'\n",
    "df.to_csv(dir_fn + 'metrics1-df-net3.csv', index=False)"
   ]
  },
  {
   "cell_type": "code",
   "execution_count": null,
   "metadata": {},
   "outputs": [],
   "source": []
  },
  {
   "cell_type": "code",
   "execution_count": null,
   "metadata": {},
   "outputs": [],
   "source": []
  }
 ],
 "metadata": {
  "kernelspec": {
   "display_name": "Python 3",
   "language": "python",
   "name": "python3"
  },
  "language_info": {
   "codemirror_mode": {
    "name": "ipython",
    "version": 3
   },
   "file_extension": ".py",
   "mimetype": "text/x-python",
   "name": "python",
   "nbconvert_exporter": "python",
   "pygments_lexer": "ipython3",
   "version": "3.7.6"
  }
 },
 "nbformat": 4,
 "nbformat_minor": 4
}
