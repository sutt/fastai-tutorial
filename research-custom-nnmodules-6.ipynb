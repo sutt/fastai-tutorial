{
 "cells": [
  {
   "cell_type": "markdown",
   "metadata": {},
   "source": [
    "## Focusing on terse `FeatNets` training/eval\n",
    "9.28.2020"
   ]
  },
  {
   "cell_type": "code",
   "execution_count": 1,
   "metadata": {},
   "outputs": [],
   "source": [
    "import os, sys\n",
    "import copy as copyroot\n",
    "import pandas as pd\n",
    "from IPython.display import display\n",
    "from matplotlib import pyplot as plt\n",
    "from fastai2.basics import *\n",
    "from fastai2.vision.all import *\n",
    "%load_ext autoreload\n",
    "%autoreload 2\n",
    "\n",
    "from module.mnist_helpers import build_df, eda_fig_1, build_dls\n",
    "from module.mnist_models import FeatsNet\n",
    "from module.mnist_metrics import metrics_df"
   ]
  },
  {
   "cell_type": "code",
   "execution_count": 4,
   "metadata": {},
   "outputs": [],
   "source": [
    "dls_tl = build_dls(target='topleft')\n",
    "dls_cr = build_dls(target='center')"
   ]
  },
  {
   "cell_type": "markdown",
   "metadata": {},
   "source": [
    "#### pix + pts12"
   ]
  },
  {
   "cell_type": "code",
   "execution_count": 6,
   "metadata": {},
   "outputs": [
    {
     "data": {
      "text/html": [],
      "text/plain": [
       "<IPython.core.display.HTML object>"
      ]
     },
     "metadata": {},
     "output_type": "display_data"
    }
   ],
   "source": [
    "EPOCHS = 20\n",
    "TMP_FN = 'assets/tmp.csv'\n",
    "\n",
    "featsnet  = FeatsNet(feats=['pix', 'pts12'])\n",
    "tmplogger = CSVLogger(fname=TMP_FN)\n",
    "learn     = Learner(dls_tl, featsnet, loss_func=MSELossFlat(), \n",
    "                    cbs=[tmplogger])\n",
    "\n",
    "with learn.no_logging(): learn.fit(EPOCHS)"
   ]
  },
  {
   "cell_type": "code",
   "execution_count": 7,
   "metadata": {},
   "outputs": [
    {
     "data": {
      "text/html": [
       "<div>\n",
       "<style scoped>\n",
       "    .dataframe tbody tr th:only-of-type {\n",
       "        vertical-align: middle;\n",
       "    }\n",
       "\n",
       "    .dataframe tbody tr th {\n",
       "        vertical-align: top;\n",
       "    }\n",
       "\n",
       "    .dataframe thead th {\n",
       "        text-align: right;\n",
       "    }\n",
       "</style>\n",
       "<table border=\"1\" class=\"dataframe\">\n",
       "  <thead>\n",
       "    <tr style=\"text-align: right;\">\n",
       "      <th></th>\n",
       "      <th>epoch</th>\n",
       "      <th>train_loss</th>\n",
       "      <th>valid_loss</th>\n",
       "      <th>time</th>\n",
       "    </tr>\n",
       "  </thead>\n",
       "  <tbody>\n",
       "    <tr>\n",
       "      <th>0</th>\n",
       "      <td>0</td>\n",
       "      <td>0.087510</td>\n",
       "      <td>0.039159</td>\n",
       "      <td>00:02</td>\n",
       "    </tr>\n",
       "    <tr>\n",
       "      <th>1</th>\n",
       "      <td>1</td>\n",
       "      <td>0.065605</td>\n",
       "      <td>0.037618</td>\n",
       "      <td>00:02</td>\n",
       "    </tr>\n",
       "  </tbody>\n",
       "</table>\n",
       "</div>"
      ],
      "text/plain": [
       "   epoch  train_loss  valid_loss   time\n",
       "0      0    0.087510    0.039159  00:02\n",
       "1      1    0.065605    0.037618  00:02"
      ]
     },
     "metadata": {},
     "output_type": "display_data"
    },
    {
     "data": {
      "text/html": [
       "<div>\n",
       "<style scoped>\n",
       "    .dataframe tbody tr th:only-of-type {\n",
       "        vertical-align: middle;\n",
       "    }\n",
       "\n",
       "    .dataframe tbody tr th {\n",
       "        vertical-align: top;\n",
       "    }\n",
       "\n",
       "    .dataframe thead th {\n",
       "        text-align: right;\n",
       "    }\n",
       "</style>\n",
       "<table border=\"1\" class=\"dataframe\">\n",
       "  <thead>\n",
       "    <tr style=\"text-align: right;\">\n",
       "      <th></th>\n",
       "      <th>epoch</th>\n",
       "      <th>train_loss</th>\n",
       "      <th>valid_loss</th>\n",
       "      <th>time</th>\n",
       "    </tr>\n",
       "  </thead>\n",
       "  <tbody>\n",
       "    <tr>\n",
       "      <th>18</th>\n",
       "      <td>18</td>\n",
       "      <td>0.011964</td>\n",
       "      <td>0.014814</td>\n",
       "      <td>00:02</td>\n",
       "    </tr>\n",
       "    <tr>\n",
       "      <th>19</th>\n",
       "      <td>19</td>\n",
       "      <td>0.011290</td>\n",
       "      <td>0.013864</td>\n",
       "      <td>00:02</td>\n",
       "    </tr>\n",
       "  </tbody>\n",
       "</table>\n",
       "</div>"
      ],
      "text/plain": [
       "    epoch  train_loss  valid_loss   time\n",
       "18     18    0.011964    0.014814  00:02\n",
       "19     19    0.011290    0.013864  00:02"
      ]
     },
     "metadata": {},
     "output_type": "display_data"
    }
   ],
   "source": [
    "history = pd.read_csv(TMP_FN)\n",
    "display(history.iloc[:2,:]); display(history.iloc[-2:,:])"
   ]
  },
  {
   "cell_type": "code",
   "execution_count": 13,
   "metadata": {},
   "outputs": [
    {
     "data": {
      "image/png": "[encoded data removed]",
      "text/plain": [
       "<Figure size 360x360 with 1 Axes>"
      ]
     },
     "metadata": {
      "needs_background": "light"
     },
     "output_type": "display_data"
    }
   ],
   "source": [
    "baseline_err = None\n",
    "\n",
    "fig, ax = plt.subplots(1,1,figsize=(5,5))\n",
    "legend = ['train','valid']\n",
    "if baseline_err is not None: legend += ['baseline err']\n",
    "\n",
    "ax.plot(history['train_loss'])\n",
    "ax.plot(history['valid_loss'])\n",
    "if baseline_err is not None:\n",
    "    ax.hlines(baseline_err, *ax.get_xlim(), linestyle='--')\n",
    "ax.legend(legend);\n",
    "ax.set_xlabel('all epochs'); ax.set_ylabel('MSE')\n",
    "fig.suptitle('TopLeft Task - FeatsNet (pt12)');"
   ]
  },
  {
   "cell_type": "code",
   "execution_count": 16,
   "metadata": {},
   "outputs": [
    {
     "data": {
      "text/html": [],
      "text/plain": [
       "<IPython.core.display.HTML object>"
      ]
     },
     "metadata": {},
     "output_type": "display_data"
    },
    {
     "data": {
      "text/html": [],
      "text/plain": [
       "<IPython.core.display.HTML object>"
      ]
     },
     "metadata": {},
     "output_type": "display_data"
    },
    {
     "data": {
      "text/html": [
       "<div>\n",
       "<style scoped>\n",
       "    .dataframe tbody tr th:only-of-type {\n",
       "        vertical-align: middle;\n",
       "    }\n",
       "\n",
       "    .dataframe tbody tr th {\n",
       "        vertical-align: top;\n",
       "    }\n",
       "\n",
       "    .dataframe thead th {\n",
       "        text-align: right;\n",
       "    }\n",
       "</style>\n",
       "<table border=\"1\" class=\"dataframe\">\n",
       "  <thead>\n",
       "    <tr style=\"text-align: right;\">\n",
       "      <th></th>\n",
       "      <th>model</th>\n",
       "      <th>details</th>\n",
       "      <th>target</th>\n",
       "      <th>split</th>\n",
       "      <th>mse</th>\n",
       "      <th>mae</th>\n",
       "      <th>r2</th>\n",
       "      <th>dist_avg</th>\n",
       "      <th>dist_r2</th>\n",
       "      <th>sqdist_avg</th>\n",
       "      <th>sqdist_r2</th>\n",
       "    </tr>\n",
       "  </thead>\n",
       "  <tbody>\n",
       "    <tr>\n",
       "      <th>0</th>\n",
       "      <td>FeatsNet1.12</td>\n",
       "      <td>feats=pix, pts12</td>\n",
       "      <td>topleft</td>\n",
       "      <td>valid</td>\n",
       "      <td>0.013864</td>\n",
       "      <td>0.076977</td>\n",
       "      <td>0.559834</td>\n",
       "      <td>0.128998</td>\n",
       "      <td>0.402892</td>\n",
       "      <td>0.027728</td>\n",
       "      <td>0.566138</td>\n",
       "    </tr>\n",
       "    <tr>\n",
       "      <th>1</th>\n",
       "      <td>FeatsNet1.12</td>\n",
       "      <td>feats=pix, pts12</td>\n",
       "      <td>topleft</td>\n",
       "      <td>train</td>\n",
       "      <td>0.008179</td>\n",
       "      <td>0.062497</td>\n",
       "      <td>0.765305</td>\n",
       "      <td>0.102778</td>\n",
       "      <td>0.563008</td>\n",
       "      <td>0.016357</td>\n",
       "      <td>0.784671</td>\n",
       "    </tr>\n",
       "  </tbody>\n",
       "</table>\n",
       "</div>"
      ],
      "text/plain": [
       "          model           details   target  split       mse       mae  \\\n",
       "0  FeatsNet1.12  feats=pix, pts12  topleft  valid  0.013864  0.076977   \n",
       "1  FeatsNet1.12  feats=pix, pts12  topleft  train  0.008179  0.062497   \n",
       "\n",
       "         r2  dist_avg   dist_r2  sqdist_avg  sqdist_r2  \n",
       "0  0.559834  0.128998  0.402892    0.027728   0.566138  \n",
       "1  0.765305  0.102778  0.563008    0.016357   0.784671  "
      ]
     },
     "execution_count": 16,
     "metadata": {},
     "output_type": "execute_result"
    }
   ],
   "source": [
    "df1 = metrics_df(learn, 'FeatsNet1.12', 'feats=pix, pts12', 'topleft')\n",
    "df1"
   ]
  },
  {
   "cell_type": "code",
   "execution_count": null,
   "metadata": {},
   "outputs": [],
   "source": [
    "EPOCHS = 20\n",
    "TMP_FN = 'assets/tmp.csv'\n",
    "\n",
    "featsnet  = FeatsNet(feats=['pix', 'pts12'])\n",
    "tmplogger = CSVLogger(fname=TMP_FN)\n",
    "learn     = Learner(dls_cr, featsnet, loss_func=MSELossFlat(), \n",
    "                    cbs=[tmplogger])\n",
    "\n",
    "with learn.no_logging(): learn.fit(EPOCHS)\n",
    "\n",
    "history = pd.read_csv(TMP_FN)\n",
    "display(history.iloc[:2,:]); display(history.iloc[-2:,:])\n",
    "\n",
    "baseline_err = None\n",
    "\n",
    "fig, ax = plt.subplots(1,1,figsize=(5,5))\n",
    "legend = ['train','valid']\n",
    "if baseline_err is not None: legend += ['baseline err']\n",
    "\n",
    "ax.plot(history['train_loss'])\n",
    "ax.plot(history['valid_loss'])\n",
    "if baseline_err is not None:\n",
    "    ax.hlines(baseline_err, *ax.get_xlim(), linestyle='--')\n",
    "ax.legend(legend);\n",
    "ax.set_xlabel('all epochs'); ax.set_ylabel('MSE')\n",
    "ax.set_ylim(0, ax.get_ylim()[1])\n",
    "fig.suptitle('Center Task - FeatsNet (pt12)');"
   ]
  },
  {
   "cell_type": "code",
   "execution_count": 19,
   "metadata": {},
   "outputs": [
    {
     "data": {
      "text/html": [],
      "text/plain": [
       "<IPython.core.display.HTML object>"
      ]
     },
     "metadata": {},
     "output_type": "display_data"
    },
    {
     "data": {
      "text/html": [],
      "text/plain": [
       "<IPython.core.display.HTML object>"
      ]
     },
     "metadata": {},
     "output_type": "display_data"
    },
    {
     "data": {
      "text/html": [
       "<div>\n",
       "<style scoped>\n",
       "    .dataframe tbody tr th:only-of-type {\n",
       "        vertical-align: middle;\n",
       "    }\n",
       "\n",
       "    .dataframe tbody tr th {\n",
       "        vertical-align: top;\n",
       "    }\n",
       "\n",
       "    .dataframe thead th {\n",
       "        text-align: right;\n",
       "    }\n",
       "</style>\n",
       "<table border=\"1\" class=\"dataframe\">\n",
       "  <thead>\n",
       "    <tr style=\"text-align: right;\">\n",
       "      <th></th>\n",
       "      <th>model</th>\n",
       "      <th>details</th>\n",
       "      <th>target</th>\n",
       "      <th>split</th>\n",
       "      <th>mse</th>\n",
       "      <th>mae</th>\n",
       "      <th>r2</th>\n",
       "      <th>dist_avg</th>\n",
       "      <th>dist_r2</th>\n",
       "      <th>sqdist_avg</th>\n",
       "      <th>sqdist_r2</th>\n",
       "    </tr>\n",
       "  </thead>\n",
       "  <tbody>\n",
       "    <tr>\n",
       "      <th>0</th>\n",
       "      <td>FeatsNet1.12</td>\n",
       "      <td>feats=pix, pts12</td>\n",
       "      <td>center</td>\n",
       "      <td>valid</td>\n",
       "      <td>0.001491</td>\n",
       "      <td>0.028907</td>\n",
       "      <td>0.694991</td>\n",
       "      <td>0.045425</td>\n",
       "      <td>0.548887</td>\n",
       "      <td>0.002982</td>\n",
       "      <td>0.759506</td>\n",
       "    </tr>\n",
       "    <tr>\n",
       "      <th>1</th>\n",
       "      <td>FeatsNet1.12</td>\n",
       "      <td>feats=pix, pts12</td>\n",
       "      <td>center</td>\n",
       "      <td>train</td>\n",
       "      <td>0.000774</td>\n",
       "      <td>0.022229</td>\n",
       "      <td>0.864319</td>\n",
       "      <td>0.034790</td>\n",
       "      <td>0.666842</td>\n",
       "      <td>0.001547</td>\n",
       "      <td>0.882532</td>\n",
       "    </tr>\n",
       "  </tbody>\n",
       "</table>\n",
       "</div>"
      ],
      "text/plain": [
       "          model           details  target  split       mse       mae  \\\n",
       "0  FeatsNet1.12  feats=pix, pts12  center  valid  0.001491  0.028907   \n",
       "1  FeatsNet1.12  feats=pix, pts12  center  train  0.000774  0.022229   \n",
       "\n",
       "         r2  dist_avg   dist_r2  sqdist_avg  sqdist_r2  \n",
       "0  0.694991  0.045425  0.548887    0.002982   0.759506  \n",
       "1  0.864319  0.034790  0.666842    0.001547   0.882532  "
      ]
     },
     "execution_count": 19,
     "metadata": {},
     "output_type": "execute_result"
    }
   ],
   "source": [
    "df2 = metrics_df(learn, 'FeatsNet1.12', 'feats=pix, pts12', 'center')\n",
    "df2"
   ]
  },
  {
   "cell_type": "markdown",
   "metadata": {},
   "source": [
    "#### topleft | pix +  pts11"
   ]
  },
  {
   "cell_type": "code",
   "execution_count": 23,
   "metadata": {},
   "outputs": [
    {
     "data": {
      "text/html": [],
      "text/plain": [
       "<IPython.core.display.HTML object>"
      ]
     },
     "metadata": {},
     "output_type": "display_data"
    },
    {
     "data": {
      "text/html": [
       "<div>\n",
       "<style scoped>\n",
       "    .dataframe tbody tr th:only-of-type {\n",
       "        vertical-align: middle;\n",
       "    }\n",
       "\n",
       "    .dataframe tbody tr th {\n",
       "        vertical-align: top;\n",
       "    }\n",
       "\n",
       "    .dataframe thead th {\n",
       "        text-align: right;\n",
       "    }\n",
       "</style>\n",
       "<table border=\"1\" class=\"dataframe\">\n",
       "  <thead>\n",
       "    <tr style=\"text-align: right;\">\n",
       "      <th></th>\n",
       "      <th>epoch</th>\n",
       "      <th>train_loss</th>\n",
       "      <th>valid_loss</th>\n",
       "      <th>time</th>\n",
       "    </tr>\n",
       "  </thead>\n",
       "  <tbody>\n",
       "    <tr>\n",
       "      <th>0</th>\n",
       "      <td>0</td>\n",
       "      <td>0.007179</td>\n",
       "      <td>0.005112</td>\n",
       "      <td>00:02</td>\n",
       "    </tr>\n",
       "    <tr>\n",
       "      <th>1</th>\n",
       "      <td>1</td>\n",
       "      <td>0.005099</td>\n",
       "      <td>0.003562</td>\n",
       "      <td>00:02</td>\n",
       "    </tr>\n",
       "  </tbody>\n",
       "</table>\n",
       "</div>"
      ],
      "text/plain": [
       "   epoch  train_loss  valid_loss   time\n",
       "0      0    0.007179    0.005112  00:02\n",
       "1      1    0.005099    0.003562  00:02"
      ]
     },
     "metadata": {},
     "output_type": "display_data"
    },
    {
     "data": {
      "text/html": [
       "<div>\n",
       "<style scoped>\n",
       "    .dataframe tbody tr th:only-of-type {\n",
       "        vertical-align: middle;\n",
       "    }\n",
       "\n",
       "    .dataframe tbody tr th {\n",
       "        vertical-align: top;\n",
       "    }\n",
       "\n",
       "    .dataframe thead th {\n",
       "        text-align: right;\n",
       "    }\n",
       "</style>\n",
       "<table border=\"1\" class=\"dataframe\">\n",
       "  <thead>\n",
       "    <tr style=\"text-align: right;\">\n",
       "      <th></th>\n",
       "      <th>epoch</th>\n",
       "      <th>train_loss</th>\n",
       "      <th>valid_loss</th>\n",
       "      <th>time</th>\n",
       "    </tr>\n",
       "  </thead>\n",
       "  <tbody>\n",
       "    <tr>\n",
       "      <th>18</th>\n",
       "      <td>18</td>\n",
       "      <td>0.00102</td>\n",
       "      <td>0.001742</td>\n",
       "      <td>00:02</td>\n",
       "    </tr>\n",
       "    <tr>\n",
       "      <th>19</th>\n",
       "      <td>19</td>\n",
       "      <td>0.00098</td>\n",
       "      <td>0.001616</td>\n",
       "      <td>00:02</td>\n",
       "    </tr>\n",
       "  </tbody>\n",
       "</table>\n",
       "</div>"
      ],
      "text/plain": [
       "    epoch  train_loss  valid_loss   time\n",
       "18     18     0.00102    0.001742  00:02\n",
       "19     19     0.00098    0.001616  00:02"
      ]
     },
     "metadata": {},
     "output_type": "display_data"
    },
    {
     "data": {
      "image/png": "[encoded data removed]",
      "text/plain": [
       "<Figure size 360x360 with 1 Axes>"
      ]
     },
     "metadata": {
      "needs_background": "light"
     },
     "output_type": "display_data"
    }
   ],
   "source": [
    "EPOCHS = 20\n",
    "TMP_FN = 'assets/tmp.csv'\n",
    "\n",
    "featsnet  = FeatsNet(feats=['pix', 'pts11'])\n",
    "tmplogger = CSVLogger(fname=TMP_FN)\n",
    "learn     = Learner(dls_cr, featsnet, loss_func=MSELossFlat(), \n",
    "                    cbs=[tmplogger])\n",
    "\n",
    "with learn.no_logging(): learn.fit(EPOCHS)\n",
    "\n",
    "history = pd.read_csv(TMP_FN)\n",
    "display(history.iloc[:2,:]); display(history.iloc[-2:,:])\n",
    "\n",
    "baseline_err = None\n",
    "\n",
    "fig, ax = plt.subplots(1,1,figsize=(5,5))\n",
    "legend = ['train','valid']\n",
    "if baseline_err is not None: legend += ['baseline err']\n",
    "\n",
    "ax.plot(history['train_loss'])\n",
    "ax.plot(history['valid_loss'])\n",
    "if baseline_err is not None:\n",
    "    ax.hlines(baseline_err, *ax.get_xlim(), linestyle='--')\n",
    "ax.legend(legend);\n",
    "ax.set_xlabel('all epochs'); ax.set_ylabel('MSE')\n",
    "ax.set_ylim(0, ax.get_ylim()[1])\n",
    "fig.suptitle('Center Task - FeatsNet (pt11)');"
   ]
  },
  {
   "cell_type": "code",
   "execution_count": null,
   "metadata": {},
   "outputs": [],
   "source": []
  },
  {
   "cell_type": "markdown",
   "metadata": {},
   "source": [
    "#### center | pix +  pts11"
   ]
  },
  {
   "cell_type": "code",
   "execution_count": 23,
   "metadata": {},
   "outputs": [
    {
     "data": {
      "text/html": [],
      "text/plain": [
       "<IPython.core.display.HTML object>"
      ]
     },
     "metadata": {},
     "output_type": "display_data"
    },
    {
     "data": {
      "text/html": [
       "<div>\n",
       "<style scoped>\n",
       "    .dataframe tbody tr th:only-of-type {\n",
       "        vertical-align: middle;\n",
       "    }\n",
       "\n",
       "    .dataframe tbody tr th {\n",
       "        vertical-align: top;\n",
       "    }\n",
       "\n",
       "    .dataframe thead th {\n",
       "        text-align: right;\n",
       "    }\n",
       "</style>\n",
       "<table border=\"1\" class=\"dataframe\">\n",
       "  <thead>\n",
       "    <tr style=\"text-align: right;\">\n",
       "      <th></th>\n",
       "      <th>epoch</th>\n",
       "      <th>train_loss</th>\n",
       "      <th>valid_loss</th>\n",
       "      <th>time</th>\n",
       "    </tr>\n",
       "  </thead>\n",
       "  <tbody>\n",
       "    <tr>\n",
       "      <th>0</th>\n",
       "      <td>0</td>\n",
       "      <td>0.007179</td>\n",
       "      <td>0.005112</td>\n",
       "      <td>00:02</td>\n",
       "    </tr>\n",
       "    <tr>\n",
       "      <th>1</th>\n",
       "      <td>1</td>\n",
       "      <td>0.005099</td>\n",
       "      <td>0.003562</td>\n",
       "      <td>00:02</td>\n",
       "    </tr>\n",
       "  </tbody>\n",
       "</table>\n",
       "</div>"
      ],
      "text/plain": [
       "   epoch  train_loss  valid_loss   time\n",
       "0      0    0.007179    0.005112  00:02\n",
       "1      1    0.005099    0.003562  00:02"
      ]
     },
     "metadata": {},
     "output_type": "display_data"
    },
    {
     "data": {
      "text/html": [
       "<div>\n",
       "<style scoped>\n",
       "    .dataframe tbody tr th:only-of-type {\n",
       "        vertical-align: middle;\n",
       "    }\n",
       "\n",
       "    .dataframe tbody tr th {\n",
       "        vertical-align: top;\n",
       "    }\n",
       "\n",
       "    .dataframe thead th {\n",
       "        text-align: right;\n",
       "    }\n",
       "</style>\n",
       "<table border=\"1\" class=\"dataframe\">\n",
       "  <thead>\n",
       "    <tr style=\"text-align: right;\">\n",
       "      <th></th>\n",
       "      <th>epoch</th>\n",
       "      <th>train_loss</th>\n",
       "      <th>valid_loss</th>\n",
       "      <th>time</th>\n",
       "    </tr>\n",
       "  </thead>\n",
       "  <tbody>\n",
       "    <tr>\n",
       "      <th>18</th>\n",
       "      <td>18</td>\n",
       "      <td>0.00102</td>\n",
       "      <td>0.001742</td>\n",
       "      <td>00:02</td>\n",
       "    </tr>\n",
       "    <tr>\n",
       "      <th>19</th>\n",
       "      <td>19</td>\n",
       "      <td>0.00098</td>\n",
       "      <td>0.001616</td>\n",
       "      <td>00:02</td>\n",
       "    </tr>\n",
       "  </tbody>\n",
       "</table>\n",
       "</div>"
      ],
      "text/plain": [
       "    epoch  train_loss  valid_loss   time\n",
       "18     18     0.00102    0.001742  00:02\n",
       "19     19     0.00098    0.001616  00:02"
      ]
     },
     "metadata": {},
     "output_type": "display_data"
    },
    {
     "data": {
      "image/png": "[encoded data removed]",
      "text/plain": [
       "<Figure size 360x360 with 1 Axes>"
      ]
     },
     "metadata": {
      "needs_background": "light"
     },
     "output_type": "display_data"
    }
   ],
   "source": [
    "EPOCHS = 20\n",
    "TMP_FN = 'assets/tmp.csv'\n",
    "\n",
    "featsnet  = FeatsNet(feats=['pix', 'pts11'])\n",
    "tmplogger = CSVLogger(fname=TMP_FN)\n",
    "learn     = Learner(dls_cr, featsnet, loss_func=MSELossFlat(), \n",
    "                    cbs=[tmplogger])\n",
    "\n",
    "with learn.no_logging(): learn.fit(EPOCHS)\n",
    "\n",
    "history = pd.read_csv(TMP_FN)\n",
    "display(history.iloc[:2,:]); display(history.iloc[-2:,:])\n",
    "\n",
    "baseline_err = None\n",
    "\n",
    "fig, ax = plt.subplots(1,1,figsize=(5,5))\n",
    "legend = ['train','valid']\n",
    "if baseline_err is not None: legend += ['baseline err']\n",
    "\n",
    "ax.plot(history['train_loss'])\n",
    "ax.plot(history['valid_loss'])\n",
    "if baseline_err is not None:\n",
    "    ax.hlines(baseline_err, *ax.get_xlim(), linestyle='--')\n",
    "ax.legend(legend);\n",
    "ax.set_xlabel('all epochs'); ax.set_ylabel('MSE')\n",
    "ax.set_ylim(0, ax.get_ylim()[1])\n",
    "fig.suptitle('Center Task - FeatsNet (pt11)');"
   ]
  },
  {
   "cell_type": "code",
   "execution_count": null,
   "metadata": {},
   "outputs": [],
   "source": [
    "df4 = metrics_df(learn, 'FeatsNet1.12', 'feats=pix, pts11', 'center')\n",
    "df4"
   ]
  },
  {
   "cell_type": "code",
   "execution_count": null,
   "metadata": {},
   "outputs": [],
   "source": []
  },
  {
   "cell_type": "code",
   "execution_count": null,
   "metadata": {},
   "outputs": [],
   "source": []
  },
  {
   "cell_type": "code",
   "execution_count": null,
   "metadata": {},
   "outputs": [],
   "source": []
  },
  {
   "cell_type": "code",
   "execution_count": null,
   "metadata": {},
   "outputs": [],
   "source": []
  },
  {
   "cell_type": "code",
   "execution_count": null,
   "metadata": {},
   "outputs": [],
   "source": []
  },
  {
   "cell_type": "code",
   "execution_count": null,
   "metadata": {},
   "outputs": [],
   "source": []
  },
  {
   "cell_type": "code",
   "execution_count": 20,
   "metadata": {},
   "outputs": [
    {
     "data": {
      "text/html": [
       "<div>\n",
       "<style scoped>\n",
       "    .dataframe tbody tr th:only-of-type {\n",
       "        vertical-align: middle;\n",
       "    }\n",
       "\n",
       "    .dataframe tbody tr th {\n",
       "        vertical-align: top;\n",
       "    }\n",
       "\n",
       "    .dataframe thead th {\n",
       "        text-align: right;\n",
       "    }\n",
       "</style>\n",
       "<table border=\"1\" class=\"dataframe\">\n",
       "  <thead>\n",
       "    <tr style=\"text-align: right;\">\n",
       "      <th></th>\n",
       "      <th>model</th>\n",
       "      <th>details</th>\n",
       "      <th>target</th>\n",
       "      <th>split</th>\n",
       "      <th>mse</th>\n",
       "      <th>mae</th>\n",
       "      <th>r2</th>\n",
       "      <th>dist_avg</th>\n",
       "      <th>dist_r2</th>\n",
       "      <th>sqdist_avg</th>\n",
       "      <th>sqdist_r2</th>\n",
       "    </tr>\n",
       "  </thead>\n",
       "  <tbody>\n",
       "    <tr>\n",
       "      <th>0</th>\n",
       "      <td>FeatsNet1.12</td>\n",
       "      <td>feats=pix, pts12</td>\n",
       "      <td>topleft</td>\n",
       "      <td>valid</td>\n",
       "      <td>0.013864</td>\n",
       "      <td>0.076977</td>\n",
       "      <td>0.559834</td>\n",
       "      <td>0.128998</td>\n",
       "      <td>0.402892</td>\n",
       "      <td>0.027728</td>\n",
       "      <td>0.566138</td>\n",
       "    </tr>\n",
       "    <tr>\n",
       "      <th>1</th>\n",
       "      <td>FeatsNet1.12</td>\n",
       "      <td>feats=pix, pts12</td>\n",
       "      <td>topleft</td>\n",
       "      <td>train</td>\n",
       "      <td>0.008179</td>\n",
       "      <td>0.062497</td>\n",
       "      <td>0.765305</td>\n",
       "      <td>0.102778</td>\n",
       "      <td>0.563008</td>\n",
       "      <td>0.016357</td>\n",
       "      <td>0.784671</td>\n",
       "    </tr>\n",
       "    <tr>\n",
       "      <th>0</th>\n",
       "      <td>FeatsNet1.12</td>\n",
       "      <td>feats=pix, pts12</td>\n",
       "      <td>center</td>\n",
       "      <td>valid</td>\n",
       "      <td>0.001491</td>\n",
       "      <td>0.028907</td>\n",
       "      <td>0.694991</td>\n",
       "      <td>0.045425</td>\n",
       "      <td>0.548887</td>\n",
       "      <td>0.002982</td>\n",
       "      <td>0.759506</td>\n",
       "    </tr>\n",
       "    <tr>\n",
       "      <th>1</th>\n",
       "      <td>FeatsNet1.12</td>\n",
       "      <td>feats=pix, pts12</td>\n",
       "      <td>center</td>\n",
       "      <td>train</td>\n",
       "      <td>0.000774</td>\n",
       "      <td>0.022229</td>\n",
       "      <td>0.864319</td>\n",
       "      <td>0.034790</td>\n",
       "      <td>0.666842</td>\n",
       "      <td>0.001547</td>\n",
       "      <td>0.882532</td>\n",
       "    </tr>\n",
       "  </tbody>\n",
       "</table>\n",
       "</div>"
      ],
      "text/plain": [
       "          model           details   target  split       mse       mae  \\\n",
       "0  FeatsNet1.12  feats=pix, pts12  topleft  valid  0.013864  0.076977   \n",
       "1  FeatsNet1.12  feats=pix, pts12  topleft  train  0.008179  0.062497   \n",
       "0  FeatsNet1.12  feats=pix, pts12   center  valid  0.001491  0.028907   \n",
       "1  FeatsNet1.12  feats=pix, pts12   center  train  0.000774  0.022229   \n",
       "\n",
       "         r2  dist_avg   dist_r2  sqdist_avg  sqdist_r2  \n",
       "0  0.559834  0.128998  0.402892    0.027728   0.566138  \n",
       "1  0.765305  0.102778  0.563008    0.016357   0.784671  \n",
       "0  0.694991  0.045425  0.548887    0.002982   0.759506  \n",
       "1  0.864319  0.034790  0.666842    0.001547   0.882532  "
      ]
     },
     "execution_count": 20,
     "metadata": {},
     "output_type": "execute_result"
    }
   ],
   "source": [
    "df = pd.concat((df1, df2))\n",
    "df"
   ]
  },
  {
   "cell_type": "code",
   "execution_count": null,
   "metadata": {},
   "outputs": [],
   "source": []
  }
 ],
 "metadata": {
  "kernelspec": {
   "display_name": "Python 3",
   "language": "python",
   "name": "python3"
  },
  "language_info": {
   "codemirror_mode": {
    "name": "ipython",
    "version": 3
   },
   "file_extension": ".py",
   "mimetype": "text/x-python",
   "name": "python",
   "nbconvert_exporter": "python",
   "pygments_lexer": "ipython3",
   "version": "3.7.6"
  }
 },
 "nbformat": 4,
 "nbformat_minor": 4
}
