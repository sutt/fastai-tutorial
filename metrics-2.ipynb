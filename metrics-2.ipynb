{
 "cells": [
  {
   "cell_type": "markdown",
   "metadata": {},
   "source": [
    "### Metrics-2: Fit, Score, Save Basic ML Models\n",
    "Here we fit a Lasso and RandomForest on the topleft and center point tasks, guided by work in random-invest-5.ipynb where we looked for paramater, etc."
   ]
  },
  {
   "cell_type": "code",
   "execution_count": 32,
   "metadata": {},
   "outputs": [
    {
     "name": "stdout",
     "output_type": "stream",
     "text": [
      "The autoreload extension is already loaded. To reload it, use:\n",
      "  %reload_ext autoreload\n"
     ]
    }
   ],
   "source": [
    "import os, sys\n",
    "import copy as copyroot\n",
    "import pandas as pd\n",
    "from IPython.display import display\n",
    "from matplotlib import pyplot as plt\n",
    "from sklearn.preprocessing import StandardScaler\n",
    "from sklearn.model_selection import train_test_split\n",
    "from sklearn.metrics import r2_score, mean_absolute_error, mean_squared_error\n",
    "from sklearn.linear_model import LinearRegression\n",
    "from sklearn.linear_model import Lasso, Ridge\n",
    "from sklearn.ensemble import RandomForestRegressor\n",
    "from fastai2.basics import *\n",
    "from fastai2.vision.all import *\n",
    "%load_ext autoreload\n",
    "%autoreload 2\n",
    "\n",
    "from module.mnist_helpers import build_df, eda_fig_1, build_dls\n",
    "from module.mnist_models import FeatsNet\n",
    "from module.mnist_metrics import metrics_df\n",
    "\n",
    "import torch\n",
    "torch.backends.cudnn.deterministic = True\n",
    "torch.backends.cudnn.benchmark = True"
   ]
  },
  {
   "cell_type": "markdown",
   "metadata": {},
   "source": [
    "### Setup"
   ]
  },
  {
   "cell_type": "code",
   "execution_count": 33,
   "metadata": {},
   "outputs": [],
   "source": [
    "dls_tl = build_dls(target='topleft')\n",
    "dls_cr = build_dls(target='center')"
   ]
  },
  {
   "cell_type": "code",
   "execution_count": 34,
   "metadata": {},
   "outputs": [],
   "source": [
    "path = untar_data(URLs.MNIST_TINY)\n",
    "df = build_df(path)"
   ]
  },
  {
   "cell_type": "code",
   "execution_count": 35,
   "metadata": {},
   "outputs": [
    {
     "data": {
      "text/html": [
       "<div>\n",
       "<style scoped>\n",
       "    .dataframe tbody tr th:only-of-type {\n",
       "        vertical-align: middle;\n",
       "    }\n",
       "\n",
       "    .dataframe tbody tr th {\n",
       "        vertical-align: top;\n",
       "    }\n",
       "\n",
       "    .dataframe thead th {\n",
       "        text-align: right;\n",
       "    }\n",
       "</style>\n",
       "<table border=\"1\" class=\"dataframe\">\n",
       "  <thead>\n",
       "    <tr style=\"text-align: right;\">\n",
       "      <th></th>\n",
       "      <th>0</th>\n",
       "      <th>1</th>\n",
       "      <th>2</th>\n",
       "      <th>3</th>\n",
       "      <th>4</th>\n",
       "      <th>5</th>\n",
       "      <th>6</th>\n",
       "      <th>7</th>\n",
       "      <th>8</th>\n",
       "      <th>9</th>\n",
       "      <th>...</th>\n",
       "      <th>779</th>\n",
       "      <th>780</th>\n",
       "      <th>781</th>\n",
       "      <th>782</th>\n",
       "      <th>783</th>\n",
       "      <th>scalar_pxsum</th>\n",
       "      <th>point_topleft_x</th>\n",
       "      <th>point_topleft_y</th>\n",
       "      <th>point_center_x</th>\n",
       "      <th>point_center_y</th>\n",
       "    </tr>\n",
       "  </thead>\n",
       "  <tbody>\n",
       "    <tr>\n",
       "      <th>0</th>\n",
       "      <td>0</td>\n",
       "      <td>0</td>\n",
       "      <td>0</td>\n",
       "      <td>0</td>\n",
       "      <td>0</td>\n",
       "      <td>0</td>\n",
       "      <td>0</td>\n",
       "      <td>0</td>\n",
       "      <td>0</td>\n",
       "      <td>0</td>\n",
       "      <td>...</td>\n",
       "      <td>0</td>\n",
       "      <td>0</td>\n",
       "      <td>0</td>\n",
       "      <td>0</td>\n",
       "      <td>0</td>\n",
       "      <td>35867</td>\n",
       "      <td>11</td>\n",
       "      <td>5</td>\n",
       "      <td>15</td>\n",
       "      <td>14</td>\n",
       "    </tr>\n",
       "    <tr>\n",
       "      <th>1</th>\n",
       "      <td>0</td>\n",
       "      <td>0</td>\n",
       "      <td>0</td>\n",
       "      <td>0</td>\n",
       "      <td>0</td>\n",
       "      <td>0</td>\n",
       "      <td>0</td>\n",
       "      <td>0</td>\n",
       "      <td>0</td>\n",
       "      <td>0</td>\n",
       "      <td>...</td>\n",
       "      <td>0</td>\n",
       "      <td>0</td>\n",
       "      <td>0</td>\n",
       "      <td>0</td>\n",
       "      <td>0</td>\n",
       "      <td>29717</td>\n",
       "      <td>9</td>\n",
       "      <td>4</td>\n",
       "      <td>14</td>\n",
       "      <td>13</td>\n",
       "    </tr>\n",
       "  </tbody>\n",
       "</table>\n",
       "<p>2 rows × 789 columns</p>\n",
       "</div>"
      ],
      "text/plain": [
       "   0  1  2  3  4  5  6  7  8  9  ...  779  780  781  782  783  scalar_pxsum  \\\n",
       "0  0  0  0  0  0  0  0  0  0  0  ...    0    0    0    0    0         35867   \n",
       "1  0  0  0  0  0  0  0  0  0  0  ...    0    0    0    0    0         29717   \n",
       "\n",
       "   point_topleft_x  point_topleft_y  point_center_x  point_center_y  \n",
       "0               11                5              15              14  \n",
       "1                9                4              14              13  \n",
       "\n",
       "[2 rows x 789 columns]"
      ]
     },
     "execution_count": 35,
     "metadata": {},
     "output_type": "execute_result"
    }
   ],
   "source": [
    "y_names = ['scalar_pxsum', 'point_topleft_x', 'point_topleft_y',\n",
    "          'point_center_x', 'point_center_y']\n",
    "\n",
    "df2 = pd.DataFrame([])\n",
    "for i, row in df.iterrows():    \n",
    "    img_np = np.array(Image.open(str(path) + row['fn'])).flatten()\n",
    "    df2 = pd.concat((df2, pd.Series(img_np)), axis=1)\n",
    "    \n",
    "df2 = df2.T\n",
    "df2.reset_index(inplace=True, drop=True)\n",
    "\n",
    "df2_y = df[y_names]\n",
    "df2 = pd.concat((df2, df2_y), axis=1)\n",
    "\n",
    "df2.head(2)"
   ]
  },
  {
   "cell_type": "code",
   "execution_count": 36,
   "metadata": {},
   "outputs": [],
   "source": [
    "y_cols = y_names\n",
    "x_cols = [col for col in df2.columns if col not in y_cols]\n",
    "\n",
    "X = df2[x_cols]\n",
    "Y = df2[y_cols]\n",
    "\n",
    "y_tlx, y_tly, y_crx, y_cry = [Y.iloc[:,i] for i in range(1,5)]\n",
    "\n",
    "Xt, Xv, yt_tlx, yv_tlx = train_test_split(X,  y_tlx, random_state=0)\n",
    "_,  _,  yt_tly, yv_tly = train_test_split(X,  y_tly, random_state=0)\n",
    "_,  _,  yt_crx, yv_crx = train_test_split(X,  y_crx, random_state=0)\n",
    "_,  _,  yt_cry, yv_cry = train_test_split(X,  y_cry, random_state=0)"
   ]
  },
  {
   "cell_type": "markdown",
   "metadata": {},
   "source": [
    "### Build Metrics function & Transform Points"
   ]
  },
  {
   "cell_type": "code",
   "execution_count": 37,
   "metadata": {},
   "outputs": [
    {
     "data": {
      "text/plain": [
       "(TensorPoint.create: (object,object) -> create ,\n",
       " Pipeline: PointScaler -> ToTensor)"
      ]
     },
     "execution_count": 37,
     "metadata": {},
     "output_type": "execute_result"
    }
   ],
   "source": [
    "point_t = dls_cr.transform[1][1]\n",
    "scale_t = dls_tl.after_item\n",
    "\n",
    "point_t, scale_t"
   ]
  },
  {
   "cell_type": "code",
   "execution_count": 38,
   "metadata": {},
   "outputs": [],
   "source": [
    "def my_scale(x): return scale_t(point_t(x))"
   ]
  },
  {
   "cell_type": "code",
   "execution_count": 39,
   "metadata": {},
   "outputs": [],
   "source": [
    "def calc_dist(pred, actual):\n",
    "    dist     = ((pred - actual)**2).sum(1)**0.5\n",
    "    baseline = ((actual - actual.mean(0))**2).sum(1)**0.5\n",
    "    \n",
    "    dist_avg    = dist.mean().item()\n",
    "    dist_r2     = 1 - (dist.sum() / baseline.sum()).item()\n",
    "    sqdist_avg  = (dist**2).mean().item()\n",
    "    sqdist_r2   = 1 - ((dist**2).sum() / (baseline**2).sum()).item()\n",
    "\n",
    "    return (dist_avg, dist_r2, sqdist_avg, sqdist_r2)"
   ]
  },
  {
   "cell_type": "code",
   "execution_count": 40,
   "metadata": {},
   "outputs": [],
   "source": [
    "def calc(preds, actuals):    \n",
    "    data = []\n",
    "    for pred, actual in zip(preds, actuals):\n",
    "        pred = my_scale(pred)\n",
    "        actual = my_scale(actual)\n",
    "        data.append((\n",
    "            r2_score(actual, pred),\n",
    "            mse(actual, pred).item(),\n",
    "            mae(actual, pred).item(),\n",
    "            *calc_dist(pred, actual),\n",
    "        ))\n",
    "    return data"
   ]
  },
  {
   "cell_type": "code",
   "execution_count": 41,
   "metadata": {},
   "outputs": [],
   "source": [
    "def sk_metrics_df(preds_v, preds_t, s_model, s_details):\n",
    "    \n",
    "    target = ('topleft', 'center')\n",
    "    actuals = ([yv_tlx.tolist(), yv_tly.tolist()],\n",
    "               [yv_crx.tolist(), yv_cry.tolist()])\n",
    "    preds =   (preds_v[:2], \n",
    "               preds_v[2:])\n",
    "\n",
    "    val_v = calc(preds, actuals)\n",
    "\n",
    "    target = ('topleft', 'center')\n",
    "    actuals = ([yt_tlx.tolist(), yt_tly.tolist()],\n",
    "               [yt_crx.tolist(), yt_cry.tolist()])\n",
    "    preds =   (preds_t[:2], \n",
    "               preds_t[2:])\n",
    "\n",
    "    val_t = calc(preds, actuals)\n",
    "\n",
    "    cols = ['r2', 'mse', 'mae', 'dist_avg', 'dist_r2',\n",
    "           'sqdist_avg', 'sqdist_r2']\n",
    "    \n",
    "    df_t = pd.DataFrame(val_t, columns=cols)\n",
    "    df_t['target'] = target\n",
    "    df_t['split'] = 'train'\n",
    "\n",
    "    df_v = pd.DataFrame(val_v, columns=cols)\n",
    "    df_v['target'] = target\n",
    "    df_v['split'] = 'valid'\n",
    "\n",
    "    df = pd.concat((df_t, df_v))\n",
    "    \n",
    "    df['model']   = s_model\n",
    "    df['details'] = s_details\n",
    "    \n",
    "    start_cols = ['model', 'details','target', 'split']\n",
    "\n",
    "    col_order = (start_cols + [col for col in df.columns \n",
    "                                if col not in start_cols])\n",
    "    df = df.loc[:,col_order]\n",
    "    df.reset_index(inplace=True, drop=True)\n",
    "    \n",
    "    return df"
   ]
  },
  {
   "cell_type": "markdown",
   "metadata": {},
   "source": [
    "### Fit Models"
   ]
  },
  {
   "cell_type": "code",
   "execution_count": 42,
   "metadata": {},
   "outputs": [],
   "source": [
    "yts = (yt_tlx, yt_tly, yt_crx, yt_cry)\n",
    "yvs = (yv_tlx, yv_tly, yv_crx, yv_cry)"
   ]
  },
  {
   "cell_type": "code",
   "execution_count": 43,
   "metadata": {},
   "outputs": [],
   "source": [
    "preds_v, preds_t = [],[]\n",
    "for yt, yv in zip(yts, yvs):\n",
    "    model = Lasso(alpha=1.0)\n",
    "    model.fit(Xt, yt)\n",
    "    preds_t.append(model.predict(Xt))\n",
    "    preds_v.append(model.predict(Xv))"
   ]
  },
  {
   "cell_type": "code",
   "execution_count": 44,
   "metadata": {},
   "outputs": [
    {
     "data": {
      "text/html": [
       "<div>\n",
       "<style scoped>\n",
       "    .dataframe tbody tr th:only-of-type {\n",
       "        vertical-align: middle;\n",
       "    }\n",
       "\n",
       "    .dataframe tbody tr th {\n",
       "        vertical-align: top;\n",
       "    }\n",
       "\n",
       "    .dataframe thead th {\n",
       "        text-align: right;\n",
       "    }\n",
       "</style>\n",
       "<table border=\"1\" class=\"dataframe\">\n",
       "  <thead>\n",
       "    <tr style=\"text-align: right;\">\n",
       "      <th></th>\n",
       "      <th>model</th>\n",
       "      <th>details</th>\n",
       "      <th>target</th>\n",
       "      <th>split</th>\n",
       "      <th>r2</th>\n",
       "      <th>mse</th>\n",
       "      <th>mae</th>\n",
       "      <th>dist_avg</th>\n",
       "      <th>dist_r2</th>\n",
       "      <th>sqdist_avg</th>\n",
       "      <th>sqdist_r2</th>\n",
       "    </tr>\n",
       "  </thead>\n",
       "  <tbody>\n",
       "    <tr>\n",
       "      <th>0</th>\n",
       "      <td>Lasso</td>\n",
       "      <td>alpha=1</td>\n",
       "      <td>topleft</td>\n",
       "      <td>train</td>\n",
       "      <td>0.909307</td>\n",
       "      <td>0.005253</td>\n",
       "      <td>0.046936</td>\n",
       "      <td>0.074546</td>\n",
       "      <td>0.750168</td>\n",
       "      <td>0.010506</td>\n",
       "      <td>0.910770</td>\n",
       "    </tr>\n",
       "    <tr>\n",
       "      <th>1</th>\n",
       "      <td>Lasso</td>\n",
       "      <td>alpha=1</td>\n",
       "      <td>center</td>\n",
       "      <td>train</td>\n",
       "      <td>0.920351</td>\n",
       "      <td>0.001006</td>\n",
       "      <td>0.023437</td>\n",
       "      <td>0.037478</td>\n",
       "      <td>0.740100</td>\n",
       "      <td>0.002012</td>\n",
       "      <td>0.920277</td>\n",
       "    </tr>\n",
       "    <tr>\n",
       "      <th>2</th>\n",
       "      <td>Lasso</td>\n",
       "      <td>alpha=1</td>\n",
       "      <td>topleft</td>\n",
       "      <td>valid</td>\n",
       "      <td>0.692450</td>\n",
       "      <td>0.017655</td>\n",
       "      <td>0.081952</td>\n",
       "      <td>0.130459</td>\n",
       "      <td>0.549808</td>\n",
       "      <td>0.035310</td>\n",
       "      <td>0.691744</td>\n",
       "    </tr>\n",
       "    <tr>\n",
       "      <th>3</th>\n",
       "      <td>Lasso</td>\n",
       "      <td>alpha=1</td>\n",
       "      <td>center</td>\n",
       "      <td>valid</td>\n",
       "      <td>0.842115</td>\n",
       "      <td>0.001982</td>\n",
       "      <td>0.033595</td>\n",
       "      <td>0.053305</td>\n",
       "      <td>0.629211</td>\n",
       "      <td>0.003964</td>\n",
       "      <td>0.842354</td>\n",
       "    </tr>\n",
       "  </tbody>\n",
       "</table>\n",
       "</div>"
      ],
      "text/plain": [
       "   model  details   target  split        r2       mse       mae  dist_avg  \\\n",
       "0  Lasso  alpha=1  topleft  train  0.909307  0.005253  0.046936  0.074546   \n",
       "1  Lasso  alpha=1   center  train  0.920351  0.001006  0.023437  0.037478   \n",
       "2  Lasso  alpha=1  topleft  valid  0.692450  0.017655  0.081952  0.130459   \n",
       "3  Lasso  alpha=1   center  valid  0.842115  0.001982  0.033595  0.053305   \n",
       "\n",
       "    dist_r2  sqdist_avg  sqdist_r2  \n",
       "0  0.750168    0.010506   0.910770  \n",
       "1  0.740100    0.002012   0.920277  \n",
       "2  0.549808    0.035310   0.691744  \n",
       "3  0.629211    0.003964   0.842354  "
      ]
     },
     "execution_count": 44,
     "metadata": {},
     "output_type": "execute_result"
    }
   ],
   "source": [
    "df_lasso = sk_metrics_df(preds_v, preds_t, 'Lasso', 'alpha=1')\n",
    "df_lasso"
   ]
  },
  {
   "cell_type": "code",
   "execution_count": 45,
   "metadata": {},
   "outputs": [],
   "source": [
    "preds_v, preds_t = [],[]\n",
    "for yt, yv in zip(yts, yvs):\n",
    "    model = RandomForestRegressor()\n",
    "    model.fit(Xt, yt)\n",
    "    preds_t.append(model.predict(Xt))\n",
    "    preds_v.append(model.predict(Xv))"
   ]
  },
  {
   "cell_type": "code",
   "execution_count": 46,
   "metadata": {},
   "outputs": [
    {
     "data": {
      "text/html": [
       "<div>\n",
       "<style scoped>\n",
       "    .dataframe tbody tr th:only-of-type {\n",
       "        vertical-align: middle;\n",
       "    }\n",
       "\n",
       "    .dataframe tbody tr th {\n",
       "        vertical-align: top;\n",
       "    }\n",
       "\n",
       "    .dataframe thead th {\n",
       "        text-align: right;\n",
       "    }\n",
       "</style>\n",
       "<table border=\"1\" class=\"dataframe\">\n",
       "  <thead>\n",
       "    <tr style=\"text-align: right;\">\n",
       "      <th></th>\n",
       "      <th>model</th>\n",
       "      <th>details</th>\n",
       "      <th>target</th>\n",
       "      <th>split</th>\n",
       "      <th>r2</th>\n",
       "      <th>mse</th>\n",
       "      <th>mae</th>\n",
       "      <th>dist_avg</th>\n",
       "      <th>dist_r2</th>\n",
       "      <th>sqdist_avg</th>\n",
       "      <th>sqdist_r2</th>\n",
       "    </tr>\n",
       "  </thead>\n",
       "  <tbody>\n",
       "    <tr>\n",
       "      <th>0</th>\n",
       "      <td>RF</td>\n",
       "      <td>default params</td>\n",
       "      <td>topleft</td>\n",
       "      <td>train</td>\n",
       "      <td>0.972602</td>\n",
       "      <td>0.001585</td>\n",
       "      <td>0.018339</td>\n",
       "      <td>0.030422</td>\n",
       "      <td>0.898043</td>\n",
       "      <td>0.003169</td>\n",
       "      <td>0.973085</td>\n",
       "    </tr>\n",
       "    <tr>\n",
       "      <th>1</th>\n",
       "      <td>RF</td>\n",
       "      <td>default params</td>\n",
       "      <td>center</td>\n",
       "      <td>train</td>\n",
       "      <td>0.983154</td>\n",
       "      <td>0.000213</td>\n",
       "      <td>0.009108</td>\n",
       "      <td>0.015020</td>\n",
       "      <td>0.895842</td>\n",
       "      <td>0.000425</td>\n",
       "      <td>0.983143</td>\n",
       "    </tr>\n",
       "    <tr>\n",
       "      <th>2</th>\n",
       "      <td>RF</td>\n",
       "      <td>default params</td>\n",
       "      <td>topleft</td>\n",
       "      <td>valid</td>\n",
       "      <td>0.834843</td>\n",
       "      <td>0.009526</td>\n",
       "      <td>0.051479</td>\n",
       "      <td>0.084943</td>\n",
       "      <td>0.706876</td>\n",
       "      <td>0.019053</td>\n",
       "      <td>0.833668</td>\n",
       "    </tr>\n",
       "    <tr>\n",
       "      <th>3</th>\n",
       "      <td>RF</td>\n",
       "      <td>default params</td>\n",
       "      <td>center</td>\n",
       "      <td>valid</td>\n",
       "      <td>0.871394</td>\n",
       "      <td>0.001620</td>\n",
       "      <td>0.026063</td>\n",
       "      <td>0.041923</td>\n",
       "      <td>0.708388</td>\n",
       "      <td>0.003241</td>\n",
       "      <td>0.871118</td>\n",
       "    </tr>\n",
       "  </tbody>\n",
       "</table>\n",
       "</div>"
      ],
      "text/plain": [
       "  model         details   target  split        r2       mse       mae  \\\n",
       "0    RF  default params  topleft  train  0.972602  0.001585  0.018339   \n",
       "1    RF  default params   center  train  0.983154  0.000213  0.009108   \n",
       "2    RF  default params  topleft  valid  0.834843  0.009526  0.051479   \n",
       "3    RF  default params   center  valid  0.871394  0.001620  0.026063   \n",
       "\n",
       "   dist_avg   dist_r2  sqdist_avg  sqdist_r2  \n",
       "0  0.030422  0.898043    0.003169   0.973085  \n",
       "1  0.015020  0.895842    0.000425   0.983143  \n",
       "2  0.084943  0.706876    0.019053   0.833668  \n",
       "3  0.041923  0.708388    0.003241   0.871118  "
      ]
     },
     "execution_count": 46,
     "metadata": {},
     "output_type": "execute_result"
    }
   ],
   "source": [
    "df_rf = sk_metrics_df(preds_v, preds_t, 'RF', 'default params')\n",
    "df_rf"
   ]
  },
  {
   "cell_type": "code",
   "execution_count": 48,
   "metadata": {},
   "outputs": [],
   "source": [
    "dir_fn = 'assets/metrics-dfs/'\n",
    "\n",
    "df_lasso.to_csv (dir_fn + 'metrics2-df-lasso.csv', index=False)\n",
    "df_rf.to_csv    (dir_fn + 'metrics2-df-rf.csv', index=False)"
   ]
  },
  {
   "cell_type": "code",
   "execution_count": null,
   "metadata": {},
   "outputs": [],
   "source": []
  }
 ],
 "metadata": {
  "kernelspec": {
   "display_name": "Python 3",
   "language": "python",
   "name": "python3"
  },
  "language_info": {
   "codemirror_mode": {
    "name": "ipython",
    "version": 3
   },
   "file_extension": ".py",
   "mimetype": "text/x-python",
   "name": "python",
   "nbconvert_exporter": "python",
   "pygments_lexer": "ipython3",
   "version": "3.7.6"
  }
 },
 "nbformat": 4,
 "nbformat_minor": 4
}
