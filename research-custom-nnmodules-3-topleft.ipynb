{
 "cells": [
  {
   "cell_type": "markdown",
   "metadata": {},
   "source": [
    "## Research: adding argmin/max features\n",
    "\n",
    "**Note:** re-targetting topleft point in this version of the notebook.\n",
    "\n",
    "Can we still do `.forward` when we caluclate features from X in a non-differentiable way? Yes.\n",
    "\n",
    "In this notebook we look at:\n",
    "  \n",
    "  - Visualizing the additional features created by using argmax/argmin on an unflattened image.\n",
    "  \n",
    "  - Construct `BaseNet`, a simple NN and examine the effect of changing the hidden layer size when training on the top-left-point task.\n",
    "  \n",
    "  - Construct `FeatsNet` which has ability to turn on/off the additional argmin/max features to before running the thru BaseNet-style model. We'll examine the benefits of adding these features.\n",
    "  "
   ]
  },
  {
   "cell_type": "markdown",
   "metadata": {},
   "source": [
    "### Setup - imported from previous books"
   ]
  },
  {
   "cell_type": "code",
   "execution_count": 1,
   "metadata": {},
   "outputs": [
    {
     "data": {
      "text/plain": [
       "torch.Size([2, 1, 28, 28])"
      ]
     },
     "execution_count": 1,
     "metadata": {},
     "output_type": "execute_result"
    }
   ],
   "source": [
    "import os, sys\n",
    "import copy as copyroot\n",
    "import pandas as pd\n",
    "from IPython.display import display\n",
    "from matplotlib import pyplot as plt\n",
    "from fastai2.basics import *\n",
    "from fastai2.vision.all import *\n",
    "from sklearn.preprocessing import StandardScaler\n",
    "%load_ext autoreload\n",
    "%autoreload 2\n",
    "from module.mnist_helpers import build_df, eda_fig_1\n",
    "from module.mnist_helpers import img_pt_plot, train_history_dualplot\n",
    "\n",
    "path = untar_data(URLs.MNIST_TINY)\n",
    "df = build_df(path)\n",
    "df.head(2)\n",
    "\n",
    "y_names = [\n",
    "    'point_topleft_x', \n",
    "    'point_topleft_y',\n",
    "    'point_center_x',\n",
    "    'point_center_y'\n",
    "    ]\n",
    "\n",
    "db =   DataBlock(blocks=(ImageBlock(cls=PILImageBW), \n",
    "                         PointBlock), \n",
    "                splitter=RandomSplitter(seed=0),\n",
    "                get_x=ColReader('fn', pref=path),\n",
    "                )\n",
    "\n",
    "db_1_topleft = copyroot.deepcopy(db)\n",
    "db_1_center  = copyroot.deepcopy(db)\n",
    "db_2         = copyroot.deepcopy(db)\n",
    "\n",
    "def set_get_y(db, cr):\n",
    "    db.get_y = cr\n",
    "    db.getters[db.n_inp:] = L(db.get_y)\n",
    "\n",
    "set_get_y( db_1_topleft, ColReader(y_names[:2]) )\n",
    "set_get_y( db_1_center,  ColReader(y_names[2:]) )\n",
    "set_get_y( db_2,         ColReader(y_names) )\n",
    "\n",
    "dl_1_topleft = db_1_topleft.dataloaders(df)\n",
    "dl_1_center  = db_1_center.dataloaders(df)\n",
    "dl_2         = db_2.dataloaders(df)\n",
    "\n",
    "dls = dl_1_topleft\n",
    "x, y = dls.one_batch()\n",
    "x_2 = x[:2]\n",
    "x_2.shape"
   ]
  },
  {
   "cell_type": "markdown",
   "metadata": {},
   "source": [
    "### Visualize the observation and exapnded feature set\n",
    "\"expanded feature set\" created via argmin/argmax"
   ]
  },
  {
   "cell_type": "code",
   "execution_count": 2,
   "metadata": {},
   "outputs": [
    {
     "data": {
      "image/png": "[encoded data removed]",
      "text/plain": [
       "<Figure size 144x144 with 1 Axes>"
      ]
     },
     "metadata": {
      "needs_background": "light"
     },
     "output_type": "display_data"
    }
   ],
   "source": [
    "plt.figure(figsize=(2,2)); plt.imshow(x_2[0].squeeze(0));"
   ]
  },
  {
   "cell_type": "code",
   "execution_count": 3,
   "metadata": {},
   "outputs": [
    {
     "data": {
      "image/png": "[encoded data removed]",
      "text/plain": [
       "<Figure size 432x288 with 1 Axes>"
      ]
     },
     "metadata": {
      "needs_background": "light"
     },
     "output_type": "display_data"
    }
   ],
   "source": [
    "plt.scatter(y.squeeze(1).numpy()[:,0], y.squeeze(1).numpy()[:,1])\n",
    "plt.xlim(-1,1); plt.ylim(-1,1);"
   ]
  },
  {
   "cell_type": "code",
   "execution_count": 24,
   "metadata": {},
   "outputs": [
    {
     "data": {
      "image/png": "[encoded data removed]",
      "text/plain": [
       "<Figure size 216x216 with 1 Axes>"
      ]
     },
     "metadata": {
      "needs_background": "light"
     },
     "output_type": "display_data"
    }
   ],
   "source": [
    "max2 = x_2[0].argmax(dim=1)\n",
    "max3 = x_2[0].argmax(dim=2)\n",
    "plt.figure(figsize=(3,3))\n",
    "plt.scatter(max3, max2);\n",
    "plt.xlim(0,28); plt.ylim(0,28);"
   ]
  },
  {
   "cell_type": "markdown",
   "metadata": {},
   "source": [
    "### Experiments on Feature developments"
   ]
  },
  {
   "cell_type": "code",
   "execution_count": 31,
   "metadata": {},
   "outputs": [],
   "source": [
    "x_sample = x_2[0]"
   ]
  },
  {
   "cell_type": "code",
   "execution_count": 35,
   "metadata": {},
   "outputs": [
    {
     "data": {
      "text/plain": [
       "<matplotlib.image.AxesImage at 0x7f92da645810>"
      ]
     },
     "execution_count": 35,
     "metadata": {},
     "output_type": "execute_result"
    },
    {
     "data": {
      "image/png": "[encoded data removed]",
      "text/plain": [
       "<Figure size 432x288 with 1 Axes>"
      ]
     },
     "metadata": {
      "needs_background": "light"
     },
     "output_type": "display_data"
    }
   ],
   "source": [
    "plt.imshow(x_sample[0,:,:])"
   ]
  },
  {
   "cell_type": "code",
   "execution_count": 157,
   "metadata": {},
   "outputs": [
    {
     "data": {
      "text/plain": [
       "(torch.return_types.min(\n",
       " values=tensor([0, 8, 7]),\n",
       " indices=tensor([110,  11, 108])),\n",
       " tensor(8),\n",
       " 11)"
      ]
     },
     "execution_count": 157,
     "metadata": {},
     "output_type": "execute_result"
    }
   ],
   "source": [
    "mins = x_sample.nonzero().min(0)\n",
    "\n",
    "min1 = mins.values[1]\n",
    "\n",
    "min1_min2 = x_sample[:,min1,:].nonzero().min(0).values[1].item()\n",
    "\n",
    "mins, min1, min1_min2"
   ]
  },
  {
   "cell_type": "code",
   "execution_count": null,
   "metadata": {},
   "outputs": [],
   "source": [
    "nz   = x_sample[0,:,:].nonzero()\n",
    "mins = nz.min(0)\n",
    "maxs = nz.max(0)\n",
    "\n",
    "mins\n",
    "\n",
    "min1_min2 = x_sample[:,min1,:].nonzero().min(0).values[1].item()\n",
    "\n",
    "mins, min1, min1_min2"
   ]
  },
  {
   "cell_type": "code",
   "execution_count": null,
   "metadata": {},
   "outputs": [],
   "source": []
  },
  {
   "cell_type": "markdown",
   "metadata": {},
   "source": [
    "### Experiments on differentials\n",
    "Below we see some function preserve grad_fn like `clamp` while others do not, like `argmax`."
   ]
  },
  {
   "cell_type": "code",
   "execution_count": 127,
   "metadata": {},
   "outputs": [],
   "source": [
    "maybe = x_sample.clone().detach().requires_grad_(True)"
   ]
  },
  {
   "cell_type": "code",
   "execution_count": 143,
   "metadata": {},
   "outputs": [
    {
     "data": {
      "text/plain": [
       "True"
      ]
     },
     "execution_count": 143,
     "metadata": {},
     "output_type": "execute_result"
    }
   ],
   "source": [
    "maybe.grad_fn is None"
   ]
  },
  {
   "cell_type": "code",
   "execution_count": 153,
   "metadata": {},
   "outputs": [
    {
     "data": {
      "text/plain": [
       "<SliceBackward at 0x7f92d8b51650>"
      ]
     },
     "execution_count": 153,
     "metadata": {},
     "output_type": "execute_result"
    }
   ],
   "source": [
    "maybe[:2].grad_fn"
   ]
  },
  {
   "cell_type": "code",
   "execution_count": 146,
   "metadata": {},
   "outputs": [
    {
     "data": {
      "text/plain": [
       "<ClampBackward at 0x7f92d8b90150>"
      ]
     },
     "execution_count": 146,
     "metadata": {},
     "output_type": "execute_result"
    }
   ],
   "source": [
    "maybe.clamp(0).grad_fn"
   ]
  },
  {
   "cell_type": "code",
   "execution_count": 148,
   "metadata": {},
   "outputs": [
    {
     "data": {
      "text/plain": [
       "<UnsafeViewBackward at 0x7f92d8abd210>"
      ]
     },
     "execution_count": 148,
     "metadata": {},
     "output_type": "execute_result"
    }
   ],
   "source": [
    "maybe.matmul(torch.ones_like(maybe)).grad_fn"
   ]
  },
  {
   "cell_type": "code",
   "execution_count": 154,
   "metadata": {},
   "outputs": [],
   "source": [
    "maybe.argmax().grad_fn"
   ]
  },
  {
   "cell_type": "code",
   "execution_count": 155,
   "metadata": {},
   "outputs": [],
   "source": [
    "maybe.nonzero().grad_fn"
   ]
  },
  {
   "cell_type": "markdown",
   "metadata": {},
   "source": [
    "### --------"
   ]
  },
  {
   "cell_type": "code",
   "execution_count": 104,
   "metadata": {},
   "outputs": [
    {
     "data": {
      "text/plain": [
       "tensor([0, 8, 7])"
      ]
     },
     "execution_count": 104,
     "metadata": {},
     "output_type": "execute_result"
    }
   ],
   "source": [
    "q.values"
   ]
  },
  {
   "cell_type": "code",
   "execution_count": 110,
   "metadata": {},
   "outputs": [
    {
     "data": {
      "text/plain": [
       "tensor([[ 0,  0,  0,  0,  0,  0,  0,  0,  0,  0,  0,  0,  0,  0,  0,  0,  0,  0,\n",
       "          0,  0,  0,  0,  0,  0,  0,  0,  0,  0,  0,  0,  0,  0,  0,  0,  0,  0,\n",
       "          0,  0,  0,  0,  0,  0,  0,  0,  0,  0,  0,  0,  0,  0,  0,  0,  0,  0,\n",
       "          0,  0,  0,  0,  0,  0,  0,  0,  0,  0,  0,  0,  0,  0,  0,  0,  0,  0,\n",
       "          0,  0,  0,  0,  0,  0,  0,  0,  0,  0,  0,  0,  0,  0,  0,  0,  0,  0,\n",
       "          0,  0,  0,  0,  0,  0,  0,  0,  0,  0,  0,  0,  0,  0,  0,  0,  0,  0,\n",
       "          0,  0,  0],\n",
       "        [ 8,  8,  8,  8,  8,  8,  8,  8,  8,  8,  8,  8,  9,  9,  9,  9,  9,  9,\n",
       "          9,  9,  9,  9,  9,  9,  9, 10, 10, 10, 10, 10, 10, 10, 10, 10, 10, 10,\n",
       "         11, 11, 11, 11, 11, 11, 11, 11, 11, 12, 12, 12, 12, 12, 12, 12, 12, 12,\n",
       "         13, 13, 13, 13, 13, 13, 13, 14, 14, 14, 14, 15, 15, 15, 15, 16, 16, 16,\n",
       "         17, 17, 17, 18, 18, 18, 19, 19, 19, 20, 20, 20, 20, 21, 21, 21, 21, 22,\n",
       "         22, 22, 22, 23, 23, 23, 23, 24, 24, 24, 24, 25, 25, 25, 26, 26, 26, 26,\n",
       "         27, 27, 27],\n",
       "        [11, 12, 13, 14, 15, 16, 17, 18, 19, 20, 21, 22, 10, 11, 12, 13, 14, 15,\n",
       "         16, 17, 18, 19, 20, 21, 22,  9, 10, 11, 12, 13, 14, 15, 19, 20, 21, 22,\n",
       "          9, 10, 11, 12, 13, 14, 19, 20, 21,  9, 10, 11, 12, 13, 18, 19, 20, 21,\n",
       "          9, 10, 11, 17, 18, 19, 20, 16, 17, 18, 19, 15, 16, 17, 18, 15, 16, 17,\n",
       "         14, 15, 16, 13, 14, 15, 12, 13, 14, 11, 12, 13, 14, 10, 11, 12, 13,  9,\n",
       "         10, 11, 12,  9, 10, 11, 12,  8,  9, 10, 11,  8,  9, 10,  7,  8,  9, 10,\n",
       "          7,  8,  9]])"
      ]
     },
     "execution_count": 110,
     "metadata": {},
     "output_type": "execute_result"
    }
   ],
   "source": [
    "nzt"
   ]
  },
  {
   "cell_type": "code",
   "execution_count": 96,
   "metadata": {},
   "outputs": [
    {
     "data": {
      "text/plain": [
       "tensor([[ 0,  0,  0,  0,  0,  0,  0,  0,  0,  0,  0,  0,  0,  0,  0,  0,  0,  0,\n",
       "          0,  0,  0,  0,  0,  0,  0,  0,  0,  0,  0,  0,  0,  0,  0,  0,  0,  0,\n",
       "          0,  0,  0,  0,  0,  0,  0,  0,  0,  0,  0,  0,  0,  0,  0,  0,  0,  0,\n",
       "          0,  0,  0,  0,  0,  0,  0,  0,  0,  0,  0,  0,  0,  0,  0,  0,  0,  0,\n",
       "          0,  0,  0,  0,  0,  0,  0,  0,  0,  0,  0,  0,  0,  0,  0,  0,  0,  0,\n",
       "          0,  0,  0,  0,  0,  0,  0,  0,  0,  0,  0,  0,  0,  0,  0,  0,  0,  0,\n",
       "          0,  0,  0],\n",
       "        [ 8,  8,  8,  8,  8,  8,  8,  8,  8,  8,  8,  8,  9,  9,  9,  9,  9,  9,\n",
       "          9,  9,  9,  9,  9,  9,  9, 10, 10, 10, 10, 10, 10, 10, 10, 10, 10, 10,\n",
       "         11, 11, 11, 11, 11, 11, 11, 11, 11, 12, 12, 12, 12, 12, 12, 12, 12, 12,\n",
       "         13, 13, 13, 13, 13, 13, 13, 14, 14, 14, 14, 15, 15, 15, 15, 16, 16, 16,\n",
       "         17, 17, 17, 18, 18, 18, 19, 19, 19, 20, 20, 20, 20, 21, 21, 21, 21, 22,\n",
       "         22, 22, 22, 23, 23, 23, 23, 24, 24, 24, 24, 25, 25, 25, 26, 26, 26, 26,\n",
       "         27, 27, 27],\n",
       "        [11, 12, 13, 14, 15, 16, 17, 18, 19, 20, 21, 22, 10, 11, 12, 13, 14, 15,\n",
       "         16, 17, 18, 19, 20, 21, 22,  9, 10, 11, 12, 13, 14, 15, 19, 20, 21, 22,\n",
       "          9, 10, 11, 12, 13, 14, 19, 20, 21,  9, 10, 11, 12, 13, 18, 19, 20, 21,\n",
       "          9, 10, 11, 17, 18, 19, 20, 16, 17, 18, 19, 15, 16, 17, 18, 15, 16, 17,\n",
       "         14, 15, 16, 13, 14, 15, 12, 13, 14, 11, 12, 13, 14, 10, 11, 12, 13,  9,\n",
       "         10, 11, 12,  9, 10, 11, 12,  8,  9, 10, 11,  8,  9, 10,  7,  8,  9, 10,\n",
       "          7,  8,  9]])"
      ]
     },
     "execution_count": 96,
     "metadata": {},
     "output_type": "execute_result"
    }
   ],
   "source": [
    "nzt"
   ]
  },
  {
   "cell_type": "code",
   "execution_count": 81,
   "metadata": {},
   "outputs": [
    {
     "data": {
      "text/plain": [
       "torch.return_types.min(\n",
       "values=tensor([0, 8, 7]),\n",
       "indices=tensor([110,  11, 108]))"
      ]
     },
     "execution_count": 81,
     "metadata": {},
     "output_type": "execute_result"
    }
   ],
   "source": [
    "nz.min(0)"
   ]
  },
  {
   "cell_type": "code",
   "execution_count": 71,
   "metadata": {},
   "outputs": [
    {
     "data": {
      "text/plain": [
       "torch.Size([111, 3, 1, 1])"
      ]
     },
     "execution_count": 71,
     "metadata": {},
     "output_type": "execute_result"
    }
   ],
   "source": [
    "nzz = nz.reshape((111,3,1,1))\n",
    "nzz.shape"
   ]
  },
  {
   "cell_type": "code",
   "execution_count": 76,
   "metadata": {},
   "outputs": [
    {
     "data": {
      "text/plain": [
       "torch.return_types.min(\n",
       "values=tensor([[[ 0],\n",
       "         [ 8],\n",
       "         [11]],\n",
       "\n",
       "        [[ 0],\n",
       "         [ 8],\n",
       "         [12]],\n",
       "\n",
       "        [[ 0],\n",
       "         [ 8],\n",
       "         [13]],\n",
       "\n",
       "        [[ 0],\n",
       "         [ 8],\n",
       "         [14]],\n",
       "\n",
       "        [[ 0],\n",
       "         [ 8],\n",
       "         [15]],\n",
       "\n",
       "        [[ 0],\n",
       "         [ 8],\n",
       "         [16]],\n",
       "\n",
       "        [[ 0],\n",
       "         [ 8],\n",
       "         [17]],\n",
       "\n",
       "        [[ 0],\n",
       "         [ 8],\n",
       "         [18]],\n",
       "\n",
       "        [[ 0],\n",
       "         [ 8],\n",
       "         [19]],\n",
       "\n",
       "        [[ 0],\n",
       "         [ 8],\n",
       "         [20]],\n",
       "\n",
       "        [[ 0],\n",
       "         [ 8],\n",
       "         [21]],\n",
       "\n",
       "        [[ 0],\n",
       "         [ 8],\n",
       "         [22]],\n",
       "\n",
       "        [[ 0],\n",
       "         [ 9],\n",
       "         [10]],\n",
       "\n",
       "        [[ 0],\n",
       "         [ 9],\n",
       "         [11]],\n",
       "\n",
       "        [[ 0],\n",
       "         [ 9],\n",
       "         [12]],\n",
       "\n",
       "        [[ 0],\n",
       "         [ 9],\n",
       "         [13]],\n",
       "\n",
       "        [[ 0],\n",
       "         [ 9],\n",
       "         [14]],\n",
       "\n",
       "        [[ 0],\n",
       "         [ 9],\n",
       "         [15]],\n",
       "\n",
       "        [[ 0],\n",
       "         [ 9],\n",
       "         [16]],\n",
       "\n",
       "        [[ 0],\n",
       "         [ 9],\n",
       "         [17]],\n",
       "\n",
       "        [[ 0],\n",
       "         [ 9],\n",
       "         [18]],\n",
       "\n",
       "        [[ 0],\n",
       "         [ 9],\n",
       "         [19]],\n",
       "\n",
       "        [[ 0],\n",
       "         [ 9],\n",
       "         [20]],\n",
       "\n",
       "        [[ 0],\n",
       "         [ 9],\n",
       "         [21]],\n",
       "\n",
       "        [[ 0],\n",
       "         [ 9],\n",
       "         [22]],\n",
       "\n",
       "        [[ 0],\n",
       "         [10],\n",
       "         [ 9]],\n",
       "\n",
       "        [[ 0],\n",
       "         [10],\n",
       "         [10]],\n",
       "\n",
       "        [[ 0],\n",
       "         [10],\n",
       "         [11]],\n",
       "\n",
       "        [[ 0],\n",
       "         [10],\n",
       "         [12]],\n",
       "\n",
       "        [[ 0],\n",
       "         [10],\n",
       "         [13]],\n",
       "\n",
       "        [[ 0],\n",
       "         [10],\n",
       "         [14]],\n",
       "\n",
       "        [[ 0],\n",
       "         [10],\n",
       "         [15]],\n",
       "\n",
       "        [[ 0],\n",
       "         [10],\n",
       "         [19]],\n",
       "\n",
       "        [[ 0],\n",
       "         [10],\n",
       "         [20]],\n",
       "\n",
       "        [[ 0],\n",
       "         [10],\n",
       "         [21]],\n",
       "\n",
       "        [[ 0],\n",
       "         [10],\n",
       "         [22]],\n",
       "\n",
       "        [[ 0],\n",
       "         [11],\n",
       "         [ 9]],\n",
       "\n",
       "        [[ 0],\n",
       "         [11],\n",
       "         [10]],\n",
       "\n",
       "        [[ 0],\n",
       "         [11],\n",
       "         [11]],\n",
       "\n",
       "        [[ 0],\n",
       "         [11],\n",
       "         [12]],\n",
       "\n",
       "        [[ 0],\n",
       "         [11],\n",
       "         [13]],\n",
       "\n",
       "        [[ 0],\n",
       "         [11],\n",
       "         [14]],\n",
       "\n",
       "        [[ 0],\n",
       "         [11],\n",
       "         [19]],\n",
       "\n",
       "        [[ 0],\n",
       "         [11],\n",
       "         [20]],\n",
       "\n",
       "        [[ 0],\n",
       "         [11],\n",
       "         [21]],\n",
       "\n",
       "        [[ 0],\n",
       "         [12],\n",
       "         [ 9]],\n",
       "\n",
       "        [[ 0],\n",
       "         [12],\n",
       "         [10]],\n",
       "\n",
       "        [[ 0],\n",
       "         [12],\n",
       "         [11]],\n",
       "\n",
       "        [[ 0],\n",
       "         [12],\n",
       "         [12]],\n",
       "\n",
       "        [[ 0],\n",
       "         [12],\n",
       "         [13]],\n",
       "\n",
       "        [[ 0],\n",
       "         [12],\n",
       "         [18]],\n",
       "\n",
       "        [[ 0],\n",
       "         [12],\n",
       "         [19]],\n",
       "\n",
       "        [[ 0],\n",
       "         [12],\n",
       "         [20]],\n",
       "\n",
       "        [[ 0],\n",
       "         [12],\n",
       "         [21]],\n",
       "\n",
       "        [[ 0],\n",
       "         [13],\n",
       "         [ 9]],\n",
       "\n",
       "        [[ 0],\n",
       "         [13],\n",
       "         [10]],\n",
       "\n",
       "        [[ 0],\n",
       "         [13],\n",
       "         [11]],\n",
       "\n",
       "        [[ 0],\n",
       "         [13],\n",
       "         [17]],\n",
       "\n",
       "        [[ 0],\n",
       "         [13],\n",
       "         [18]],\n",
       "\n",
       "        [[ 0],\n",
       "         [13],\n",
       "         [19]],\n",
       "\n",
       "        [[ 0],\n",
       "         [13],\n",
       "         [20]],\n",
       "\n",
       "        [[ 0],\n",
       "         [14],\n",
       "         [16]],\n",
       "\n",
       "        [[ 0],\n",
       "         [14],\n",
       "         [17]],\n",
       "\n",
       "        [[ 0],\n",
       "         [14],\n",
       "         [18]],\n",
       "\n",
       "        [[ 0],\n",
       "         [14],\n",
       "         [19]],\n",
       "\n",
       "        [[ 0],\n",
       "         [15],\n",
       "         [15]],\n",
       "\n",
       "        [[ 0],\n",
       "         [15],\n",
       "         [16]],\n",
       "\n",
       "        [[ 0],\n",
       "         [15],\n",
       "         [17]],\n",
       "\n",
       "        [[ 0],\n",
       "         [15],\n",
       "         [18]],\n",
       "\n",
       "        [[ 0],\n",
       "         [16],\n",
       "         [15]],\n",
       "\n",
       "        [[ 0],\n",
       "         [16],\n",
       "         [16]],\n",
       "\n",
       "        [[ 0],\n",
       "         [16],\n",
       "         [17]],\n",
       "\n",
       "        [[ 0],\n",
       "         [17],\n",
       "         [14]],\n",
       "\n",
       "        [[ 0],\n",
       "         [17],\n",
       "         [15]],\n",
       "\n",
       "        [[ 0],\n",
       "         [17],\n",
       "         [16]],\n",
       "\n",
       "        [[ 0],\n",
       "         [18],\n",
       "         [13]],\n",
       "\n",
       "        [[ 0],\n",
       "         [18],\n",
       "         [14]],\n",
       "\n",
       "        [[ 0],\n",
       "         [18],\n",
       "         [15]],\n",
       "\n",
       "        [[ 0],\n",
       "         [19],\n",
       "         [12]],\n",
       "\n",
       "        [[ 0],\n",
       "         [19],\n",
       "         [13]],\n",
       "\n",
       "        [[ 0],\n",
       "         [19],\n",
       "         [14]],\n",
       "\n",
       "        [[ 0],\n",
       "         [20],\n",
       "         [11]],\n",
       "\n",
       "        [[ 0],\n",
       "         [20],\n",
       "         [12]],\n",
       "\n",
       "        [[ 0],\n",
       "         [20],\n",
       "         [13]],\n",
       "\n",
       "        [[ 0],\n",
       "         [20],\n",
       "         [14]],\n",
       "\n",
       "        [[ 0],\n",
       "         [21],\n",
       "         [10]],\n",
       "\n",
       "        [[ 0],\n",
       "         [21],\n",
       "         [11]],\n",
       "\n",
       "        [[ 0],\n",
       "         [21],\n",
       "         [12]],\n",
       "\n",
       "        [[ 0],\n",
       "         [21],\n",
       "         [13]],\n",
       "\n",
       "        [[ 0],\n",
       "         [22],\n",
       "         [ 9]],\n",
       "\n",
       "        [[ 0],\n",
       "         [22],\n",
       "         [10]],\n",
       "\n",
       "        [[ 0],\n",
       "         [22],\n",
       "         [11]],\n",
       "\n",
       "        [[ 0],\n",
       "         [22],\n",
       "         [12]],\n",
       "\n",
       "        [[ 0],\n",
       "         [23],\n",
       "         [ 9]],\n",
       "\n",
       "        [[ 0],\n",
       "         [23],\n",
       "         [10]],\n",
       "\n",
       "        [[ 0],\n",
       "         [23],\n",
       "         [11]],\n",
       "\n",
       "        [[ 0],\n",
       "         [23],\n",
       "         [12]],\n",
       "\n",
       "        [[ 0],\n",
       "         [24],\n",
       "         [ 8]],\n",
       "\n",
       "        [[ 0],\n",
       "         [24],\n",
       "         [ 9]],\n",
       "\n",
       "        [[ 0],\n",
       "         [24],\n",
       "         [10]],\n",
       "\n",
       "        [[ 0],\n",
       "         [24],\n",
       "         [11]],\n",
       "\n",
       "        [[ 0],\n",
       "         [25],\n",
       "         [ 8]],\n",
       "\n",
       "        [[ 0],\n",
       "         [25],\n",
       "         [ 9]],\n",
       "\n",
       "        [[ 0],\n",
       "         [25],\n",
       "         [10]],\n",
       "\n",
       "        [[ 0],\n",
       "         [26],\n",
       "         [ 7]],\n",
       "\n",
       "        [[ 0],\n",
       "         [26],\n",
       "         [ 8]],\n",
       "\n",
       "        [[ 0],\n",
       "         [26],\n",
       "         [ 9]],\n",
       "\n",
       "        [[ 0],\n",
       "         [26],\n",
       "         [10]],\n",
       "\n",
       "        [[ 0],\n",
       "         [27],\n",
       "         [ 7]],\n",
       "\n",
       "        [[ 0],\n",
       "         [27],\n",
       "         [ 8]],\n",
       "\n",
       "        [[ 0],\n",
       "         [27],\n",
       "         [ 9]]]),\n",
       "indices=tensor([[[0],\n",
       "         [0],\n",
       "         [0]],\n",
       "\n",
       "        [[0],\n",
       "         [0],\n",
       "         [0]],\n",
       "\n",
       "        [[0],\n",
       "         [0],\n",
       "         [0]],\n",
       "\n",
       "        [[0],\n",
       "         [0],\n",
       "         [0]],\n",
       "\n",
       "        [[0],\n",
       "         [0],\n",
       "         [0]],\n",
       "\n",
       "        [[0],\n",
       "         [0],\n",
       "         [0]],\n",
       "\n",
       "        [[0],\n",
       "         [0],\n",
       "         [0]],\n",
       "\n",
       "        [[0],\n",
       "         [0],\n",
       "         [0]],\n",
       "\n",
       "        [[0],\n",
       "         [0],\n",
       "         [0]],\n",
       "\n",
       "        [[0],\n",
       "         [0],\n",
       "         [0]],\n",
       "\n",
       "        [[0],\n",
       "         [0],\n",
       "         [0]],\n",
       "\n",
       "        [[0],\n",
       "         [0],\n",
       "         [0]],\n",
       "\n",
       "        [[0],\n",
       "         [0],\n",
       "         [0]],\n",
       "\n",
       "        [[0],\n",
       "         [0],\n",
       "         [0]],\n",
       "\n",
       "        [[0],\n",
       "         [0],\n",
       "         [0]],\n",
       "\n",
       "        [[0],\n",
       "         [0],\n",
       "         [0]],\n",
       "\n",
       "        [[0],\n",
       "         [0],\n",
       "         [0]],\n",
       "\n",
       "        [[0],\n",
       "         [0],\n",
       "         [0]],\n",
       "\n",
       "        [[0],\n",
       "         [0],\n",
       "         [0]],\n",
       "\n",
       "        [[0],\n",
       "         [0],\n",
       "         [0]],\n",
       "\n",
       "        [[0],\n",
       "         [0],\n",
       "         [0]],\n",
       "\n",
       "        [[0],\n",
       "         [0],\n",
       "         [0]],\n",
       "\n",
       "        [[0],\n",
       "         [0],\n",
       "         [0]],\n",
       "\n",
       "        [[0],\n",
       "         [0],\n",
       "         [0]],\n",
       "\n",
       "        [[0],\n",
       "         [0],\n",
       "         [0]],\n",
       "\n",
       "        [[0],\n",
       "         [0],\n",
       "         [0]],\n",
       "\n",
       "        [[0],\n",
       "         [0],\n",
       "         [0]],\n",
       "\n",
       "        [[0],\n",
       "         [0],\n",
       "         [0]],\n",
       "\n",
       "        [[0],\n",
       "         [0],\n",
       "         [0]],\n",
       "\n",
       "        [[0],\n",
       "         [0],\n",
       "         [0]],\n",
       "\n",
       "        [[0],\n",
       "         [0],\n",
       "         [0]],\n",
       "\n",
       "        [[0],\n",
       "         [0],\n",
       "         [0]],\n",
       "\n",
       "        [[0],\n",
       "         [0],\n",
       "         [0]],\n",
       "\n",
       "        [[0],\n",
       "         [0],\n",
       "         [0]],\n",
       "\n",
       "        [[0],\n",
       "         [0],\n",
       "         [0]],\n",
       "\n",
       "        [[0],\n",
       "         [0],\n",
       "         [0]],\n",
       "\n",
       "        [[0],\n",
       "         [0],\n",
       "         [0]],\n",
       "\n",
       "        [[0],\n",
       "         [0],\n",
       "         [0]],\n",
       "\n",
       "        [[0],\n",
       "         [0],\n",
       "         [0]],\n",
       "\n",
       "        [[0],\n",
       "         [0],\n",
       "         [0]],\n",
       "\n",
       "        [[0],\n",
       "         [0],\n",
       "         [0]],\n",
       "\n",
       "        [[0],\n",
       "         [0],\n",
       "         [0]],\n",
       "\n",
       "        [[0],\n",
       "         [0],\n",
       "         [0]],\n",
       "\n",
       "        [[0],\n",
       "         [0],\n",
       "         [0]],\n",
       "\n",
       "        [[0],\n",
       "         [0],\n",
       "         [0]],\n",
       "\n",
       "        [[0],\n",
       "         [0],\n",
       "         [0]],\n",
       "\n",
       "        [[0],\n",
       "         [0],\n",
       "         [0]],\n",
       "\n",
       "        [[0],\n",
       "         [0],\n",
       "         [0]],\n",
       "\n",
       "        [[0],\n",
       "         [0],\n",
       "         [0]],\n",
       "\n",
       "        [[0],\n",
       "         [0],\n",
       "         [0]],\n",
       "\n",
       "        [[0],\n",
       "         [0],\n",
       "         [0]],\n",
       "\n",
       "        [[0],\n",
       "         [0],\n",
       "         [0]],\n",
       "\n",
       "        [[0],\n",
       "         [0],\n",
       "         [0]],\n",
       "\n",
       "        [[0],\n",
       "         [0],\n",
       "         [0]],\n",
       "\n",
       "        [[0],\n",
       "         [0],\n",
       "         [0]],\n",
       "\n",
       "        [[0],\n",
       "         [0],\n",
       "         [0]],\n",
       "\n",
       "        [[0],\n",
       "         [0],\n",
       "         [0]],\n",
       "\n",
       "        [[0],\n",
       "         [0],\n",
       "         [0]],\n",
       "\n",
       "        [[0],\n",
       "         [0],\n",
       "         [0]],\n",
       "\n",
       "        [[0],\n",
       "         [0],\n",
       "         [0]],\n",
       "\n",
       "        [[0],\n",
       "         [0],\n",
       "         [0]],\n",
       "\n",
       "        [[0],\n",
       "         [0],\n",
       "         [0]],\n",
       "\n",
       "        [[0],\n",
       "         [0],\n",
       "         [0]],\n",
       "\n",
       "        [[0],\n",
       "         [0],\n",
       "         [0]],\n",
       "\n",
       "        [[0],\n",
       "         [0],\n",
       "         [0]],\n",
       "\n",
       "        [[0],\n",
       "         [0],\n",
       "         [0]],\n",
       "\n",
       "        [[0],\n",
       "         [0],\n",
       "         [0]],\n",
       "\n",
       "        [[0],\n",
       "         [0],\n",
       "         [0]],\n",
       "\n",
       "        [[0],\n",
       "         [0],\n",
       "         [0]],\n",
       "\n",
       "        [[0],\n",
       "         [0],\n",
       "         [0]],\n",
       "\n",
       "        [[0],\n",
       "         [0],\n",
       "         [0]],\n",
       "\n",
       "        [[0],\n",
       "         [0],\n",
       "         [0]],\n",
       "\n",
       "        [[0],\n",
       "         [0],\n",
       "         [0]],\n",
       "\n",
       "        [[0],\n",
       "         [0],\n",
       "         [0]],\n",
       "\n",
       "        [[0],\n",
       "         [0],\n",
       "         [0]],\n",
       "\n",
       "        [[0],\n",
       "         [0],\n",
       "         [0]],\n",
       "\n",
       "        [[0],\n",
       "         [0],\n",
       "         [0]],\n",
       "\n",
       "        [[0],\n",
       "         [0],\n",
       "         [0]],\n",
       "\n",
       "        [[0],\n",
       "         [0],\n",
       "         [0]],\n",
       "\n",
       "        [[0],\n",
       "         [0],\n",
       "         [0]],\n",
       "\n",
       "        [[0],\n",
       "         [0],\n",
       "         [0]],\n",
       "\n",
       "        [[0],\n",
       "         [0],\n",
       "         [0]],\n",
       "\n",
       "        [[0],\n",
       "         [0],\n",
       "         [0]],\n",
       "\n",
       "        [[0],\n",
       "         [0],\n",
       "         [0]],\n",
       "\n",
       "        [[0],\n",
       "         [0],\n",
       "         [0]],\n",
       "\n",
       "        [[0],\n",
       "         [0],\n",
       "         [0]],\n",
       "\n",
       "        [[0],\n",
       "         [0],\n",
       "         [0]],\n",
       "\n",
       "        [[0],\n",
       "         [0],\n",
       "         [0]],\n",
       "\n",
       "        [[0],\n",
       "         [0],\n",
       "         [0]],\n",
       "\n",
       "        [[0],\n",
       "         [0],\n",
       "         [0]],\n",
       "\n",
       "        [[0],\n",
       "         [0],\n",
       "         [0]],\n",
       "\n",
       "        [[0],\n",
       "         [0],\n",
       "         [0]],\n",
       "\n",
       "        [[0],\n",
       "         [0],\n",
       "         [0]],\n",
       "\n",
       "        [[0],\n",
       "         [0],\n",
       "         [0]],\n",
       "\n",
       "        [[0],\n",
       "         [0],\n",
       "         [0]],\n",
       "\n",
       "        [[0],\n",
       "         [0],\n",
       "         [0]],\n",
       "\n",
       "        [[0],\n",
       "         [0],\n",
       "         [0]],\n",
       "\n",
       "        [[0],\n",
       "         [0],\n",
       "         [0]],\n",
       "\n",
       "        [[0],\n",
       "         [0],\n",
       "         [0]],\n",
       "\n",
       "        [[0],\n",
       "         [0],\n",
       "         [0]],\n",
       "\n",
       "        [[0],\n",
       "         [0],\n",
       "         [0]],\n",
       "\n",
       "        [[0],\n",
       "         [0],\n",
       "         [0]],\n",
       "\n",
       "        [[0],\n",
       "         [0],\n",
       "         [0]],\n",
       "\n",
       "        [[0],\n",
       "         [0],\n",
       "         [0]],\n",
       "\n",
       "        [[0],\n",
       "         [0],\n",
       "         [0]],\n",
       "\n",
       "        [[0],\n",
       "         [0],\n",
       "         [0]],\n",
       "\n",
       "        [[0],\n",
       "         [0],\n",
       "         [0]],\n",
       "\n",
       "        [[0],\n",
       "         [0],\n",
       "         [0]],\n",
       "\n",
       "        [[0],\n",
       "         [0],\n",
       "         [0]],\n",
       "\n",
       "        [[0],\n",
       "         [0],\n",
       "         [0]],\n",
       "\n",
       "        [[0],\n",
       "         [0],\n",
       "         [0]]]))"
      ]
     },
     "execution_count": 76,
     "metadata": {},
     "output_type": "execute_result"
    }
   ],
   "source": [
    "nzz.min(dim=2)"
   ]
  },
  {
   "cell_type": "code",
   "execution_count": 42,
   "metadata": {},
   "outputs": [
    {
     "data": {
      "text/plain": [
       "<matplotlib.image.AxesImage at 0x7f92d9392c90>"
      ]
     },
     "execution_count": 42,
     "metadata": {},
     "output_type": "execute_result"
    },
    {
     "data": {
      "image/png": "[encoded data removed]",
      "text/plain": [
       "<Figure size 432x288 with 1 Axes>"
      ]
     },
     "metadata": {
      "needs_background": "light"
     },
     "output_type": "display_data"
    }
   ],
   "source": [
    "plt.imshow(x_sample_10[0,:,:])"
   ]
  },
  {
   "cell_type": "code",
   "execution_count": 47,
   "metadata": {},
   "outputs": [
    {
     "data": {
      "text/plain": [
       "(0, 28)"
      ]
     },
     "execution_count": 47,
     "metadata": {},
     "output_type": "execute_result"
    },
    {
     "data": {
      "image/png": "[encoded data removed]",
      "text/plain": [
       "<Figure size 216x216 with 1 Axes>"
      ]
     },
     "metadata": {
      "needs_background": "light"
     },
     "output_type": "display_data"
    }
   ],
   "source": [
    "plt.figure(figsize=(3,3,))\n",
    "plt.scatter(x_sample_10.argmax(2), x_sample_10.argmax(1))\n",
    "plt.xlim(0,28); plt.ylim(0,28)"
   ]
  },
  {
   "cell_type": "code",
   "execution_count": 48,
   "metadata": {},
   "outputs": [
    {
     "data": {
      "text/plain": [
       "(0, 28)"
      ]
     },
     "execution_count": 48,
     "metadata": {},
     "output_type": "execute_result"
    },
    {
     "data": {
      "image/png": "[encoded data removed]",
      "text/plain": [
       "<Figure size 216x216 with 1 Axes>"
      ]
     },
     "metadata": {
      "needs_background": "light"
     },
     "output_type": "display_data"
    }
   ],
   "source": [
    "plt.figure(figsize=(3,3,))\n",
    "plt.scatter(x_sample_10.argmin(2), x_sample_10.argmin(1))\n",
    "plt.xlim(0,28); plt.ylim(0,28)"
   ]
  },
  {
   "cell_type": "code",
   "execution_count": null,
   "metadata": {},
   "outputs": [],
   "source": [
    "esp = 1e-6\n",
    "tmp = x_sample.add(eps)\n"
   ]
  },
  {
   "cell_type": "code",
   "execution_count": 29,
   "metadata": {},
   "outputs": [
    {
     "data": {
      "text/plain": [
       "tensor([[0., 0., 0., 0., 0., 0., 0., 0., 0., 0., 0., 0., 0., 0., 0., 0., 0., 0., 0., 0., 0., 0., 0., 0.,\n",
       "         0., 0., 0., 0.],\n",
       "        [0., 0., 0., 0., 0., 0., 0., 0., 0., 0., 0., 0., 0., 0., 0., 0., 0., 0., 0., 0., 0., 0., 0., 0.,\n",
       "         0., 0., 0., 0.]])"
      ]
     },
     "execution_count": 29,
     "metadata": {},
     "output_type": "execute_result"
    }
   ],
   "source": [
    "x_2[0][0,:2,:]"
   ]
  },
  {
   "cell_type": "code",
   "execution_count": 27,
   "metadata": {},
   "outputs": [
    {
     "data": {
      "text/plain": [
       "tensor([[27, 27, 27, 27, 27, 27, 27, 27, 27, 25, 23, 22,  9, 10,  9, 17,  8,  8,\n",
       "          8, 13, 11,  9,  9, 27, 27, 27, 27, 27]])"
      ]
     },
     "execution_count": 27,
     "metadata": {},
     "output_type": "execute_result"
    }
   ],
   "source": [
    "x_2[0].argmax(1)"
   ]
  },
  {
   "cell_type": "code",
   "execution_count": 25,
   "metadata": {},
   "outputs": [
    {
     "data": {
      "text/plain": [
       "tensor([[27, 27, 27, 27, 27, 27, 27, 27, 27, 25, 23, 22,  9, 10,  9, 17,  8,  8,\n",
       "          8, 13, 11,  9,  9, 27, 27, 27, 27, 27]])"
      ]
     },
     "execution_count": 25,
     "metadata": {},
     "output_type": "execute_result"
    }
   ],
   "source": [
    "max2"
   ]
  },
  {
   "cell_type": "code",
   "execution_count": 26,
   "metadata": {},
   "outputs": [
    {
     "data": {
      "text/plain": [
       "tensor([[27, 27, 27, 27, 27, 27, 27, 27, 18, 21, 13, 20, 10, 19, 18, 17, 16, 15,\n",
       "         14, 13, 13, 12, 11, 10, 10,  9,  8,  8]])"
      ]
     },
     "execution_count": 26,
     "metadata": {},
     "output_type": "execute_result"
    }
   ],
   "source": [
    "max3"
   ]
  },
  {
   "cell_type": "code",
   "execution_count": 22,
   "metadata": {},
   "outputs": [
    {
     "data": {
      "text/plain": [
       "tensor([[27, 27, 27, 27, 27, 27, 27, 25, 23, 21, 27, 27, 27, 27, 27, 27, 27, 27,\n",
       "         27, 27, 27, 27, 27, 27, 27, 27, 27, 27]])"
      ]
     },
     "execution_count": 22,
     "metadata": {},
     "output_type": "execute_result"
    }
   ],
   "source": [
    "max2"
   ]
  },
  {
   "cell_type": "code",
   "execution_count": 23,
   "metadata": {},
   "outputs": [
    {
     "data": {
      "text/plain": [
       "tensor([[27, 27, 27, 27, 27, 27, 27, 27, 27, 27, 27, 27, 27, 27, 27, 27, 27, 27,\n",
       "         27, 27, 27, 27, 27, 27, 27, 27, 27, 27]])"
      ]
     },
     "execution_count": 23,
     "metadata": {},
     "output_type": "execute_result"
    }
   ],
   "source": [
    "max3"
   ]
  },
  {
   "cell_type": "code",
   "execution_count": 21,
   "metadata": {},
   "outputs": [
    {
     "data": {
      "image/png": "[encoded data removed]",
      "text/plain": [
       "<Figure size 216x216 with 1 Axes>"
      ]
     },
     "metadata": {
      "needs_background": "light"
     },
     "output_type": "display_data"
    }
   ],
   "source": [
    "max2 = x_2[0].argmin(dim=1)\n",
    "max3 = x_2[0].argmin(dim=2)\n",
    "plt.figure(figsize=(3,3))\n",
    "plt.scatter(max3, max2);\n",
    "plt.xlim(0,28); plt.ylim(0,28);"
   ]
  },
  {
   "cell_type": "markdown",
   "metadata": {},
   "source": [
    "### BaseNet \n",
    "Simple one hidden layer network"
   ]
  },
  {
   "cell_type": "code",
   "execution_count": 6,
   "metadata": {},
   "outputs": [],
   "source": [
    "class BaseNet(torch.nn.Module):\n",
    "    def __init__(self, D_in=28, H=28):\n",
    "        super(BaseNet, self).__init__()\n",
    "        self.flat    = nn.Flatten()\n",
    "        self.linear1 = nn.Linear(in_features=D_in**2, out_features=H)\n",
    "        self.linear2 = nn.Linear(in_features=H, out_features=2, bias=False)\n",
    "        self.sig     = SigmoidRange(-1., 1)\n",
    "    \n",
    "    def forward(self, x):\n",
    "        l0 = self.flat(x)\n",
    "        l1 = self.linear1(l0)\n",
    "        l2 = self.linear2(l1)\n",
    "        y =  self.sig(l2)\n",
    "        return y"
   ]
  },
  {
   "cell_type": "code",
   "execution_count": 7,
   "metadata": {},
   "outputs": [
    {
     "data": {
      "text/plain": [
       "tensor([[0.0517, 0.0010],\n",
       "        [0.0201, 0.0131]], grad_fn=<AddBackward0>)"
      ]
     },
     "execution_count": 7,
     "metadata": {},
     "output_type": "execute_result"
    }
   ],
   "source": [
    "basenet = BaseNet(28,28)\n",
    "basenet(x_2)"
   ]
  },
  {
   "cell_type": "code",
   "execution_count": 8,
   "metadata": {},
   "outputs": [
    {
     "data": {
      "text/html": [
       "<table border=\"1\" class=\"dataframe\">\n",
       "  <thead>\n",
       "    <tr style=\"text-align: left;\">\n",
       "      <th>epoch</th>\n",
       "      <th>train_loss</th>\n",
       "      <th>valid_loss</th>\n",
       "      <th>time</th>\n",
       "    </tr>\n",
       "  </thead>\n",
       "  <tbody>\n",
       "    <tr>\n",
       "      <td>0</td>\n",
       "      <td>0.092272</td>\n",
       "      <td>0.037163</td>\n",
       "      <td>00:01</td>\n",
       "    </tr>\n",
       "    <tr>\n",
       "      <td>1</td>\n",
       "      <td>0.064739</td>\n",
       "      <td>0.043197</td>\n",
       "      <td>00:01</td>\n",
       "    </tr>\n",
       "    <tr>\n",
       "      <td>2</td>\n",
       "      <td>0.052743</td>\n",
       "      <td>0.029988</td>\n",
       "      <td>00:01</td>\n",
       "    </tr>\n",
       "    <tr>\n",
       "      <td>3</td>\n",
       "      <td>0.043662</td>\n",
       "      <td>0.024530</td>\n",
       "      <td>00:01</td>\n",
       "    </tr>\n",
       "    <tr>\n",
       "      <td>4</td>\n",
       "      <td>0.037391</td>\n",
       "      <td>0.024226</td>\n",
       "      <td>00:01</td>\n",
       "    </tr>\n",
       "  </tbody>\n",
       "</table>"
      ],
      "text/plain": [
       "<IPython.core.display.HTML object>"
      ]
     },
     "metadata": {},
     "output_type": "display_data"
    }
   ],
   "source": [
    "basenet = BaseNet(D_in=28, H=28)\n",
    "learn_bn = Learner(dls, basenet, loss_func=MSELossFlat() )\n",
    "learn_bn.fit(5)"
   ]
  },
  {
   "cell_type": "markdown",
   "metadata": {},
   "source": [
    "#### Test the effect of hidden layer size, `H`"
   ]
  },
  {
   "cell_type": "code",
   "execution_count": null,
   "metadata": {},
   "outputs": [],
   "source": [
    "TRIALS = 5\n",
    "EPOCHS = 8\n",
    "d_mse = {}\n",
    "\n",
    "for _h in (2, 12, 28, 52):\n",
    "    \n",
    "    print(f'H: {_h}')\n",
    "    d_mse[_h] = []\n",
    "    for trial in range(TRIALS):\n",
    "        \n",
    "        learn = Learner(dls, BaseNet(D_in=28, H=_h), \n",
    "                        loss_func=MSELossFlat())\n",
    "\n",
    "        with learn.no_logging(): learn.fit(EPOCHS)\n",
    "\n",
    "        preds = learn.get_preds()\n",
    "        _mse = mse(preds[0], preds[1])\n",
    "        d_mse[_h].append(_mse)"
   ]
  },
  {
   "cell_type": "code",
   "execution_count": 10,
   "metadata": {},
   "outputs": [
    {
     "data": {
      "text/html": [
       "<div>\n",
       "<style scoped>\n",
       "    .dataframe tbody tr th:only-of-type {\n",
       "        vertical-align: middle;\n",
       "    }\n",
       "\n",
       "    .dataframe tbody tr th {\n",
       "        vertical-align: top;\n",
       "    }\n",
       "\n",
       "    .dataframe thead th {\n",
       "        text-align: right;\n",
       "    }\n",
       "</style>\n",
       "<table border=\"1\" class=\"dataframe\">\n",
       "  <thead>\n",
       "    <tr style=\"text-align: right;\">\n",
       "      <th></th>\n",
       "      <th>avg</th>\n",
       "      <th>min</th>\n",
       "      <th>max</th>\n",
       "    </tr>\n",
       "  </thead>\n",
       "  <tbody>\n",
       "    <tr>\n",
       "      <th>2</th>\n",
       "      <td>0.0309</td>\n",
       "      <td>0.0257</td>\n",
       "      <td>0.0393</td>\n",
       "    </tr>\n",
       "    <tr>\n",
       "      <th>12</th>\n",
       "      <td>0.0228</td>\n",
       "      <td>0.0218</td>\n",
       "      <td>0.0240</td>\n",
       "    </tr>\n",
       "    <tr>\n",
       "      <th>28</th>\n",
       "      <td>0.0218</td>\n",
       "      <td>0.0213</td>\n",
       "      <td>0.0223</td>\n",
       "    </tr>\n",
       "    <tr>\n",
       "      <th>52</th>\n",
       "      <td>0.0205</td>\n",
       "      <td>0.0200</td>\n",
       "      <td>0.0216</td>\n",
       "    </tr>\n",
       "  </tbody>\n",
       "</table>\n",
       "</div>"
      ],
      "text/plain": [
       "       avg     min     max\n",
       "2   0.0309  0.0257  0.0393\n",
       "12  0.0228  0.0218  0.0240\n",
       "28  0.0218  0.0213  0.0223\n",
       "52  0.0205  0.0200  0.0216"
      ]
     },
     "execution_count": 10,
     "metadata": {},
     "output_type": "execute_result"
    }
   ],
   "source": [
    "df_mse = pd.DataFrame({k:[e.item() for e in v] for k,v in d_mse.items()})\n",
    "\n",
    "df_mse = df_mse.T\n",
    "\n",
    "df_mse['avg'] = df_mse.apply(np.mean, axis=1)\n",
    "df_mse['min'] = df_mse.apply(np.min, axis=1)\n",
    "df_mse['max'] = df_mse.apply(np.max, axis=1)\n",
    "\n",
    "df_mse.iloc[:, -3:].round(4)"
   ]
  },
  {
   "cell_type": "code",
   "execution_count": 11,
   "metadata": {},
   "outputs": [],
   "source": [
    "df_mse.to_csv('rcnnm-3-dfmse.csv')"
   ]
  },
  {
   "cell_type": "markdown",
   "metadata": {},
   "source": [
    "So there is a benefit (but decreasing returns) to adding more hidden layers from 2 thru 52, overall reducing error 30%."
   ]
  },
  {
   "cell_type": "markdown",
   "metadata": {},
   "source": [
    "### Build a NN with a variable amount of features\n",
    "\n",
    "TODO - do standard scaling on min/max features"
   ]
  },
  {
   "cell_type": "code",
   "execution_count": 12,
   "metadata": {},
   "outputs": [],
   "source": [
    "class FeatsNet(torch.nn.Module):\n",
    "    \n",
    "    def __init__(self, D_in=28, H=28, feats=['pix']):\n",
    "        \n",
    "        self.feats = feats\n",
    "        self.D = D_in\n",
    "        \n",
    "        super(FeatsNet, self).__init__()\n",
    "        \n",
    "        len_ins = 0\n",
    "        if 'pix'      in self.feats: len_ins += D_in**2\n",
    "        if 'max'      in self.feats: len_ins += D_in*2\n",
    "        if 'min'      in self.feats: len_ins += D_in*2\n",
    "        if len_ins == 0: \n",
    "            raise Exception('Need a valid code in `feats`')\n",
    "            \n",
    "        self.flat    = nn.Flatten()\n",
    "        \n",
    "        self.linear1 = nn.Linear(in_features=len_ins, out_features=H)\n",
    "        self.linear2 = nn.Linear(in_features=H,       out_features=2, \n",
    "                                 bias=False)\n",
    "        \n",
    "        self.sig     = SigmoidRange(-1., 1)\n",
    "        \n",
    "    def build_feats(self, x):\n",
    "        \n",
    "        l0 = torch.tensor([])\n",
    "        \n",
    "        if 'pix' in self.feats:\n",
    "            l0 = self.flat(x)\n",
    "        \n",
    "        if 'max' in self.feats:\n",
    "            max2  = self.flat(x.argmax(dim=2).float()) / float(self.D)\n",
    "            max3  = self.flat(x.argmax(dim=3).float()) / float(self.D)\n",
    "            l0 = torch.cat((l0, max2, max3), dim=1)\n",
    "            \n",
    "        if 'min' in self.feats:    \n",
    "            min2  = self.flat(x.argmin(dim=2).float()) / float(self.D)\n",
    "            min3  = self.flat(x.argmin(dim=3).float()) / float(self.D)\n",
    "            l0 = torch.cat((l0, min2, min3), dim=1)\n",
    "            \n",
    "        return l0\n",
    "    \n",
    "    def forward(self, x):\n",
    "        \n",
    "        l0 = self.build_feats(x)\n",
    "        \n",
    "        l1 = self.linear1(l0)\n",
    "        l2 = self.linear2(l1)\n",
    "        y =  self.sig(l2)\n",
    "        return y"
   ]
  },
  {
   "cell_type": "markdown",
   "metadata": {},
   "source": [
    "##### Show the change in feature size based on inputs requested in `feats`"
   ]
  },
  {
   "cell_type": "code",
   "execution_count": 13,
   "metadata": {},
   "outputs": [
    {
     "name": "stdout",
     "output_type": "stream",
     "text": [
      "feats: ['pix']                   | torch.Size([2, 784])\n",
      "feats: ['pix', 'max']            | torch.Size([2, 840])\n",
      "feats: ['min', 'max']            | torch.Size([2, 112])\n",
      "feats: ['pix', 'min', 'max']     | torch.Size([2, 896])\n"
     ]
    }
   ],
   "source": [
    "def fn_info(feats):\n",
    "    fn = FeatsNet(feats=feats)\n",
    "    x2_feats = fn.build_feats(x_2)\n",
    "    print(f'feats: {str(feats).ljust(25)} | {x2_feats.shape}')\n",
    "\n",
    "feats = ['pix',]\n",
    "fn_info(feats)\n",
    "\n",
    "feats = ['pix', 'max']\n",
    "fn_info(feats)\n",
    "\n",
    "feats = ['min', 'max']\n",
    "fn_info(feats)\n",
    "\n",
    "feats = ['pix', 'min', 'max']\n",
    "fn_info(feats)"
   ]
  },
  {
   "cell_type": "markdown",
   "metadata": {},
   "source": [
    "##### Run Sample Models\n",
    "With original feature set vs. expanded featrue set  "
   ]
  },
  {
   "cell_type": "code",
   "execution_count": 14,
   "metadata": {},
   "outputs": [
    {
     "data": {
      "text/html": [
       "<table border=\"1\" class=\"dataframe\">\n",
       "  <thead>\n",
       "    <tr style=\"text-align: left;\">\n",
       "      <th>epoch</th>\n",
       "      <th>train_loss</th>\n",
       "      <th>valid_loss</th>\n",
       "      <th>time</th>\n",
       "    </tr>\n",
       "  </thead>\n",
       "  <tbody>\n",
       "    <tr>\n",
       "      <td>0</td>\n",
       "      <td>0.108367</td>\n",
       "      <td>0.034981</td>\n",
       "      <td>00:01</td>\n",
       "    </tr>\n",
       "    <tr>\n",
       "      <td>1</td>\n",
       "      <td>0.072713</td>\n",
       "      <td>0.042994</td>\n",
       "      <td>00:01</td>\n",
       "    </tr>\n",
       "    <tr>\n",
       "      <td>2</td>\n",
       "      <td>0.059658</td>\n",
       "      <td>0.034711</td>\n",
       "      <td>00:01</td>\n",
       "    </tr>\n",
       "    <tr>\n",
       "      <td>3</td>\n",
       "      <td>0.050120</td>\n",
       "      <td>0.024851</td>\n",
       "      <td>00:01</td>\n",
       "    </tr>\n",
       "    <tr>\n",
       "      <td>4</td>\n",
       "      <td>0.042739</td>\n",
       "      <td>0.026633</td>\n",
       "      <td>00:01</td>\n",
       "    </tr>\n",
       "    <tr>\n",
       "      <td>5</td>\n",
       "      <td>0.037477</td>\n",
       "      <td>0.022372</td>\n",
       "      <td>00:02</td>\n",
       "    </tr>\n",
       "    <tr>\n",
       "      <td>6</td>\n",
       "      <td>0.033185</td>\n",
       "      <td>0.021803</td>\n",
       "      <td>00:01</td>\n",
       "    </tr>\n",
       "    <tr>\n",
       "      <td>7</td>\n",
       "      <td>0.029932</td>\n",
       "      <td>0.021141</td>\n",
       "      <td>00:01</td>\n",
       "    </tr>\n",
       "    <tr>\n",
       "      <td>8</td>\n",
       "      <td>0.027228</td>\n",
       "      <td>0.021205</td>\n",
       "      <td>00:01</td>\n",
       "    </tr>\n",
       "    <tr>\n",
       "      <td>9</td>\n",
       "      <td>0.025016</td>\n",
       "      <td>0.020097</td>\n",
       "      <td>00:01</td>\n",
       "    </tr>\n",
       "  </tbody>\n",
       "</table>"
      ],
      "text/plain": [
       "<IPython.core.display.HTML object>"
      ]
     },
     "metadata": {},
     "output_type": "display_data"
    }
   ],
   "source": [
    "fn = FeatsNet(feats=['pix'])\n",
    "learn = Learner(dls, fn, loss_func=MSELossFlat())\n",
    "learn.fit(10)"
   ]
  },
  {
   "cell_type": "code",
   "execution_count": 15,
   "metadata": {},
   "outputs": [
    {
     "data": {
      "text/html": [
       "<table border=\"1\" class=\"dataframe\">\n",
       "  <thead>\n",
       "    <tr style=\"text-align: left;\">\n",
       "      <th>epoch</th>\n",
       "      <th>train_loss</th>\n",
       "      <th>valid_loss</th>\n",
       "      <th>time</th>\n",
       "    </tr>\n",
       "  </thead>\n",
       "  <tbody>\n",
       "    <tr>\n",
       "      <td>0</td>\n",
       "      <td>0.076443</td>\n",
       "      <td>0.054700</td>\n",
       "      <td>00:01</td>\n",
       "    </tr>\n",
       "    <tr>\n",
       "      <td>1</td>\n",
       "      <td>0.061238</td>\n",
       "      <td>0.030257</td>\n",
       "      <td>00:01</td>\n",
       "    </tr>\n",
       "    <tr>\n",
       "      <td>2</td>\n",
       "      <td>0.047024</td>\n",
       "      <td>0.028117</td>\n",
       "      <td>00:01</td>\n",
       "    </tr>\n",
       "    <tr>\n",
       "      <td>3</td>\n",
       "      <td>0.039082</td>\n",
       "      <td>0.020843</td>\n",
       "      <td>00:01</td>\n",
       "    </tr>\n",
       "    <tr>\n",
       "      <td>4</td>\n",
       "      <td>0.033603</td>\n",
       "      <td>0.020015</td>\n",
       "      <td>00:01</td>\n",
       "    </tr>\n",
       "    <tr>\n",
       "      <td>5</td>\n",
       "      <td>0.029254</td>\n",
       "      <td>0.018178</td>\n",
       "      <td>00:01</td>\n",
       "    </tr>\n",
       "    <tr>\n",
       "      <td>6</td>\n",
       "      <td>0.025882</td>\n",
       "      <td>0.017377</td>\n",
       "      <td>00:01</td>\n",
       "    </tr>\n",
       "    <tr>\n",
       "      <td>7</td>\n",
       "      <td>0.023168</td>\n",
       "      <td>0.017034</td>\n",
       "      <td>00:01</td>\n",
       "    </tr>\n",
       "    <tr>\n",
       "      <td>8</td>\n",
       "      <td>0.020991</td>\n",
       "      <td>0.017724</td>\n",
       "      <td>00:01</td>\n",
       "    </tr>\n",
       "    <tr>\n",
       "      <td>9</td>\n",
       "      <td>0.019216</td>\n",
       "      <td>0.015124</td>\n",
       "      <td>00:01</td>\n",
       "    </tr>\n",
       "  </tbody>\n",
       "</table>"
      ],
      "text/plain": [
       "<IPython.core.display.HTML object>"
      ]
     },
     "metadata": {},
     "output_type": "display_data"
    }
   ],
   "source": [
    "fn = FeatsNet(feats=['pix','min', 'max'])\n",
    "learn = Learner(dls, fn, loss_func=MSELossFlat())\n",
    "learn.fit(10)"
   ]
  },
  {
   "cell_type": "markdown",
   "metadata": {},
   "source": [
    "So the additional features push model err below the asymptote, we're on the right track"
   ]
  },
  {
   "cell_type": "markdown",
   "metadata": {},
   "source": [
    "#### Build Table of Results\n",
    "Fit multiple times a model with differnet feature sets, and record the validation mse. Compare results below:"
   ]
  },
  {
   "cell_type": "code",
   "execution_count": 16,
   "metadata": {},
   "outputs": [
    {
     "name": "stdout",
     "output_type": "stream",
     "text": [
      "feats: pix\n"
     ]
    },
    {
     "data": {
      "text/html": [],
      "text/plain": [
       "<IPython.core.display.HTML object>"
      ]
     },
     "metadata": {},
     "output_type": "display_data"
    },
    {
     "data": {
      "text/html": [],
      "text/plain": [
       "<IPython.core.display.HTML object>"
      ]
     },
     "metadata": {},
     "output_type": "display_data"
    },
    {
     "data": {
      "text/html": [],
      "text/plain": [
       "<IPython.core.display.HTML object>"
      ]
     },
     "metadata": {},
     "output_type": "display_data"
    },
    {
     "data": {
      "text/html": [],
      "text/plain": [
       "<IPython.core.display.HTML object>"
      ]
     },
     "metadata": {},
     "output_type": "display_data"
    },
    {
     "data": {
      "text/html": [],
      "text/plain": [
       "<IPython.core.display.HTML object>"
      ]
     },
     "metadata": {},
     "output_type": "display_data"
    },
    {
     "data": {
      "text/html": [],
      "text/plain": [
       "<IPython.core.display.HTML object>"
      ]
     },
     "metadata": {},
     "output_type": "display_data"
    },
    {
     "data": {
      "text/html": [],
      "text/plain": [
       "<IPython.core.display.HTML object>"
      ]
     },
     "metadata": {},
     "output_type": "display_data"
    },
    {
     "data": {
      "text/html": [],
      "text/plain": [
       "<IPython.core.display.HTML object>"
      ]
     },
     "metadata": {},
     "output_type": "display_data"
    },
    {
     "data": {
      "text/html": [],
      "text/plain": [
       "<IPython.core.display.HTML object>"
      ]
     },
     "metadata": {},
     "output_type": "display_data"
    },
    {
     "data": {
      "text/html": [],
      "text/plain": [
       "<IPython.core.display.HTML object>"
      ]
     },
     "metadata": {},
     "output_type": "display_data"
    },
    {
     "name": "stdout",
     "output_type": "stream",
     "text": [
      "feats: pix|min\n"
     ]
    },
    {
     "data": {
      "text/html": [],
      "text/plain": [
       "<IPython.core.display.HTML object>"
      ]
     },
     "metadata": {},
     "output_type": "display_data"
    },
    {
     "data": {
      "text/html": [],
      "text/plain": [
       "<IPython.core.display.HTML object>"
      ]
     },
     "metadata": {},
     "output_type": "display_data"
    },
    {
     "data": {
      "text/html": [],
      "text/plain": [
       "<IPython.core.display.HTML object>"
      ]
     },
     "metadata": {},
     "output_type": "display_data"
    },
    {
     "data": {
      "text/html": [],
      "text/plain": [
       "<IPython.core.display.HTML object>"
      ]
     },
     "metadata": {},
     "output_type": "display_data"
    },
    {
     "data": {
      "text/html": [],
      "text/plain": [
       "<IPython.core.display.HTML object>"
      ]
     },
     "metadata": {},
     "output_type": "display_data"
    },
    {
     "data": {
      "text/html": [],
      "text/plain": [
       "<IPython.core.display.HTML object>"
      ]
     },
     "metadata": {},
     "output_type": "display_data"
    },
    {
     "data": {
      "text/html": [],
      "text/plain": [
       "<IPython.core.display.HTML object>"
      ]
     },
     "metadata": {},
     "output_type": "display_data"
    },
    {
     "data": {
      "text/html": [],
      "text/plain": [
       "<IPython.core.display.HTML object>"
      ]
     },
     "metadata": {},
     "output_type": "display_data"
    },
    {
     "data": {
      "text/html": [],
      "text/plain": [
       "<IPython.core.display.HTML object>"
      ]
     },
     "metadata": {},
     "output_type": "display_data"
    },
    {
     "data": {
      "text/html": [],
      "text/plain": [
       "<IPython.core.display.HTML object>"
      ]
     },
     "metadata": {},
     "output_type": "display_data"
    },
    {
     "name": "stdout",
     "output_type": "stream",
     "text": [
      "feats: pix|max\n"
     ]
    },
    {
     "data": {
      "text/html": [],
      "text/plain": [
       "<IPython.core.display.HTML object>"
      ]
     },
     "metadata": {},
     "output_type": "display_data"
    },
    {
     "data": {
      "text/html": [],
      "text/plain": [
       "<IPython.core.display.HTML object>"
      ]
     },
     "metadata": {},
     "output_type": "display_data"
    },
    {
     "data": {
      "text/html": [],
      "text/plain": [
       "<IPython.core.display.HTML object>"
      ]
     },
     "metadata": {},
     "output_type": "display_data"
    },
    {
     "data": {
      "text/html": [],
      "text/plain": [
       "<IPython.core.display.HTML object>"
      ]
     },
     "metadata": {},
     "output_type": "display_data"
    },
    {
     "data": {
      "text/html": [],
      "text/plain": [
       "<IPython.core.display.HTML object>"
      ]
     },
     "metadata": {},
     "output_type": "display_data"
    },
    {
     "data": {
      "text/html": [],
      "text/plain": [
       "<IPython.core.display.HTML object>"
      ]
     },
     "metadata": {},
     "output_type": "display_data"
    },
    {
     "data": {
      "text/html": [],
      "text/plain": [
       "<IPython.core.display.HTML object>"
      ]
     },
     "metadata": {},
     "output_type": "display_data"
    },
    {
     "data": {
      "text/html": [],
      "text/plain": [
       "<IPython.core.display.HTML object>"
      ]
     },
     "metadata": {},
     "output_type": "display_data"
    },
    {
     "data": {
      "text/html": [],
      "text/plain": [
       "<IPython.core.display.HTML object>"
      ]
     },
     "metadata": {},
     "output_type": "display_data"
    },
    {
     "data": {
      "text/html": [],
      "text/plain": [
       "<IPython.core.display.HTML object>"
      ]
     },
     "metadata": {},
     "output_type": "display_data"
    },
    {
     "name": "stdout",
     "output_type": "stream",
     "text": [
      "feats: pix|min|max\n"
     ]
    },
    {
     "data": {
      "text/html": [],
      "text/plain": [
       "<IPython.core.display.HTML object>"
      ]
     },
     "metadata": {},
     "output_type": "display_data"
    },
    {
     "data": {
      "text/html": [],
      "text/plain": [
       "<IPython.core.display.HTML object>"
      ]
     },
     "metadata": {},
     "output_type": "display_data"
    },
    {
     "data": {
      "text/html": [],
      "text/plain": [
       "<IPython.core.display.HTML object>"
      ]
     },
     "metadata": {},
     "output_type": "display_data"
    },
    {
     "data": {
      "text/html": [],
      "text/plain": [
       "<IPython.core.display.HTML object>"
      ]
     },
     "metadata": {},
     "output_type": "display_data"
    },
    {
     "data": {
      "text/html": [],
      "text/plain": [
       "<IPython.core.display.HTML object>"
      ]
     },
     "metadata": {},
     "output_type": "display_data"
    },
    {
     "data": {
      "text/html": [],
      "text/plain": [
       "<IPython.core.display.HTML object>"
      ]
     },
     "metadata": {},
     "output_type": "display_data"
    },
    {
     "data": {
      "text/html": [],
      "text/plain": [
       "<IPython.core.display.HTML object>"
      ]
     },
     "metadata": {},
     "output_type": "display_data"
    },
    {
     "data": {
      "text/html": [],
      "text/plain": [
       "<IPython.core.display.HTML object>"
      ]
     },
     "metadata": {},
     "output_type": "display_data"
    },
    {
     "data": {
      "text/html": [],
      "text/plain": [
       "<IPython.core.display.HTML object>"
      ]
     },
     "metadata": {},
     "output_type": "display_data"
    },
    {
     "data": {
      "text/html": [],
      "text/plain": [
       "<IPython.core.display.HTML object>"
      ]
     },
     "metadata": {},
     "output_type": "display_data"
    }
   ],
   "source": [
    "TRIALS = 5\n",
    "EPOCHS = 8\n",
    "d_mse = {}\n",
    "\n",
    "for feats in (['pix'], ['pix', 'min'], ['pix', 'max'],\n",
    "              ['pix','min','max']):\n",
    "    \n",
    "    k = '|'.join(feats)\n",
    "    print(f'feats: {k}')\n",
    "    d_mse[k] = []\n",
    "    \n",
    "    for trial in range(TRIALS):\n",
    "        \n",
    "        learn = Learner(dls, FeatsNet(feats=feats), \n",
    "                        loss_func=MSELossFlat())\n",
    "        with learn.no_logging(): learn.fit(EPOCHS)\n",
    "        preds = learn.get_preds()\n",
    "        _mse = mse(preds[0], preds[1])\n",
    "        d_mse[k].append(_mse)"
   ]
  },
  {
   "cell_type": "code",
   "execution_count": 17,
   "metadata": {},
   "outputs": [
    {
     "data": {
      "text/html": [
       "<div>\n",
       "<style scoped>\n",
       "    .dataframe tbody tr th:only-of-type {\n",
       "        vertical-align: middle;\n",
       "    }\n",
       "\n",
       "    .dataframe tbody tr th {\n",
       "        vertical-align: top;\n",
       "    }\n",
       "\n",
       "    .dataframe thead th {\n",
       "        text-align: right;\n",
       "    }\n",
       "</style>\n",
       "<table border=\"1\" class=\"dataframe\">\n",
       "  <thead>\n",
       "    <tr style=\"text-align: right;\">\n",
       "      <th></th>\n",
       "      <th>avg</th>\n",
       "      <th>min</th>\n",
       "      <th>max</th>\n",
       "    </tr>\n",
       "  </thead>\n",
       "  <tbody>\n",
       "    <tr>\n",
       "      <th>pix</th>\n",
       "      <td>0.0216</td>\n",
       "      <td>0.0208</td>\n",
       "      <td>0.0227</td>\n",
       "    </tr>\n",
       "    <tr>\n",
       "      <th>pix|min</th>\n",
       "      <td>0.0177</td>\n",
       "      <td>0.0164</td>\n",
       "      <td>0.0183</td>\n",
       "    </tr>\n",
       "    <tr>\n",
       "      <th>pix|max</th>\n",
       "      <td>0.0182</td>\n",
       "      <td>0.0170</td>\n",
       "      <td>0.0192</td>\n",
       "    </tr>\n",
       "    <tr>\n",
       "      <th>pix|min|max</th>\n",
       "      <td>0.0167</td>\n",
       "      <td>0.0155</td>\n",
       "      <td>0.0175</td>\n",
       "    </tr>\n",
       "  </tbody>\n",
       "</table>\n",
       "</div>"
      ],
      "text/plain": [
       "                avg     min     max\n",
       "pix          0.0216  0.0208  0.0227\n",
       "pix|min      0.0177  0.0164  0.0183\n",
       "pix|max      0.0182  0.0170  0.0192\n",
       "pix|min|max  0.0167  0.0155  0.0175"
      ]
     },
     "execution_count": 17,
     "metadata": {},
     "output_type": "execute_result"
    }
   ],
   "source": [
    "df_mse = pd.DataFrame({k:[e.item() for e in v] for k,v in d_mse.items()})\n",
    "\n",
    "df_mse = df_mse.T\n",
    "\n",
    "df_mse['avg'] = df_mse.apply(np.mean, axis=1)\n",
    "df_mse['min'] = df_mse.apply(np.min, axis=1)\n",
    "df_mse['max'] = df_mse.apply(np.max, axis=1)\n",
    "\n",
    "df_mse.iloc[:, -3:].round(4)"
   ]
  },
  {
   "cell_type": "code",
   "execution_count": 18,
   "metadata": {},
   "outputs": [],
   "source": [
    "df_mse.to_csv('rcnnm-3-dfmse-featsnet.csv')"
   ]
  },
  {
   "cell_type": "markdown",
   "metadata": {},
   "source": [
    "Excellent, the additional features perform better than the with the original featue set, reducing error by 15-30%. (They also have more variance).\n",
    "\n",
    "It appaears the `min` features are more beneficial ones here? (Whereas for center point only `max` feats were valuable).\n",
    "\n",
    "The `min` features being valuable doesn't seem to make much sense in light of the paucity of information contained, as seen in the first section."
   ]
  },
  {
   "cell_type": "code",
   "execution_count": null,
   "metadata": {},
   "outputs": [],
   "source": []
  }
 ],
 "metadata": {
  "kernelspec": {
   "display_name": "Python 3",
   "language": "python",
   "name": "python3"
  },
  "language_info": {
   "codemirror_mode": {
    "name": "ipython",
    "version": 3
   },
   "file_extension": ".py",
   "mimetype": "text/x-python",
   "name": "python",
   "nbconvert_exporter": "python",
   "pygments_lexer": "ipython3",
   "version": "3.7.6"
  }
 },
 "nbformat": 4,
 "nbformat_minor": 4
}
