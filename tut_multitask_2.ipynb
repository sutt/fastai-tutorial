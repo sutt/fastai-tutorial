{
 "cells": [
  {
   "cell_type": "markdown",
   "metadata": {},
   "source": [
    "## Part 2. - Fit Scalar Targets\n",
    "We examine details of the fitting process...\n",
    " - examine the role of scaling\n",
    " - examine y_range **TODO**\n",
    " - examine each task for difficulty by a comparison to baseline performance.\n",
    " - compare NN's against Linear Regression"
   ]
  },
  {
   "cell_type": "code",
   "execution_count": 1,
   "metadata": {},
   "outputs": [],
   "source": [
    "import os, sys\n",
    "import pandas as pd\n",
    "from IPython.display import display\n",
    "from matplotlib import pyplot as plt\n",
    "\n",
    "from fastai2.basics import *\n",
    "from fastai2.vision.all import *\n",
    "\n",
    "from sklearn.preprocessing import StandardScaler\n",
    "\n",
    "%load_ext autoreload\n",
    "%autoreload 2\n",
    "\n",
    "from module.mnist_helpers import build_df, eda_fig_1"
   ]
  },
  {
   "cell_type": "markdown",
   "metadata": {},
   "source": [
    "### Setup UnScaled vs. Scaled target arrays"
   ]
  },
  {
   "cell_type": "code",
   "execution_count": 2,
   "metadata": {},
   "outputs": [],
   "source": [
    "path = untar_data(URLs.MNIST_TINY)\n",
    "\n",
    "df = build_df(path)\n",
    "df.head(2)\n",
    "\n",
    "target_names = [   \n",
    "        'scalar_pxsum',\n",
    "        'scalar_top',\n",
    "        'scalar_bottom',\n",
    "       ]\n",
    "\n",
    "db_reg_multi =   DataBlock(blocks=(ImageBlock(cls=PILImageBW), \n",
    "                                   RegressionBlock(n_out=3)), \n",
    "                       splitter=RandomSplitter(seed=0),\n",
    "                       get_x=ColReader('fn', pref=path),\n",
    "                       get_y=ColReader(target_names)\n",
    "                      )\n",
    "\n",
    "dls_reg_multi = db_reg_multi.dataloaders(df)"
   ]
  },
  {
   "cell_type": "code",
   "execution_count": 3,
   "metadata": {},
   "outputs": [],
   "source": [
    "target_names_sc = [name + '_sc' for name in target_names]\n",
    "\n",
    "sc = StandardScaler()\n",
    "sc.fit(df[target_names])\n",
    "\n",
    "df_sc = pd.DataFrame(sc.transform(df[target_names])\n",
    "                     ,columns=target_names_sc)\n",
    "\n",
    "df = pd.concat((df, df_sc), axis=1)\n",
    "\n",
    "db_reg_multi_sc =   DataBlock(blocks=(ImageBlock(cls=PILImageBW), \n",
    "                                     RegressionBlock(n_out=3)), \n",
    "                       splitter=RandomSplitter(seed=0),\n",
    "                       get_x=ColReader('fn', pref=path),\n",
    "                       get_y=ColReader(target_names_sc)\n",
    "                      )\n",
    "\n",
    "dls_reg_multi_sc = db_reg_multi_sc.dataloaders(df)"
   ]
  },
  {
   "cell_type": "markdown",
   "metadata": {},
   "source": [
    "##### Note: verify the same train/valid split"
   ]
  },
  {
   "cell_type": "code",
   "execution_count": 4,
   "metadata": {},
   "outputs": [
    {
     "data": {
      "text/plain": [
       "[568, 141]"
      ]
     },
     "execution_count": 4,
     "metadata": {},
     "output_type": "execute_result"
    }
   ],
   "source": [
    "[len(split) for split in dls_reg_multi.train.splits]"
   ]
  },
  {
   "cell_type": "code",
   "execution_count": 5,
   "metadata": {},
   "outputs": [
    {
     "data": {
      "text/plain": [
       "True"
      ]
     },
     "execution_count": 5,
     "metadata": {},
     "output_type": "execute_result"
    }
   ],
   "source": [
    "dls_reg_multi.splits[0] == dls_reg_multi_sc.splits[0]"
   ]
  },
  {
   "cell_type": "markdown",
   "metadata": {},
   "source": [
    "### EDA - For each target: mean estimate, baseline err "
   ]
  },
  {
   "cell_type": "code",
   "execution_count": 6,
   "metadata": {},
   "outputs": [
    {
     "data": {
      "text/plain": [
       "[tensor(47956224.), tensor(1.7019), tensor(1.7546)]"
      ]
     },
     "execution_count": 6,
     "metadata": {},
     "output_type": "execute_result"
    }
   ],
   "source": [
    "y = torch.stack([_y for _x, _y in dls_reg_multi.train])\n",
    "y = y.flatten(0,1)\n",
    "\n",
    "mean_y_uc = y.mean(dim=0)\n",
    "\n",
    "y = torch.cat([_y for _x, _y in dls_reg_multi.valid])\n",
    "\n",
    "mse_uc = [mse(y[:,i], torch.full( (len(y),), mean_y_uc[i])) \n",
    "          for i in range(3)]\n",
    "\n",
    "mse_uc"
   ]
  },
  {
   "cell_type": "code",
   "execution_count": 7,
   "metadata": {},
   "outputs": [
    {
     "data": {
      "text/plain": [
       "[tensor(0.8454), tensor(0.9894), tensor(0.9676)]"
      ]
     },
     "execution_count": 7,
     "metadata": {},
     "output_type": "execute_result"
    }
   ],
   "source": [
    "y = torch.stack([_y for _x, _y in dls_reg_multi_sc.train])\n",
    "y = y.flatten(0,1)\n",
    "\n",
    "mean_y_sc = y.mean(dim=0)\n",
    "\n",
    "y = torch.cat([_y for _x, _y in dls_reg_multi_sc.valid])\n",
    "\n",
    "mse_sc = [mse(y[:,i], torch.full( (len(y),), mean_y_sc[i])) \n",
    "          for i in range(3)]\n",
    "\n",
    "mse_sc"
   ]
  },
  {
   "cell_type": "code",
   "execution_count": 8,
   "metadata": {},
   "outputs": [
    {
     "data": {
      "image/png": "[encoded data removed]",
      "text/plain": [
       "<Figure size 720x288 with 3 Axes>"
      ]
     },
     "metadata": {
      "needs_background": "light"
     },
     "output_type": "display_data"
    }
   ],
   "source": [
    "ys = tensor([e[1].tolist() for e in dls_reg_multi.dataset])\n",
    "\n",
    "fig, ax = plt.subplots(1,3,figsize=(10,3+1))\n",
    "for i in range(3):\n",
    "    vals = ys[:,i]\n",
    "    ax[i].hist(vals)\n",
    "    ax[i].set_title(target_names[i])\n",
    "    ax[i].vlines(mean_y_uc[i],*ax[i].get_ylim())\n",
    "    \n",
    "fig.suptitle('Un-Scaled Targets');"
   ]
  },
  {
   "cell_type": "code",
   "execution_count": 9,
   "metadata": {},
   "outputs": [
    {
     "data": {
      "image/png": "[encoded data removed]",
      "text/plain": [
       "<Figure size 720x288 with 3 Axes>"
      ]
     },
     "metadata": {
      "needs_background": "light"
     },
     "output_type": "display_data"
    }
   ],
   "source": [
    "ys = tensor([e[1].tolist() for e in dls_reg_multi_sc.dataset])\n",
    "\n",
    "fig, ax = plt.subplots(1,3,figsize=(10,3+1))\n",
    "for i in range(3):\n",
    "    vals = ys[:,i]\n",
    "    ax[i].hist(vals)\n",
    "    ax[i].set_title(target_names_sc[i])\n",
    "    ax[i].vlines(mean_y_sc[i],*ax[i].get_ylim())\n",
    "    \n",
    "fig.suptitle('Scaled Targets');"
   ]
  },
  {
   "cell_type": "markdown",
   "metadata": {},
   "source": [
    "### Fit the unscaled version - bad!\n",
    "Here well see that error is hard to interpret because:\n",
    " - the values are so large - 1e8 - they are hard to eyeball\n",
    " - the errors aren't consistent across targets so larger values scalars will be weighted mroe heavily. (Fastai present the mse metric in the tabular outputs below as the mean of the mse's of each respective target scalar.)\n",
    " \n",
    "And we'll see that we fail to beat baseline/mean-prediction on the large value scalar because the output layer values can't reach the required scale within a normal number of training epochs."
   ]
  },
  {
   "cell_type": "code",
   "execution_count": 15,
   "metadata": {},
   "outputs": [
    {
     "data": {
      "text/html": [],
      "text/plain": [
       "<IPython.core.display.HTML object>"
      ]
     },
     "metadata": {},
     "output_type": "display_data"
    },
    {
     "name": "stdout",
     "output_type": "stream",
     "text": [
      "reg_multi_50 saved to ./models/\n"
     ]
    }
   ],
   "source": [
    "b_new_fit = True\n",
    "\n",
    "cbs = CSVLogger('rm_1.csv') if b_new_fit else None\n",
    "\n",
    "learn_reg_multi = cnn_learner(dls_reg_multi, \n",
    "                              resnet18, \n",
    "                              pretrained=True,\n",
    "                              cbs = cbs\n",
    "                             )\n",
    "# load existing model\n",
    "if not(b_new_fit):\n",
    "    fn = 'reg_multi_50'\n",
    "    learn_reg_multi.load(fn)\n",
    "    \n",
    "# fit and save model\n",
    "if b_new_fit:\n",
    "\n",
    "    with learn_reg_multi.no_logging():\n",
    "        learn_reg_multi.fit(50)\n",
    "\n",
    "    fn = 'reg_multi_50'\n",
    "    learn_reg_multi.save(fn)\n",
    "    print(f'{fn} saved to {learn_reg_multi.path}/models/')"
   ]
  },
  {
   "cell_type": "code",
   "execution_count": 16,
   "metadata": {},
   "outputs": [],
   "source": [
    "train_history = pd.read_csv('rm_1.csv')"
   ]
  },
  {
   "cell_type": "code",
   "execution_count": 19,
   "metadata": {},
   "outputs": [
    {
     "data": {
      "text/html": [
       "<div>\n",
       "<style scoped>\n",
       "    .dataframe tbody tr th:only-of-type {\n",
       "        vertical-align: middle;\n",
       "    }\n",
       "\n",
       "    .dataframe tbody tr th {\n",
       "        vertical-align: top;\n",
       "    }\n",
       "\n",
       "    .dataframe thead th {\n",
       "        text-align: right;\n",
       "    }\n",
       "</style>\n",
       "<table border=\"1\" class=\"dataframe\">\n",
       "  <thead>\n",
       "    <tr style=\"text-align: right;\">\n",
       "      <th></th>\n",
       "      <th>epoch</th>\n",
       "      <th>train_loss</th>\n",
       "      <th>valid_loss</th>\n",
       "      <th>time</th>\n",
       "    </tr>\n",
       "  </thead>\n",
       "  <tbody>\n",
       "    <tr>\n",
       "      <th>0</th>\n",
       "      <td>0</td>\n",
       "      <td>229732240.0</td>\n",
       "      <td>225022800.0</td>\n",
       "      <td>00:05</td>\n",
       "    </tr>\n",
       "    <tr>\n",
       "      <th>1</th>\n",
       "      <td>1</td>\n",
       "      <td>231235632.0</td>\n",
       "      <td>225052688.0</td>\n",
       "      <td>00:05</td>\n",
       "    </tr>\n",
       "  </tbody>\n",
       "</table>\n",
       "</div>"
      ],
      "text/plain": [
       "   epoch   train_loss   valid_loss   time\n",
       "0      0  229732240.0  225022800.0  00:05\n",
       "1      1  231235632.0  225052688.0  00:05"
      ]
     },
     "metadata": {},
     "output_type": "display_data"
    },
    {
     "data": {
      "text/html": [
       "<div>\n",
       "<style scoped>\n",
       "    .dataframe tbody tr th:only-of-type {\n",
       "        vertical-align: middle;\n",
       "    }\n",
       "\n",
       "    .dataframe tbody tr th {\n",
       "        vertical-align: top;\n",
       "    }\n",
       "\n",
       "    .dataframe thead th {\n",
       "        text-align: right;\n",
       "    }\n",
       "</style>\n",
       "<table border=\"1\" class=\"dataframe\">\n",
       "  <thead>\n",
       "    <tr style=\"text-align: right;\">\n",
       "      <th></th>\n",
       "      <th>epoch</th>\n",
       "      <th>train_loss</th>\n",
       "      <th>valid_loss</th>\n",
       "      <th>time</th>\n",
       "    </tr>\n",
       "  </thead>\n",
       "  <tbody>\n",
       "    <tr>\n",
       "      <th>48</th>\n",
       "      <td>48</td>\n",
       "      <td>229766192.0</td>\n",
       "      <td>222098208.0</td>\n",
       "      <td>00:05</td>\n",
       "    </tr>\n",
       "    <tr>\n",
       "      <th>49</th>\n",
       "      <td>49</td>\n",
       "      <td>229733904.0</td>\n",
       "      <td>221991888.0</td>\n",
       "      <td>00:05</td>\n",
       "    </tr>\n",
       "  </tbody>\n",
       "</table>\n",
       "</div>"
      ],
      "text/plain": [
       "    epoch   train_loss   valid_loss   time\n",
       "48     48  229766192.0  222098208.0  00:05\n",
       "49     49  229733904.0  221991888.0  00:05"
      ]
     },
     "metadata": {},
     "output_type": "display_data"
    }
   ],
   "source": [
    "display(train_history.head(2))\n",
    "display(train_history.tail(2))"
   ]
  },
  {
   "cell_type": "markdown",
   "metadata": {},
   "source": [
    "##### Notice: this unscaled model fits poorly\n",
    " 1. error does reduce but does so only slowly\n",
    " \n",
    " 2. the model error is still well above the baseline error even after 50 epochs of training."
   ]
  },
  {
   "cell_type": "code",
   "execution_count": 27,
   "metadata": {},
   "outputs": [
    {
     "data": {
      "text/plain": [
       "tensor(15985408.)"
      ]
     },
     "execution_count": 27,
     "metadata": {},
     "output_type": "execute_result"
    }
   ],
   "source": [
    "sum(mse_uc)/len(mse_uc)"
   ]
  },
  {
   "cell_type": "code",
   "execution_count": 30,
   "metadata": {},
   "outputs": [
    {
     "data": {
      "image/png": "[encoded data removed]",
      "text/plain": [
       "<Figure size 720x360 with 2 Axes>"
      ]
     },
     "metadata": {
      "needs_background": "light"
     },
     "output_type": "display_data"
    }
   ],
   "source": [
    "fig, ax = plt.subplots(1,2,figsize=(10,5))\n",
    "ax[0].plot(train_history['train_loss'])\n",
    "ax[0].plot(train_history['valid_loss']);\n",
    "ax[0].legend(['train','valid']);\n",
    "ax[1].plot(train_history['train_loss'])\n",
    "ax[1].plot(train_history['valid_loss']);\n",
    "baseline_err = sum(mse_uc)/len(mse_uc)\n",
    "ax[1].hlines(baseline_err, *ax[1].get_xlim(), linestyle='--')\n",
    "ax[1].legend(['train','valid', 'baseline err']);"
   ]
  },
  {
   "cell_type": "code",
   "execution_count": 104,
   "metadata": {},
   "outputs": [
    {
     "data": {
      "text/html": [],
      "text/plain": [
       "<IPython.core.display.HTML object>"
      ]
     },
     "metadata": {},
     "output_type": "display_data"
    }
   ],
   "source": [
    "preds = learn_reg_multi.get_preds(with_loss=True)"
   ]
  },
  {
   "cell_type": "markdown",
   "metadata": {},
   "source": [
    "##### Notice: the model for PxSum captures the relationship but not the scale\n",
    "While with ScalarBottom, there isn't a good relationship captured but our error isn't so high from that due to it being on roughly the same scale."
   ]
  },
  {
   "cell_type": "code",
   "execution_count": 105,
   "metadata": {},
   "outputs": [
    {
     "data": {
      "image/png": "[encoded data removed]",
      "text/plain": [
       "<Figure size 432x288 with 1 Axes>"
      ]
     },
     "metadata": {
      "needs_background": "light"
     },
     "output_type": "display_data"
    }
   ],
   "source": [
    "plt.scatter( preds[1][:,0].tolist(), preds[0][:,0].tolist())\n",
    "plt.xlabel('actual')\n",
    "plt.ylabel('predicted');\n",
    "plt.title('PxSum - Predicted is correlated but wrong Order of Magnitude');"
   ]
  },
  {
   "cell_type": "code",
   "execution_count": 110,
   "metadata": {},
   "outputs": [
    {
     "data": {
      "image/png": "[encoded data removed]",
      "text/plain": [
       "<Figure size 432x288 with 1 Axes>"
      ]
     },
     "metadata": {
      "needs_background": "light"
     },
     "output_type": "display_data"
    }
   ],
   "source": [
    "plt.scatter( preds[1][:,2].tolist(), preds[0][:,2].tolist())\n",
    "plt.xlabel('actual')\n",
    "plt.ylabel('predicted');\n",
    "plt.title('ScalarBottom - No correlation but right order of magnitude');"
   ]
  },
  {
   "cell_type": "markdown",
   "metadata": {},
   "source": [
    "##### Note, each gradient update cycle only updates output layer slightly\n",
    "This is due to low learning rate. \n",
    "\n",
    "Therefore it becomes difficult to ever have yhat_bar -approach-> yactual_bar for large value scalars."
   ]
  },
  {
   "cell_type": "markdown",
   "metadata": {},
   "source": [
    "### Fit Scaled Version - good!\n",
    "This will allow us to overcome the slow updating and do an apples-tapples comparison on each target's difficulty.\n",
    "\n",
    "Breakout mse by component."
   ]
  },
  {
   "cell_type": "code",
   "execution_count": 31,
   "metadata": {},
   "outputs": [],
   "source": [
    "learn_reg_multi_sc = cnn_learner(dls_reg_multi_sc, \n",
    "                              resnet18, \n",
    "                              pretrained=True,\n",
    "                              cbs = CSVLogger('rm_1_sc.csv')\n",
    "                             )"
   ]
  },
  {
   "cell_type": "code",
   "execution_count": 32,
   "metadata": {},
   "outputs": [
    {
     "data": {
      "text/plain": [
       "<fastai2.learner.Learner at 0x7f35847e1ed0>"
      ]
     },
     "execution_count": 32,
     "metadata": {},
     "output_type": "execute_result"
    }
   ],
   "source": [
    "fn = 'reg_multi_sc_50'\n",
    "learn_reg_multi.load(fn)"
   ]
  },
  {
   "cell_type": "code",
   "execution_count": 155,
   "metadata": {},
   "outputs": [
    {
     "data": {
      "text/html": [],
      "text/plain": [
       "<IPython.core.display.HTML object>"
      ]
     },
     "metadata": {},
     "output_type": "display_data"
    }
   ],
   "source": [
    "with learn_reg_multi_sc.no_logging():\n",
    "    learn_reg_multi_sc.fit(50)"
   ]
  },
  {
   "cell_type": "code",
   "execution_count": 157,
   "metadata": {},
   "outputs": [
    {
     "name": "stdout",
     "output_type": "stream",
     "text": [
      "reg_multi_sc_50 saved to ./models/\n"
     ]
    }
   ],
   "source": [
    "fn = 'reg_multi_sc_50'\n",
    "learn_reg_multi.save(fn)\n",
    "print(f'{fn} saved to {learn_reg_multi.path}/models/')"
   ]
  },
  {
   "cell_type": "code",
   "execution_count": 159,
   "metadata": {},
   "outputs": [
    {
     "data": {
      "text/html": [
       "<div>\n",
       "<style scoped>\n",
       "    .dataframe tbody tr th:only-of-type {\n",
       "        vertical-align: middle;\n",
       "    }\n",
       "\n",
       "    .dataframe tbody tr th {\n",
       "        vertical-align: top;\n",
       "    }\n",
       "\n",
       "    .dataframe thead th {\n",
       "        text-align: right;\n",
       "    }\n",
       "</style>\n",
       "<table border=\"1\" class=\"dataframe\">\n",
       "  <thead>\n",
       "    <tr style=\"text-align: right;\">\n",
       "      <th></th>\n",
       "      <th>epoch</th>\n",
       "      <th>train_loss</th>\n",
       "      <th>valid_loss</th>\n",
       "      <th>time</th>\n",
       "    </tr>\n",
       "  </thead>\n",
       "  <tbody>\n",
       "    <tr>\n",
       "      <th>0</th>\n",
       "      <td>0</td>\n",
       "      <td>4.694417</td>\n",
       "      <td>0.850316</td>\n",
       "      <td>00:05</td>\n",
       "    </tr>\n",
       "    <tr>\n",
       "      <th>1</th>\n",
       "      <td>1</td>\n",
       "      <td>4.279676</td>\n",
       "      <td>1.013585</td>\n",
       "      <td>00:04</td>\n",
       "    </tr>\n",
       "  </tbody>\n",
       "</table>\n",
       "</div>"
      ],
      "text/plain": [
       "   epoch  train_loss  valid_loss   time\n",
       "0      0    4.694417    0.850316  00:05\n",
       "1      1    4.279676    1.013585  00:04"
      ]
     },
     "metadata": {},
     "output_type": "display_data"
    },
    {
     "data": {
      "text/html": [
       "<div>\n",
       "<style scoped>\n",
       "    .dataframe tbody tr th:only-of-type {\n",
       "        vertical-align: middle;\n",
       "    }\n",
       "\n",
       "    .dataframe tbody tr th {\n",
       "        vertical-align: top;\n",
       "    }\n",
       "\n",
       "    .dataframe thead th {\n",
       "        text-align: right;\n",
       "    }\n",
       "</style>\n",
       "<table border=\"1\" class=\"dataframe\">\n",
       "  <thead>\n",
       "    <tr style=\"text-align: right;\">\n",
       "      <th></th>\n",
       "      <th>epoch</th>\n",
       "      <th>train_loss</th>\n",
       "      <th>valid_loss</th>\n",
       "      <th>time</th>\n",
       "    </tr>\n",
       "  </thead>\n",
       "  <tbody>\n",
       "    <tr>\n",
       "      <th>48</th>\n",
       "      <td>48</td>\n",
       "      <td>0.305155</td>\n",
       "      <td>0.348429</td>\n",
       "      <td>00:04</td>\n",
       "    </tr>\n",
       "    <tr>\n",
       "      <th>49</th>\n",
       "      <td>49</td>\n",
       "      <td>0.294492</td>\n",
       "      <td>0.353889</td>\n",
       "      <td>00:05</td>\n",
       "    </tr>\n",
       "  </tbody>\n",
       "</table>\n",
       "</div>"
      ],
      "text/plain": [
       "    epoch  train_loss  valid_loss   time\n",
       "48     48    0.305155    0.348429  00:04\n",
       "49     49    0.294492    0.353889  00:05"
      ]
     },
     "metadata": {},
     "output_type": "display_data"
    }
   ],
   "source": [
    "train_history = pd.read_csv('rm_1_sc.csv')\n",
    "train_history.to_csv('rm_1_sc_saved.csv')\n",
    "display(train_history.head(2))\n",
    "display(train_history.tail(2))"
   ]
  },
  {
   "cell_type": "markdown",
   "metadata": {},
   "source": [
    "##### Replicate error calculations per row"
   ]
  },
  {
   "cell_type": "code",
   "execution_count": 160,
   "metadata": {},
   "outputs": [
    {
     "data": {
      "text/html": [],
      "text/plain": [
       "<IPython.core.display.HTML object>"
      ]
     },
     "metadata": {},
     "output_type": "display_data"
    }
   ],
   "source": [
    "preds = learn_reg_multi_sc.get_preds(with_loss=True)"
   ]
  },
  {
   "cell_type": "code",
   "execution_count": 161,
   "metadata": {},
   "outputs": [
    {
     "data": {
      "text/plain": [
       "tensor([ 0.8932, -0.5297, -0.3104])"
      ]
     },
     "execution_count": 161,
     "metadata": {},
     "output_type": "execute_result"
    }
   ],
   "source": [
    "preds[0][0]   # predicted, row0"
   ]
  },
  {
   "cell_type": "code",
   "execution_count": 162,
   "metadata": {},
   "outputs": [
    {
     "data": {
      "text/plain": [
       "tensor([ 1.4377, -1.3478, -1.1921])"
      ]
     },
     "execution_count": 162,
     "metadata": {},
     "output_type": "execute_result"
    }
   ],
   "source": [
    "preds[1][0]   # actual, row0"
   ]
  },
  {
   "cell_type": "code",
   "execution_count": 163,
   "metadata": {},
   "outputs": [
    {
     "data": {
      "text/plain": [
       "tensor(0.2964)"
      ]
     },
     "execution_count": 163,
     "metadata": {},
     "output_type": "execute_result"
    }
   ],
   "source": [
    "mse(preds[0][0][0], preds[1][0][0])  # mse on target0, row0"
   ]
  },
  {
   "cell_type": "code",
   "execution_count": 164,
   "metadata": {},
   "outputs": [
    {
     "data": {
      "text/plain": [
       "tensor(0.5810)"
      ]
     },
     "execution_count": 164,
     "metadata": {},
     "output_type": "execute_result"
    }
   ],
   "source": [
    "# mean mse on all targets in row0\n",
    "torch.stack([mse(preds[0][0][i], preds[1][0][i])\n",
    "             for i in range(3)]).mean()   "
   ]
  },
  {
   "cell_type": "code",
   "execution_count": 165,
   "metadata": {},
   "outputs": [
    {
     "data": {
      "text/plain": [
       "tensor(0.5810)"
      ]
     },
     "execution_count": 165,
     "metadata": {},
     "output_type": "execute_result"
    }
   ],
   "source": [
    "# matches, err output for row0 from get_preds()\n",
    "preds[2][0]"
   ]
  },
  {
   "cell_type": "markdown",
   "metadata": {},
   "source": [
    "##### Examine Training History\n",
    "Good it drops below baseline quickly and looks like we stopped just before overfitting."
   ]
  },
  {
   "cell_type": "code",
   "execution_count": 194,
   "metadata": {},
   "outputs": [],
   "source": [
    "# need this because for some reason the \n",
    "# csv keeps getting overwritten\n",
    "\n",
    "# new_df = tmp.iloc[:,1:]\n",
    "# new_df.to_csv(fn, index=False)\n",
    "\n",
    "fn = 'rm_1_sc_saved.csv'\n",
    "tmp = pd.read_csv(fn)\n",
    "tmp.to_csv(fn, index=False)\n",
    "train_history_sc = tmp.copy()"
   ]
  },
  {
   "cell_type": "code",
   "execution_count": 197,
   "metadata": {},
   "outputs": [
    {
     "data": {
      "text/html": [
       "<div>\n",
       "<style scoped>\n",
       "    .dataframe tbody tr th:only-of-type {\n",
       "        vertical-align: middle;\n",
       "    }\n",
       "\n",
       "    .dataframe tbody tr th {\n",
       "        vertical-align: top;\n",
       "    }\n",
       "\n",
       "    .dataframe thead th {\n",
       "        text-align: right;\n",
       "    }\n",
       "</style>\n",
       "<table border=\"1\" class=\"dataframe\">\n",
       "  <thead>\n",
       "    <tr style=\"text-align: right;\">\n",
       "      <th></th>\n",
       "      <th>epoch</th>\n",
       "      <th>train_loss</th>\n",
       "      <th>valid_loss</th>\n",
       "      <th>time</th>\n",
       "    </tr>\n",
       "  </thead>\n",
       "  <tbody>\n",
       "    <tr>\n",
       "      <th>0</th>\n",
       "      <td>0</td>\n",
       "      <td>4.694417</td>\n",
       "      <td>0.850316</td>\n",
       "      <td>00:05</td>\n",
       "    </tr>\n",
       "    <tr>\n",
       "      <th>1</th>\n",
       "      <td>1</td>\n",
       "      <td>4.279676</td>\n",
       "      <td>1.013585</td>\n",
       "      <td>00:04</td>\n",
       "    </tr>\n",
       "  </tbody>\n",
       "</table>\n",
       "</div>"
      ],
      "text/plain": [
       "   epoch  train_loss  valid_loss   time\n",
       "0      0    4.694417    0.850316  00:05\n",
       "1      1    4.279676    1.013585  00:04"
      ]
     },
     "metadata": {},
     "output_type": "display_data"
    },
    {
     "data": {
      "text/html": [
       "<div>\n",
       "<style scoped>\n",
       "    .dataframe tbody tr th:only-of-type {\n",
       "        vertical-align: middle;\n",
       "    }\n",
       "\n",
       "    .dataframe tbody tr th {\n",
       "        vertical-align: top;\n",
       "    }\n",
       "\n",
       "    .dataframe thead th {\n",
       "        text-align: right;\n",
       "    }\n",
       "</style>\n",
       "<table border=\"1\" class=\"dataframe\">\n",
       "  <thead>\n",
       "    <tr style=\"text-align: right;\">\n",
       "      <th></th>\n",
       "      <th>epoch</th>\n",
       "      <th>train_loss</th>\n",
       "      <th>valid_loss</th>\n",
       "      <th>time</th>\n",
       "    </tr>\n",
       "  </thead>\n",
       "  <tbody>\n",
       "    <tr>\n",
       "      <th>48</th>\n",
       "      <td>48</td>\n",
       "      <td>0.305155</td>\n",
       "      <td>0.348429</td>\n",
       "      <td>00:04</td>\n",
       "    </tr>\n",
       "    <tr>\n",
       "      <th>49</th>\n",
       "      <td>49</td>\n",
       "      <td>0.294492</td>\n",
       "      <td>0.353889</td>\n",
       "      <td>00:05</td>\n",
       "    </tr>\n",
       "  </tbody>\n",
       "</table>\n",
       "</div>"
      ],
      "text/plain": [
       "    epoch  train_loss  valid_loss   time\n",
       "48     48    0.305155    0.348429  00:04\n",
       "49     49    0.294492    0.353889  00:05"
      ]
     },
     "metadata": {},
     "output_type": "display_data"
    },
    {
     "data": {
      "image/png": "[encoded data removed]",
      "text/plain": [
       "<Figure size 432x288 with 1 Axes>"
      ]
     },
     "metadata": {
      "needs_background": "light"
     },
     "output_type": "display_data"
    }
   ],
   "source": [
    "# train_history_sc = pd.read_csv('rm_1_sc.csv')\n",
    "baseline_err = tensor(mse_sc).mean().tolist()\n",
    "\n",
    "display(train_history_sc.head(2))\n",
    "display(train_history_sc.tail(2))\n",
    "\n",
    "plt.plot(train_history_sc['train_loss'])\n",
    "plt.plot(train_history_sc['valid_loss']);\n",
    "\n",
    "plt.hlines(baseline_err, *plt.xlim(), linestyles='--')\n",
    "plt.legend(['train','valid', 'baseline err']);"
   ]
  },
  {
   "cell_type": "markdown",
   "metadata": {},
   "source": [
    "##### Examine Training Accuracy"
   ]
  },
  {
   "cell_type": "code",
   "execution_count": 198,
   "metadata": {},
   "outputs": [
    {
     "data": {
      "text/html": [],
      "text/plain": [
       "<IPython.core.display.HTML object>"
      ]
     },
     "metadata": {},
     "output_type": "display_data"
    }
   ],
   "source": [
    "preds = learn_reg_multi_sc.get_preds(with_loss=True)"
   ]
  },
  {
   "cell_type": "code",
   "execution_count": 199,
   "metadata": {},
   "outputs": [
    {
     "data": {
      "image/png": "[encoded data removed]",
      "text/plain": [
       "<Figure size 432x288 with 1 Axes>"
      ]
     },
     "metadata": {
      "needs_background": "light"
     },
     "output_type": "display_data"
    }
   ],
   "source": [
    "plt.scatter( preds[1][:,0], preds[0][:,0], alpha=0.4)\n",
    "plt.xlabel('actual')\n",
    "plt.ylabel('predicted');\n",
    "xlo, xhi = plt.xlim()\n",
    "ylo, yhi = plt.ylim()\n",
    "lo, hi = min(xlo,ylo), max(xhi,yhi)\n",
    "plt.plot([lo,hi], [lo,hi], linestyle='--');\n",
    "plt.title('PxSum - Predicted vs. Actual on Scaled Model');"
   ]
  },
  {
   "cell_type": "code",
   "execution_count": 205,
   "metadata": {},
   "outputs": [
    {
     "data": {
      "image/png": "[encoded data removed]",
      "text/plain": [
       "<Figure size 720x360 with 2 Axes>"
      ]
     },
     "metadata": {
      "needs_background": "light"
     },
     "output_type": "display_data"
    }
   ],
   "source": [
    "fig, ax  = plt.subplots(1,2,figsize=(10,5))\n",
    "for i, (ind, name) in enumerate([(1, 'Top'), (2,'Bottom')]):\n",
    "    ax[i].scatter( preds[1][:,ind], preds[0][:,ind], alpha=0.4)\n",
    "    ax[i].set_xlabel('actual')\n",
    "    ax[i].set_ylabel('predicted');\n",
    "    xlo, xhi = ax[i].get_xlim()\n",
    "    ylo, yhi = ax[i].get_ylim()\n",
    "    lo, hi = min(xlo,ylo), max(xhi,yhi)\n",
    "    ax[i].plot([lo,hi], [lo,hi], linestyle='--');\n",
    "    ax[i].set_title(f'{name}');\n",
    "fig.suptitle('Predicted vs. Actual on Scaled Model');"
   ]
  },
  {
   "cell_type": "markdown",
   "metadata": {},
   "source": [
    "##### Components of error\n",
    "MSE on the scaled components, showing pxsum is easier, and finding top and bottom scalars are about equally as difficult."
   ]
  },
  {
   "cell_type": "code",
   "execution_count": 258,
   "metadata": {},
   "outputs": [],
   "source": [
    "mse_components_model = [mse(preds[0][:,i], preds[1][:,i]) \n",
    "                        for i in range(3)]"
   ]
  },
  {
   "cell_type": "code",
   "execution_count": 259,
   "metadata": {},
   "outputs": [],
   "source": [
    "df_err = pd.DataFrame(\n",
    "                [   [e.tolist() for e in mse_sc],\n",
    "                    [e.tolist() for e in mse_components_model],\n",
    "                ]\n",
    "    ,index=[\n",
    "        'baseline mse (ybar)',\n",
    "        'model mse',\n",
    "    ]\n",
    "    ,columns = target_names,\n",
    ")"
   ]
  },
  {
   "cell_type": "code",
   "execution_count": 260,
   "metadata": {},
   "outputs": [],
   "source": [
    "df_err['mean_all_targets'] = df_err.apply(np.mean, axis=1)"
   ]
  },
  {
   "cell_type": "code",
   "execution_count": 261,
   "metadata": {},
   "outputs": [
    {
     "data": {
      "text/html": [
       "<div>\n",
       "<style scoped>\n",
       "    .dataframe tbody tr th:only-of-type {\n",
       "        vertical-align: middle;\n",
       "    }\n",
       "\n",
       "    .dataframe tbody tr th {\n",
       "        vertical-align: top;\n",
       "    }\n",
       "\n",
       "    .dataframe thead th {\n",
       "        text-align: right;\n",
       "    }\n",
       "</style>\n",
       "<table border=\"1\" class=\"dataframe\">\n",
       "  <thead>\n",
       "    <tr style=\"text-align: right;\">\n",
       "      <th></th>\n",
       "      <th>scalar_pxsum</th>\n",
       "      <th>scalar_top</th>\n",
       "      <th>scalar_bottom</th>\n",
       "      <th>mean_all_targets</th>\n",
       "    </tr>\n",
       "  </thead>\n",
       "  <tbody>\n",
       "    <tr>\n",
       "      <th>baseline mse (ybar)</th>\n",
       "      <td>0.845</td>\n",
       "      <td>0.988</td>\n",
       "      <td>0.968</td>\n",
       "      <td>0.934</td>\n",
       "    </tr>\n",
       "    <tr>\n",
       "      <th>model mse</th>\n",
       "      <td>0.251</td>\n",
       "      <td>0.405</td>\n",
       "      <td>0.405</td>\n",
       "      <td>0.354</td>\n",
       "    </tr>\n",
       "  </tbody>\n",
       "</table>\n",
       "</div>"
      ],
      "text/plain": [
       "                     scalar_pxsum  scalar_top  scalar_bottom  mean_all_targets\n",
       "baseline mse (ybar)         0.845       0.988          0.968             0.934\n",
       "model mse                   0.251       0.405          0.405             0.354"
      ]
     },
     "execution_count": 261,
     "metadata": {},
     "output_type": "execute_result"
    }
   ],
   "source": [
    "df_err.round(3)"
   ]
  },
  {
   "cell_type": "markdown",
   "metadata": {},
   "source": [
    "### Test against Linear Regression"
   ]
  },
  {
   "cell_type": "markdown",
   "metadata": {},
   "source": [
    "##### Re-create the data"
   ]
  },
  {
   "cell_type": "code",
   "execution_count": 201,
   "metadata": {},
   "outputs": [
    {
     "data": {
      "text/plain": [
       "(709, 784)"
      ]
     },
     "execution_count": 201,
     "metadata": {},
     "output_type": "execute_result"
    }
   ],
   "source": [
    "df2 = pd.DataFrame([])\n",
    "for i, row in df.iterrows():    \n",
    "    \n",
    "    img_np = np.array(Image.open(str(path) + row['fn'])).flatten()\n",
    "    \n",
    "    df2 = pd.concat((df2, pd.Series(img_np)), axis=1)\n",
    "    \n",
    "df2 = df2.T\n",
    "df2.reset_index(inplace=True, drop=True)\n",
    "df2.shape"
   ]
  },
  {
   "cell_type": "code",
   "execution_count": 202,
   "metadata": {},
   "outputs": [
    {
     "data": {
      "text/html": [
       "<div>\n",
       "<style scoped>\n",
       "    .dataframe tbody tr th:only-of-type {\n",
       "        vertical-align: middle;\n",
       "    }\n",
       "\n",
       "    .dataframe tbody tr th {\n",
       "        vertical-align: top;\n",
       "    }\n",
       "\n",
       "    .dataframe thead th {\n",
       "        text-align: right;\n",
       "    }\n",
       "</style>\n",
       "<table border=\"1\" class=\"dataframe\">\n",
       "  <thead>\n",
       "    <tr style=\"text-align: right;\">\n",
       "      <th></th>\n",
       "      <th>0</th>\n",
       "      <th>1</th>\n",
       "      <th>2</th>\n",
       "      <th>3</th>\n",
       "      <th>4</th>\n",
       "      <th>5</th>\n",
       "      <th>6</th>\n",
       "      <th>7</th>\n",
       "      <th>8</th>\n",
       "      <th>9</th>\n",
       "      <th>...</th>\n",
       "      <th>777</th>\n",
       "      <th>778</th>\n",
       "      <th>779</th>\n",
       "      <th>780</th>\n",
       "      <th>781</th>\n",
       "      <th>782</th>\n",
       "      <th>783</th>\n",
       "      <th>scalar_pxsum_sc</th>\n",
       "      <th>scalar_top_sc</th>\n",
       "      <th>scalar_bottom_sc</th>\n",
       "    </tr>\n",
       "  </thead>\n",
       "  <tbody>\n",
       "    <tr>\n",
       "      <th>0</th>\n",
       "      <td>0</td>\n",
       "      <td>0</td>\n",
       "      <td>0</td>\n",
       "      <td>0</td>\n",
       "      <td>0</td>\n",
       "      <td>0</td>\n",
       "      <td>0</td>\n",
       "      <td>0</td>\n",
       "      <td>0</td>\n",
       "      <td>0</td>\n",
       "      <td>...</td>\n",
       "      <td>0</td>\n",
       "      <td>0</td>\n",
       "      <td>0</td>\n",
       "      <td>0</td>\n",
       "      <td>0</td>\n",
       "      <td>0</td>\n",
       "      <td>0</td>\n",
       "      <td>1.413884</td>\n",
       "      <td>-0.584531</td>\n",
       "      <td>-0.449378</td>\n",
       "    </tr>\n",
       "    <tr>\n",
       "      <th>1</th>\n",
       "      <td>0</td>\n",
       "      <td>0</td>\n",
       "      <td>0</td>\n",
       "      <td>0</td>\n",
       "      <td>0</td>\n",
       "      <td>0</td>\n",
       "      <td>0</td>\n",
       "      <td>0</td>\n",
       "      <td>0</td>\n",
       "      <td>0</td>\n",
       "      <td>...</td>\n",
       "      <td>0</td>\n",
       "      <td>0</td>\n",
       "      <td>0</td>\n",
       "      <td>0</td>\n",
       "      <td>0</td>\n",
       "      <td>0</td>\n",
       "      <td>0</td>\n",
       "      <td>0.596994</td>\n",
       "      <td>-1.347758</td>\n",
       "      <td>-1.192055</td>\n",
       "    </tr>\n",
       "    <tr>\n",
       "      <th>2</th>\n",
       "      <td>0</td>\n",
       "      <td>0</td>\n",
       "      <td>0</td>\n",
       "      <td>0</td>\n",
       "      <td>0</td>\n",
       "      <td>0</td>\n",
       "      <td>0</td>\n",
       "      <td>0</td>\n",
       "      <td>0</td>\n",
       "      <td>0</td>\n",
       "      <td>...</td>\n",
       "      <td>0</td>\n",
       "      <td>0</td>\n",
       "      <td>0</td>\n",
       "      <td>0</td>\n",
       "      <td>0</td>\n",
       "      <td>0</td>\n",
       "      <td>0</td>\n",
       "      <td>-0.013482</td>\n",
       "      <td>-2.110986</td>\n",
       "      <td>-1.934733</td>\n",
       "    </tr>\n",
       "  </tbody>\n",
       "</table>\n",
       "<p>3 rows × 787 columns</p>\n",
       "</div>"
      ],
      "text/plain": [
       "   0  1  2  3  4  5  6  7  8  9  ...  777  778  779  780  781  782  783  \\\n",
       "0  0  0  0  0  0  0  0  0  0  0  ...    0    0    0    0    0    0    0   \n",
       "1  0  0  0  0  0  0  0  0  0  0  ...    0    0    0    0    0    0    0   \n",
       "2  0  0  0  0  0  0  0  0  0  0  ...    0    0    0    0    0    0    0   \n",
       "\n",
       "   scalar_pxsum_sc  scalar_top_sc  scalar_bottom_sc  \n",
       "0         1.413884      -0.584531         -0.449378  \n",
       "1         0.596994      -1.347758         -1.192055  \n",
       "2        -0.013482      -2.110986         -1.934733  \n",
       "\n",
       "[3 rows x 787 columns]"
      ]
     },
     "execution_count": 202,
     "metadata": {},
     "output_type": "execute_result"
    }
   ],
   "source": [
    "df2_y = df[['scalar_pxsum_sc', 'scalar_top_sc', 'scalar_bottom_sc']]\n",
    "\n",
    "df2 = pd.concat((df2, df2_y), axis=1)\n",
    "\n",
    "df2.shape\n",
    "df2.head(3)"
   ]
  },
  {
   "cell_type": "markdown",
   "metadata": {},
   "source": [
    "##### Setup X, y=pxsum and the train/valid split"
   ]
  },
  {
   "cell_type": "code",
   "execution_count": 219,
   "metadata": {},
   "outputs": [],
   "source": [
    "X, y = df2.iloc[:,:784], df2['scalar_pxsum_sc']"
   ]
  },
  {
   "cell_type": "code",
   "execution_count": 220,
   "metadata": {},
   "outputs": [
    {
     "name": "stdout",
     "output_type": "stream",
     "text": [
      "(572, 784) (137, 784)\n",
      "(572,) (137,)\n"
     ]
    }
   ],
   "source": [
    "pct_valid = 0.8\n",
    "np.random.seed(0)\n",
    "split = [np.random.uniform(0,1,) > pct_valid for _ in range(len(df2))]\n",
    "\n",
    "X_t, X_v = X.iloc[[not(e) for e in split],:], X.iloc[split,:]\n",
    "print(X_t.shape, X_v.shape)\n",
    "\n",
    "y_t, y_v = y.iloc[[not(e) for e in split]], y.iloc[split]\n",
    "print(y_t.shape, y_v.shape)"
   ]
  },
  {
   "cell_type": "markdown",
   "metadata": {},
   "source": [
    "##### Model y = `pxsum`\n",
    "Perfect Learner: R2 = 0.999\n",
    "\n",
    "MSE = 0.0001 (much better than 0.251 resnet18-epoch50 model)\n",
    "\n",
    "This makes sense because pxsum is simply adding up all the X's, a perfect task to model with LR."
   ]
  },
  {
   "cell_type": "code",
   "execution_count": 232,
   "metadata": {},
   "outputs": [],
   "source": [
    "from sklearn.linear_model import LinearRegression\n",
    "\n",
    "lr = LinearRegression()"
   ]
  },
  {
   "cell_type": "code",
   "execution_count": 221,
   "metadata": {},
   "outputs": [],
   "source": [
    "lr.fit(X_t, y_t);"
   ]
  },
  {
   "cell_type": "code",
   "execution_count": 222,
   "metadata": {},
   "outputs": [
    {
     "data": {
      "text/plain": [
       "(1.0, 0.9998568063475402)"
      ]
     },
     "execution_count": 222,
     "metadata": {},
     "output_type": "execute_result"
    }
   ],
   "source": [
    "lr.score(X_t, y_t), lr.score(X_v, y_v)"
   ]
  },
  {
   "cell_type": "code",
   "execution_count": 223,
   "metadata": {},
   "outputs": [],
   "source": [
    "yhat_v = lr.predict(X_v)"
   ]
  },
  {
   "cell_type": "code",
   "execution_count": 224,
   "metadata": {},
   "outputs": [
    {
     "data": {
      "image/png": "[encoded data removed]",
      "text/plain": [
       "<Figure size 432x288 with 1 Axes>"
      ]
     },
     "metadata": {
      "needs_background": "light"
     },
     "output_type": "display_data"
    }
   ],
   "source": [
    "plt.scatter(y_v, yhat_v, alpha=0.4)\n",
    "xlo, xhi = plt.xlim()\n",
    "ylo, yhi = plt.ylim()\n",
    "lo, hi = min(xlo,ylo), max(xhi,yhi)\n",
    "plt.plot([lo,hi], [lo,hi], linestyle='--');\n",
    "plt.xlabel('actual')\n",
    "plt.ylabel('predicted')\n",
    "plt.title('PxSum - Predicted vs. Actual (on scaled data)');"
   ]
  },
  {
   "cell_type": "code",
   "execution_count": 225,
   "metadata": {},
   "outputs": [
    {
     "data": {
      "text/plain": [
       "tensor(0.0001)"
      ]
     },
     "execution_count": 225,
     "metadata": {},
     "output_type": "execute_result"
    }
   ],
   "source": [
    "mse(tensor(yhat_v), tensor(y_v))"
   ]
  },
  {
   "cell_type": "markdown",
   "metadata": {},
   "source": [
    "##### Now Attempt on y = `scalar_top`\n",
    "Much more difficult task, and basic LR is fooled"
   ]
  },
  {
   "cell_type": "code",
   "execution_count": 226,
   "metadata": {},
   "outputs": [
    {
     "name": "stdout",
     "output_type": "stream",
     "text": [
      "(572, 784) (137, 784)\n",
      "(572,) (137,)\n"
     ]
    }
   ],
   "source": [
    "X, y = df2.iloc[:,:784], df2['scalar_top_sc']\n",
    "\n",
    "pct_valid = 0.8\n",
    "np.random.seed(0)\n",
    "split = [np.random.uniform(0,1,) > pct_valid for _ in range(len(df2))]\n",
    "\n",
    "X_t, X_v = X.iloc[[not(e) for e in split],:], X.iloc[split,:]\n",
    "print(X_t.shape, X_v.shape)\n",
    "\n",
    "y_t, y_v = y.iloc[[not(e) for e in split]], y.iloc[split]\n",
    "print(y_t.shape, y_v.shape)"
   ]
  },
  {
   "cell_type": "code",
   "execution_count": 227,
   "metadata": {},
   "outputs": [
    {
     "data": {
      "text/plain": [
       "(0.996863034008065, -3203.30103862316)"
      ]
     },
     "execution_count": 227,
     "metadata": {},
     "output_type": "execute_result"
    }
   ],
   "source": [
    "lr.fit(X_t, y_t);\n",
    "\n",
    "lr.score(X_t, y_t), lr.score(X_v, y_v)"
   ]
  },
  {
   "cell_type": "markdown",
   "metadata": {},
   "source": [
    "##### Utilize Ridge Adjustment\n",
    "This brings us to a decent perf of 0.8 R2\n",
    "\n",
    "and MSE = 0.164 (better than 0.405 on resnet18-50epoch model)"
   ]
  },
  {
   "cell_type": "code",
   "execution_count": 228,
   "metadata": {},
   "outputs": [
    {
     "data": {
      "text/plain": [
       "(0.8700236084907995, 0.8091205826214883)"
      ]
     },
     "execution_count": 228,
     "metadata": {},
     "output_type": "execute_result"
    }
   ],
   "source": [
    "from sklearn.linear_model import Ridge\n",
    "\n",
    "lr2 = Ridge(alpha=1e7)\n",
    "\n",
    "lr2.fit(X_t, y_t);\n",
    "\n",
    "lr2.score(X_t, y_t), lr2.score(X_v, y_v)"
   ]
  },
  {
   "cell_type": "code",
   "execution_count": 229,
   "metadata": {},
   "outputs": [
    {
     "data": {
      "image/png": "[encoded data removed]",
      "text/plain": [
       "<Figure size 432x288 with 1 Axes>"
      ]
     },
     "metadata": {
      "needs_background": "light"
     },
     "output_type": "display_data"
    }
   ],
   "source": [
    "yhat_v = lr2.predict(X_v)\n",
    "\n",
    "plt.scatter(y_v, yhat_v, alpha=0.4)\n",
    "xlo, xhi = plt.xlim()\n",
    "ylo, yhi = plt.ylim()\n",
    "lo, hi = min(xlo,ylo), max(xhi,yhi)\n",
    "plt.plot([lo,hi], [lo,hi], linestyle='--');\n",
    "plt.xlabel('actual')\n",
    "plt.ylabel('predicted')\n",
    "plt.title('Top - Predicted vs. Actual on Un-Scaled Data');"
   ]
  },
  {
   "cell_type": "code",
   "execution_count": 230,
   "metadata": {},
   "outputs": [
    {
     "data": {
      "image/png": "[encoded data removed]",
      "text/plain": [
       "<Figure size 432x288 with 1 Axes>"
      ]
     },
     "metadata": {
      "needs_background": "light"
     },
     "output_type": "display_data"
    }
   ],
   "source": [
    "plt.hist(lr2.coef_, bins=20);\n",
    "plt.title('Coefs for Ridge Regression for y=scalar_top');"
   ]
  },
  {
   "cell_type": "code",
   "execution_count": 231,
   "metadata": {},
   "outputs": [
    {
     "data": {
      "text/plain": [
       "tensor(0.1644)"
      ]
     },
     "execution_count": 231,
     "metadata": {},
     "output_type": "execute_result"
    }
   ],
   "source": [
    "mse(tensor(yhat_v), tensor(y_v))"
   ]
  },
  {
   "cell_type": "code",
   "execution_count": null,
   "metadata": {},
   "outputs": [],
   "source": []
  }
 ],
 "metadata": {
  "kernelspec": {
   "display_name": "Python [conda env:fastai2]",
   "language": "python",
   "name": "conda-env-fastai2-py"
  },
  "language_info": {
   "codemirror_mode": {
    "name": "ipython",
    "version": 3
   },
   "file_extension": ".py",
   "mimetype": "text/x-python",
   "name": "python",
   "nbconvert_exporter": "python",
   "pygments_lexer": "ipython3",
   "version": "3.7.6"
  }
 },
 "nbformat": 4,
 "nbformat_minor": 2
}
