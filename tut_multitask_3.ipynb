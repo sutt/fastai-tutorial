{
 "cells": [
  {
   "cell_type": "markdown",
   "metadata": {},
   "source": [
    "## Part 3. - Fit ImagePoints Tasks\n",
    "\n",
    "We fit the contrived points tasks generated from matrix algebra.\n",
    " - We'll show how points tasks are the same as RegressionBlocks but have built in scaling and still must use y_range.\n",
    " - We'll explore in detail how to view the points task from and EDA and model-evaluation perspective.\n",
    " \n"
   ]
  },
  {
   "cell_type": "code",
   "execution_count": 1,
   "metadata": {},
   "outputs": [],
   "source": [
    "import os, sys\n",
    "import copy as copyroot\n",
    "import pandas as pd\n",
    "from IPython.display import display\n",
    "from matplotlib import pyplot as plt\n",
    "\n",
    "from fastai2.basics import *\n",
    "from fastai2.vision.all import *\n",
    "\n",
    "from sklearn.preprocessing import StandardScaler\n",
    "\n",
    "%load_ext autoreload\n",
    "%autoreload 2\n",
    "\n",
    "from module.mnist_helpers import build_df, eda_fig_1\n",
    "from module.mnist_helpers import img_pt_plot, train_history_dualplot"
   ]
  },
  {
   "cell_type": "code",
   "execution_count": 2,
   "metadata": {},
   "outputs": [
    {
     "data": {
      "text/html": [
       "<div>\n",
       "<style scoped>\n",
       "    .dataframe tbody tr th:only-of-type {\n",
       "        vertical-align: middle;\n",
       "    }\n",
       "\n",
       "    .dataframe tbody tr th {\n",
       "        vertical-align: top;\n",
       "    }\n",
       "\n",
       "    .dataframe thead th {\n",
       "        text-align: right;\n",
       "    }\n",
       "</style>\n",
       "<table border=\"1\" class=\"dataframe\">\n",
       "  <thead>\n",
       "    <tr style=\"text-align: right;\">\n",
       "      <th></th>\n",
       "      <th>fn</th>\n",
       "      <th>digit_class</th>\n",
       "      <th>scalar_top</th>\n",
       "      <th>scalar_bottom</th>\n",
       "      <th>scalar_pxsum</th>\n",
       "      <th>point_topleft_x</th>\n",
       "      <th>point_topleft_y</th>\n",
       "      <th>point_center_x</th>\n",
       "      <th>point_center_y</th>\n",
       "    </tr>\n",
       "  </thead>\n",
       "  <tbody>\n",
       "    <tr>\n",
       "      <th>0</th>\n",
       "      <td>/train/3/7.png</td>\n",
       "      <td>3</td>\n",
       "      <td>5</td>\n",
       "      <td>25</td>\n",
       "      <td>35867</td>\n",
       "      <td>11</td>\n",
       "      <td>5</td>\n",
       "      <td>15</td>\n",
       "      <td>14</td>\n",
       "    </tr>\n",
       "    <tr>\n",
       "      <th>1</th>\n",
       "      <td>/train/3/7030.png</td>\n",
       "      <td>3</td>\n",
       "      <td>4</td>\n",
       "      <td>24</td>\n",
       "      <td>29717</td>\n",
       "      <td>9</td>\n",
       "      <td>4</td>\n",
       "      <td>14</td>\n",
       "      <td>13</td>\n",
       "    </tr>\n",
       "  </tbody>\n",
       "</table>\n",
       "</div>"
      ],
      "text/plain": [
       "                  fn  digit_class  scalar_top  scalar_bottom  scalar_pxsum  \\\n",
       "0     /train/3/7.png            3           5             25         35867   \n",
       "1  /train/3/7030.png            3           4             24         29717   \n",
       "\n",
       "   point_topleft_x  point_topleft_y  point_center_x  point_center_y  \n",
       "0               11                5              15              14  \n",
       "1                9                4              14              13  "
      ]
     },
     "execution_count": 2,
     "metadata": {},
     "output_type": "execute_result"
    }
   ],
   "source": [
    "path = untar_data(URLs.MNIST_TINY)\n",
    "df = build_df(path)\n",
    "df.head(2)"
   ]
  },
  {
   "cell_type": "markdown",
   "metadata": {},
   "source": [
    "##### Build Separate DataBlocks\n",
    "Here we use a pattern to build three identical DB's but with different y's: PointTopLeft, PointCenter, BothPoints \n",
    "\n",
    "Note: that you need to use `set_get_y` function to do this properly."
   ]
  },
  {
   "cell_type": "code",
   "execution_count": 3,
   "metadata": {},
   "outputs": [],
   "source": [
    "y_names = [\n",
    "    'point_topleft_x', \n",
    "    'point_topleft_y',\n",
    "    'point_center_x',\n",
    "    'point_center_y'\n",
    "    ]\n",
    "\n",
    "db =   DataBlock(blocks=(ImageBlock(cls=PILImageBW), \n",
    "                         PointBlock), \n",
    "                splitter=RandomSplitter(seed=0),\n",
    "                get_x=ColReader('fn', pref=path),\n",
    "                )\n",
    "\n",
    "db_1_topleft = copyroot.deepcopy(db)\n",
    "db_1_center  = copyroot.deepcopy(db)\n",
    "db_2         = copyroot.deepcopy(db)\n",
    "\n",
    "def set_get_y(db, cr):\n",
    "    db.get_y = cr\n",
    "    db.getters[db.n_inp:] = L(db.get_y)\n",
    "\n",
    "set_get_y( db_1_topleft, ColReader(y_names[:2]) )\n",
    "set_get_y( db_1_center,  ColReader(y_names[2:]) )\n",
    "set_get_y( db_2,         ColReader(y_names) )\n",
    "\n",
    "dl_1_topleft = db_1_topleft.dataloaders(df)\n",
    "dl_1_center  = db_1_center.dataloaders(df)\n",
    "dl_2         = db_2.dataloaders(df)"
   ]
  },
  {
   "cell_type": "markdown",
   "metadata": {},
   "source": [
    "### EDA of Y"
   ]
  },
  {
   "cell_type": "code",
   "execution_count": 4,
   "metadata": {},
   "outputs": [
    {
     "name": "stdout",
     "output_type": "stream",
     "text": [
      "\n",
      "    Display items with corresponding Y's:\n",
      "    Scalar targets are printed above the items\n",
      "    Point targets are shown on image: (Red: topleft, Green: center)\n",
      "    \n"
     ]
    },
    {
     "data": {
      "image/png": "[encoded data removed]",
      "text/plain": [
       "<Figure size 1080x576 with 10 Axes>"
      ]
     },
     "metadata": {
      "needs_background": "light"
     },
     "output_type": "display_data"
    }
   ],
   "source": [
    "eda_fig_1(df, path)"
   ]
  },
  {
   "cell_type": "code",
   "execution_count": 5,
   "metadata": {},
   "outputs": [],
   "source": [
    "y_p2 = torch.cat([_y for _x, _y in dl_2.train])\n",
    "ys   = [y_p2[:,0], y_p2[:,1]]"
   ]
  },
  {
   "cell_type": "code",
   "execution_count": 6,
   "metadata": {},
   "outputs": [
    {
     "data": {
      "image/png": "[encoded data removed]",
      "text/plain": [
       "<Figure size 288x288 with 1 Axes>"
      ]
     },
     "metadata": {
      "needs_background": "light"
     },
     "output_type": "display_data"
    }
   ],
   "source": [
    "img_pt_plot(ys=ys,\n",
    "           legend= ('topleft',  'center'))"
   ]
  },
  {
   "cell_type": "markdown",
   "metadata": {},
   "source": [
    "### Fit Model - topleft\n",
    "Uee 90 epochs to get a worthwhile model; only after ~30 epochs are we below baseline error"
   ]
  },
  {
   "cell_type": "code",
   "execution_count": 7,
   "metadata": {
    "scrolled": false
   },
   "outputs": [],
   "source": [
    "b_new_fit = False\n",
    "\n",
    "history_fn = 'assets/pt3_topleft_3.csv'\n",
    "model_fn   = 'pt3_topleft_2'\n",
    "\n",
    "learn = cnn_learner(dl_1_topleft, \n",
    "                    resnet18, \n",
    "                    pretrained=True, \n",
    "                    metrics=[mae, R2Score()],\n",
    "                    cbs=CSVLogger(history_fn),\n",
    "                    y_range=(-1.,1.),\n",
    "                   )\n",
    "if b_new_fit:\n",
    "    set_seed(17)\n",
    "    with learn.no_logging():\n",
    "        learn.fine_tune(90)\n",
    "    learn.save(model_fn)\n",
    "    \n",
    "if not(b_new_fit):\n",
    "    learn.load(model_fn)"
   ]
  },
  {
   "cell_type": "code",
   "execution_count": 8,
   "metadata": {},
   "outputs": [
    {
     "data": {
      "text/html": [
       "<div>\n",
       "<style scoped>\n",
       "    .dataframe tbody tr th:only-of-type {\n",
       "        vertical-align: middle;\n",
       "    }\n",
       "\n",
       "    .dataframe tbody tr th {\n",
       "        vertical-align: top;\n",
       "    }\n",
       "\n",
       "    .dataframe thead th {\n",
       "        text-align: right;\n",
       "    }\n",
       "</style>\n",
       "<table border=\"1\" class=\"dataframe\">\n",
       "  <thead>\n",
       "    <tr style=\"text-align: right;\">\n",
       "      <th></th>\n",
       "      <th>epoch</th>\n",
       "      <th>train_loss</th>\n",
       "      <th>valid_loss</th>\n",
       "      <th>mae</th>\n",
       "      <th>r2_score</th>\n",
       "      <th>time</th>\n",
       "    </tr>\n",
       "  </thead>\n",
       "  <tbody>\n",
       "    <tr>\n",
       "      <th>0</th>\n",
       "      <td>0</td>\n",
       "      <td>0.543690</td>\n",
       "      <td>0.092954</td>\n",
       "      <td>0.242163</td>\n",
       "      <td>-0.824727</td>\n",
       "      <td>00:09</td>\n",
       "    </tr>\n",
       "    <tr>\n",
       "      <th>1</th>\n",
       "      <td>1</td>\n",
       "      <td>0.532134</td>\n",
       "      <td>0.140789</td>\n",
       "      <td>0.303375</td>\n",
       "      <td>-1.763755</td>\n",
       "      <td>00:09</td>\n",
       "    </tr>\n",
       "  </tbody>\n",
       "</table>\n",
       "</div>"
      ],
      "text/plain": [
       "   epoch  train_loss  valid_loss       mae  r2_score   time\n",
       "0      0    0.543690    0.092954  0.242163 -0.824727  00:09\n",
       "1      1    0.532134    0.140789  0.303375 -1.763755  00:09"
      ]
     },
     "metadata": {},
     "output_type": "display_data"
    },
    {
     "data": {
      "text/html": [
       "<div>\n",
       "<style scoped>\n",
       "    .dataframe tbody tr th:only-of-type {\n",
       "        vertical-align: middle;\n",
       "    }\n",
       "\n",
       "    .dataframe tbody tr th {\n",
       "        vertical-align: top;\n",
       "    }\n",
       "\n",
       "    .dataframe thead th {\n",
       "        text-align: right;\n",
       "    }\n",
       "</style>\n",
       "<table border=\"1\" class=\"dataframe\">\n",
       "  <thead>\n",
       "    <tr style=\"text-align: right;\">\n",
       "      <th></th>\n",
       "      <th>epoch</th>\n",
       "      <th>train_loss</th>\n",
       "      <th>valid_loss</th>\n",
       "      <th>mae</th>\n",
       "      <th>r2_score</th>\n",
       "      <th>time</th>\n",
       "    </tr>\n",
       "  </thead>\n",
       "  <tbody>\n",
       "    <tr>\n",
       "      <th>88</th>\n",
       "      <td>88</td>\n",
       "      <td>0.020841</td>\n",
       "      <td>0.021383</td>\n",
       "      <td>0.095315</td>\n",
       "      <td>0.580248</td>\n",
       "      <td>00:08</td>\n",
       "    </tr>\n",
       "    <tr>\n",
       "      <th>89</th>\n",
       "      <td>89</td>\n",
       "      <td>0.021200</td>\n",
       "      <td>0.021076</td>\n",
       "      <td>0.094615</td>\n",
       "      <td>0.586274</td>\n",
       "      <td>00:08</td>\n",
       "    </tr>\n",
       "  </tbody>\n",
       "</table>\n",
       "</div>"
      ],
      "text/plain": [
       "    epoch  train_loss  valid_loss       mae  r2_score   time\n",
       "88     88    0.020841    0.021383  0.095315  0.580248  00:08\n",
       "89     89    0.021200    0.021076  0.094615  0.586274  00:08"
      ]
     },
     "metadata": {},
     "output_type": "display_data"
    }
   ],
   "source": [
    "train_history = pd.read_csv(history_fn)\n",
    "display(train_history.head(2))\n",
    "display(train_history.tail(2))"
   ]
  },
  {
   "cell_type": "markdown",
   "metadata": {},
   "source": [
    "##### Build Baseline Error"
   ]
  },
  {
   "cell_type": "code",
   "execution_count": 9,
   "metadata": {},
   "outputs": [
    {
     "data": {
      "text/plain": [
       "tensor([-0.2896, -0.5890])"
      ]
     },
     "execution_count": 9,
     "metadata": {},
     "output_type": "execute_result"
    }
   ],
   "source": [
    "y_train = torch.cat([_y for _x,_y in dl_1_topleft.train])\n",
    "y_valid = torch.cat([_y for _x,_y in dl_1_topleft.valid])\n",
    "\n",
    "mean_y = y_train.view(-1,2).mean(dim=0)\n",
    "mean_y"
   ]
  },
  {
   "cell_type": "code",
   "execution_count": 10,
   "metadata": {},
   "outputs": [
    {
     "data": {
      "text/plain": [
       "tensor(0.0322)"
      ]
     },
     "execution_count": 10,
     "metadata": {},
     "output_type": "execute_result"
    }
   ],
   "source": [
    "baseline_err = mse(torch.ones_like(y_valid) * mean_y, y_valid) \n",
    "baseline_err"
   ]
  },
  {
   "cell_type": "markdown",
   "metadata": {},
   "source": [
    "##### Plot Training History"
   ]
  },
  {
   "cell_type": "code",
   "execution_count": 11,
   "metadata": {},
   "outputs": [
    {
     "data": {
      "image/png": "[encoded data removed]",
      "text/plain": [
       "<Figure size 720x360 with 2 Axes>"
      ]
     },
     "metadata": {
      "needs_background": "light"
     },
     "output_type": "display_data"
    }
   ],
   "source": [
    "train_history_dualplot(train_history, \n",
    "                       fig2_startx=30, \n",
    "                       baseline_err=baseline_err,\n",
    "                      )"
   ]
  },
  {
   "cell_type": "markdown",
   "metadata": {},
   "source": [
    "### Fit Model - Target: center-point\n",
    "This task is slighltly easier, and requires less epochs to beat the baseline error."
   ]
  },
  {
   "cell_type": "code",
   "execution_count": 37,
   "metadata": {
    "scrolled": false
   },
   "outputs": [],
   "source": [
    "b_new_fit = False\n",
    "\n",
    "history_fn = 'assets/pt3_center_1.csv'\n",
    "model_fn   = 'pt3_center_2'\n",
    "\n",
    "learn = cnn_learner(dl_1_center, \n",
    "                    resnet18, \n",
    "                    pretrained=True, \n",
    "                    metrics=[mae, R2Score()],\n",
    "                    cbs=CSVLogger(history_fn),\n",
    "                    y_range=(-1.,1.),\n",
    "                   )\n",
    "if b_new_fit:\n",
    "    \n",
    "    set_seed(17)\n",
    "    with learn.no_logging():\n",
    "        learn.fine_tune(50)\n",
    "        \n",
    "    learn.save(model_fn)\n",
    "    \n",
    "if not(b_new_fit):\n",
    "    \n",
    "    learn.load(model_fn)"
   ]
  },
  {
   "cell_type": "code",
   "execution_count": 41,
   "metadata": {},
   "outputs": [
    {
     "name": "stdout",
     "output_type": "stream",
     "text": [
      "pt3_center_1.csv   pt3_topleft_2.csv  rm_1.csv\t   rm_1_sc_saved.csv\r\n",
      "pt3_topleft_1.csv  pt3_topleft_3.csv  rm_1_sc.csv  tmp.csv\r\n"
     ]
    }
   ],
   "source": [
    "!ls assets"
   ]
  },
  {
   "cell_type": "code",
   "execution_count": 42,
   "metadata": {},
   "outputs": [
    {
     "name": "stdout",
     "output_type": "stream",
     "text": [
      "epoch,train_loss,valid_loss,mae,r2_score,time\r\n",
      "0,0.006819247268140316,0.061409495770931244,0.4138174095970345,00:00\r\n"
     ]
    }
   ],
   "source": [
    "!cat assets/pt3_center_1.csv"
   ]
  },
  {
   "cell_type": "code",
   "execution_count": 38,
   "metadata": {},
   "outputs": [
    {
     "data": {
      "text/html": [
       "<div>\n",
       "<style scoped>\n",
       "    .dataframe tbody tr th:only-of-type {\n",
       "        vertical-align: middle;\n",
       "    }\n",
       "\n",
       "    .dataframe tbody tr th {\n",
       "        vertical-align: top;\n",
       "    }\n",
       "\n",
       "    .dataframe thead th {\n",
       "        text-align: right;\n",
       "    }\n",
       "</style>\n",
       "<table border=\"1\" class=\"dataframe\">\n",
       "  <thead>\n",
       "    <tr style=\"text-align: right;\">\n",
       "      <th></th>\n",
       "      <th>epoch</th>\n",
       "      <th>train_loss</th>\n",
       "      <th>valid_loss</th>\n",
       "      <th>mae</th>\n",
       "      <th>r2_score</th>\n",
       "      <th>time</th>\n",
       "    </tr>\n",
       "  </thead>\n",
       "  <tbody>\n",
       "    <tr>\n",
       "      <th>0</th>\n",
       "      <td>0</td>\n",
       "      <td>0.006819</td>\n",
       "      <td>0.061409</td>\n",
       "      <td>0.413817</td>\n",
       "      <td>00:00</td>\n",
       "      <td>NaN</td>\n",
       "    </tr>\n",
       "  </tbody>\n",
       "</table>\n",
       "</div>"
      ],
      "text/plain": [
       "   epoch  train_loss  valid_loss       mae r2_score  time\n",
       "0      0    0.006819    0.061409  0.413817    00:00   NaN"
      ]
     },
     "metadata": {},
     "output_type": "display_data"
    },
    {
     "data": {
      "text/html": [
       "<div>\n",
       "<style scoped>\n",
       "    .dataframe tbody tr th:only-of-type {\n",
       "        vertical-align: middle;\n",
       "    }\n",
       "\n",
       "    .dataframe tbody tr th {\n",
       "        vertical-align: top;\n",
       "    }\n",
       "\n",
       "    .dataframe thead th {\n",
       "        text-align: right;\n",
       "    }\n",
       "</style>\n",
       "<table border=\"1\" class=\"dataframe\">\n",
       "  <thead>\n",
       "    <tr style=\"text-align: right;\">\n",
       "      <th></th>\n",
       "      <th>epoch</th>\n",
       "      <th>train_loss</th>\n",
       "      <th>valid_loss</th>\n",
       "      <th>mae</th>\n",
       "      <th>r2_score</th>\n",
       "      <th>time</th>\n",
       "    </tr>\n",
       "  </thead>\n",
       "  <tbody>\n",
       "    <tr>\n",
       "      <th>0</th>\n",
       "      <td>0</td>\n",
       "      <td>0.006819</td>\n",
       "      <td>0.061409</td>\n",
       "      <td>0.413817</td>\n",
       "      <td>00:00</td>\n",
       "      <td>NaN</td>\n",
       "    </tr>\n",
       "  </tbody>\n",
       "</table>\n",
       "</div>"
      ],
      "text/plain": [
       "   epoch  train_loss  valid_loss       mae r2_score  time\n",
       "0      0    0.006819    0.061409  0.413817    00:00   NaN"
      ]
     },
     "metadata": {},
     "output_type": "display_data"
    }
   ],
   "source": [
    "train_history = pd.read_csv(history_fn)\n",
    "display(train_history.head(2))\n",
    "display(train_history.tail(2))"
   ]
  },
  {
   "cell_type": "code",
   "execution_count": 39,
   "metadata": {},
   "outputs": [],
   "source": [
    "y_train = torch.cat([_y for _x,_y in dl_1_center.train])\n",
    "y_valid = torch.cat([_y for _x,_y in dl_1_center.valid])\n",
    "\n",
    "mean_y = y_train.view(-1,2).mean(dim=0)\n",
    "baseline_err = mse(torch.ones_like(y_valid) * mean_y, y_valid) "
   ]
  },
  {
   "cell_type": "code",
   "execution_count": 40,
   "metadata": {},
   "outputs": [
    {
     "data": {
      "image/png": "[encoded data removed]",
      "text/plain": [
       "<Figure size 720x360 with 2 Axes>"
      ]
     },
     "metadata": {
      "needs_background": "light"
     },
     "output_type": "display_data"
    }
   ],
   "source": [
    "train_history_dualplot(train_history, \n",
    "                       fig2_startx=30, \n",
    "                       baseline_err=baseline_err,\n",
    "                      )"
   ]
  },
  {
   "cell_type": "code",
   "execution_count": 204,
   "metadata": {},
   "outputs": [
    {
     "data": {
      "image/png": "[encoded data removed]",
      "text/plain": [
       "<Figure size 720x360 with 3 Axes>"
      ]
     },
     "metadata": {
      "needs_background": "light"
     },
     "output_type": "display_data"
    }
   ],
   "source": [
    "fig2_startx = 10\n",
    "\n",
    "fig, ax = plt.subplots(1,2,figsize=(10,5))\n",
    "ax[0].plot(train_history['train_loss'])\n",
    "ax[0].plot(train_history['valid_loss']);\n",
    "ax[0].hlines(baseline_err, *ax[0].get_xlim(), linestyle='--')\n",
    "ax[0].legend(['train','valid', 'baseline']);\n",
    "ax[0].set_xlabel('all epochs')\n",
    "ax[0].set_ylabel('MSE')\n",
    "ax[0].set_title('MSE - Train/Valid')\n",
    "\n",
    "# ax[1].plot(train_history['train_loss'][fig2_startx:])\n",
    "# ax[1].plot(train_history['valid_loss'][fig2_startx:]);\n",
    "# ax[1].hlines(baseline_err, *ax[1].get_xlim(), linestyle='--')\n",
    "# ax[1].legend(['train','valid', 'baseline err']);\n",
    "\n",
    "ax[1].plot(train_history['mae'], color='red')\n",
    "ax[1].set_ylabel('MAE', color='red')\n",
    "ax[1].set_title('MAE & R2')\n",
    "\n",
    "y_r2 = [max(-.1, e) for e in train_history['r2_score']]\n",
    "ax2 = ax[1].twinx()  \n",
    "ax2.set_ylabel('R2 (fllored at -.1)', color='green')\n",
    "ax2.plot(y_r2, color='green')\n",
    "ax2.tick_params(axis='y', color='green')\n",
    "ax2.set_ylim(-.11,1);\n",
    "\n",
    "\n",
    "fig.suptitle('CenterPoint - Training Perf');"
   ]
  },
  {
   "cell_type": "markdown",
   "metadata": {},
   "source": [
    "### Build Custom Arch\n",
    "First we need to create a new datablock and dataloaders for the new architecture. This is because our current dataloaders were converted to 3-channel \"colorized black and white\" images when passed into cnn_learner with the pretrained flag set to True.\n",
    "\n",
    "In the following, we'll continue to use the 1-channel, true \"black and white\" images as the input to our model."
   ]
  },
  {
   "cell_type": "code",
   "execution_count": 63,
   "metadata": {},
   "outputs": [
    {
     "data": {
      "text/plain": [
       "torch.Size([64, 1, 28, 28])"
      ]
     },
     "execution_count": 63,
     "metadata": {},
     "output_type": "execute_result"
    }
   ],
   "source": [
    "# remake a datablock with BW-style images\n",
    "\n",
    "y_names = [\n",
    "    'point_topleft_x', \n",
    "    'point_topleft_y',\n",
    "    'point_center_x',\n",
    "    'point_center_y'\n",
    "    ]\n",
    "\n",
    "dblock = DataBlock(blocks=(ImageBlock(cls=PILImageBW), PointBlock), \n",
    "                  splitter=RandomSplitter(),\n",
    "                   get_x=ColReader('fn', pref=path),\n",
    "                   get_y=ColReader(y_names[2:]),\n",
    "                  )\n",
    "\n",
    "dls = dblock.dataloaders(df)\n",
    "\n",
    "x, y = dls.one_batch()\n",
    "\n",
    "x.shape"
   ]
  },
  {
   "cell_type": "code",
   "execution_count": 64,
   "metadata": {},
   "outputs": [
    {
     "data": {
      "text/plain": [
       "torch.Size([2, 1, 28, 28])"
      ]
     },
     "execution_count": 64,
     "metadata": {},
     "output_type": "execute_result"
    }
   ],
   "source": [
    "x_2 = x[:2]\n",
    "x_2.shape"
   ]
  },
  {
   "cell_type": "code",
   "execution_count": 89,
   "metadata": {},
   "outputs": [
    {
     "data": {
      "text/plain": [
       "torch.Size([2, 2])"
      ]
     },
     "execution_count": 89,
     "metadata": {},
     "output_type": "execute_result"
    }
   ],
   "source": [
    "net3 = nn.Sequential(\n",
    "            nn.Flatten(),\n",
    "            nn.Linear(in_features=784, out_features=28),\n",
    "            nn.Linear(in_features=28, out_features=2, bias=False),\n",
    "            SigmoidRange(-1., 1),\n",
    "            )\n",
    "\n",
    "\n",
    "out_net3 = net3(x_2)\n",
    "out_net3.shape"
   ]
  },
  {
   "cell_type": "markdown",
   "metadata": {},
   "source": [
    "##### Build Learner and Fit\n",
    "Instead of using `cnn_learner` use the base class `Learner` with your custom arch and the 1-channel dataloader.\n",
    "\n",
    "Even on the first epoch, it far outperfroms the 90th epoch perf of resnet18."
   ]
  },
  {
   "cell_type": "code",
   "execution_count": 130,
   "metadata": {},
   "outputs": [],
   "source": [
    "learn_net3 = Learner(dls, net3, loss_func=MSELossFlat(), )"
   ]
  },
  {
   "cell_type": "code",
   "execution_count": 131,
   "metadata": {},
   "outputs": [
    {
     "data": {
      "text/html": [
       "<table border=\"1\" class=\"dataframe\">\n",
       "  <thead>\n",
       "    <tr style=\"text-align: left;\">\n",
       "      <th>epoch</th>\n",
       "      <th>train_loss</th>\n",
       "      <th>valid_loss</th>\n",
       "      <th>time</th>\n",
       "    </tr>\n",
       "  </thead>\n",
       "  <tbody>\n",
       "    <tr>\n",
       "      <td>0</td>\n",
       "      <td>0.002717</td>\n",
       "      <td>0.002850</td>\n",
       "      <td>00:01</td>\n",
       "    </tr>\n",
       "  </tbody>\n",
       "</table>"
      ],
      "text/plain": [
       "<IPython.core.display.HTML object>"
      ]
     },
     "metadata": {},
     "output_type": "display_data"
    }
   ],
   "source": [
    "learn_net3.fit(1)"
   ]
  },
  {
   "cell_type": "code",
   "execution_count": 132,
   "metadata": {},
   "outputs": [
    {
     "data": {
      "text/html": [],
      "text/plain": [
       "<IPython.core.display.HTML object>"
      ]
     },
     "metadata": {},
     "output_type": "display_data"
    }
   ],
   "source": [
    "preds = learn_net3.get_preds()"
   ]
  },
  {
   "cell_type": "markdown",
   "metadata": {},
   "source": [
    "##### Fit some more, it gets even better"
   ]
  },
  {
   "cell_type": "code",
   "execution_count": 135,
   "metadata": {},
   "outputs": [
    {
     "data": {
      "text/html": [
       "<table border=\"1\" class=\"dataframe\">\n",
       "  <thead>\n",
       "    <tr style=\"text-align: left;\">\n",
       "      <th>epoch</th>\n",
       "      <th>train_loss</th>\n",
       "      <th>valid_loss</th>\n",
       "      <th>time</th>\n",
       "    </tr>\n",
       "  </thead>\n",
       "  <tbody>\n",
       "    <tr>\n",
       "      <td>0</td>\n",
       "      <td>0.002329</td>\n",
       "      <td>0.001863</td>\n",
       "      <td>00:01</td>\n",
       "    </tr>\n",
       "    <tr>\n",
       "      <td>1</td>\n",
       "      <td>0.002064</td>\n",
       "      <td>0.002096</td>\n",
       "      <td>00:01</td>\n",
       "    </tr>\n",
       "    <tr>\n",
       "      <td>2</td>\n",
       "      <td>0.001883</td>\n",
       "      <td>0.001723</td>\n",
       "      <td>00:01</td>\n",
       "    </tr>\n",
       "    <tr>\n",
       "      <td>3</td>\n",
       "      <td>0.001732</td>\n",
       "      <td>0.001706</td>\n",
       "      <td>00:01</td>\n",
       "    </tr>\n",
       "    <tr>\n",
       "      <td>4</td>\n",
       "      <td>0.001634</td>\n",
       "      <td>0.001681</td>\n",
       "      <td>00:01</td>\n",
       "    </tr>\n",
       "  </tbody>\n",
       "</table>"
      ],
      "text/plain": [
       "<IPython.core.display.HTML object>"
      ]
     },
     "metadata": {},
     "output_type": "display_data"
    }
   ],
   "source": [
    "learn_net3.fit(5)"
   ]
  },
  {
   "cell_type": "code",
   "execution_count": null,
   "metadata": {},
   "outputs": [],
   "source": [
    "def pva_plot(actuals, predcits, title=''):\n",
    "    plt.scatter(actuals, predicts, alpha=0.4)\n",
    "    y0, y1 = plt.ylim()\n",
    "    x0, x1 = plt.xlim()\n",
    "    full_area = [min(x0, y0), max(x1, y1)]\n",
    "    plt.plot(full_area, full_area, linestyle='--')\n",
    "    plt.xlabel('Actual'); plt.ylabel('Predicted');\n",
    "    plt.title(f'{title} - Predicted vs Actual');"
   ]
  },
  {
   "cell_type": "code",
   "execution_count": 136,
   "metadata": {},
   "outputs": [
    {
     "data": {
      "text/html": [],
      "text/plain": [
       "<IPython.core.display.HTML object>"
      ]
     },
     "metadata": {},
     "output_type": "display_data"
    },
    {
     "data": {
      "image/png": "[encoded data removed]",
      "text/plain": [
       "<Figure size 432x288 with 1 Axes>"
      ]
     },
     "metadata": {
      "needs_background": "light"
     },
     "output_type": "display_data"
    }
   ],
   "source": [
    "preds = learn_net3.get_preds()\n",
    "actuals =  preds[1].view(-1,2)[:,0]\n",
    "predicts = preds[0][:,0]\n",
    "\n",
    "pva_plot(actuals, predicts, 'CenterPoint, X')"
   ]
  },
  {
   "cell_type": "markdown",
   "metadata": {},
   "source": [
    "##### Compare ResNet to Net3\n",
    "All Hail Net3! a new SOTA on MNIST ImagePoint Tasks"
   ]
  },
  {
   "cell_type": "code",
   "execution_count": 165,
   "metadata": {},
   "outputs": [
    {
     "data": {
      "text/html": [],
      "text/plain": [
       "<IPython.core.display.HTML object>"
      ]
     },
     "metadata": {},
     "output_type": "display_data"
    },
    {
     "data": {
      "text/html": [],
      "text/plain": [
       "<IPython.core.display.HTML object>"
      ]
     },
     "metadata": {},
     "output_type": "display_data"
    }
   ],
   "source": [
    "preds_resnet = learn.get_preds()\n",
    "preds_net3    = learn_net3.get_preds()"
   ]
  },
  {
   "cell_type": "code",
   "execution_count": 166,
   "metadata": {},
   "outputs": [
    {
     "data": {
      "text/plain": [
       "tensor(0.0017)"
      ]
     },
     "execution_count": 166,
     "metadata": {},
     "output_type": "execute_result"
    }
   ],
   "source": [
    "mse(preds_net3[0], preds_net3[1])"
   ]
  },
  {
   "cell_type": "code",
   "execution_count": 167,
   "metadata": {},
   "outputs": [
    {
     "data": {
      "text/plain": [
       "tensor(0.0068)"
      ]
     },
     "execution_count": 167,
     "metadata": {},
     "output_type": "execute_result"
    }
   ],
   "source": [
    "mse(preds_resnet[0], preds_resnet[1])"
   ]
  },
  {
   "cell_type": "markdown",
   "metadata": {},
   "source": [
    "##### Visualize Residuals of each model"
   ]
  },
  {
   "cell_type": "code",
   "execution_count": 185,
   "metadata": {},
   "outputs": [],
   "source": [
    "resids_net3 =   (preds_net3[0] - preds_net3[1].view(-1,2))\n",
    "resids_resnet = (preds_resnet[0] - preds_resnet[1].view(-1,2))"
   ]
  },
  {
   "cell_type": "code",
   "execution_count": 200,
   "metadata": {},
   "outputs": [
    {
     "data": {
      "image/png": "[encoded data removed]",
      "text/plain": [
       "<Figure size 720x360 with 1 Axes>"
      ]
     },
     "metadata": {
      "needs_background": "light"
     },
     "output_type": "display_data"
    }
   ],
   "source": [
    "fig, ax = plt.subplots(1,1,figsize=(10,5))\n",
    "\n",
    "ax.scatter(resids_net3[:,0], resids_net3[:,1], \n",
    "              c='green', alpha=0.4)\n",
    "ax.scatter(resids_resnet[:,0], resids_resnet[:,1], \n",
    "              c='blue', alpha=0.4)\n",
    "ax.legend(['Net3', 'Resnet18'])\n",
    "ax.hlines(0, *ax.get_xlim(), linestyle='--')\n",
    "ax.vlines(0, *ax.get_ylim(), linestyle='--')\n",
    "fig.suptitle('Residuals for Each Model');"
   ]
  },
  {
   "cell_type": "markdown",
   "metadata": {},
   "source": [
    "##### Replicate mse calcs"
   ]
  },
  {
   "cell_type": "code",
   "execution_count": 168,
   "metadata": {},
   "outputs": [
    {
     "data": {
      "text/plain": [
       "tensor([[-0.0239, -0.0834],\n",
       "        [ 0.0394, -0.0262],\n",
       "        [ 0.0236,  0.0286]])"
      ]
     },
     "execution_count": 168,
     "metadata": {},
     "output_type": "execute_result"
    }
   ],
   "source": [
    "resids = (preds_net3[0] - preds_net3[1].view(-1,2))\n",
    "resids[:3]"
   ]
  },
  {
   "cell_type": "code",
   "execution_count": 169,
   "metadata": {},
   "outputs": [
    {
     "data": {
      "text/plain": [
       "tensor([[0.0006, 0.0070],\n",
       "        [0.0016, 0.0007],\n",
       "        [0.0006, 0.0008]])"
      ]
     },
     "execution_count": 169,
     "metadata": {},
     "output_type": "execute_result"
    }
   ],
   "source": [
    "resids_sq = resids**2\n",
    "resids_sq[:3]"
   ]
  },
  {
   "cell_type": "code",
   "execution_count": 170,
   "metadata": {},
   "outputs": [
    {
     "data": {
      "text/plain": [
       "tensor(0.0017)"
      ]
     },
     "execution_count": 170,
     "metadata": {},
     "output_type": "execute_result"
    }
   ],
   "source": [
    "resids_sq.mean()"
   ]
  }
 ],
 "metadata": {
  "kernelspec": {
   "display_name": "Python [conda env:fastai2]",
   "language": "python",
   "name": "conda-env-fastai2-py"
  },
  "language_info": {
   "codemirror_mode": {
    "name": "ipython",
    "version": 3
   },
   "file_extension": ".py",
   "mimetype": "text/x-python",
   "name": "python",
   "nbconvert_exporter": "python",
   "pygments_lexer": "ipython3",
   "version": "3.7.6"
  }
 },
 "nbformat": 4,
 "nbformat_minor": 2
}
