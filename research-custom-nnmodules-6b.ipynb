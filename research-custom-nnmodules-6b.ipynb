{
 "cells": [
  {
   "cell_type": "markdown",
   "metadata": {},
   "source": [
    "## Focusing on terse `FeatNets` training/eval\n",
    "9.28.2020"
   ]
  },
  {
   "cell_type": "code",
   "execution_count": 1,
   "metadata": {},
   "outputs": [],
   "source": [
    "import os, sys\n",
    "import copy as copyroot\n",
    "import pandas as pd\n",
    "from IPython.display import display\n",
    "from matplotlib import pyplot as plt\n",
    "from fastai2.basics import *\n",
    "from fastai2.vision.all import *\n",
    "%load_ext autoreload\n",
    "%autoreload 2\n",
    "\n",
    "from module.mnist_helpers import build_df, eda_fig_1, build_dls\n",
    "from module.mnist_models import FeatsNet\n",
    "from module.mnist_metrics import metrics_df"
   ]
  },
  {
   "cell_type": "code",
   "execution_count": 2,
   "metadata": {},
   "outputs": [],
   "source": [
    "dls_tl = build_dls(target='topleft')\n",
    "dls_cr = build_dls(target='center')"
   ]
  },
  {
   "cell_type": "markdown",
   "metadata": {},
   "source": [
    "### Grid Fit"
   ]
  },
  {
   "cell_type": "code",
   "execution_count": 9,
   "metadata": {},
   "outputs": [
    {
     "data": {
      "text/html": [],
      "text/plain": [
       "<IPython.core.display.HTML object>"
      ]
     },
     "metadata": {},
     "output_type": "display_data"
    },
    {
     "data": {
      "text/html": [],
      "text/plain": [
       "<IPython.core.display.HTML object>"
      ]
     },
     "metadata": {},
     "output_type": "display_data"
    },
    {
     "data": {
      "text/html": [],
      "text/plain": [
       "<IPython.core.display.HTML object>"
      ]
     },
     "metadata": {},
     "output_type": "display_data"
    },
    {
     "data": {
      "text/html": [],
      "text/plain": [
       "<IPython.core.display.HTML object>"
      ]
     },
     "metadata": {},
     "output_type": "display_data"
    },
    {
     "data": {
      "text/html": [],
      "text/plain": [
       "<IPython.core.display.HTML object>"
      ]
     },
     "metadata": {},
     "output_type": "display_data"
    },
    {
     "data": {
      "text/html": [],
      "text/plain": [
       "<IPython.core.display.HTML object>"
      ]
     },
     "metadata": {},
     "output_type": "display_data"
    },
    {
     "data": {
      "text/html": [],
      "text/plain": [
       "<IPython.core.display.HTML object>"
      ]
     },
     "metadata": {},
     "output_type": "display_data"
    },
    {
     "data": {
      "text/html": [],
      "text/plain": [
       "<IPython.core.display.HTML object>"
      ]
     },
     "metadata": {},
     "output_type": "display_data"
    },
    {
     "data": {
      "text/html": [],
      "text/plain": [
       "<IPython.core.display.HTML object>"
      ]
     },
     "metadata": {},
     "output_type": "display_data"
    },
    {
     "data": {
      "text/html": [],
      "text/plain": [
       "<IPython.core.display.HTML object>"
      ]
     },
     "metadata": {},
     "output_type": "display_data"
    },
    {
     "data": {
      "text/html": [],
      "text/plain": [
       "<IPython.core.display.HTML object>"
      ]
     },
     "metadata": {},
     "output_type": "display_data"
    },
    {
     "data": {
      "text/html": [],
      "text/plain": [
       "<IPython.core.display.HTML object>"
      ]
     },
     "metadata": {},
     "output_type": "display_data"
    },
    {
     "data": {
      "text/html": [],
      "text/plain": [
       "<IPython.core.display.HTML object>"
      ]
     },
     "metadata": {},
     "output_type": "display_data"
    },
    {
     "data": {
      "text/html": [],
      "text/plain": [
       "<IPython.core.display.HTML object>"
      ]
     },
     "metadata": {},
     "output_type": "display_data"
    },
    {
     "data": {
      "text/html": [],
      "text/plain": [
       "<IPython.core.display.HTML object>"
      ]
     },
     "metadata": {},
     "output_type": "display_data"
    },
    {
     "data": {
      "text/html": [],
      "text/plain": [
       "<IPython.core.display.HTML object>"
      ]
     },
     "metadata": {},
     "output_type": "display_data"
    },
    {
     "data": {
      "text/html": [],
      "text/plain": [
       "<IPython.core.display.HTML object>"
      ]
     },
     "metadata": {},
     "output_type": "display_data"
    },
    {
     "data": {
      "text/html": [],
      "text/plain": [
       "<IPython.core.display.HTML object>"
      ]
     },
     "metadata": {},
     "output_type": "display_data"
    },
    {
     "data": {
      "text/html": [],
      "text/plain": [
       "<IPython.core.display.HTML object>"
      ]
     },
     "metadata": {},
     "output_type": "display_data"
    },
    {
     "data": {
      "text/html": [],
      "text/plain": [
       "<IPython.core.display.HTML object>"
      ]
     },
     "metadata": {},
     "output_type": "display_data"
    },
    {
     "data": {
      "text/html": [],
      "text/plain": [
       "<IPython.core.display.HTML object>"
      ]
     },
     "metadata": {},
     "output_type": "display_data"
    },
    {
     "data": {
      "text/html": [],
      "text/plain": [
       "<IPython.core.display.HTML object>"
      ]
     },
     "metadata": {},
     "output_type": "display_data"
    },
    {
     "data": {
      "text/html": [],
      "text/plain": [
       "<IPython.core.display.HTML object>"
      ]
     },
     "metadata": {},
     "output_type": "display_data"
    },
    {
     "data": {
      "text/html": [],
      "text/plain": [
       "<IPython.core.display.HTML object>"
      ]
     },
     "metadata": {},
     "output_type": "display_data"
    },
    {
     "data": {
      "text/html": [],
      "text/plain": [
       "<IPython.core.display.HTML object>"
      ]
     },
     "metadata": {},
     "output_type": "display_data"
    },
    {
     "data": {
      "text/html": [],
      "text/plain": [
       "<IPython.core.display.HTML object>"
      ]
     },
     "metadata": {},
     "output_type": "display_data"
    },
    {
     "data": {
      "text/html": [],
      "text/plain": [
       "<IPython.core.display.HTML object>"
      ]
     },
     "metadata": {},
     "output_type": "display_data"
    },
    {
     "data": {
      "text/html": [],
      "text/plain": [
       "<IPython.core.display.HTML object>"
      ]
     },
     "metadata": {},
     "output_type": "display_data"
    },
    {
     "data": {
      "text/html": [],
      "text/plain": [
       "<IPython.core.display.HTML object>"
      ]
     },
     "metadata": {},
     "output_type": "display_data"
    },
    {
     "data": {
      "text/html": [],
      "text/plain": [
       "<IPython.core.display.HTML object>"
      ]
     },
     "metadata": {},
     "output_type": "display_data"
    },
    {
     "data": {
      "text/html": [],
      "text/plain": [
       "<IPython.core.display.HTML object>"
      ]
     },
     "metadata": {},
     "output_type": "display_data"
    },
    {
     "data": {
      "text/html": [],
      "text/plain": [
       "<IPython.core.display.HTML object>"
      ]
     },
     "metadata": {},
     "output_type": "display_data"
    },
    {
     "data": {
      "text/html": [],
      "text/plain": [
       "<IPython.core.display.HTML object>"
      ]
     },
     "metadata": {},
     "output_type": "display_data"
    },
    {
     "data": {
      "text/html": [],
      "text/plain": [
       "<IPython.core.display.HTML object>"
      ]
     },
     "metadata": {},
     "output_type": "display_data"
    },
    {
     "data": {
      "text/html": [],
      "text/plain": [
       "<IPython.core.display.HTML object>"
      ]
     },
     "metadata": {},
     "output_type": "display_data"
    },
    {
     "data": {
      "text/html": [],
      "text/plain": [
       "<IPython.core.display.HTML object>"
      ]
     },
     "metadata": {},
     "output_type": "display_data"
    },
    {
     "name": "stdout",
     "output_type": "stream",
     "text": [
      "done in 561.0 secs \n",
      "12 metric_dfs built\n"
     ]
    }
   ],
   "source": [
    "EPOCHS = 20\n",
    "TMP_FN = 'assets/tmp.csv'\n",
    "\n",
    "feats = [\n",
    "         ('pix', 'pts11'),\n",
    "         ('pix', 'pts12'),\n",
    "         ('pix', 'pts22'),\n",
    "         ('', 'pts11'),\n",
    "         ('', 'pts12'),\n",
    "         ('', 'pts22'),\n",
    "        ]\n",
    "\n",
    "dls = [dls_tl, dls_cr]\n",
    "\n",
    "list_df_metrics = []\n",
    "\n",
    "t0 = time.time()\n",
    "\n",
    "for dl_ind in (0,1):\n",
    "    for _feat in feats:\n",
    "\n",
    "        featsnet  = FeatsNet(feats=_feat)\n",
    "        tmplogger = CSVLogger(fname=TMP_FN)\n",
    "        learn     = Learner(dls_tl, \n",
    "                            featsnet, \n",
    "                            loss_func=MSELossFlat(), \n",
    "                            cbs=[tmplogger])\n",
    "\n",
    "        with learn.no_logging(): learn.fit(EPOCHS)\n",
    "\n",
    "        _df = metrics_df(\n",
    "                   learn, \n",
    "                   s_model =    f'FeatsNet1.{_feat[-1][-2:]}',\n",
    "                   s_details =  f'feats={\",\".join(_feat)}',\n",
    "                   s_target =   \"topleft\" if dl_ind == 0 else \"center\",\n",
    "                  )\n",
    "        \n",
    "        list_df_metrics.append(_df)\n",
    "        \n",
    "print(f'done in {round(time.time() - t0,0)} secs ')\n",
    "print(f'{len(list_df_metrics)} metric_dfs built')"
   ]
  },
  {
   "cell_type": "code",
   "execution_count": 12,
   "metadata": {},
   "outputs": [
    {
     "data": {
      "text/html": [
       "<div>\n",
       "<style scoped>\n",
       "    .dataframe tbody tr th:only-of-type {\n",
       "        vertical-align: middle;\n",
       "    }\n",
       "\n",
       "    .dataframe tbody tr th {\n",
       "        vertical-align: top;\n",
       "    }\n",
       "\n",
       "    .dataframe thead th {\n",
       "        text-align: right;\n",
       "    }\n",
       "</style>\n",
       "<table border=\"1\" class=\"dataframe\">\n",
       "  <thead>\n",
       "    <tr style=\"text-align: right;\">\n",
       "      <th></th>\n",
       "      <th>model</th>\n",
       "      <th>details</th>\n",
       "      <th>target</th>\n",
       "      <th>split</th>\n",
       "      <th>mse</th>\n",
       "      <th>mae</th>\n",
       "      <th>r2</th>\n",
       "      <th>dist_avg</th>\n",
       "      <th>dist_r2</th>\n",
       "      <th>sqdist_avg</th>\n",
       "      <th>sqdist_r2</th>\n",
       "    </tr>\n",
       "  </thead>\n",
       "  <tbody>\n",
       "    <tr>\n",
       "      <th>5</th>\n",
       "      <td>FeatsNet1.22</td>\n",
       "      <td>feats=pix,pts22</td>\n",
       "      <td>topleft</td>\n",
       "      <td>train</td>\n",
       "      <td>0.006158</td>\n",
       "      <td>0.057115</td>\n",
       "      <td>0.787057</td>\n",
       "      <td>0.092237</td>\n",
       "      <td>0.607826</td>\n",
       "      <td>0.012316</td>\n",
       "      <td>0.837864</td>\n",
       "    </tr>\n",
       "    <tr>\n",
       "      <th>17</th>\n",
       "      <td>FeatsNet1.22</td>\n",
       "      <td>feats=pix,pts22</td>\n",
       "      <td>center</td>\n",
       "      <td>train</td>\n",
       "      <td>0.007534</td>\n",
       "      <td>0.062097</td>\n",
       "      <td>0.739600</td>\n",
       "      <td>0.100464</td>\n",
       "      <td>0.572842</td>\n",
       "      <td>0.015067</td>\n",
       "      <td>0.801649</td>\n",
       "    </tr>\n",
       "    <tr>\n",
       "      <th>15</th>\n",
       "      <td>FeatsNet1.12</td>\n",
       "      <td>feats=pix,pts12</td>\n",
       "      <td>center</td>\n",
       "      <td>train</td>\n",
       "      <td>0.007849</td>\n",
       "      <td>0.063626</td>\n",
       "      <td>0.754144</td>\n",
       "      <td>0.103412</td>\n",
       "      <td>0.560312</td>\n",
       "      <td>0.015699</td>\n",
       "      <td>0.793337</td>\n",
       "    </tr>\n",
       "    <tr>\n",
       "      <th>3</th>\n",
       "      <td>FeatsNet1.12</td>\n",
       "      <td>feats=pix,pts12</td>\n",
       "      <td>topleft</td>\n",
       "      <td>train</td>\n",
       "      <td>0.008364</td>\n",
       "      <td>0.065627</td>\n",
       "      <td>0.713868</td>\n",
       "      <td>0.106106</td>\n",
       "      <td>0.548855</td>\n",
       "      <td>0.016727</td>\n",
       "      <td>0.779795</td>\n",
       "    </tr>\n",
       "    <tr>\n",
       "      <th>13</th>\n",
       "      <td>FeatsNet1.11</td>\n",
       "      <td>feats=pix,pts11</td>\n",
       "      <td>center</td>\n",
       "      <td>train</td>\n",
       "      <td>0.009264</td>\n",
       "      <td>0.070066</td>\n",
       "      <td>0.644155</td>\n",
       "      <td>0.112525</td>\n",
       "      <td>0.521563</td>\n",
       "      <td>0.018527</td>\n",
       "      <td>0.756101</td>\n",
       "    </tr>\n",
       "    <tr>\n",
       "      <th>1</th>\n",
       "      <td>FeatsNet1.11</td>\n",
       "      <td>feats=pix,pts11</td>\n",
       "      <td>topleft</td>\n",
       "      <td>train</td>\n",
       "      <td>0.009834</td>\n",
       "      <td>0.072080</td>\n",
       "      <td>0.606355</td>\n",
       "      <td>0.115771</td>\n",
       "      <td>0.507763</td>\n",
       "      <td>0.019668</td>\n",
       "      <td>0.741083</td>\n",
       "    </tr>\n",
       "    <tr>\n",
       "      <th>4</th>\n",
       "      <td>FeatsNet1.22</td>\n",
       "      <td>feats=pix,pts22</td>\n",
       "      <td>topleft</td>\n",
       "      <td>valid</td>\n",
       "      <td>0.013204</td>\n",
       "      <td>0.076632</td>\n",
       "      <td>0.566738</td>\n",
       "      <td>0.126752</td>\n",
       "      <td>0.413290</td>\n",
       "      <td>0.026409</td>\n",
       "      <td>0.586774</td>\n",
       "    </tr>\n",
       "    <tr>\n",
       "      <th>16</th>\n",
       "      <td>FeatsNet1.22</td>\n",
       "      <td>feats=pix,pts22</td>\n",
       "      <td>center</td>\n",
       "      <td>valid</td>\n",
       "      <td>0.014107</td>\n",
       "      <td>0.078245</td>\n",
       "      <td>0.543622</td>\n",
       "      <td>0.129522</td>\n",
       "      <td>0.400468</td>\n",
       "      <td>0.028214</td>\n",
       "      <td>0.558536</td>\n",
       "    </tr>\n",
       "    <tr>\n",
       "      <th>2</th>\n",
       "      <td>FeatsNet1.12</td>\n",
       "      <td>feats=pix,pts12</td>\n",
       "      <td>topleft</td>\n",
       "      <td>valid</td>\n",
       "      <td>0.015845</td>\n",
       "      <td>0.084004</td>\n",
       "      <td>0.498059</td>\n",
       "      <td>0.139944</td>\n",
       "      <td>0.352225</td>\n",
       "      <td>0.031689</td>\n",
       "      <td>0.504155</td>\n",
       "    </tr>\n",
       "    <tr>\n",
       "      <th>14</th>\n",
       "      <td>FeatsNet1.12</td>\n",
       "      <td>feats=pix,pts12</td>\n",
       "      <td>center</td>\n",
       "      <td>valid</td>\n",
       "      <td>0.015999</td>\n",
       "      <td>0.084072</td>\n",
       "      <td>0.535459</td>\n",
       "      <td>0.140841</td>\n",
       "      <td>0.348076</td>\n",
       "      <td>0.031999</td>\n",
       "      <td>0.499309</td>\n",
       "    </tr>\n",
       "    <tr>\n",
       "      <th>23</th>\n",
       "      <td>FeatsNet1.22</td>\n",
       "      <td>feats=,pts22</td>\n",
       "      <td>center</td>\n",
       "      <td>train</td>\n",
       "      <td>0.016834</td>\n",
       "      <td>0.096734</td>\n",
       "      <td>0.402703</td>\n",
       "      <td>0.156202</td>\n",
       "      <td>0.335856</td>\n",
       "      <td>0.033667</td>\n",
       "      <td>0.556790</td>\n",
       "    </tr>\n",
       "    <tr>\n",
       "      <th>22</th>\n",
       "      <td>FeatsNet1.22</td>\n",
       "      <td>feats=,pts22</td>\n",
       "      <td>center</td>\n",
       "      <td>valid</td>\n",
       "      <td>0.017122</td>\n",
       "      <td>0.098228</td>\n",
       "      <td>0.351587</td>\n",
       "      <td>0.157881</td>\n",
       "      <td>0.269201</td>\n",
       "      <td>0.034245</td>\n",
       "      <td>0.464168</td>\n",
       "    </tr>\n",
       "    <tr>\n",
       "      <th>12</th>\n",
       "      <td>FeatsNet1.11</td>\n",
       "      <td>feats=pix,pts11</td>\n",
       "      <td>center</td>\n",
       "      <td>valid</td>\n",
       "      <td>0.017894</td>\n",
       "      <td>0.089226</td>\n",
       "      <td>0.372404</td>\n",
       "      <td>0.146775</td>\n",
       "      <td>0.320608</td>\n",
       "      <td>0.035789</td>\n",
       "      <td>0.440004</td>\n",
       "    </tr>\n",
       "    <tr>\n",
       "      <th>10</th>\n",
       "      <td>FeatsNet1.22</td>\n",
       "      <td>feats=,pts22</td>\n",
       "      <td>topleft</td>\n",
       "      <td>valid</td>\n",
       "      <td>0.018211</td>\n",
       "      <td>0.099923</td>\n",
       "      <td>0.356464</td>\n",
       "      <td>0.161640</td>\n",
       "      <td>0.251800</td>\n",
       "      <td>0.036423</td>\n",
       "      <td>0.430090</td>\n",
       "    </tr>\n",
       "    <tr>\n",
       "      <th>0</th>\n",
       "      <td>FeatsNet1.11</td>\n",
       "      <td>feats=pix,pts11</td>\n",
       "      <td>topleft</td>\n",
       "      <td>valid</td>\n",
       "      <td>0.018420</td>\n",
       "      <td>0.093067</td>\n",
       "      <td>0.342705</td>\n",
       "      <td>0.152008</td>\n",
       "      <td>0.296385</td>\n",
       "      <td>0.036841</td>\n",
       "      <td>0.423544</td>\n",
       "    </tr>\n",
       "    <tr>\n",
       "      <th>11</th>\n",
       "      <td>FeatsNet1.22</td>\n",
       "      <td>feats=,pts22</td>\n",
       "      <td>topleft</td>\n",
       "      <td>train</td>\n",
       "      <td>0.018779</td>\n",
       "      <td>0.100599</td>\n",
       "      <td>0.387746</td>\n",
       "      <td>0.162770</td>\n",
       "      <td>0.307932</td>\n",
       "      <td>0.037558</td>\n",
       "      <td>0.505572</td>\n",
       "    </tr>\n",
       "    <tr>\n",
       "      <th>21</th>\n",
       "      <td>FeatsNet1.12</td>\n",
       "      <td>feats=,pts12</td>\n",
       "      <td>center</td>\n",
       "      <td>train</td>\n",
       "      <td>0.018907</td>\n",
       "      <td>0.102533</td>\n",
       "      <td>0.358370</td>\n",
       "      <td>0.164462</td>\n",
       "      <td>0.300735</td>\n",
       "      <td>0.037814</td>\n",
       "      <td>0.502202</td>\n",
       "    </tr>\n",
       "    <tr>\n",
       "      <th>20</th>\n",
       "      <td>FeatsNet1.12</td>\n",
       "      <td>feats=,pts12</td>\n",
       "      <td>center</td>\n",
       "      <td>valid</td>\n",
       "      <td>0.019444</td>\n",
       "      <td>0.103678</td>\n",
       "      <td>0.307976</td>\n",
       "      <td>0.166994</td>\n",
       "      <td>0.227016</td>\n",
       "      <td>0.038889</td>\n",
       "      <td>0.391501</td>\n",
       "    </tr>\n",
       "    <tr>\n",
       "      <th>8</th>\n",
       "      <td>FeatsNet1.12</td>\n",
       "      <td>feats=,pts12</td>\n",
       "      <td>topleft</td>\n",
       "      <td>valid</td>\n",
       "      <td>0.023358</td>\n",
       "      <td>0.116536</td>\n",
       "      <td>0.116117</td>\n",
       "      <td>0.185509</td>\n",
       "      <td>0.141317</td>\n",
       "      <td>0.046717</td>\n",
       "      <td>0.269014</td>\n",
       "    </tr>\n",
       "    <tr>\n",
       "      <th>9</th>\n",
       "      <td>FeatsNet1.12</td>\n",
       "      <td>feats=,pts12</td>\n",
       "      <td>topleft</td>\n",
       "      <td>train</td>\n",
       "      <td>0.024306</td>\n",
       "      <td>0.118801</td>\n",
       "      <td>0.163352</td>\n",
       "      <td>0.188846</td>\n",
       "      <td>0.197060</td>\n",
       "      <td>0.048612</td>\n",
       "      <td>0.360055</td>\n",
       "    </tr>\n",
       "    <tr>\n",
       "      <th>6</th>\n",
       "      <td>FeatsNet1.11</td>\n",
       "      <td>feats=,pts11</td>\n",
       "      <td>topleft</td>\n",
       "      <td>valid</td>\n",
       "      <td>0.033621</td>\n",
       "      <td>0.140120</td>\n",
       "      <td>-0.177494</td>\n",
       "      <td>0.225113</td>\n",
       "      <td>-0.042002</td>\n",
       "      <td>0.067241</td>\n",
       "      <td>-0.052139</td>\n",
       "    </tr>\n",
       "    <tr>\n",
       "      <th>18</th>\n",
       "      <td>FeatsNet1.11</td>\n",
       "      <td>feats=,pts11</td>\n",
       "      <td>center</td>\n",
       "      <td>valid</td>\n",
       "      <td>0.033968</td>\n",
       "      <td>0.141696</td>\n",
       "      <td>-0.231931</td>\n",
       "      <td>0.226788</td>\n",
       "      <td>-0.049755</td>\n",
       "      <td>0.067935</td>\n",
       "      <td>-0.062996</td>\n",
       "    </tr>\n",
       "    <tr>\n",
       "      <th>7</th>\n",
       "      <td>FeatsNet1.11</td>\n",
       "      <td>feats=,pts11</td>\n",
       "      <td>topleft</td>\n",
       "      <td>train</td>\n",
       "      <td>0.038772</td>\n",
       "      <td>0.148948</td>\n",
       "      <td>-0.146226</td>\n",
       "      <td>0.240465</td>\n",
       "      <td>-0.022418</td>\n",
       "      <td>0.077543</td>\n",
       "      <td>-0.020805</td>\n",
       "    </tr>\n",
       "    <tr>\n",
       "      <th>19</th>\n",
       "      <td>FeatsNet1.11</td>\n",
       "      <td>feats=,pts11</td>\n",
       "      <td>center</td>\n",
       "      <td>train</td>\n",
       "      <td>0.039235</td>\n",
       "      <td>0.150910</td>\n",
       "      <td>-0.198225</td>\n",
       "      <td>0.242476</td>\n",
       "      <td>-0.030964</td>\n",
       "      <td>0.078470</td>\n",
       "      <td>-0.033002</td>\n",
       "    </tr>\n",
       "  </tbody>\n",
       "</table>\n",
       "</div>"
      ],
      "text/plain": [
       "           model          details   target  split       mse       mae  \\\n",
       "5   FeatsNet1.22  feats=pix,pts22  topleft  train  0.006158  0.057115   \n",
       "17  FeatsNet1.22  feats=pix,pts22   center  train  0.007534  0.062097   \n",
       "15  FeatsNet1.12  feats=pix,pts12   center  train  0.007849  0.063626   \n",
       "3   FeatsNet1.12  feats=pix,pts12  topleft  train  0.008364  0.065627   \n",
       "13  FeatsNet1.11  feats=pix,pts11   center  train  0.009264  0.070066   \n",
       "1   FeatsNet1.11  feats=pix,pts11  topleft  train  0.009834  0.072080   \n",
       "4   FeatsNet1.22  feats=pix,pts22  topleft  valid  0.013204  0.076632   \n",
       "16  FeatsNet1.22  feats=pix,pts22   center  valid  0.014107  0.078245   \n",
       "2   FeatsNet1.12  feats=pix,pts12  topleft  valid  0.015845  0.084004   \n",
       "14  FeatsNet1.12  feats=pix,pts12   center  valid  0.015999  0.084072   \n",
       "23  FeatsNet1.22     feats=,pts22   center  train  0.016834  0.096734   \n",
       "22  FeatsNet1.22     feats=,pts22   center  valid  0.017122  0.098228   \n",
       "12  FeatsNet1.11  feats=pix,pts11   center  valid  0.017894  0.089226   \n",
       "10  FeatsNet1.22     feats=,pts22  topleft  valid  0.018211  0.099923   \n",
       "0   FeatsNet1.11  feats=pix,pts11  topleft  valid  0.018420  0.093067   \n",
       "11  FeatsNet1.22     feats=,pts22  topleft  train  0.018779  0.100599   \n",
       "21  FeatsNet1.12     feats=,pts12   center  train  0.018907  0.102533   \n",
       "20  FeatsNet1.12     feats=,pts12   center  valid  0.019444  0.103678   \n",
       "8   FeatsNet1.12     feats=,pts12  topleft  valid  0.023358  0.116536   \n",
       "9   FeatsNet1.12     feats=,pts12  topleft  train  0.024306  0.118801   \n",
       "6   FeatsNet1.11     feats=,pts11  topleft  valid  0.033621  0.140120   \n",
       "18  FeatsNet1.11     feats=,pts11   center  valid  0.033968  0.141696   \n",
       "7   FeatsNet1.11     feats=,pts11  topleft  train  0.038772  0.148948   \n",
       "19  FeatsNet1.11     feats=,pts11   center  train  0.039235  0.150910   \n",
       "\n",
       "          r2  dist_avg   dist_r2  sqdist_avg  sqdist_r2  \n",
       "5   0.787057  0.092237  0.607826    0.012316   0.837864  \n",
       "17  0.739600  0.100464  0.572842    0.015067   0.801649  \n",
       "15  0.754144  0.103412  0.560312    0.015699   0.793337  \n",
       "3   0.713868  0.106106  0.548855    0.016727   0.779795  \n",
       "13  0.644155  0.112525  0.521563    0.018527   0.756101  \n",
       "1   0.606355  0.115771  0.507763    0.019668   0.741083  \n",
       "4   0.566738  0.126752  0.413290    0.026409   0.586774  \n",
       "16  0.543622  0.129522  0.400468    0.028214   0.558536  \n",
       "2   0.498059  0.139944  0.352225    0.031689   0.504155  \n",
       "14  0.535459  0.140841  0.348076    0.031999   0.499309  \n",
       "23  0.402703  0.156202  0.335856    0.033667   0.556790  \n",
       "22  0.351587  0.157881  0.269201    0.034245   0.464168  \n",
       "12  0.372404  0.146775  0.320608    0.035789   0.440004  \n",
       "10  0.356464  0.161640  0.251800    0.036423   0.430090  \n",
       "0   0.342705  0.152008  0.296385    0.036841   0.423544  \n",
       "11  0.387746  0.162770  0.307932    0.037558   0.505572  \n",
       "21  0.358370  0.164462  0.300735    0.037814   0.502202  \n",
       "20  0.307976  0.166994  0.227016    0.038889   0.391501  \n",
       "8   0.116117  0.185509  0.141317    0.046717   0.269014  \n",
       "9   0.163352  0.188846  0.197060    0.048612   0.360055  \n",
       "6  -0.177494  0.225113 -0.042002    0.067241  -0.052139  \n",
       "18 -0.231931  0.226788 -0.049755    0.067935  -0.062996  \n",
       "7  -0.146226  0.240465 -0.022418    0.077543  -0.020805  \n",
       "19 -0.198225  0.242476 -0.030964    0.078470  -0.033002  "
      ]
     },
     "execution_count": 12,
     "metadata": {},
     "output_type": "execute_result"
    }
   ],
   "source": [
    "df = pd.concat(list_df_metrics)\n",
    "df.reset_index(inplace=True, drop=True)\n",
    "df.sort_values(by='mse', ascending=True)"
   ]
  },
  {
   "cell_type": "code",
   "execution_count": 13,
   "metadata": {},
   "outputs": [],
   "source": [
    "df.to_csv('assets/metrics-dfs/rcn6b-featsnet1x.csv')"
   ]
  },
  {
   "cell_type": "code",
   "execution_count": null,
   "metadata": {},
   "outputs": [],
   "source": []
  }
 ],
 "metadata": {
  "kernelspec": {
   "display_name": "Python 3",
   "language": "python",
   "name": "python3"
  },
  "language_info": {
   "codemirror_mode": {
    "name": "ipython",
    "version": 3
   },
   "file_extension": ".py",
   "mimetype": "text/x-python",
   "name": "python",
   "nbconvert_exporter": "python",
   "pygments_lexer": "ipython3",
   "version": "3.7.6"
  }
 },
 "nbformat": 4,
 "nbformat_minor": 4
}
