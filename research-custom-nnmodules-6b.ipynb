{
 "cells": [
  {
   "cell_type": "markdown",
   "metadata": {},
   "source": [
    "## Focusing on terse `FeatNets` training/eval\n",
    "9.28.2020"
   ]
  },
  {
   "cell_type": "code",
   "execution_count": 4,
   "metadata": {},
   "outputs": [
    {
     "name": "stdout",
     "output_type": "stream",
     "text": [
      "The autoreload extension is already loaded. To reload it, use:\n",
      "  %reload_ext autoreload\n"
     ]
    }
   ],
   "source": [
    "import os, sys\n",
    "import copy as copyroot\n",
    "import pandas as pd\n",
    "from IPython.display import display\n",
    "from matplotlib import pyplot as plt\n",
    "from fastai2.basics import *\n",
    "from fastai2.vision.all import *\n",
    "%load_ext autoreload\n",
    "%autoreload 2\n",
    "\n",
    "from module.mnist_helpers import build_df, eda_fig_1, build_dls\n",
    "from module.mnist_models import FeatsNet\n",
    "from module.mnist_metrics import metrics_df"
   ]
  },
  {
   "cell_type": "code",
   "execution_count": 5,
   "metadata": {},
   "outputs": [],
   "source": [
    "dls_tl = build_dls(target='topleft')\n",
    "dls_cr = build_dls(target='center')"
   ]
  },
  {
   "cell_type": "markdown",
   "metadata": {},
   "source": [
    "### Grid Fit"
   ]
  },
  {
   "cell_type": "code",
   "execution_count": 7,
   "metadata": {},
   "outputs": [
    {
     "data": {
      "text/html": [],
      "text/plain": [
       "<IPython.core.display.HTML object>"
      ]
     },
     "metadata": {},
     "output_type": "display_data"
    },
    {
     "data": {
      "text/html": [],
      "text/plain": [
       "<IPython.core.display.HTML object>"
      ]
     },
     "metadata": {},
     "output_type": "display_data"
    },
    {
     "data": {
      "text/html": [],
      "text/plain": [
       "<IPython.core.display.HTML object>"
      ]
     },
     "metadata": {},
     "output_type": "display_data"
    },
    {
     "data": {
      "text/html": [],
      "text/plain": [
       "<IPython.core.display.HTML object>"
      ]
     },
     "metadata": {},
     "output_type": "display_data"
    },
    {
     "data": {
      "text/html": [],
      "text/plain": [
       "<IPython.core.display.HTML object>"
      ]
     },
     "metadata": {},
     "output_type": "display_data"
    },
    {
     "data": {
      "text/html": [],
      "text/plain": [
       "<IPython.core.display.HTML object>"
      ]
     },
     "metadata": {},
     "output_type": "display_data"
    },
    {
     "data": {
      "text/html": [],
      "text/plain": [
       "<IPython.core.display.HTML object>"
      ]
     },
     "metadata": {},
     "output_type": "display_data"
    },
    {
     "data": {
      "text/html": [],
      "text/plain": [
       "<IPython.core.display.HTML object>"
      ]
     },
     "metadata": {},
     "output_type": "display_data"
    },
    {
     "data": {
      "text/html": [],
      "text/plain": [
       "<IPython.core.display.HTML object>"
      ]
     },
     "metadata": {},
     "output_type": "display_data"
    },
    {
     "data": {
      "text/html": [],
      "text/plain": [
       "<IPython.core.display.HTML object>"
      ]
     },
     "metadata": {},
     "output_type": "display_data"
    },
    {
     "data": {
      "text/html": [],
      "text/plain": [
       "<IPython.core.display.HTML object>"
      ]
     },
     "metadata": {},
     "output_type": "display_data"
    },
    {
     "data": {
      "text/html": [],
      "text/plain": [
       "<IPython.core.display.HTML object>"
      ]
     },
     "metadata": {},
     "output_type": "display_data"
    },
    {
     "data": {
      "text/html": [],
      "text/plain": [
       "<IPython.core.display.HTML object>"
      ]
     },
     "metadata": {},
     "output_type": "display_data"
    },
    {
     "data": {
      "text/html": [],
      "text/plain": [
       "<IPython.core.display.HTML object>"
      ]
     },
     "metadata": {},
     "output_type": "display_data"
    },
    {
     "data": {
      "text/html": [],
      "text/plain": [
       "<IPython.core.display.HTML object>"
      ]
     },
     "metadata": {},
     "output_type": "display_data"
    },
    {
     "data": {
      "text/html": [],
      "text/plain": [
       "<IPython.core.display.HTML object>"
      ]
     },
     "metadata": {},
     "output_type": "display_data"
    },
    {
     "data": {
      "text/html": [],
      "text/plain": [
       "<IPython.core.display.HTML object>"
      ]
     },
     "metadata": {},
     "output_type": "display_data"
    },
    {
     "data": {
      "text/html": [],
      "text/plain": [
       "<IPython.core.display.HTML object>"
      ]
     },
     "metadata": {},
     "output_type": "display_data"
    },
    {
     "data": {
      "text/html": [],
      "text/plain": [
       "<IPython.core.display.HTML object>"
      ]
     },
     "metadata": {},
     "output_type": "display_data"
    },
    {
     "data": {
      "text/html": [],
      "text/plain": [
       "<IPython.core.display.HTML object>"
      ]
     },
     "metadata": {},
     "output_type": "display_data"
    },
    {
     "data": {
      "text/html": [],
      "text/plain": [
       "<IPython.core.display.HTML object>"
      ]
     },
     "metadata": {},
     "output_type": "display_data"
    },
    {
     "data": {
      "text/html": [],
      "text/plain": [
       "<IPython.core.display.HTML object>"
      ]
     },
     "metadata": {},
     "output_type": "display_data"
    },
    {
     "data": {
      "text/html": [],
      "text/plain": [
       "<IPython.core.display.HTML object>"
      ]
     },
     "metadata": {},
     "output_type": "display_data"
    },
    {
     "data": {
      "text/html": [],
      "text/plain": [
       "<IPython.core.display.HTML object>"
      ]
     },
     "metadata": {},
     "output_type": "display_data"
    },
    {
     "data": {
      "text/html": [],
      "text/plain": [
       "<IPython.core.display.HTML object>"
      ]
     },
     "metadata": {},
     "output_type": "display_data"
    },
    {
     "data": {
      "text/html": [],
      "text/plain": [
       "<IPython.core.display.HTML object>"
      ]
     },
     "metadata": {},
     "output_type": "display_data"
    },
    {
     "data": {
      "text/html": [],
      "text/plain": [
       "<IPython.core.display.HTML object>"
      ]
     },
     "metadata": {},
     "output_type": "display_data"
    },
    {
     "data": {
      "text/html": [],
      "text/plain": [
       "<IPython.core.display.HTML object>"
      ]
     },
     "metadata": {},
     "output_type": "display_data"
    },
    {
     "data": {
      "text/html": [],
      "text/plain": [
       "<IPython.core.display.HTML object>"
      ]
     },
     "metadata": {},
     "output_type": "display_data"
    },
    {
     "data": {
      "text/html": [],
      "text/plain": [
       "<IPython.core.display.HTML object>"
      ]
     },
     "metadata": {},
     "output_type": "display_data"
    },
    {
     "data": {
      "text/html": [],
      "text/plain": [
       "<IPython.core.display.HTML object>"
      ]
     },
     "metadata": {},
     "output_type": "display_data"
    },
    {
     "data": {
      "text/html": [],
      "text/plain": [
       "<IPython.core.display.HTML object>"
      ]
     },
     "metadata": {},
     "output_type": "display_data"
    },
    {
     "data": {
      "text/html": [],
      "text/plain": [
       "<IPython.core.display.HTML object>"
      ]
     },
     "metadata": {},
     "output_type": "display_data"
    },
    {
     "data": {
      "text/html": [],
      "text/plain": [
       "<IPython.core.display.HTML object>"
      ]
     },
     "metadata": {},
     "output_type": "display_data"
    },
    {
     "data": {
      "text/html": [],
      "text/plain": [
       "<IPython.core.display.HTML object>"
      ]
     },
     "metadata": {},
     "output_type": "display_data"
    },
    {
     "data": {
      "text/html": [],
      "text/plain": [
       "<IPython.core.display.HTML object>"
      ]
     },
     "metadata": {},
     "output_type": "display_data"
    },
    {
     "name": "stdout",
     "output_type": "stream",
     "text": [
      "done in 578.0 secs \n",
      "12 metric_dfs built\n"
     ]
    }
   ],
   "source": [
    "EPOCHS = 20\n",
    "TMP_FN = 'assets/tmp.csv'\n",
    "\n",
    "feats = [\n",
    "         ('pix', 'pts11'),\n",
    "         ('pix', 'pts12'),\n",
    "         ('pix', 'pts22'),\n",
    "         ('', 'pts11'),\n",
    "         ('', 'pts12'),\n",
    "         ('', 'pts22'),\n",
    "        ]\n",
    "\n",
    "dls = [dls_tl, dls_cr]\n",
    "\n",
    "list_df_metrics = []\n",
    "\n",
    "t0 = time.time()\n",
    "\n",
    "for dl_ind in (0,1):\n",
    "    for _feat in feats:\n",
    "\n",
    "        featsnet  = FeatsNet(feats=_feat)\n",
    "        tmplogger = CSVLogger(fname=TMP_FN)\n",
    "        learn     = Learner(dls[dl_ind], \n",
    "                            featsnet, \n",
    "                            loss_func=MSELossFlat(), \n",
    "                            cbs=[tmplogger])\n",
    "\n",
    "        with learn.no_logging(): learn.fit(EPOCHS)\n",
    "\n",
    "        _df = metrics_df(\n",
    "                   learn, \n",
    "                   s_model =    f'FeatsNet1.{_feat[-1][-2:]}',\n",
    "                   s_details =  f'feats={\",\".join(_feat)}',\n",
    "                   s_target =   \"topleft\" if dl_ind == 0 else \"center\",\n",
    "                  )\n",
    "        \n",
    "        list_df_metrics.append(_df)\n",
    "        \n",
    "print(f'done in {round(time.time() - t0,0)} secs ')\n",
    "print(f'{len(list_df_metrics)} metric_dfs built')"
   ]
  },
  {
   "cell_type": "code",
   "execution_count": null,
   "metadata": {},
   "outputs": [],
   "source": []
  },
  {
   "cell_type": "code",
   "execution_count": 9,
   "metadata": {},
   "outputs": [
    {
     "data": {
      "text/html": [
       "<div>\n",
       "<style scoped>\n",
       "    .dataframe tbody tr th:only-of-type {\n",
       "        vertical-align: middle;\n",
       "    }\n",
       "\n",
       "    .dataframe tbody tr th {\n",
       "        vertical-align: top;\n",
       "    }\n",
       "\n",
       "    .dataframe thead th {\n",
       "        text-align: right;\n",
       "    }\n",
       "</style>\n",
       "<table border=\"1\" class=\"dataframe\">\n",
       "  <thead>\n",
       "    <tr style=\"text-align: right;\">\n",
       "      <th></th>\n",
       "      <th>model</th>\n",
       "      <th>details</th>\n",
       "      <th>target</th>\n",
       "      <th>split</th>\n",
       "      <th>mse</th>\n",
       "      <th>mae</th>\n",
       "      <th>r2</th>\n",
       "      <th>dist_avg</th>\n",
       "      <th>dist_r2</th>\n",
       "      <th>sqdist_avg</th>\n",
       "      <th>sqdist_r2</th>\n",
       "    </tr>\n",
       "  </thead>\n",
       "  <tbody>\n",
       "    <tr>\n",
       "      <th>15</th>\n",
       "      <td>FeatsNet1.12</td>\n",
       "      <td>feats=pix,pts12</td>\n",
       "      <td>center</td>\n",
       "      <td>train</td>\n",
       "      <td>0.000644</td>\n",
       "      <td>0.019390</td>\n",
       "      <td>0.881692</td>\n",
       "      <td>0.030806</td>\n",
       "      <td>0.704996</td>\n",
       "      <td>0.001288</td>\n",
       "      <td>0.902266</td>\n",
       "    </tr>\n",
       "    <tr>\n",
       "      <th>17</th>\n",
       "      <td>FeatsNet1.22</td>\n",
       "      <td>feats=pix,pts22</td>\n",
       "      <td>center</td>\n",
       "      <td>train</td>\n",
       "      <td>0.000721</td>\n",
       "      <td>0.020405</td>\n",
       "      <td>0.866515</td>\n",
       "      <td>0.032513</td>\n",
       "      <td>0.688643</td>\n",
       "      <td>0.001441</td>\n",
       "      <td>0.890594</td>\n",
       "    </tr>\n",
       "    <tr>\n",
       "      <th>13</th>\n",
       "      <td>FeatsNet1.11</td>\n",
       "      <td>feats=pix,pts11</td>\n",
       "      <td>center</td>\n",
       "      <td>train</td>\n",
       "      <td>0.000828</td>\n",
       "      <td>0.021696</td>\n",
       "      <td>0.843753</td>\n",
       "      <td>0.034869</td>\n",
       "      <td>0.666083</td>\n",
       "      <td>0.001656</td>\n",
       "      <td>0.874317</td>\n",
       "    </tr>\n",
       "    <tr>\n",
       "      <th>14</th>\n",
       "      <td>FeatsNet1.12</td>\n",
       "      <td>feats=pix,pts12</td>\n",
       "      <td>center</td>\n",
       "      <td>valid</td>\n",
       "      <td>0.001439</td>\n",
       "      <td>0.027464</td>\n",
       "      <td>0.701482</td>\n",
       "      <td>0.044069</td>\n",
       "      <td>0.562362</td>\n",
       "      <td>0.002877</td>\n",
       "      <td>0.767991</td>\n",
       "    </tr>\n",
       "    <tr>\n",
       "      <th>16</th>\n",
       "      <td>FeatsNet1.22</td>\n",
       "      <td>feats=pix,pts22</td>\n",
       "      <td>center</td>\n",
       "      <td>valid</td>\n",
       "      <td>0.001543</td>\n",
       "      <td>0.028703</td>\n",
       "      <td>0.682301</td>\n",
       "      <td>0.045673</td>\n",
       "      <td>0.546433</td>\n",
       "      <td>0.003086</td>\n",
       "      <td>0.751183</td>\n",
       "    </tr>\n",
       "    <tr>\n",
       "      <th>12</th>\n",
       "      <td>FeatsNet1.11</td>\n",
       "      <td>feats=pix,pts11</td>\n",
       "      <td>center</td>\n",
       "      <td>valid</td>\n",
       "      <td>0.001619</td>\n",
       "      <td>0.028959</td>\n",
       "      <td>0.657668</td>\n",
       "      <td>0.046624</td>\n",
       "      <td>0.536988</td>\n",
       "      <td>0.003237</td>\n",
       "      <td>0.738954</td>\n",
       "    </tr>\n",
       "    <tr>\n",
       "      <th>20</th>\n",
       "      <td>FeatsNet1.12</td>\n",
       "      <td>feats=,pts12</td>\n",
       "      <td>center</td>\n",
       "      <td>valid</td>\n",
       "      <td>0.002431</td>\n",
       "      <td>0.038564</td>\n",
       "      <td>0.543687</td>\n",
       "      <td>0.060137</td>\n",
       "      <td>0.402784</td>\n",
       "      <td>0.004861</td>\n",
       "      <td>0.608005</td>\n",
       "    </tr>\n",
       "    <tr>\n",
       "      <th>21</th>\n",
       "      <td>FeatsNet1.12</td>\n",
       "      <td>feats=,pts12</td>\n",
       "      <td>center</td>\n",
       "      <td>train</td>\n",
       "      <td>0.002500</td>\n",
       "      <td>0.039875</td>\n",
       "      <td>0.563935</td>\n",
       "      <td>0.062550</td>\n",
       "      <td>0.401000</td>\n",
       "      <td>0.005000</td>\n",
       "      <td>0.620444</td>\n",
       "    </tr>\n",
       "    <tr>\n",
       "      <th>22</th>\n",
       "      <td>FeatsNet1.22</td>\n",
       "      <td>feats=,pts22</td>\n",
       "      <td>center</td>\n",
       "      <td>valid</td>\n",
       "      <td>0.003556</td>\n",
       "      <td>0.048313</td>\n",
       "      <td>0.357758</td>\n",
       "      <td>0.075117</td>\n",
       "      <td>0.254029</td>\n",
       "      <td>0.007112</td>\n",
       "      <td>0.426517</td>\n",
       "    </tr>\n",
       "    <tr>\n",
       "      <th>23</th>\n",
       "      <td>FeatsNet1.22</td>\n",
       "      <td>feats=,pts22</td>\n",
       "      <td>center</td>\n",
       "      <td>train</td>\n",
       "      <td>0.003979</td>\n",
       "      <td>0.052142</td>\n",
       "      <td>0.350085</td>\n",
       "      <td>0.080105</td>\n",
       "      <td>0.232893</td>\n",
       "      <td>0.007958</td>\n",
       "      <td>0.395938</td>\n",
       "    </tr>\n",
       "    <tr>\n",
       "      <th>18</th>\n",
       "      <td>FeatsNet1.11</td>\n",
       "      <td>feats=,pts11</td>\n",
       "      <td>center</td>\n",
       "      <td>valid</td>\n",
       "      <td>0.005011</td>\n",
       "      <td>0.058982</td>\n",
       "      <td>0.149804</td>\n",
       "      <td>0.090845</td>\n",
       "      <td>0.097836</td>\n",
       "      <td>0.010023</td>\n",
       "      <td>0.191770</td>\n",
       "    </tr>\n",
       "    <tr>\n",
       "      <th>19</th>\n",
       "      <td>FeatsNet1.11</td>\n",
       "      <td>feats=,pts11</td>\n",
       "      <td>center</td>\n",
       "      <td>train</td>\n",
       "      <td>0.005060</td>\n",
       "      <td>0.060156</td>\n",
       "      <td>0.206644</td>\n",
       "      <td>0.091585</td>\n",
       "      <td>0.122959</td>\n",
       "      <td>0.010120</td>\n",
       "      <td>0.231759</td>\n",
       "    </tr>\n",
       "    <tr>\n",
       "      <th>5</th>\n",
       "      <td>FeatsNet1.22</td>\n",
       "      <td>feats=pix,pts22</td>\n",
       "      <td>topleft</td>\n",
       "      <td>train</td>\n",
       "      <td>0.006703</td>\n",
       "      <td>0.059020</td>\n",
       "      <td>0.786218</td>\n",
       "      <td>0.095968</td>\n",
       "      <td>0.591962</td>\n",
       "      <td>0.013405</td>\n",
       "      <td>0.823528</td>\n",
       "    </tr>\n",
       "    <tr>\n",
       "      <th>3</th>\n",
       "      <td>FeatsNet1.12</td>\n",
       "      <td>feats=pix,pts12</td>\n",
       "      <td>topleft</td>\n",
       "      <td>train</td>\n",
       "      <td>0.007614</td>\n",
       "      <td>0.061995</td>\n",
       "      <td>0.756916</td>\n",
       "      <td>0.100877</td>\n",
       "      <td>0.571087</td>\n",
       "      <td>0.015228</td>\n",
       "      <td>0.799532</td>\n",
       "    </tr>\n",
       "    <tr>\n",
       "      <th>1</th>\n",
       "      <td>FeatsNet1.11</td>\n",
       "      <td>feats=pix,pts11</td>\n",
       "      <td>topleft</td>\n",
       "      <td>train</td>\n",
       "      <td>0.010061</td>\n",
       "      <td>0.073281</td>\n",
       "      <td>0.589478</td>\n",
       "      <td>0.117535</td>\n",
       "      <td>0.500260</td>\n",
       "      <td>0.020122</td>\n",
       "      <td>0.735104</td>\n",
       "    </tr>\n",
       "    <tr>\n",
       "      <th>4</th>\n",
       "      <td>FeatsNet1.22</td>\n",
       "      <td>feats=pix,pts22</td>\n",
       "      <td>topleft</td>\n",
       "      <td>valid</td>\n",
       "      <td>0.014068</td>\n",
       "      <td>0.079283</td>\n",
       "      <td>0.568515</td>\n",
       "      <td>0.130934</td>\n",
       "      <td>0.393934</td>\n",
       "      <td>0.028135</td>\n",
       "      <td>0.559760</td>\n",
       "    </tr>\n",
       "    <tr>\n",
       "      <th>2</th>\n",
       "      <td>FeatsNet1.12</td>\n",
       "      <td>feats=pix,pts12</td>\n",
       "      <td>topleft</td>\n",
       "      <td>valid</td>\n",
       "      <td>0.015510</td>\n",
       "      <td>0.083584</td>\n",
       "      <td>0.520415</td>\n",
       "      <td>0.139055</td>\n",
       "      <td>0.356344</td>\n",
       "      <td>0.031020</td>\n",
       "      <td>0.514620</td>\n",
       "    </tr>\n",
       "    <tr>\n",
       "      <th>10</th>\n",
       "      <td>FeatsNet1.22</td>\n",
       "      <td>feats=,pts22</td>\n",
       "      <td>topleft</td>\n",
       "      <td>valid</td>\n",
       "      <td>0.016908</td>\n",
       "      <td>0.096736</td>\n",
       "      <td>0.365507</td>\n",
       "      <td>0.156395</td>\n",
       "      <td>0.276077</td>\n",
       "      <td>0.033816</td>\n",
       "      <td>0.470873</td>\n",
       "    </tr>\n",
       "    <tr>\n",
       "      <th>11</th>\n",
       "      <td>FeatsNet1.22</td>\n",
       "      <td>feats=,pts22</td>\n",
       "      <td>topleft</td>\n",
       "      <td>train</td>\n",
       "      <td>0.017626</td>\n",
       "      <td>0.098680</td>\n",
       "      <td>0.383080</td>\n",
       "      <td>0.158660</td>\n",
       "      <td>0.325406</td>\n",
       "      <td>0.035251</td>\n",
       "      <td>0.535940</td>\n",
       "    </tr>\n",
       "    <tr>\n",
       "      <th>0</th>\n",
       "      <td>FeatsNet1.11</td>\n",
       "      <td>feats=pix,pts11</td>\n",
       "      <td>topleft</td>\n",
       "      <td>valid</td>\n",
       "      <td>0.017786</td>\n",
       "      <td>0.090474</td>\n",
       "      <td>0.360228</td>\n",
       "      <td>0.148359</td>\n",
       "      <td>0.313277</td>\n",
       "      <td>0.035571</td>\n",
       "      <td>0.443408</td>\n",
       "    </tr>\n",
       "    <tr>\n",
       "      <th>8</th>\n",
       "      <td>FeatsNet1.12</td>\n",
       "      <td>feats=,pts12</td>\n",
       "      <td>topleft</td>\n",
       "      <td>valid</td>\n",
       "      <td>0.020962</td>\n",
       "      <td>0.110398</td>\n",
       "      <td>0.163762</td>\n",
       "      <td>0.175410</td>\n",
       "      <td>0.188063</td>\n",
       "      <td>0.041924</td>\n",
       "      <td>0.344015</td>\n",
       "    </tr>\n",
       "    <tr>\n",
       "      <th>9</th>\n",
       "      <td>FeatsNet1.12</td>\n",
       "      <td>feats=,pts12</td>\n",
       "      <td>topleft</td>\n",
       "      <td>train</td>\n",
       "      <td>0.021229</td>\n",
       "      <td>0.111197</td>\n",
       "      <td>0.211811</td>\n",
       "      <td>0.176402</td>\n",
       "      <td>0.249970</td>\n",
       "      <td>0.042459</td>\n",
       "      <td>0.441062</td>\n",
       "    </tr>\n",
       "    <tr>\n",
       "      <th>6</th>\n",
       "      <td>FeatsNet1.11</td>\n",
       "      <td>feats=,pts11</td>\n",
       "      <td>topleft</td>\n",
       "      <td>valid</td>\n",
       "      <td>0.032916</td>\n",
       "      <td>0.137651</td>\n",
       "      <td>-0.117979</td>\n",
       "      <td>0.221353</td>\n",
       "      <td>-0.024602</td>\n",
       "      <td>0.065832</td>\n",
       "      <td>-0.030080</td>\n",
       "    </tr>\n",
       "    <tr>\n",
       "      <th>7</th>\n",
       "      <td>FeatsNet1.11</td>\n",
       "      <td>feats=,pts11</td>\n",
       "      <td>topleft</td>\n",
       "      <td>train</td>\n",
       "      <td>0.038637</td>\n",
       "      <td>0.147242</td>\n",
       "      <td>-0.091868</td>\n",
       "      <td>0.238639</td>\n",
       "      <td>-0.014650</td>\n",
       "      <td>0.077273</td>\n",
       "      <td>-0.017246</td>\n",
       "    </tr>\n",
       "  </tbody>\n",
       "</table>\n",
       "</div>"
      ],
      "text/plain": [
       "           model          details   target  split       mse       mae  \\\n",
       "15  FeatsNet1.12  feats=pix,pts12   center  train  0.000644  0.019390   \n",
       "17  FeatsNet1.22  feats=pix,pts22   center  train  0.000721  0.020405   \n",
       "13  FeatsNet1.11  feats=pix,pts11   center  train  0.000828  0.021696   \n",
       "14  FeatsNet1.12  feats=pix,pts12   center  valid  0.001439  0.027464   \n",
       "16  FeatsNet1.22  feats=pix,pts22   center  valid  0.001543  0.028703   \n",
       "12  FeatsNet1.11  feats=pix,pts11   center  valid  0.001619  0.028959   \n",
       "20  FeatsNet1.12     feats=,pts12   center  valid  0.002431  0.038564   \n",
       "21  FeatsNet1.12     feats=,pts12   center  train  0.002500  0.039875   \n",
       "22  FeatsNet1.22     feats=,pts22   center  valid  0.003556  0.048313   \n",
       "23  FeatsNet1.22     feats=,pts22   center  train  0.003979  0.052142   \n",
       "18  FeatsNet1.11     feats=,pts11   center  valid  0.005011  0.058982   \n",
       "19  FeatsNet1.11     feats=,pts11   center  train  0.005060  0.060156   \n",
       "5   FeatsNet1.22  feats=pix,pts22  topleft  train  0.006703  0.059020   \n",
       "3   FeatsNet1.12  feats=pix,pts12  topleft  train  0.007614  0.061995   \n",
       "1   FeatsNet1.11  feats=pix,pts11  topleft  train  0.010061  0.073281   \n",
       "4   FeatsNet1.22  feats=pix,pts22  topleft  valid  0.014068  0.079283   \n",
       "2   FeatsNet1.12  feats=pix,pts12  topleft  valid  0.015510  0.083584   \n",
       "10  FeatsNet1.22     feats=,pts22  topleft  valid  0.016908  0.096736   \n",
       "11  FeatsNet1.22     feats=,pts22  topleft  train  0.017626  0.098680   \n",
       "0   FeatsNet1.11  feats=pix,pts11  topleft  valid  0.017786  0.090474   \n",
       "8   FeatsNet1.12     feats=,pts12  topleft  valid  0.020962  0.110398   \n",
       "9   FeatsNet1.12     feats=,pts12  topleft  train  0.021229  0.111197   \n",
       "6   FeatsNet1.11     feats=,pts11  topleft  valid  0.032916  0.137651   \n",
       "7   FeatsNet1.11     feats=,pts11  topleft  train  0.038637  0.147242   \n",
       "\n",
       "          r2  dist_avg   dist_r2  sqdist_avg  sqdist_r2  \n",
       "15  0.881692  0.030806  0.704996    0.001288   0.902266  \n",
       "17  0.866515  0.032513  0.688643    0.001441   0.890594  \n",
       "13  0.843753  0.034869  0.666083    0.001656   0.874317  \n",
       "14  0.701482  0.044069  0.562362    0.002877   0.767991  \n",
       "16  0.682301  0.045673  0.546433    0.003086   0.751183  \n",
       "12  0.657668  0.046624  0.536988    0.003237   0.738954  \n",
       "20  0.543687  0.060137  0.402784    0.004861   0.608005  \n",
       "21  0.563935  0.062550  0.401000    0.005000   0.620444  \n",
       "22  0.357758  0.075117  0.254029    0.007112   0.426517  \n",
       "23  0.350085  0.080105  0.232893    0.007958   0.395938  \n",
       "18  0.149804  0.090845  0.097836    0.010023   0.191770  \n",
       "19  0.206644  0.091585  0.122959    0.010120   0.231759  \n",
       "5   0.786218  0.095968  0.591962    0.013405   0.823528  \n",
       "3   0.756916  0.100877  0.571087    0.015228   0.799532  \n",
       "1   0.589478  0.117535  0.500260    0.020122   0.735104  \n",
       "4   0.568515  0.130934  0.393934    0.028135   0.559760  \n",
       "2   0.520415  0.139055  0.356344    0.031020   0.514620  \n",
       "10  0.365507  0.156395  0.276077    0.033816   0.470873  \n",
       "11  0.383080  0.158660  0.325406    0.035251   0.535940  \n",
       "0   0.360228  0.148359  0.313277    0.035571   0.443408  \n",
       "8   0.163762  0.175410  0.188063    0.041924   0.344015  \n",
       "9   0.211811  0.176402  0.249970    0.042459   0.441062  \n",
       "6  -0.117979  0.221353 -0.024602    0.065832  -0.030080  \n",
       "7  -0.091868  0.238639 -0.014650    0.077273  -0.017246  "
      ]
     },
     "execution_count": 9,
     "metadata": {},
     "output_type": "execute_result"
    }
   ],
   "source": [
    "df = pd.concat(list_df_metrics)\n",
    "df.reset_index(inplace=True, drop=True)\n",
    "df.sort_values(by='mse', ascending=True)"
   ]
  },
  {
   "cell_type": "code",
   "execution_count": 10,
   "metadata": {},
   "outputs": [],
   "source": [
    "df.to_csv('assets/metrics-dfs/rcn6b-featsnet1x.csv')"
   ]
  },
  {
   "cell_type": "code",
   "execution_count": null,
   "metadata": {},
   "outputs": [],
   "source": []
  }
 ],
 "metadata": {
  "kernelspec": {
   "display_name": "Python 3",
   "language": "python",
   "name": "python3"
  },
  "language_info": {
   "codemirror_mode": {
    "name": "ipython",
    "version": 3
   },
   "file_extension": ".py",
   "mimetype": "text/x-python",
   "name": "python",
   "nbconvert_exporter": "python",
   "pygments_lexer": "ipython3",
   "version": "3.7.6"
  }
 },
 "nbformat": 4,
 "nbformat_minor": 4
}
