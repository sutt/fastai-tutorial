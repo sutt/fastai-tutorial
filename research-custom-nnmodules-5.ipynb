{
 "cells": [
  {
   "cell_type": "markdown",
   "metadata": {},
   "source": [
    "## Focusing on terse `BaseNet` training/eval"
   ]
  },
  {
   "cell_type": "code",
   "execution_count": 4,
   "metadata": {},
   "outputs": [
    {
     "name": "stdout",
     "output_type": "stream",
     "text": [
      "The autoreload extension is already loaded. To reload it, use:\n",
      "  %reload_ext autoreload\n"
     ]
    }
   ],
   "source": [
    "import os, sys\n",
    "import copy as copyroot\n",
    "import pandas as pd\n",
    "from IPython.display import display\n",
    "from matplotlib import pyplot as plt\n",
    "from fastai2.basics import *\n",
    "from fastai2.vision.all import *\n",
    "%load_ext autoreload\n",
    "%autoreload 2\n",
    "\n",
    "from module.mnist_helpers import build_df, eda_fig_1, build_dls\n",
    "from module.mnist_models import FeatsNet"
   ]
  },
  {
   "cell_type": "code",
   "execution_count": 5,
   "metadata": {},
   "outputs": [
    {
     "data": {
      "text/plain": [
       "torch.Size([64, 1, 28, 28])"
      ]
     },
     "execution_count": 5,
     "metadata": {},
     "output_type": "execute_result"
    }
   ],
   "source": [
    "dls = build_dls(target='topleft')\n",
    "x, y = dls.one_batch()\n",
    "x.shape"
   ]
  },
  {
   "cell_type": "markdown",
   "metadata": {},
   "source": [
    "### BaseNet"
   ]
  },
  {
   "cell_type": "code",
   "execution_count": 17,
   "metadata": {},
   "outputs": [],
   "source": [
    "class BaseNet(torch.nn.Module):\n",
    "    def __init__(self, D_in=28, H=28, b_relu=False, b_mid=False):\n",
    "        super(BaseNet, self).__init__()\n",
    "        self.b_relu = b_relu\n",
    "        self.b_mid  = b_mid\n",
    "        \n",
    "        self.flat     = nn.Flatten()\n",
    "        self.linear1  = nn.Linear(in_features=D_in**2, out_features=H)\n",
    "        self.relu     = nn.ReLU()\n",
    "        self.linear1a = nn.Linear(in_features=H, out_features=H)\n",
    "        self.linear2  = nn.Linear(in_features=H, out_features=2, bias=False)\n",
    "        self.sig      = SigmoidRange(-1., 1)\n",
    "    \n",
    "    def forward(self, x):\n",
    "        \n",
    "        l0 = self.flat(x)\n",
    "        l1 = self.linear1(l0)\n",
    "\n",
    "        if self.b_relu:      l1 = self.relu(l1)\n",
    "        if self.b_mid:       l1 = self.linear1a(l1)\n",
    "        if self.b_mid and self.b_relu:  \n",
    "                             l1 = self.relu(l1)\n",
    "\n",
    "        l2 = self.linear2(l1)\n",
    "        y =  self.sig(l2)\n",
    "        return y\n"
   ]
  },
  {
   "cell_type": "code",
   "execution_count": 20,
   "metadata": {},
   "outputs": [
    {
     "data": {
      "text/html": [
       "<table border=\"1\" class=\"dataframe\">\n",
       "  <thead>\n",
       "    <tr style=\"text-align: left;\">\n",
       "      <th>epoch</th>\n",
       "      <th>train_loss</th>\n",
       "      <th>valid_loss</th>\n",
       "      <th>time</th>\n",
       "    </tr>\n",
       "  </thead>\n",
       "  <tbody>\n",
       "    <tr>\n",
       "      <td>0</td>\n",
       "      <td>0.088308</td>\n",
       "      <td>0.034979</td>\n",
       "      <td>00:01</td>\n",
       "    </tr>\n",
       "    <tr>\n",
       "      <td>1</td>\n",
       "      <td>0.062971</td>\n",
       "      <td>0.040873</td>\n",
       "      <td>00:01</td>\n",
       "    </tr>\n",
       "    <tr>\n",
       "      <td>2</td>\n",
       "      <td>0.051863</td>\n",
       "      <td>0.029630</td>\n",
       "      <td>00:01</td>\n",
       "    </tr>\n",
       "    <tr>\n",
       "      <td>3</td>\n",
       "      <td>0.043407</td>\n",
       "      <td>0.024712</td>\n",
       "      <td>00:01</td>\n",
       "    </tr>\n",
       "    <tr>\n",
       "      <td>4</td>\n",
       "      <td>0.037509</td>\n",
       "      <td>0.024635</td>\n",
       "      <td>00:01</td>\n",
       "    </tr>\n",
       "    <tr>\n",
       "      <td>5</td>\n",
       "      <td>0.033070</td>\n",
       "      <td>0.021415</td>\n",
       "      <td>00:01</td>\n",
       "    </tr>\n",
       "    <tr>\n",
       "      <td>6</td>\n",
       "      <td>0.029656</td>\n",
       "      <td>0.021474</td>\n",
       "      <td>00:01</td>\n",
       "    </tr>\n",
       "    <tr>\n",
       "      <td>7</td>\n",
       "      <td>0.026981</td>\n",
       "      <td>0.020865</td>\n",
       "      <td>00:01</td>\n",
       "    </tr>\n",
       "  </tbody>\n",
       "</table>"
      ],
      "text/plain": [
       "<IPython.core.display.HTML object>"
      ]
     },
     "metadata": {},
     "output_type": "display_data"
    }
   ],
   "source": [
    "bn = BaseNet(b_relu=False, b_mid=False)\n",
    "learn_bn = Learner(dls, bn, loss_func=MSELossFlat() )\n",
    "learn_bn.fit(8)"
   ]
  },
  {
   "cell_type": "code",
   "execution_count": 21,
   "metadata": {},
   "outputs": [
    {
     "data": {
      "text/html": [
       "<table border=\"1\" class=\"dataframe\">\n",
       "  <thead>\n",
       "    <tr style=\"text-align: left;\">\n",
       "      <th>epoch</th>\n",
       "      <th>train_loss</th>\n",
       "      <th>valid_loss</th>\n",
       "      <th>time</th>\n",
       "    </tr>\n",
       "  </thead>\n",
       "  <tbody>\n",
       "    <tr>\n",
       "      <td>0</td>\n",
       "      <td>0.135725</td>\n",
       "      <td>0.048507</td>\n",
       "      <td>00:01</td>\n",
       "    </tr>\n",
       "    <tr>\n",
       "      <td>1</td>\n",
       "      <td>0.086116</td>\n",
       "      <td>0.040667</td>\n",
       "      <td>00:01</td>\n",
       "    </tr>\n",
       "    <tr>\n",
       "      <td>2</td>\n",
       "      <td>0.068733</td>\n",
       "      <td>0.034633</td>\n",
       "      <td>00:01</td>\n",
       "    </tr>\n",
       "    <tr>\n",
       "      <td>3</td>\n",
       "      <td>0.056620</td>\n",
       "      <td>0.027000</td>\n",
       "      <td>00:01</td>\n",
       "    </tr>\n",
       "    <tr>\n",
       "      <td>4</td>\n",
       "      <td>0.047974</td>\n",
       "      <td>0.025265</td>\n",
       "      <td>00:01</td>\n",
       "    </tr>\n",
       "    <tr>\n",
       "      <td>5</td>\n",
       "      <td>0.042075</td>\n",
       "      <td>0.024538</td>\n",
       "      <td>00:01</td>\n",
       "    </tr>\n",
       "    <tr>\n",
       "      <td>6</td>\n",
       "      <td>0.037453</td>\n",
       "      <td>0.022317</td>\n",
       "      <td>00:01</td>\n",
       "    </tr>\n",
       "    <tr>\n",
       "      <td>7</td>\n",
       "      <td>0.033733</td>\n",
       "      <td>0.022934</td>\n",
       "      <td>00:01</td>\n",
       "    </tr>\n",
       "  </tbody>\n",
       "</table>"
      ],
      "text/plain": [
       "<IPython.core.display.HTML object>"
      ]
     },
     "metadata": {},
     "output_type": "display_data"
    }
   ],
   "source": [
    "bn = BaseNet(b_relu=True, b_mid=False)\n",
    "learn_bn = Learner(dls, bn, loss_func=MSELossFlat() )\n",
    "learn_bn.fit(8)"
   ]
  },
  {
   "cell_type": "code",
   "execution_count": null,
   "metadata": {},
   "outputs": [],
   "source": [
    "TRIALS = 5\n",
    "EPOCHS = 8\n",
    "d_mse = {}\n",
    "\n",
    "for _h in (2, 12, 28, 52):\n",
    "    \n",
    "    print(f'H: {_h}')\n",
    "    d_mse[_h] = []\n",
    "    for trial in range(TRIALS):\n",
    "        \n",
    "        learn = Learner(dls, BaseNet(D_in=28, H=_h), \n",
    "                        loss_func=MSELossFlat())\n",
    "\n",
    "        with learn.no_logging(): learn.fit(EPOCHS)\n",
    "\n",
    "        preds = learn.get_preds()\n",
    "        _mse = mse(preds[0], preds[1])\n",
    "        d_mse[_h].append(_mse)"
   ]
  },
  {
   "cell_type": "code",
   "execution_count": null,
   "metadata": {},
   "outputs": [],
   "source": []
  }
 ],
 "metadata": {
  "kernelspec": {
   "display_name": "Python 3",
   "language": "python",
   "name": "python3"
  },
  "language_info": {
   "codemirror_mode": {
    "name": "ipython",
    "version": 3
   },
   "file_extension": ".py",
   "mimetype": "text/x-python",
   "name": "python",
   "nbconvert_exporter": "python",
   "pygments_lexer": "ipython3",
   "version": "3.7.6"
  }
 },
 "nbformat": 4,
 "nbformat_minor": 4
}
