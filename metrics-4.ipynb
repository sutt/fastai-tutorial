{
 "cells": [
  {
   "cell_type": "markdown",
   "metadata": {},
   "source": [
    "### Metrics 4: Compare Eval Metrics"
   ]
  },
  {
   "cell_type": "code",
   "execution_count": 110,
   "metadata": {},
   "outputs": [],
   "source": [
    "import pandas as pd\n",
    "from matplotlib import pyplot as plt"
   ]
  },
  {
   "cell_type": "code",
   "execution_count": 111,
   "metadata": {},
   "outputs": [
    {
     "name": "stdout",
     "output_type": "stream",
     "text": [
      "metrics1-df-net3.csv   metrics2-df-rf.csv\r\n",
      "metrics2-df-lasso.csv  metrics3-df-resnet.csv\r\n"
     ]
    }
   ],
   "source": [
    "!ls assets/metrics-dfs"
   ]
  },
  {
   "cell_type": "code",
   "execution_count": 112,
   "metadata": {},
   "outputs": [],
   "source": [
    "d = 'assets/metrics-dfs/'\n",
    "net3 =   pd.read_csv(d + 'metrics1-df-net3.csv')\n",
    "lasso =  pd.read_csv(d + 'metrics2-df-lasso.csv')\n",
    "rf =  pd.read_csv(d + 'metrics2-df-rf.csv')\n",
    "resnet = pd.read_csv(d + 'metrics3-df-resnet.csv')\n"
   ]
  },
  {
   "cell_type": "code",
   "execution_count": 113,
   "metadata": {},
   "outputs": [],
   "source": [
    "df = pd.concat((net3, lasso, rf, resnet), join='inner')"
   ]
  },
  {
   "cell_type": "code",
   "execution_count": 114,
   "metadata": {},
   "outputs": [
    {
     "data": {
      "text/html": [
       "<div>\n",
       "<style scoped>\n",
       "    .dataframe tbody tr th:only-of-type {\n",
       "        vertical-align: middle;\n",
       "    }\n",
       "\n",
       "    .dataframe tbody tr th {\n",
       "        vertical-align: top;\n",
       "    }\n",
       "\n",
       "    .dataframe thead th {\n",
       "        text-align: right;\n",
       "    }\n",
       "</style>\n",
       "<table border=\"1\" class=\"dataframe\">\n",
       "  <thead>\n",
       "    <tr style=\"text-align: right;\">\n",
       "      <th></th>\n",
       "      <th>model</th>\n",
       "      <th>details</th>\n",
       "      <th>target</th>\n",
       "      <th>split</th>\n",
       "      <th>mse</th>\n",
       "      <th>mae</th>\n",
       "      <th>r2</th>\n",
       "      <th>dist_avg</th>\n",
       "      <th>dist_r2</th>\n",
       "      <th>sqdist_avg</th>\n",
       "      <th>sqdist_r2</th>\n",
       "    </tr>\n",
       "  </thead>\n",
       "  <tbody>\n",
       "    <tr>\n",
       "      <th>0</th>\n",
       "      <td>Net3</td>\n",
       "      <td>10 fit epochs</td>\n",
       "      <td>center</td>\n",
       "      <td>valid</td>\n",
       "      <td>0.002321</td>\n",
       "      <td>0.035860</td>\n",
       "      <td>0.529265</td>\n",
       "      <td>0.057386</td>\n",
       "      <td>0.430105</td>\n",
       "      <td>0.004642</td>\n",
       "      <td>0.625702</td>\n",
       "    </tr>\n",
       "    <tr>\n",
       "      <th>1</th>\n",
       "      <td>Net3</td>\n",
       "      <td>10 fit epochs</td>\n",
       "      <td>center</td>\n",
       "      <td>train</td>\n",
       "      <td>0.001251</td>\n",
       "      <td>0.026886</td>\n",
       "      <td>0.780596</td>\n",
       "      <td>0.042757</td>\n",
       "      <td>0.590545</td>\n",
       "      <td>0.002502</td>\n",
       "      <td>0.810111</td>\n",
       "    </tr>\n",
       "    <tr>\n",
       "      <th>2</th>\n",
       "      <td>Net3</td>\n",
       "      <td>10 fit epochs</td>\n",
       "      <td>topleft</td>\n",
       "      <td>valid</td>\n",
       "      <td>0.020588</td>\n",
       "      <td>0.103328</td>\n",
       "      <td>0.170152</td>\n",
       "      <td>0.166890</td>\n",
       "      <td>0.227500</td>\n",
       "      <td>0.041177</td>\n",
       "      <td>0.355698</td>\n",
       "    </tr>\n",
       "    <tr>\n",
       "      <th>3</th>\n",
       "      <td>Net3</td>\n",
       "      <td>10 fit epochs</td>\n",
       "      <td>topleft</td>\n",
       "      <td>train</td>\n",
       "      <td>0.014115</td>\n",
       "      <td>0.086962</td>\n",
       "      <td>0.388219</td>\n",
       "      <td>0.138814</td>\n",
       "      <td>0.409787</td>\n",
       "      <td>0.028231</td>\n",
       "      <td>0.628363</td>\n",
       "    </tr>\n",
       "    <tr>\n",
       "      <th>0</th>\n",
       "      <td>Lasso</td>\n",
       "      <td>alpha=1</td>\n",
       "      <td>topleft</td>\n",
       "      <td>train</td>\n",
       "      <td>0.005253</td>\n",
       "      <td>0.046936</td>\n",
       "      <td>0.909307</td>\n",
       "      <td>0.074546</td>\n",
       "      <td>0.750168</td>\n",
       "      <td>0.010506</td>\n",
       "      <td>0.910770</td>\n",
       "    </tr>\n",
       "    <tr>\n",
       "      <th>1</th>\n",
       "      <td>Lasso</td>\n",
       "      <td>alpha=1</td>\n",
       "      <td>center</td>\n",
       "      <td>train</td>\n",
       "      <td>0.001006</td>\n",
       "      <td>0.023437</td>\n",
       "      <td>0.920351</td>\n",
       "      <td>0.037478</td>\n",
       "      <td>0.740100</td>\n",
       "      <td>0.002012</td>\n",
       "      <td>0.920277</td>\n",
       "    </tr>\n",
       "    <tr>\n",
       "      <th>2</th>\n",
       "      <td>Lasso</td>\n",
       "      <td>alpha=1</td>\n",
       "      <td>topleft</td>\n",
       "      <td>valid</td>\n",
       "      <td>0.017655</td>\n",
       "      <td>0.081952</td>\n",
       "      <td>0.692450</td>\n",
       "      <td>0.130459</td>\n",
       "      <td>0.549808</td>\n",
       "      <td>0.035310</td>\n",
       "      <td>0.691744</td>\n",
       "    </tr>\n",
       "    <tr>\n",
       "      <th>3</th>\n",
       "      <td>Lasso</td>\n",
       "      <td>alpha=1</td>\n",
       "      <td>center</td>\n",
       "      <td>valid</td>\n",
       "      <td>0.001982</td>\n",
       "      <td>0.033595</td>\n",
       "      <td>0.842115</td>\n",
       "      <td>0.053305</td>\n",
       "      <td>0.629211</td>\n",
       "      <td>0.003964</td>\n",
       "      <td>0.842354</td>\n",
       "    </tr>\n",
       "    <tr>\n",
       "      <th>0</th>\n",
       "      <td>RF</td>\n",
       "      <td>default params</td>\n",
       "      <td>topleft</td>\n",
       "      <td>train</td>\n",
       "      <td>0.001585</td>\n",
       "      <td>0.018339</td>\n",
       "      <td>0.972602</td>\n",
       "      <td>0.030422</td>\n",
       "      <td>0.898043</td>\n",
       "      <td>0.003169</td>\n",
       "      <td>0.973085</td>\n",
       "    </tr>\n",
       "    <tr>\n",
       "      <th>1</th>\n",
       "      <td>RF</td>\n",
       "      <td>default params</td>\n",
       "      <td>center</td>\n",
       "      <td>train</td>\n",
       "      <td>0.000213</td>\n",
       "      <td>0.009108</td>\n",
       "      <td>0.983154</td>\n",
       "      <td>0.015020</td>\n",
       "      <td>0.895842</td>\n",
       "      <td>0.000425</td>\n",
       "      <td>0.983143</td>\n",
       "    </tr>\n",
       "    <tr>\n",
       "      <th>2</th>\n",
       "      <td>RF</td>\n",
       "      <td>default params</td>\n",
       "      <td>topleft</td>\n",
       "      <td>valid</td>\n",
       "      <td>0.009526</td>\n",
       "      <td>0.051479</td>\n",
       "      <td>0.834843</td>\n",
       "      <td>0.084943</td>\n",
       "      <td>0.706876</td>\n",
       "      <td>0.019053</td>\n",
       "      <td>0.833668</td>\n",
       "    </tr>\n",
       "    <tr>\n",
       "      <th>3</th>\n",
       "      <td>RF</td>\n",
       "      <td>default params</td>\n",
       "      <td>center</td>\n",
       "      <td>valid</td>\n",
       "      <td>0.001620</td>\n",
       "      <td>0.026063</td>\n",
       "      <td>0.871394</td>\n",
       "      <td>0.041923</td>\n",
       "      <td>0.708388</td>\n",
       "      <td>0.003241</td>\n",
       "      <td>0.871118</td>\n",
       "    </tr>\n",
       "    <tr>\n",
       "      <th>0</th>\n",
       "      <td>ResNet18</td>\n",
       "      <td>90 fit epochs</td>\n",
       "      <td>topleft</td>\n",
       "      <td>valid</td>\n",
       "      <td>0.021076</td>\n",
       "      <td>0.094615</td>\n",
       "      <td>0.441618</td>\n",
       "      <td>0.159876</td>\n",
       "      <td>0.259965</td>\n",
       "      <td>0.042151</td>\n",
       "      <td>0.340451</td>\n",
       "    </tr>\n",
       "    <tr>\n",
       "      <th>1</th>\n",
       "      <td>ResNet18</td>\n",
       "      <td>90 fit epochs</td>\n",
       "      <td>topleft</td>\n",
       "      <td>train</td>\n",
       "      <td>0.006929</td>\n",
       "      <td>0.047295</td>\n",
       "      <td>0.696516</td>\n",
       "      <td>0.073935</td>\n",
       "      <td>0.685643</td>\n",
       "      <td>0.013857</td>\n",
       "      <td>0.817581</td>\n",
       "    </tr>\n",
       "    <tr>\n",
       "      <th>2</th>\n",
       "      <td>ResNet18</td>\n",
       "      <td>90 fit epochs</td>\n",
       "      <td>center</td>\n",
       "      <td>valid</td>\n",
       "      <td>0.003279</td>\n",
       "      <td>0.032108</td>\n",
       "      <td>0.425730</td>\n",
       "      <td>0.049895</td>\n",
       "      <td>0.504497</td>\n",
       "      <td>0.006558</td>\n",
       "      <td>0.471148</td>\n",
       "    </tr>\n",
       "    <tr>\n",
       "      <th>3</th>\n",
       "      <td>ResNet18</td>\n",
       "      <td>90 fit epochs</td>\n",
       "      <td>center</td>\n",
       "      <td>train</td>\n",
       "      <td>0.002611</td>\n",
       "      <td>0.029758</td>\n",
       "      <td>0.553457</td>\n",
       "      <td>0.046899</td>\n",
       "      <td>0.550879</td>\n",
       "      <td>0.005222</td>\n",
       "      <td>0.603566</td>\n",
       "    </tr>\n",
       "  </tbody>\n",
       "</table>\n",
       "</div>"
      ],
      "text/plain": [
       "      model         details   target  split       mse       mae        r2  \\\n",
       "0      Net3   10 fit epochs   center  valid  0.002321  0.035860  0.529265   \n",
       "1      Net3   10 fit epochs   center  train  0.001251  0.026886  0.780596   \n",
       "2      Net3   10 fit epochs  topleft  valid  0.020588  0.103328  0.170152   \n",
       "3      Net3   10 fit epochs  topleft  train  0.014115  0.086962  0.388219   \n",
       "0     Lasso         alpha=1  topleft  train  0.005253  0.046936  0.909307   \n",
       "1     Lasso         alpha=1   center  train  0.001006  0.023437  0.920351   \n",
       "2     Lasso         alpha=1  topleft  valid  0.017655  0.081952  0.692450   \n",
       "3     Lasso         alpha=1   center  valid  0.001982  0.033595  0.842115   \n",
       "0        RF  default params  topleft  train  0.001585  0.018339  0.972602   \n",
       "1        RF  default params   center  train  0.000213  0.009108  0.983154   \n",
       "2        RF  default params  topleft  valid  0.009526  0.051479  0.834843   \n",
       "3        RF  default params   center  valid  0.001620  0.026063  0.871394   \n",
       "0  ResNet18   90 fit epochs  topleft  valid  0.021076  0.094615  0.441618   \n",
       "1  ResNet18   90 fit epochs  topleft  train  0.006929  0.047295  0.696516   \n",
       "2  ResNet18   90 fit epochs   center  valid  0.003279  0.032108  0.425730   \n",
       "3  ResNet18   90 fit epochs   center  train  0.002611  0.029758  0.553457   \n",
       "\n",
       "   dist_avg   dist_r2  sqdist_avg  sqdist_r2  \n",
       "0  0.057386  0.430105    0.004642   0.625702  \n",
       "1  0.042757  0.590545    0.002502   0.810111  \n",
       "2  0.166890  0.227500    0.041177   0.355698  \n",
       "3  0.138814  0.409787    0.028231   0.628363  \n",
       "0  0.074546  0.750168    0.010506   0.910770  \n",
       "1  0.037478  0.740100    0.002012   0.920277  \n",
       "2  0.130459  0.549808    0.035310   0.691744  \n",
       "3  0.053305  0.629211    0.003964   0.842354  \n",
       "0  0.030422  0.898043    0.003169   0.973085  \n",
       "1  0.015020  0.895842    0.000425   0.983143  \n",
       "2  0.084943  0.706876    0.019053   0.833668  \n",
       "3  0.041923  0.708388    0.003241   0.871118  \n",
       "0  0.159876  0.259965    0.042151   0.340451  \n",
       "1  0.073935  0.685643    0.013857   0.817581  \n",
       "2  0.049895  0.504497    0.006558   0.471148  \n",
       "3  0.046899  0.550879    0.005222   0.603566  "
      ]
     },
     "execution_count": 114,
     "metadata": {},
     "output_type": "execute_result"
    }
   ],
   "source": [
    "df"
   ]
  },
  {
   "cell_type": "code",
   "execution_count": 131,
   "metadata": {},
   "outputs": [
    {
     "data": {
      "text/html": [
       "<div>\n",
       "<style scoped>\n",
       "    .dataframe tbody tr th:only-of-type {\n",
       "        vertical-align: middle;\n",
       "    }\n",
       "\n",
       "    .dataframe tbody tr th {\n",
       "        vertical-align: top;\n",
       "    }\n",
       "\n",
       "    .dataframe thead th {\n",
       "        text-align: right;\n",
       "    }\n",
       "</style>\n",
       "<table border=\"1\" class=\"dataframe\">\n",
       "  <thead>\n",
       "    <tr style=\"text-align: right;\">\n",
       "      <th></th>\n",
       "      <th>model</th>\n",
       "      <th>details</th>\n",
       "      <th>target</th>\n",
       "      <th>split</th>\n",
       "      <th>mse</th>\n",
       "      <th>mae</th>\n",
       "      <th>r2</th>\n",
       "      <th>dist_avg</th>\n",
       "      <th>dist_r2</th>\n",
       "      <th>sqdist_avg</th>\n",
       "      <th>sqdist_r2</th>\n",
       "    </tr>\n",
       "  </thead>\n",
       "  <tbody>\n",
       "    <tr>\n",
       "      <th>2</th>\n",
       "      <td>RF</td>\n",
       "      <td>default params</td>\n",
       "      <td>topleft</td>\n",
       "      <td>valid</td>\n",
       "      <td>0.009526</td>\n",
       "      <td>0.051479</td>\n",
       "      <td>0.834843</td>\n",
       "      <td>0.084943</td>\n",
       "      <td>0.706876</td>\n",
       "      <td>0.019053</td>\n",
       "      <td>0.833668</td>\n",
       "    </tr>\n",
       "    <tr>\n",
       "      <th>2</th>\n",
       "      <td>Lasso</td>\n",
       "      <td>alpha=1</td>\n",
       "      <td>topleft</td>\n",
       "      <td>valid</td>\n",
       "      <td>0.017655</td>\n",
       "      <td>0.081952</td>\n",
       "      <td>0.692450</td>\n",
       "      <td>0.130459</td>\n",
       "      <td>0.549808</td>\n",
       "      <td>0.035310</td>\n",
       "      <td>0.691744</td>\n",
       "    </tr>\n",
       "    <tr>\n",
       "      <th>0</th>\n",
       "      <td>ResNet18</td>\n",
       "      <td>90 fit epochs</td>\n",
       "      <td>topleft</td>\n",
       "      <td>valid</td>\n",
       "      <td>0.021076</td>\n",
       "      <td>0.094615</td>\n",
       "      <td>0.441618</td>\n",
       "      <td>0.159876</td>\n",
       "      <td>0.259965</td>\n",
       "      <td>0.042151</td>\n",
       "      <td>0.340451</td>\n",
       "    </tr>\n",
       "    <tr>\n",
       "      <th>2</th>\n",
       "      <td>Net3</td>\n",
       "      <td>10 fit epochs</td>\n",
       "      <td>topleft</td>\n",
       "      <td>valid</td>\n",
       "      <td>0.020588</td>\n",
       "      <td>0.103328</td>\n",
       "      <td>0.170152</td>\n",
       "      <td>0.166890</td>\n",
       "      <td>0.227500</td>\n",
       "      <td>0.041177</td>\n",
       "      <td>0.355698</td>\n",
       "    </tr>\n",
       "  </tbody>\n",
       "</table>\n",
       "</div>"
      ],
      "text/plain": [
       "      model         details   target  split       mse       mae        r2  \\\n",
       "2        RF  default params  topleft  valid  0.009526  0.051479  0.834843   \n",
       "2     Lasso         alpha=1  topleft  valid  0.017655  0.081952  0.692450   \n",
       "0  ResNet18   90 fit epochs  topleft  valid  0.021076  0.094615  0.441618   \n",
       "2      Net3   10 fit epochs  topleft  valid  0.020588  0.103328  0.170152   \n",
       "\n",
       "   dist_avg   dist_r2  sqdist_avg  sqdist_r2  \n",
       "2  0.084943  0.706876    0.019053   0.833668  \n",
       "2  0.130459  0.549808    0.035310   0.691744  \n",
       "0  0.159876  0.259965    0.042151   0.340451  \n",
       "2  0.166890  0.227500    0.041177   0.355698  "
      ]
     },
     "execution_count": 131,
     "metadata": {},
     "output_type": "execute_result"
    }
   ],
   "source": [
    "tmp = df[(df['split'] == 'valid') & (df['target'] == 'topleft')]\n",
    "tmp.sort_values(by='dist_r2', ascending=False)"
   ]
  },
  {
   "cell_type": "code",
   "execution_count": 132,
   "metadata": {},
   "outputs": [
    {
     "data": {
      "text/html": [
       "<div>\n",
       "<style scoped>\n",
       "    .dataframe tbody tr th:only-of-type {\n",
       "        vertical-align: middle;\n",
       "    }\n",
       "\n",
       "    .dataframe tbody tr th {\n",
       "        vertical-align: top;\n",
       "    }\n",
       "\n",
       "    .dataframe thead th {\n",
       "        text-align: right;\n",
       "    }\n",
       "</style>\n",
       "<table border=\"1\" class=\"dataframe\">\n",
       "  <thead>\n",
       "    <tr style=\"text-align: right;\">\n",
       "      <th></th>\n",
       "      <th>model</th>\n",
       "      <th>details</th>\n",
       "      <th>target</th>\n",
       "      <th>split</th>\n",
       "      <th>mse</th>\n",
       "      <th>mae</th>\n",
       "      <th>r2</th>\n",
       "      <th>dist_avg</th>\n",
       "      <th>dist_r2</th>\n",
       "      <th>sqdist_avg</th>\n",
       "      <th>sqdist_r2</th>\n",
       "    </tr>\n",
       "  </thead>\n",
       "  <tbody>\n",
       "    <tr>\n",
       "      <th>3</th>\n",
       "      <td>RF</td>\n",
       "      <td>default params</td>\n",
       "      <td>center</td>\n",
       "      <td>valid</td>\n",
       "      <td>0.001620</td>\n",
       "      <td>0.026063</td>\n",
       "      <td>0.871394</td>\n",
       "      <td>0.041923</td>\n",
       "      <td>0.708388</td>\n",
       "      <td>0.003241</td>\n",
       "      <td>0.871118</td>\n",
       "    </tr>\n",
       "    <tr>\n",
       "      <th>3</th>\n",
       "      <td>Lasso</td>\n",
       "      <td>alpha=1</td>\n",
       "      <td>center</td>\n",
       "      <td>valid</td>\n",
       "      <td>0.001982</td>\n",
       "      <td>0.033595</td>\n",
       "      <td>0.842115</td>\n",
       "      <td>0.053305</td>\n",
       "      <td>0.629211</td>\n",
       "      <td>0.003964</td>\n",
       "      <td>0.842354</td>\n",
       "    </tr>\n",
       "    <tr>\n",
       "      <th>2</th>\n",
       "      <td>ResNet18</td>\n",
       "      <td>90 fit epochs</td>\n",
       "      <td>center</td>\n",
       "      <td>valid</td>\n",
       "      <td>0.003279</td>\n",
       "      <td>0.032108</td>\n",
       "      <td>0.425730</td>\n",
       "      <td>0.049895</td>\n",
       "      <td>0.504497</td>\n",
       "      <td>0.006558</td>\n",
       "      <td>0.471148</td>\n",
       "    </tr>\n",
       "    <tr>\n",
       "      <th>0</th>\n",
       "      <td>Net3</td>\n",
       "      <td>10 fit epochs</td>\n",
       "      <td>center</td>\n",
       "      <td>valid</td>\n",
       "      <td>0.002321</td>\n",
       "      <td>0.035860</td>\n",
       "      <td>0.529265</td>\n",
       "      <td>0.057386</td>\n",
       "      <td>0.430105</td>\n",
       "      <td>0.004642</td>\n",
       "      <td>0.625702</td>\n",
       "    </tr>\n",
       "  </tbody>\n",
       "</table>\n",
       "</div>"
      ],
      "text/plain": [
       "      model         details  target  split       mse       mae        r2  \\\n",
       "3        RF  default params  center  valid  0.001620  0.026063  0.871394   \n",
       "3     Lasso         alpha=1  center  valid  0.001982  0.033595  0.842115   \n",
       "2  ResNet18   90 fit epochs  center  valid  0.003279  0.032108  0.425730   \n",
       "0      Net3   10 fit epochs  center  valid  0.002321  0.035860  0.529265   \n",
       "\n",
       "   dist_avg   dist_r2  sqdist_avg  sqdist_r2  \n",
       "3  0.041923  0.708388    0.003241   0.871118  \n",
       "3  0.053305  0.629211    0.003964   0.842354  \n",
       "2  0.049895  0.504497    0.006558   0.471148  \n",
       "0  0.057386  0.430105    0.004642   0.625702  "
      ]
     },
     "execution_count": 132,
     "metadata": {},
     "output_type": "execute_result"
    }
   ],
   "source": [
    "tmp = df[(df['split'] == 'valid') & (df['target'] == 'center')]\n",
    "tmp.sort_values(by='dist_r2', ascending=False)"
   ]
  },
  {
   "cell_type": "code",
   "execution_count": null,
   "metadata": {},
   "outputs": [],
   "source": []
  },
  {
   "cell_type": "code",
   "execution_count": null,
   "metadata": {},
   "outputs": [],
   "source": []
  },
  {
   "cell_type": "code",
   "execution_count": null,
   "metadata": {},
   "outputs": [],
   "source": []
  },
  {
   "cell_type": "markdown",
   "metadata": {},
   "source": [
    "#### Compare R2 to MSE\n",
    "Clearly somthing is wrong, it should be proportional"
   ]
  },
  {
   "cell_type": "code",
   "execution_count": 121,
   "metadata": {},
   "outputs": [
    {
     "data": {
      "image/png": "[encoded data removed]",
      "text/plain": [
       "<Figure size 432x288 with 1 Axes>"
      ]
     },
     "metadata": {
      "needs_background": "light"
     },
     "output_type": "display_data"
    }
   ],
   "source": [
    "plt.scatter(tmp['mse'], tmp['r2'])\n",
    "plt.xlabel('mse'); plt.ylabel('r2');"
   ]
  },
  {
   "cell_type": "code",
   "execution_count": 129,
   "metadata": {},
   "outputs": [
    {
     "data": {
      "text/plain": [
       "(0, 0.7)"
      ]
     },
     "execution_count": 129,
     "metadata": {},
     "output_type": "execute_result"
    },
    {
     "data": {
      "image/png": "[encoded data removed]",
      "text/plain": [
       "<Figure size 432x288 with 1 Axes>"
      ]
     },
     "metadata": {
      "needs_background": "light"
     },
     "output_type": "display_data"
    }
   ],
   "source": [
    "plt.scatter(tmp['dist_avg'], tmp['dist_r2'])\n",
    "plt.scatter([0.032], [0])\n",
    "plt.xlabel('dist_avg'); plt.ylabel('dist_r2');\n",
    "plt.ylim(0,1)\n",
    "plt.xlim(0, 0.7)"
   ]
  },
  {
   "cell_type": "code",
   "execution_count": 127,
   "metadata": {},
   "outputs": [
    {
     "data": {
      "text/plain": [
       "(0, 0.1)"
      ]
     },
     "execution_count": 127,
     "metadata": {},
     "output_type": "execute_result"
    },
    {
     "data": {
      "image/png": "[encoded data removed]",
      "text/plain": [
       "<Figure size 432x288 with 1 Axes>"
      ]
     },
     "metadata": {
      "needs_background": "light"
     },
     "output_type": "display_data"
    }
   ],
   "source": [
    "plt.scatter(tmp['sqdist_avg'], tmp['sqdist_r2'])\n",
    "plt.xlabel('sqdist_avg'); plt.ylabel('sqdist_r2');\n",
    "plt.ylim(-.3,1)\n",
    "plt.xlim(0, 0.1)"
   ]
  },
  {
   "cell_type": "code",
   "execution_count": null,
   "metadata": {},
   "outputs": [],
   "source": []
  },
  {
   "cell_type": "code",
   "execution_count": 42,
   "metadata": {},
   "outputs": [],
   "source": [
    "baseline = 0.0322"
   ]
  },
  {
   "cell_type": "code",
   "execution_count": 59,
   "metadata": {},
   "outputs": [],
   "source": [
    "x = 0.0199"
   ]
  },
  {
   "cell_type": "code",
   "execution_count": 64,
   "metadata": {},
   "outputs": [],
   "source": [
    "x = 0.017655"
   ]
  },
  {
   "cell_type": "code",
   "execution_count": 65,
   "metadata": {},
   "outputs": [
    {
     "data": {
      "text/plain": [
       "0.672092311021456"
      ]
     },
     "execution_count": 65,
     "metadata": {},
     "output_type": "execute_result"
    }
   ],
   "source": [
    "((baseline - x) / baseline)**0.5"
   ]
  },
  {
   "cell_type": "code",
   "execution_count": null,
   "metadata": {},
   "outputs": [],
   "source": []
  }
 ],
 "metadata": {
  "kernelspec": {
   "display_name": "Python 3",
   "language": "python",
   "name": "python3"
  },
  "language_info": {
   "codemirror_mode": {
    "name": "ipython",
    "version": 3
   },
   "file_extension": ".py",
   "mimetype": "text/x-python",
   "name": "python",
   "nbconvert_exporter": "python",
   "pygments_lexer": "ipython3",
   "version": "3.7.6"
  }
 },
 "nbformat": 4,
 "nbformat_minor": 4
}
