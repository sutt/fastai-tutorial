{
 "cells": [
  {
   "cell_type": "markdown",
   "metadata": {},
   "source": [
    "### Other Models on the Synthetic ImagePoints Target"
   ]
  },
  {
   "cell_type": "code",
   "execution_count": 1,
   "metadata": {},
   "outputs": [],
   "source": [
    "import os, sys\n",
    "import copy as copyroot\n",
    "import pandas as pd\n",
    "from IPython.display import display\n",
    "from matplotlib import pyplot as plt\n",
    "\n",
    "from fastai2.basics import *\n",
    "from fastai2.vision.all import *\n",
    "\n",
    "from sklearn.preprocessing import StandardScaler\n",
    "\n",
    "import torch\n",
    "torch.backends.cudnn.deterministic = True\n",
    "torch.backends.cudnn.benchmark = True\n",
    "\n",
    "%load_ext autoreload\n",
    "%autoreload 2\n",
    "\n",
    "from module.mnist_helpers import build_df, eda_fig_1\n",
    "from module.mnist_helpers import img_pt_plot, train_history_dualplot\n",
    "from module.mnist_helpers import seed_everything"
   ]
  },
  {
   "cell_type": "markdown",
   "metadata": {},
   "source": [
    "### Setup"
   ]
  },
  {
   "cell_type": "code",
   "execution_count": 86,
   "metadata": {},
   "outputs": [
    {
     "name": "stdout",
     "output_type": "stream",
     "text": [
      "X shape: (709, 784)\n",
      "df2 final shape: (709, 786)\n"
     ]
    },
    {
     "data": {
      "text/html": [
       "<div>\n",
       "<style scoped>\n",
       "    .dataframe tbody tr th:only-of-type {\n",
       "        vertical-align: middle;\n",
       "    }\n",
       "\n",
       "    .dataframe tbody tr th {\n",
       "        vertical-align: top;\n",
       "    }\n",
       "\n",
       "    .dataframe thead th {\n",
       "        text-align: right;\n",
       "    }\n",
       "</style>\n",
       "<table border=\"1\" class=\"dataframe\">\n",
       "  <thead>\n",
       "    <tr style=\"text-align: right;\">\n",
       "      <th></th>\n",
       "      <th>0</th>\n",
       "      <th>1</th>\n",
       "      <th>2</th>\n",
       "      <th>3</th>\n",
       "      <th>4</th>\n",
       "      <th>5</th>\n",
       "      <th>6</th>\n",
       "      <th>7</th>\n",
       "      <th>8</th>\n",
       "      <th>9</th>\n",
       "      <th>...</th>\n",
       "      <th>776</th>\n",
       "      <th>777</th>\n",
       "      <th>778</th>\n",
       "      <th>779</th>\n",
       "      <th>780</th>\n",
       "      <th>781</th>\n",
       "      <th>782</th>\n",
       "      <th>783</th>\n",
       "      <th>point_topleft_x</th>\n",
       "      <th>point_topleft_y</th>\n",
       "    </tr>\n",
       "  </thead>\n",
       "  <tbody>\n",
       "    <tr>\n",
       "      <th>0</th>\n",
       "      <td>0</td>\n",
       "      <td>0</td>\n",
       "      <td>0</td>\n",
       "      <td>0</td>\n",
       "      <td>0</td>\n",
       "      <td>0</td>\n",
       "      <td>0</td>\n",
       "      <td>0</td>\n",
       "      <td>0</td>\n",
       "      <td>0</td>\n",
       "      <td>...</td>\n",
       "      <td>0</td>\n",
       "      <td>0</td>\n",
       "      <td>0</td>\n",
       "      <td>0</td>\n",
       "      <td>0</td>\n",
       "      <td>0</td>\n",
       "      <td>0</td>\n",
       "      <td>0</td>\n",
       "      <td>11</td>\n",
       "      <td>5</td>\n",
       "    </tr>\n",
       "    <tr>\n",
       "      <th>1</th>\n",
       "      <td>0</td>\n",
       "      <td>0</td>\n",
       "      <td>0</td>\n",
       "      <td>0</td>\n",
       "      <td>0</td>\n",
       "      <td>0</td>\n",
       "      <td>0</td>\n",
       "      <td>0</td>\n",
       "      <td>0</td>\n",
       "      <td>0</td>\n",
       "      <td>...</td>\n",
       "      <td>0</td>\n",
       "      <td>0</td>\n",
       "      <td>0</td>\n",
       "      <td>0</td>\n",
       "      <td>0</td>\n",
       "      <td>0</td>\n",
       "      <td>0</td>\n",
       "      <td>0</td>\n",
       "      <td>9</td>\n",
       "      <td>4</td>\n",
       "    </tr>\n",
       "  </tbody>\n",
       "</table>\n",
       "<p>2 rows × 786 columns</p>\n",
       "</div>"
      ],
      "text/plain": [
       "   0  1  2  3  4  5  6  7  8  9  ...  776  777  778  779  780  781  782  783  \\\n",
       "0  0  0  0  0  0  0  0  0  0  0  ...    0    0    0    0    0    0    0    0   \n",
       "1  0  0  0  0  0  0  0  0  0  0  ...    0    0    0    0    0    0    0    0   \n",
       "\n",
       "   point_topleft_x  point_topleft_y  \n",
       "0               11                5  \n",
       "1                9                4  \n",
       "\n",
       "[2 rows x 786 columns]"
      ]
     },
     "execution_count": 86,
     "metadata": {},
     "output_type": "execute_result"
    }
   ],
   "source": [
    "path = untar_data(URLs.MNIST_TINY)\n",
    "df = build_df(path)\n",
    "\n",
    "\n",
    "y_names = ['point_topleft_x', 'point_topleft_y']\n",
    "\n",
    "df2 = pd.DataFrame([])\n",
    "for i, row in df.iterrows():    \n",
    "    \n",
    "    img_np = np.array(Image.open(str(path) + row['fn'])).flatten()\n",
    "    \n",
    "    df2 = pd.concat((df2, pd.Series(img_np)), axis=1)\n",
    "    \n",
    "df2 = df2.T\n",
    "df2.reset_index(inplace=True, drop=True)\n",
    "print(f'X shape: {df2.shape}')\n",
    "\n",
    "df2_y = df[y_names]\n",
    "df2 = pd.concat((df2, df2_y), axis=1)\n",
    "print(f'df2 final shape: {df2.shape}')\n",
    "\n",
    "df2.head(2)"
   ]
  },
  {
   "cell_type": "code",
   "execution_count": 87,
   "metadata": {},
   "outputs": [
    {
     "data": {
      "text/plain": [
       "((531, 784), (178, 784), (531,), (531,))"
      ]
     },
     "execution_count": 87,
     "metadata": {},
     "output_type": "execute_result"
    }
   ],
   "source": [
    "X = df2[[col for col in df2.columns if 'point' not in str(col)]]\n",
    "\n",
    "Y = df2[[col for col in df2.columns if 'point' in str(col)]]\n",
    "y0, y1 = Y.iloc[:,0], Y.iloc[:,1]\n",
    "\n",
    "Xt,Xv,yt0,yv0 = train_test_split(X, y0, random_state=0)\n",
    "Xt,Xv,yt1,yv1 = train_test_split(X, y1, random_state=0)\n",
    "\n",
    "Xt.shape, Xv.shape, yt0.shape, yt1.shape"
   ]
  },
  {
   "cell_type": "code",
   "execution_count": 112,
   "metadata": {},
   "outputs": [],
   "source": [
    "ledger = pd.DataFrame()\n",
    "\n",
    "def append_ledger(r2_tv, name=None, params=None):\n",
    "    \n",
    "    global ledger\n",
    "    \n",
    "    record = pd.DataFrame({\n",
    "        'name':     [name if name is not None else 'unknown'],\n",
    "        'r2_train': [r2_tv[0]],\n",
    "        'r2_valid': [r2_tv[1]],\n",
    "    })\n",
    "    \n",
    "    if params is not None:\n",
    "        record = pd.concat((record, \n",
    "                            pd.DataFrame(params, index=[0])),\n",
    "                           axis=1)\n",
    "    \n",
    "    ledger = pd.concat((ledger, record), axis=0)"
   ]
  },
  {
   "cell_type": "code",
   "execution_count": 116,
   "metadata": {},
   "outputs": [],
   "source": [
    "# TODO - make multi index for:\n",
    "    # target = x vs target = y\n",
    "    # target = topleft vs target = center"
   ]
  },
  {
   "cell_type": "markdown",
   "metadata": {},
   "source": [
    "### Run Models"
   ]
  },
  {
   "cell_type": "code",
   "execution_count": 42,
   "metadata": {},
   "outputs": [],
   "source": [
    "from sklearn.linear_model import LinearRegression\n",
    "from sklearn.linear_model import Lasso, Ridge\n",
    "from sklearn.model_selection import train_test_split"
   ]
  },
  {
   "cell_type": "code",
   "execution_count": 43,
   "metadata": {},
   "outputs": [
    {
     "data": {
      "text/plain": [
       "(0.9992599653917897, -6.916591828903264e+16)"
      ]
     },
     "execution_count": 43,
     "metadata": {},
     "output_type": "execute_result"
    }
   ],
   "source": [
    "lr = LinearRegression()\n",
    "lr.fit(Xt, yt0)\n",
    "lr.score(Xt, yt0), lr.score(Xv, yv0)"
   ]
  },
  {
   "cell_type": "code",
   "execution_count": 49,
   "metadata": {},
   "outputs": [],
   "source": [
    "q = Lasso()"
   ]
  },
  {
   "cell_type": "code",
   "execution_count": 50,
   "metadata": {},
   "outputs": [
    {
     "name": "stdout",
     "output_type": "stream",
     "text": [
      "0.9264171868807906 0.23198880450087667\n",
      "0.8512759976961152 0.4455662968177406\n",
      "0.6509567725618848 0.4544721565207197\n"
     ]
    },
    {
     "name": "stderr",
     "output_type": "stream",
     "text": [
      "/home/user/anaconda3/envs/fastai2/lib/python3.7/site-packages/sklearn/linear_model/_coordinate_descent.py:476: ConvergenceWarning: Objective did not converge. You might want to increase the number of iterations. Duality gap: 1.0353367730197078, tolerance: 0.6858760828625236\n",
      "  positive)\n"
     ]
    }
   ],
   "source": [
    "for alpha in [0.3, 1.0, 10.0]:\n",
    "    learn = Lasso(alpha=alpha,)\n",
    "    learn.fit(Xt0, yt0, )\n",
    "    print(learn.score(Xt, yt0), learn.score(Xv, yv0))"
   ]
  },
  {
   "cell_type": "code",
   "execution_count": 52,
   "metadata": {},
   "outputs": [
    {
     "name": "stdout",
     "output_type": "stream",
     "text": [
      "0.9799826616323699 -87.71460495592596\n",
      "0.9735847079736011 -43.01749800026262\n",
      "0.9137516269841953 -6.823906802319964\n"
     ]
    }
   ],
   "source": [
    "for alpha in [1.0, 10.0, 1000.0]:\n",
    "    learn = Ridge(alpha=alpha)\n",
    "    learn.fit(Xt, yt)\n",
    "    print(learn.score(Xt, yt), learn.score(Xv, yv))"
   ]
  },
  {
   "cell_type": "code",
   "execution_count": 53,
   "metadata": {},
   "outputs": [],
   "source": [
    "from sklearn.ensemble import RandomForestRegressor"
   ]
  },
  {
   "cell_type": "code",
   "execution_count": 56,
   "metadata": {},
   "outputs": [
    {
     "data": {
      "text/plain": [
       "{'n_estimators': [50, 100, 200], 'max_depth': [None, 2, 5]}"
      ]
     },
     "execution_count": 56,
     "metadata": {},
     "output_type": "execute_result"
    }
   ],
   "source": [
    "d_params = {'n_estimators':[50, 100, 200],\n",
    "            'max_depth':   [None, 2, 5],\n",
    "           }\n",
    "\n",
    "\n",
    "def grid(d):\n",
    "    ret = [{}]\n",
    "    for param_name, values in d.items():\n",
    "        old_ret = ret.copy()\n",
    "        new_ret = []\n",
    "        for value in values:\n",
    "            for item in old_ret:\n",
    "                item = item.copy()\n",
    "                item[param_name] = value\n",
    "                new_ret.append(item)\n",
    "                ret = new_ret.copy()\n",
    "    return ret"
   ]
  },
  {
   "cell_type": "code",
   "execution_count": 80,
   "metadata": {},
   "outputs": [
    {
     "name": "stdout",
     "output_type": "stream",
     "text": [
      "0.9558844509146343 0.6882495750818954\n",
      "0.9567107080391499 0.6854839302514066\n",
      "0.9574588460961856 0.696162081694773\n",
      "0.5218802569954935 0.38758619922759074\n",
      "0.5107858329139587 0.3960169684883761\n",
      "0.5120406722143521 0.3981965116489584\n",
      "0.8233293598973843 0.6014276831195686\n",
      "0.826689382224604 0.6040956028979134\n",
      "0.8297675208139573 0.6151080055084164\n"
     ]
    }
   ],
   "source": [
    "r2_ledger = []\n",
    "for params in grid(d_params):\n",
    "    #learn = RandomForestRegressor(n_estimators=100, max_depth=None)\n",
    "    learn = RandomForestRegressor(**params)\n",
    "    learn.fit(Xt0, yt0, )\n",
    "    r2t, r2v = learn.score(Xt, yt0), learn.score(Xv, yv0)\n",
    "    r2_ledger.append((r2t, r2v))\n",
    "    print(r2t, r2v)"
   ]
  },
  {
   "cell_type": "code",
   "execution_count": 85,
   "metadata": {},
   "outputs": [
    {
     "data": {
      "text/html": [
       "<div>\n",
       "<style scoped>\n",
       "    .dataframe tbody tr th:only-of-type {\n",
       "        vertical-align: middle;\n",
       "    }\n",
       "\n",
       "    .dataframe tbody tr th {\n",
       "        vertical-align: top;\n",
       "    }\n",
       "\n",
       "    .dataframe thead th {\n",
       "        text-align: right;\n",
       "    }\n",
       "</style>\n",
       "<table border=\"1\" class=\"dataframe\">\n",
       "  <thead>\n",
       "    <tr style=\"text-align: right;\">\n",
       "      <th></th>\n",
       "      <th>n_estimators</th>\n",
       "      <th>max_depth</th>\n",
       "      <th>r2_train</th>\n",
       "      <th>r2_valid</th>\n",
       "    </tr>\n",
       "  </thead>\n",
       "  <tbody>\n",
       "    <tr>\n",
       "      <th>0</th>\n",
       "      <td>50</td>\n",
       "      <td>NaN</td>\n",
       "      <td>0.956</td>\n",
       "      <td>0.688</td>\n",
       "    </tr>\n",
       "    <tr>\n",
       "      <th>1</th>\n",
       "      <td>100</td>\n",
       "      <td>NaN</td>\n",
       "      <td>0.957</td>\n",
       "      <td>0.685</td>\n",
       "    </tr>\n",
       "    <tr>\n",
       "      <th>2</th>\n",
       "      <td>200</td>\n",
       "      <td>NaN</td>\n",
       "      <td>0.957</td>\n",
       "      <td>0.696</td>\n",
       "    </tr>\n",
       "    <tr>\n",
       "      <th>3</th>\n",
       "      <td>50</td>\n",
       "      <td>2.0</td>\n",
       "      <td>0.522</td>\n",
       "      <td>0.388</td>\n",
       "    </tr>\n",
       "    <tr>\n",
       "      <th>4</th>\n",
       "      <td>100</td>\n",
       "      <td>2.0</td>\n",
       "      <td>0.511</td>\n",
       "      <td>0.396</td>\n",
       "    </tr>\n",
       "    <tr>\n",
       "      <th>5</th>\n",
       "      <td>200</td>\n",
       "      <td>2.0</td>\n",
       "      <td>0.512</td>\n",
       "      <td>0.398</td>\n",
       "    </tr>\n",
       "    <tr>\n",
       "      <th>6</th>\n",
       "      <td>50</td>\n",
       "      <td>5.0</td>\n",
       "      <td>0.823</td>\n",
       "      <td>0.601</td>\n",
       "    </tr>\n",
       "    <tr>\n",
       "      <th>7</th>\n",
       "      <td>100</td>\n",
       "      <td>5.0</td>\n",
       "      <td>0.827</td>\n",
       "      <td>0.604</td>\n",
       "    </tr>\n",
       "    <tr>\n",
       "      <th>8</th>\n",
       "      <td>200</td>\n",
       "      <td>5.0</td>\n",
       "      <td>0.830</td>\n",
       "      <td>0.615</td>\n",
       "    </tr>\n",
       "  </tbody>\n",
       "</table>\n",
       "</div>"
      ],
      "text/plain": [
       "   n_estimators  max_depth  r2_train  r2_valid\n",
       "0            50        NaN     0.956     0.688\n",
       "1           100        NaN     0.957     0.685\n",
       "2           200        NaN     0.957     0.696\n",
       "3            50        2.0     0.522     0.388\n",
       "4           100        2.0     0.511     0.396\n",
       "5           200        2.0     0.512     0.398\n",
       "6            50        5.0     0.823     0.601\n",
       "7           100        5.0     0.827     0.604\n",
       "8           200        5.0     0.830     0.615"
      ]
     },
     "execution_count": 85,
     "metadata": {},
     "output_type": "execute_result"
    }
   ],
   "source": [
    "pd.concat(\n",
    "    (pd.DataFrame(grid(d_params)),\n",
    "     pd.DataFrame(r2_ledger, columns=['r2_train', 'r2_valid'])\n",
    "    ), axis=1\n",
    "    ).round(3)"
   ]
  },
  {
   "cell_type": "code",
   "execution_count": null,
   "metadata": {},
   "outputs": [],
   "source": []
  },
  {
   "cell_type": "code",
   "execution_count": null,
   "metadata": {},
   "outputs": [],
   "source": []
  }
 ],
 "metadata": {
  "kernelspec": {
   "display_name": "Python 3",
   "language": "python",
   "name": "python3"
  },
  "language_info": {
   "codemirror_mode": {
    "name": "ipython",
    "version": 3
   },
   "file_extension": ".py",
   "mimetype": "text/x-python",
   "name": "python",
   "nbconvert_exporter": "python",
   "pygments_lexer": "ipython3",
   "version": "3.7.6"
  }
 },
 "nbformat": 4,
 "nbformat_minor": 4
}
