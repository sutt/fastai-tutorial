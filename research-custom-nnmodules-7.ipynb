{
 "cells": [
  {
   "cell_type": "markdown",
   "metadata": {},
   "source": [
    "### Build a Perfect FeatsNet"
   ]
  },
  {
   "cell_type": "code",
   "execution_count": 2,
   "metadata": {},
   "outputs": [
    {
     "name": "stdout",
     "output_type": "stream",
     "text": [
      "The autoreload extension is already loaded. To reload it, use:\n",
      "  %reload_ext autoreload\n"
     ]
    }
   ],
   "source": [
    "import os, sys\n",
    "import copy as copyroot\n",
    "import pandas as pd\n",
    "import torch\n",
    "from IPython.display import display\n",
    "from matplotlib import pyplot as plt\n",
    "from sklearn.preprocessing import StandardScaler\n",
    "from sklearn.model_selection import train_test_split\n",
    "from sklearn.metrics import r2_score, mean_absolute_error, mean_squared_error\n",
    "from fastai2.basics import *\n",
    "from fastai2.vision.all import *\n",
    "%load_ext autoreload\n",
    "%autoreload 2\n",
    "from module.mnist_helpers import build_df, eda_fig_1, build_dls\n",
    "from module.mnist_models import FeatsNet\n",
    "from module.mnist_metrics import metrics_df"
   ]
  },
  {
   "cell_type": "markdown",
   "metadata": {},
   "source": [
    "### Setup"
   ]
  },
  {
   "cell_type": "code",
   "execution_count": 3,
   "metadata": {},
   "outputs": [],
   "source": [
    "dls_tl = build_dls(target='topleft')\n",
    "dls_cr = build_dls(target='center')"
   ]
  },
  {
   "cell_type": "code",
   "execution_count": 4,
   "metadata": {},
   "outputs": [],
   "source": [
    "path = untar_data(URLs.MNIST_TINY)\n",
    "df = build_df(path)"
   ]
  },
  {
   "cell_type": "code",
   "execution_count": 5,
   "metadata": {},
   "outputs": [],
   "source": [
    "# df2 - pixel values\n",
    "df2 = pd.DataFrame([])\n",
    "for i, row in df.iterrows():    \n",
    "    img_np = np.array(Image.open(str(path) + row['fn']))\n",
    "    df2 = pd.concat((df2, pd.Series(img_np.flatten())), axis=1)\n",
    "df2 = df2.T\n",
    "df2.reset_index(inplace=True, drop=True)"
   ]
  },
  {
   "cell_type": "code",
   "execution_count": 6,
   "metadata": {},
   "outputs": [],
   "source": [
    "# df3 - pts features\n",
    "\n",
    "feats = ['pts11','pts12','pts22']\n",
    "featsnet = FeatsNet(feats = feats)\n",
    "\n",
    "# 2*(4 + 16 + 16)\n",
    "cols =  []\n",
    "cols += [f'pts11_{i}' for i in range(8)]\n",
    "cols += [f'pts12_{i}' for i in range(32)]\n",
    "cols += [f'pts22_{i}' for i in range(32)]\n",
    "\n",
    "df3 = pd.DataFrame([])\n",
    "for i, row in df.iterrows():    \n",
    "    img_np = np.array(Image.open(str(path) + row['fn']))\n",
    "    tmp = featsnet.build_feats(\n",
    "                torch.tensor(img_np).unsqueeze(0)\n",
    "                ).squeeze(0).tolist()\n",
    "    df3 = pd.concat((df3, pd.Series(tmp)), axis=1)\n",
    "df3 = df3.T\n",
    "df3.reset_index(inplace=True, drop=True)\n",
    "df3.columns = cols"
   ]
  },
  {
   "cell_type": "code",
   "execution_count": 7,
   "metadata": {},
   "outputs": [
    {
     "data": {
      "text/html": [
       "<div>\n",
       "<style scoped>\n",
       "    .dataframe tbody tr th:only-of-type {\n",
       "        vertical-align: middle;\n",
       "    }\n",
       "\n",
       "    .dataframe tbody tr th {\n",
       "        vertical-align: top;\n",
       "    }\n",
       "\n",
       "    .dataframe thead th {\n",
       "        text-align: right;\n",
       "    }\n",
       "</style>\n",
       "<table border=\"1\" class=\"dataframe\">\n",
       "  <thead>\n",
       "    <tr style=\"text-align: right;\">\n",
       "      <th></th>\n",
       "      <th>0</th>\n",
       "      <th>1</th>\n",
       "      <th>2</th>\n",
       "      <th>3</th>\n",
       "      <th>4</th>\n",
       "      <th>5</th>\n",
       "      <th>6</th>\n",
       "      <th>7</th>\n",
       "      <th>8</th>\n",
       "      <th>9</th>\n",
       "      <th>...</th>\n",
       "      <th>pts22_27</th>\n",
       "      <th>pts22_28</th>\n",
       "      <th>pts22_29</th>\n",
       "      <th>pts22_30</th>\n",
       "      <th>pts22_31</th>\n",
       "      <th>scalar_pxsum</th>\n",
       "      <th>point_topleft_x</th>\n",
       "      <th>point_topleft_y</th>\n",
       "      <th>point_center_x</th>\n",
       "      <th>point_center_y</th>\n",
       "    </tr>\n",
       "  </thead>\n",
       "  <tbody>\n",
       "    <tr>\n",
       "      <th>0</th>\n",
       "      <td>0</td>\n",
       "      <td>0</td>\n",
       "      <td>0</td>\n",
       "      <td>0</td>\n",
       "      <td>0</td>\n",
       "      <td>0</td>\n",
       "      <td>0</td>\n",
       "      <td>0</td>\n",
       "      <td>0</td>\n",
       "      <td>0</td>\n",
       "      <td>...</td>\n",
       "      <td>0.428571</td>\n",
       "      <td>0.214286</td>\n",
       "      <td>0.392857</td>\n",
       "      <td>0.214286</td>\n",
       "      <td>0.214286</td>\n",
       "      <td>35867</td>\n",
       "      <td>11</td>\n",
       "      <td>5</td>\n",
       "      <td>15</td>\n",
       "      <td>14</td>\n",
       "    </tr>\n",
       "    <tr>\n",
       "      <th>1</th>\n",
       "      <td>0</td>\n",
       "      <td>0</td>\n",
       "      <td>0</td>\n",
       "      <td>0</td>\n",
       "      <td>0</td>\n",
       "      <td>0</td>\n",
       "      <td>0</td>\n",
       "      <td>0</td>\n",
       "      <td>0</td>\n",
       "      <td>0</td>\n",
       "      <td>...</td>\n",
       "      <td>0.607143</td>\n",
       "      <td>0.642857</td>\n",
       "      <td>0.321429</td>\n",
       "      <td>0.642857</td>\n",
       "      <td>0.464286</td>\n",
       "      <td>29717</td>\n",
       "      <td>9</td>\n",
       "      <td>4</td>\n",
       "      <td>14</td>\n",
       "      <td>13</td>\n",
       "    </tr>\n",
       "  </tbody>\n",
       "</table>\n",
       "<p>2 rows × 861 columns</p>\n",
       "</div>"
      ],
      "text/plain": [
       "   0  1  2  3  4  5  6  7  8  9  ...  pts22_27  pts22_28  pts22_29  pts22_30  \\\n",
       "0  0  0  0  0  0  0  0  0  0  0  ...  0.428571  0.214286  0.392857  0.214286   \n",
       "1  0  0  0  0  0  0  0  0  0  0  ...  0.607143  0.642857  0.321429  0.642857   \n",
       "\n",
       "   pts22_31  scalar_pxsum  point_topleft_x  point_topleft_y  point_center_x  \\\n",
       "0  0.214286         35867               11                5              15   \n",
       "1  0.464286         29717                9                4              14   \n",
       "\n",
       "   point_center_y  \n",
       "0              14  \n",
       "1              13  \n",
       "\n",
       "[2 rows x 861 columns]"
      ]
     },
     "execution_count": 7,
     "metadata": {},
     "output_type": "execute_result"
    }
   ],
   "source": [
    "y_names = ['scalar_pxsum', 'point_topleft_x', 'point_topleft_y',\n",
    "          'point_center_x', 'point_center_y']\n",
    "\n",
    "df2_y = df[y_names]\n",
    "df2 = pd.concat((df2, df3, df2_y), axis=1)\n",
    "\n",
    "df2.head(2)"
   ]
  },
  {
   "cell_type": "code",
   "execution_count": 8,
   "metadata": {},
   "outputs": [],
   "source": [
    "y_cols = y_names\n",
    "x_cols = [col for col in df2.columns if col not in y_cols]\n",
    "\n",
    "X = df2[x_cols]\n",
    "Y = df2[y_cols]\n",
    "\n",
    "y_tlx, y_tly, y_crx, y_cry = [Y.iloc[:,i] for i in range(1,5)]\n",
    "\n",
    "Xt, Xv, yt_tlx, yv_tlx = train_test_split(X,  y_tlx, random_state=0)\n",
    "_,  _,  yt_tly, yv_tly = train_test_split(X,  y_tly, random_state=0)\n",
    "_,  _,  yt_crx, yv_crx = train_test_split(X,  y_crx, random_state=0)\n",
    "_,  _,  yt_cry, yv_cry = train_test_split(X,  y_cry, random_state=0)"
   ]
  },
  {
   "cell_type": "markdown",
   "metadata": {},
   "source": [
    "### Setup Tabular Dls"
   ]
  },
  {
   "cell_type": "code",
   "execution_count": 78,
   "metadata": {},
   "outputs": [],
   "source": [
    "from fastai2.tabular.all import *"
   ]
  },
  {
   "cell_type": "code",
   "execution_count": 79,
   "metadata": {},
   "outputs": [],
   "source": [
    "data = pd.concat((X, y_tlx, y_tly), axis=1)"
   ]
  },
  {
   "cell_type": "code",
   "execution_count": 80,
   "metadata": {},
   "outputs": [],
   "source": [
    "y_tmp = y_tlx.copy()\n",
    "y_tmp = (y_tmp - 14) / 14\n",
    "y_tmp2 = y_tly.copy()\n",
    "y_tmp2 = (y_tmp2 -14) / 14\n",
    "\n",
    "pts_cols = [e for e in X.columns if 'pts' in str(e)]"
   ]
  },
  {
   "cell_type": "code",
   "execution_count": 86,
   "metadata": {},
   "outputs": [],
   "source": [
    "data = pd.concat((X.loc[:, pts_cols], y_tmp, y_tmp2), axis=1)"
   ]
  },
  {
   "cell_type": "code",
   "execution_count": 87,
   "metadata": {},
   "outputs": [
    {
     "name": "stdout",
     "output_type": "stream",
     "text": [
      "(709, 74)\n"
     ]
    },
    {
     "data": {
      "text/html": [
       "<div>\n",
       "<style scoped>\n",
       "    .dataframe tbody tr th:only-of-type {\n",
       "        vertical-align: middle;\n",
       "    }\n",
       "\n",
       "    .dataframe tbody tr th {\n",
       "        vertical-align: top;\n",
       "    }\n",
       "\n",
       "    .dataframe thead th {\n",
       "        text-align: right;\n",
       "    }\n",
       "</style>\n",
       "<table border=\"1\" class=\"dataframe\">\n",
       "  <thead>\n",
       "    <tr style=\"text-align: right;\">\n",
       "      <th></th>\n",
       "      <th>pts11_0</th>\n",
       "      <th>pts11_1</th>\n",
       "      <th>pts11_2</th>\n",
       "      <th>pts11_3</th>\n",
       "      <th>pts11_4</th>\n",
       "      <th>pts11_5</th>\n",
       "      <th>pts11_6</th>\n",
       "      <th>pts11_7</th>\n",
       "      <th>pts12_0</th>\n",
       "      <th>pts12_1</th>\n",
       "      <th>...</th>\n",
       "      <th>pts22_24</th>\n",
       "      <th>pts22_25</th>\n",
       "      <th>pts22_26</th>\n",
       "      <th>pts22_27</th>\n",
       "      <th>pts22_28</th>\n",
       "      <th>pts22_29</th>\n",
       "      <th>pts22_30</th>\n",
       "      <th>pts22_31</th>\n",
       "      <th>point_topleft_x</th>\n",
       "      <th>point_topleft_y</th>\n",
       "    </tr>\n",
       "  </thead>\n",
       "  <tbody>\n",
       "    <tr>\n",
       "      <th>0</th>\n",
       "      <td>0.178571</td>\n",
       "      <td>0.178571</td>\n",
       "      <td>0.178571</td>\n",
       "      <td>0.785714</td>\n",
       "      <td>0.857143</td>\n",
       "      <td>0.178571</td>\n",
       "      <td>0.857143</td>\n",
       "      <td>0.785714</td>\n",
       "      <td>0.178571</td>\n",
       "      <td>0.75</td>\n",
       "      <td>...</td>\n",
       "      <td>0.214286</td>\n",
       "      <td>0.75</td>\n",
       "      <td>0.214286</td>\n",
       "      <td>0.428571</td>\n",
       "      <td>0.214286</td>\n",
       "      <td>0.392857</td>\n",
       "      <td>0.214286</td>\n",
       "      <td>0.214286</td>\n",
       "      <td>-0.214286</td>\n",
       "      <td>-0.642857</td>\n",
       "    </tr>\n",
       "    <tr>\n",
       "      <th>1</th>\n",
       "      <td>0.142857</td>\n",
       "      <td>0.250000</td>\n",
       "      <td>0.142857</td>\n",
       "      <td>0.678571</td>\n",
       "      <td>0.821429</td>\n",
       "      <td>0.250000</td>\n",
       "      <td>0.821429</td>\n",
       "      <td>0.678571</td>\n",
       "      <td>0.142857</td>\n",
       "      <td>0.50</td>\n",
       "      <td>...</td>\n",
       "      <td>0.642857</td>\n",
       "      <td>0.50</td>\n",
       "      <td>0.642857</td>\n",
       "      <td>0.607143</td>\n",
       "      <td>0.642857</td>\n",
       "      <td>0.321429</td>\n",
       "      <td>0.642857</td>\n",
       "      <td>0.464286</td>\n",
       "      <td>-0.357143</td>\n",
       "      <td>-0.714286</td>\n",
       "    </tr>\n",
       "  </tbody>\n",
       "</table>\n",
       "<p>2 rows × 74 columns</p>\n",
       "</div>"
      ],
      "text/plain": [
       "    pts11_0   pts11_1   pts11_2   pts11_3   pts11_4   pts11_5   pts11_6  \\\n",
       "0  0.178571  0.178571  0.178571  0.785714  0.857143  0.178571  0.857143   \n",
       "1  0.142857  0.250000  0.142857  0.678571  0.821429  0.250000  0.821429   \n",
       "\n",
       "    pts11_7   pts12_0  pts12_1  ...  pts22_24  pts22_25  pts22_26  pts22_27  \\\n",
       "0  0.785714  0.178571     0.75  ...  0.214286      0.75  0.214286  0.428571   \n",
       "1  0.678571  0.142857     0.50  ...  0.642857      0.50  0.642857  0.607143   \n",
       "\n",
       "   pts22_28  pts22_29  pts22_30  pts22_31  point_topleft_x  point_topleft_y  \n",
       "0  0.214286  0.392857  0.214286  0.214286        -0.214286        -0.642857  \n",
       "1  0.642857  0.321429  0.642857  0.464286        -0.357143        -0.714286  \n",
       "\n",
       "[2 rows x 74 columns]"
      ]
     },
     "execution_count": 87,
     "metadata": {},
     "output_type": "execute_result"
    }
   ],
   "source": [
    "print(data.shape)\n",
    "data.head(2)"
   ]
  },
  {
   "cell_type": "code",
   "execution_count": 85,
   "metadata": {},
   "outputs": [
    {
     "data": {
      "image/png": "[encoded data removed]",
      "text/plain": [
       "<Figure size 432x288 with 1 Axes>"
      ]
     },
     "metadata": {
      "needs_background": "light"
     },
     "output_type": "display_data"
    }
   ],
   "source": [
    "plt.scatter(y_tmp, y_tmp2);\n",
    "plt.xlim(-1,1); plt.ylim(-1,1);"
   ]
  },
  {
   "cell_type": "code",
   "execution_count": 88,
   "metadata": {},
   "outputs": [],
   "source": [
    "dls = TabularDataLoaders.from_df(data, \n",
    "                                 path='.', \n",
    "                                 y_names=['point_topleft_x',\n",
    "                                          'point_topleft_y'],\n",
    "#                                  y_names='point_topleft_x', \n",
    "                                 procs=[Normalize])\n"
   ]
  },
  {
   "cell_type": "code",
   "execution_count": 89,
   "metadata": {},
   "outputs": [],
   "source": [
    "ret = dls.one_batch()"
   ]
  },
  {
   "cell_type": "code",
   "execution_count": 90,
   "metadata": {},
   "outputs": [
    {
     "data": {
      "text/plain": [
       "(torch.Size([64, 0]), torch.Size([64, 72]), torch.Size([64, 2]))"
      ]
     },
     "execution_count": 90,
     "metadata": {},
     "output_type": "execute_result"
    }
   ],
   "source": [
    "ret[0].shape, ret[1].shape, ret[2].shape"
   ]
  },
  {
   "cell_type": "code",
   "execution_count": 91,
   "metadata": {},
   "outputs": [
    {
     "data": {
      "text/plain": [
       "tensor(-2.8755)"
      ]
     },
     "execution_count": 91,
     "metadata": {},
     "output_type": "execute_result"
    }
   ],
   "source": [
    "ret[1].min()"
   ]
  },
  {
   "cell_type": "markdown",
   "metadata": {},
   "source": [
    "### Learner"
   ]
  },
  {
   "cell_type": "code",
   "execution_count": 99,
   "metadata": {},
   "outputs": [],
   "source": [
    "learn = tabular_learner(dls,)"
   ]
  },
  {
   "cell_type": "code",
   "execution_count": 100,
   "metadata": {},
   "outputs": [
    {
     "data": {
      "text/plain": [
       "FlattenedLoss of MSELoss()"
      ]
     },
     "execution_count": 100,
     "metadata": {},
     "output_type": "execute_result"
    }
   ],
   "source": [
    "learn.loss_func"
   ]
  },
  {
   "cell_type": "code",
   "execution_count": 101,
   "metadata": {},
   "outputs": [],
   "source": [
    "# learn.lr_find()"
   ]
  },
  {
   "cell_type": "code",
   "execution_count": 102,
   "metadata": {},
   "outputs": [
    {
     "data": {
      "text/html": [
       "<table border=\"1\" class=\"dataframe\">\n",
       "  <thead>\n",
       "    <tr style=\"text-align: left;\">\n",
       "      <th>epoch</th>\n",
       "      <th>train_loss</th>\n",
       "      <th>valid_loss</th>\n",
       "      <th>time</th>\n",
       "    </tr>\n",
       "  </thead>\n",
       "  <tbody>\n",
       "    <tr>\n",
       "      <td>0</td>\n",
       "      <td>0.598110</td>\n",
       "      <td>0.415164</td>\n",
       "      <td>00:00</td>\n",
       "    </tr>\n",
       "    <tr>\n",
       "      <td>1</td>\n",
       "      <td>0.560356</td>\n",
       "      <td>0.406201</td>\n",
       "      <td>00:00</td>\n",
       "    </tr>\n",
       "    <tr>\n",
       "      <td>2</td>\n",
       "      <td>0.518282</td>\n",
       "      <td>0.373002</td>\n",
       "      <td>00:00</td>\n",
       "    </tr>\n",
       "    <tr>\n",
       "      <td>3</td>\n",
       "      <td>0.469642</td>\n",
       "      <td>0.305066</td>\n",
       "      <td>00:00</td>\n",
       "    </tr>\n",
       "    <tr>\n",
       "      <td>4</td>\n",
       "      <td>0.416219</td>\n",
       "      <td>0.220806</td>\n",
       "      <td>00:00</td>\n",
       "    </tr>\n",
       "    <tr>\n",
       "      <td>5</td>\n",
       "      <td>0.358860</td>\n",
       "      <td>0.137640</td>\n",
       "      <td>00:00</td>\n",
       "    </tr>\n",
       "    <tr>\n",
       "      <td>6</td>\n",
       "      <td>0.302041</td>\n",
       "      <td>0.072558</td>\n",
       "      <td>00:00</td>\n",
       "    </tr>\n",
       "    <tr>\n",
       "      <td>7</td>\n",
       "      <td>0.249443</td>\n",
       "      <td>0.034533</td>\n",
       "      <td>00:00</td>\n",
       "    </tr>\n",
       "    <tr>\n",
       "      <td>8</td>\n",
       "      <td>0.205473</td>\n",
       "      <td>0.021399</td>\n",
       "      <td>00:00</td>\n",
       "    </tr>\n",
       "    <tr>\n",
       "      <td>9</td>\n",
       "      <td>0.170904</td>\n",
       "      <td>0.016287</td>\n",
       "      <td>00:00</td>\n",
       "    </tr>\n",
       "    <tr>\n",
       "      <td>10</td>\n",
       "      <td>0.142611</td>\n",
       "      <td>0.010918</td>\n",
       "      <td>00:00</td>\n",
       "    </tr>\n",
       "    <tr>\n",
       "      <td>11</td>\n",
       "      <td>0.119473</td>\n",
       "      <td>0.009595</td>\n",
       "      <td>00:00</td>\n",
       "    </tr>\n",
       "    <tr>\n",
       "      <td>12</td>\n",
       "      <td>0.100334</td>\n",
       "      <td>0.006838</td>\n",
       "      <td>00:00</td>\n",
       "    </tr>\n",
       "    <tr>\n",
       "      <td>13</td>\n",
       "      <td>0.084492</td>\n",
       "      <td>0.004752</td>\n",
       "      <td>00:00</td>\n",
       "    </tr>\n",
       "    <tr>\n",
       "      <td>14</td>\n",
       "      <td>0.071372</td>\n",
       "      <td>0.004460</td>\n",
       "      <td>00:00</td>\n",
       "    </tr>\n",
       "    <tr>\n",
       "      <td>15</td>\n",
       "      <td>0.060488</td>\n",
       "      <td>0.003991</td>\n",
       "      <td>00:00</td>\n",
       "    </tr>\n",
       "    <tr>\n",
       "      <td>16</td>\n",
       "      <td>0.051381</td>\n",
       "      <td>0.003918</td>\n",
       "      <td>00:00</td>\n",
       "    </tr>\n",
       "    <tr>\n",
       "      <td>17</td>\n",
       "      <td>0.043919</td>\n",
       "      <td>0.003875</td>\n",
       "      <td>00:00</td>\n",
       "    </tr>\n",
       "    <tr>\n",
       "      <td>18</td>\n",
       "      <td>0.037431</td>\n",
       "      <td>0.003118</td>\n",
       "      <td>00:00</td>\n",
       "    </tr>\n",
       "    <tr>\n",
       "      <td>19</td>\n",
       "      <td>0.032016</td>\n",
       "      <td>0.003483</td>\n",
       "      <td>00:00</td>\n",
       "    </tr>\n",
       "    <tr>\n",
       "      <td>20</td>\n",
       "      <td>0.027567</td>\n",
       "      <td>0.003930</td>\n",
       "      <td>00:00</td>\n",
       "    </tr>\n",
       "    <tr>\n",
       "      <td>21</td>\n",
       "      <td>0.023889</td>\n",
       "      <td>0.004456</td>\n",
       "      <td>00:00</td>\n",
       "    </tr>\n",
       "    <tr>\n",
       "      <td>22</td>\n",
       "      <td>0.020813</td>\n",
       "      <td>0.003086</td>\n",
       "      <td>00:00</td>\n",
       "    </tr>\n",
       "    <tr>\n",
       "      <td>23</td>\n",
       "      <td>0.018143</td>\n",
       "      <td>0.002830</td>\n",
       "      <td>00:00</td>\n",
       "    </tr>\n",
       "    <tr>\n",
       "      <td>24</td>\n",
       "      <td>0.015844</td>\n",
       "      <td>0.002625</td>\n",
       "      <td>00:00</td>\n",
       "    </tr>\n",
       "    <tr>\n",
       "      <td>25</td>\n",
       "      <td>0.014002</td>\n",
       "      <td>0.003576</td>\n",
       "      <td>00:00</td>\n",
       "    </tr>\n",
       "    <tr>\n",
       "      <td>26</td>\n",
       "      <td>0.012367</td>\n",
       "      <td>0.002940</td>\n",
       "      <td>00:00</td>\n",
       "    </tr>\n",
       "    <tr>\n",
       "      <td>27</td>\n",
       "      <td>0.010849</td>\n",
       "      <td>0.002700</td>\n",
       "      <td>00:00</td>\n",
       "    </tr>\n",
       "    <tr>\n",
       "      <td>28</td>\n",
       "      <td>0.009575</td>\n",
       "      <td>0.002730</td>\n",
       "      <td>00:00</td>\n",
       "    </tr>\n",
       "    <tr>\n",
       "      <td>29</td>\n",
       "      <td>0.008455</td>\n",
       "      <td>0.002692</td>\n",
       "      <td>00:00</td>\n",
       "    </tr>\n",
       "    <tr>\n",
       "      <td>30</td>\n",
       "      <td>0.007592</td>\n",
       "      <td>0.003967</td>\n",
       "      <td>00:00</td>\n",
       "    </tr>\n",
       "    <tr>\n",
       "      <td>31</td>\n",
       "      <td>0.006793</td>\n",
       "      <td>0.002266</td>\n",
       "      <td>00:00</td>\n",
       "    </tr>\n",
       "    <tr>\n",
       "      <td>32</td>\n",
       "      <td>0.006145</td>\n",
       "      <td>0.002100</td>\n",
       "      <td>00:00</td>\n",
       "    </tr>\n",
       "    <tr>\n",
       "      <td>33</td>\n",
       "      <td>0.005548</td>\n",
       "      <td>0.002153</td>\n",
       "      <td>00:00</td>\n",
       "    </tr>\n",
       "    <tr>\n",
       "      <td>34</td>\n",
       "      <td>0.005020</td>\n",
       "      <td>0.002182</td>\n",
       "      <td>00:00</td>\n",
       "    </tr>\n",
       "    <tr>\n",
       "      <td>35</td>\n",
       "      <td>0.004811</td>\n",
       "      <td>0.002814</td>\n",
       "      <td>00:00</td>\n",
       "    </tr>\n",
       "    <tr>\n",
       "      <td>36</td>\n",
       "      <td>0.004552</td>\n",
       "      <td>0.004082</td>\n",
       "      <td>00:00</td>\n",
       "    </tr>\n",
       "    <tr>\n",
       "      <td>37</td>\n",
       "      <td>0.004261</td>\n",
       "      <td>0.002655</td>\n",
       "      <td>00:00</td>\n",
       "    </tr>\n",
       "    <tr>\n",
       "      <td>38</td>\n",
       "      <td>0.003932</td>\n",
       "      <td>0.002365</td>\n",
       "      <td>00:00</td>\n",
       "    </tr>\n",
       "    <tr>\n",
       "      <td>39</td>\n",
       "      <td>0.003650</td>\n",
       "      <td>0.001903</td>\n",
       "      <td>00:00</td>\n",
       "    </tr>\n",
       "    <tr>\n",
       "      <td>40</td>\n",
       "      <td>0.003423</td>\n",
       "      <td>0.002029</td>\n",
       "      <td>00:00</td>\n",
       "    </tr>\n",
       "    <tr>\n",
       "      <td>41</td>\n",
       "      <td>0.003193</td>\n",
       "      <td>0.002420</td>\n",
       "      <td>00:00</td>\n",
       "    </tr>\n",
       "    <tr>\n",
       "      <td>42</td>\n",
       "      <td>0.003057</td>\n",
       "      <td>0.002341</td>\n",
       "      <td>00:00</td>\n",
       "    </tr>\n",
       "    <tr>\n",
       "      <td>43</td>\n",
       "      <td>0.002942</td>\n",
       "      <td>0.002337</td>\n",
       "      <td>00:00</td>\n",
       "    </tr>\n",
       "    <tr>\n",
       "      <td>44</td>\n",
       "      <td>0.002871</td>\n",
       "      <td>0.002606</td>\n",
       "      <td>00:00</td>\n",
       "    </tr>\n",
       "    <tr>\n",
       "      <td>45</td>\n",
       "      <td>0.002736</td>\n",
       "      <td>0.002999</td>\n",
       "      <td>00:00</td>\n",
       "    </tr>\n",
       "    <tr>\n",
       "      <td>46</td>\n",
       "      <td>0.002662</td>\n",
       "      <td>0.002593</td>\n",
       "      <td>00:00</td>\n",
       "    </tr>\n",
       "    <tr>\n",
       "      <td>47</td>\n",
       "      <td>0.002663</td>\n",
       "      <td>0.002828</td>\n",
       "      <td>00:00</td>\n",
       "    </tr>\n",
       "    <tr>\n",
       "      <td>48</td>\n",
       "      <td>0.002697</td>\n",
       "      <td>0.003049</td>\n",
       "      <td>00:00</td>\n",
       "    </tr>\n",
       "    <tr>\n",
       "      <td>49</td>\n",
       "      <td>0.002719</td>\n",
       "      <td>0.002807</td>\n",
       "      <td>00:00</td>\n",
       "    </tr>\n",
       "    <tr>\n",
       "      <td>50</td>\n",
       "      <td>0.002724</td>\n",
       "      <td>0.002393</td>\n",
       "      <td>00:00</td>\n",
       "    </tr>\n",
       "    <tr>\n",
       "      <td>51</td>\n",
       "      <td>0.002630</td>\n",
       "      <td>0.002009</td>\n",
       "      <td>00:00</td>\n",
       "    </tr>\n",
       "    <tr>\n",
       "      <td>52</td>\n",
       "      <td>0.002515</td>\n",
       "      <td>0.002287</td>\n",
       "      <td>00:00</td>\n",
       "    </tr>\n",
       "    <tr>\n",
       "      <td>53</td>\n",
       "      <td>0.002441</td>\n",
       "      <td>0.001977</td>\n",
       "      <td>00:00</td>\n",
       "    </tr>\n",
       "    <tr>\n",
       "      <td>54</td>\n",
       "      <td>0.002319</td>\n",
       "      <td>0.001734</td>\n",
       "      <td>00:00</td>\n",
       "    </tr>\n",
       "    <tr>\n",
       "      <td>55</td>\n",
       "      <td>0.002163</td>\n",
       "      <td>0.001702</td>\n",
       "      <td>00:00</td>\n",
       "    </tr>\n",
       "    <tr>\n",
       "      <td>56</td>\n",
       "      <td>0.002066</td>\n",
       "      <td>0.002166</td>\n",
       "      <td>00:00</td>\n",
       "    </tr>\n",
       "    <tr>\n",
       "      <td>57</td>\n",
       "      <td>0.002067</td>\n",
       "      <td>0.001811</td>\n",
       "      <td>00:00</td>\n",
       "    </tr>\n",
       "    <tr>\n",
       "      <td>58</td>\n",
       "      <td>0.002067</td>\n",
       "      <td>0.002099</td>\n",
       "      <td>00:00</td>\n",
       "    </tr>\n",
       "    <tr>\n",
       "      <td>59</td>\n",
       "      <td>0.001970</td>\n",
       "      <td>0.001594</td>\n",
       "      <td>00:00</td>\n",
       "    </tr>\n",
       "    <tr>\n",
       "      <td>60</td>\n",
       "      <td>0.001840</td>\n",
       "      <td>0.001889</td>\n",
       "      <td>00:00</td>\n",
       "    </tr>\n",
       "    <tr>\n",
       "      <td>61</td>\n",
       "      <td>0.001748</td>\n",
       "      <td>0.001494</td>\n",
       "      <td>00:00</td>\n",
       "    </tr>\n",
       "    <tr>\n",
       "      <td>62</td>\n",
       "      <td>0.001666</td>\n",
       "      <td>0.002079</td>\n",
       "      <td>00:00</td>\n",
       "    </tr>\n",
       "    <tr>\n",
       "      <td>63</td>\n",
       "      <td>0.001639</td>\n",
       "      <td>0.001546</td>\n",
       "      <td>00:00</td>\n",
       "    </tr>\n",
       "    <tr>\n",
       "      <td>64</td>\n",
       "      <td>0.001563</td>\n",
       "      <td>0.001843</td>\n",
       "      <td>00:00</td>\n",
       "    </tr>\n",
       "    <tr>\n",
       "      <td>65</td>\n",
       "      <td>0.001548</td>\n",
       "      <td>0.001457</td>\n",
       "      <td>00:00</td>\n",
       "    </tr>\n",
       "    <tr>\n",
       "      <td>66</td>\n",
       "      <td>0.001501</td>\n",
       "      <td>0.001890</td>\n",
       "      <td>00:00</td>\n",
       "    </tr>\n",
       "    <tr>\n",
       "      <td>67</td>\n",
       "      <td>0.001421</td>\n",
       "      <td>0.001646</td>\n",
       "      <td>00:00</td>\n",
       "    </tr>\n",
       "    <tr>\n",
       "      <td>68</td>\n",
       "      <td>0.001397</td>\n",
       "      <td>0.001587</td>\n",
       "      <td>00:00</td>\n",
       "    </tr>\n",
       "    <tr>\n",
       "      <td>69</td>\n",
       "      <td>0.001348</td>\n",
       "      <td>0.001466</td>\n",
       "      <td>00:00</td>\n",
       "    </tr>\n",
       "    <tr>\n",
       "      <td>70</td>\n",
       "      <td>0.001284</td>\n",
       "      <td>0.001669</td>\n",
       "      <td>00:00</td>\n",
       "    </tr>\n",
       "    <tr>\n",
       "      <td>71</td>\n",
       "      <td>0.001261</td>\n",
       "      <td>0.001539</td>\n",
       "      <td>00:00</td>\n",
       "    </tr>\n",
       "    <tr>\n",
       "      <td>72</td>\n",
       "      <td>0.001232</td>\n",
       "      <td>0.001465</td>\n",
       "      <td>00:00</td>\n",
       "    </tr>\n",
       "    <tr>\n",
       "      <td>73</td>\n",
       "      <td>0.001222</td>\n",
       "      <td>0.001553</td>\n",
       "      <td>00:00</td>\n",
       "    </tr>\n",
       "    <tr>\n",
       "      <td>74</td>\n",
       "      <td>0.001167</td>\n",
       "      <td>0.001495</td>\n",
       "      <td>00:00</td>\n",
       "    </tr>\n",
       "    <tr>\n",
       "      <td>75</td>\n",
       "      <td>0.001169</td>\n",
       "      <td>0.001385</td>\n",
       "      <td>00:00</td>\n",
       "    </tr>\n",
       "    <tr>\n",
       "      <td>76</td>\n",
       "      <td>0.001142</td>\n",
       "      <td>0.001506</td>\n",
       "      <td>00:00</td>\n",
       "    </tr>\n",
       "    <tr>\n",
       "      <td>77</td>\n",
       "      <td>0.001138</td>\n",
       "      <td>0.001434</td>\n",
       "      <td>00:00</td>\n",
       "    </tr>\n",
       "    <tr>\n",
       "      <td>78</td>\n",
       "      <td>0.001108</td>\n",
       "      <td>0.001421</td>\n",
       "      <td>00:00</td>\n",
       "    </tr>\n",
       "    <tr>\n",
       "      <td>79</td>\n",
       "      <td>0.001135</td>\n",
       "      <td>0.001404</td>\n",
       "      <td>00:00</td>\n",
       "    </tr>\n",
       "    <tr>\n",
       "      <td>80</td>\n",
       "      <td>0.001081</td>\n",
       "      <td>0.001401</td>\n",
       "      <td>00:00</td>\n",
       "    </tr>\n",
       "    <tr>\n",
       "      <td>81</td>\n",
       "      <td>0.001053</td>\n",
       "      <td>0.001396</td>\n",
       "      <td>00:00</td>\n",
       "    </tr>\n",
       "    <tr>\n",
       "      <td>82</td>\n",
       "      <td>0.001014</td>\n",
       "      <td>0.001449</td>\n",
       "      <td>00:00</td>\n",
       "    </tr>\n",
       "    <tr>\n",
       "      <td>83</td>\n",
       "      <td>0.001047</td>\n",
       "      <td>0.001416</td>\n",
       "      <td>00:00</td>\n",
       "    </tr>\n",
       "    <tr>\n",
       "      <td>84</td>\n",
       "      <td>0.001057</td>\n",
       "      <td>0.001506</td>\n",
       "      <td>00:00</td>\n",
       "    </tr>\n",
       "    <tr>\n",
       "      <td>85</td>\n",
       "      <td>0.001039</td>\n",
       "      <td>0.001466</td>\n",
       "      <td>00:00</td>\n",
       "    </tr>\n",
       "    <tr>\n",
       "      <td>86</td>\n",
       "      <td>0.000987</td>\n",
       "      <td>0.001376</td>\n",
       "      <td>00:00</td>\n",
       "    </tr>\n",
       "    <tr>\n",
       "      <td>87</td>\n",
       "      <td>0.001013</td>\n",
       "      <td>0.001445</td>\n",
       "      <td>00:00</td>\n",
       "    </tr>\n",
       "    <tr>\n",
       "      <td>88</td>\n",
       "      <td>0.000978</td>\n",
       "      <td>0.001482</td>\n",
       "      <td>00:00</td>\n",
       "    </tr>\n",
       "    <tr>\n",
       "      <td>89</td>\n",
       "      <td>0.000973</td>\n",
       "      <td>0.001485</td>\n",
       "      <td>00:00</td>\n",
       "    </tr>\n",
       "  </tbody>\n",
       "</table>"
      ],
      "text/plain": [
       "<IPython.core.display.HTML object>"
      ]
     },
     "metadata": {},
     "output_type": "display_data"
    }
   ],
   "source": [
    "learn.fit_one_cycle(90)"
   ]
  },
  {
   "cell_type": "markdown",
   "metadata": {},
   "source": [
    "##### metrics, ultimately not as good as FeatsNet"
   ]
  },
  {
   "cell_type": "code",
   "execution_count": 103,
   "metadata": {},
   "outputs": [
    {
     "data": {
      "text/html": [],
      "text/plain": [
       "<IPython.core.display.HTML object>"
      ]
     },
     "metadata": {},
     "output_type": "display_data"
    },
    {
     "data": {
      "text/html": [],
      "text/plain": [
       "<IPython.core.display.HTML object>"
      ]
     },
     "metadata": {},
     "output_type": "display_data"
    },
    {
     "data": {
      "text/html": [
       "<div>\n",
       "<style scoped>\n",
       "    .dataframe tbody tr th:only-of-type {\n",
       "        vertical-align: middle;\n",
       "    }\n",
       "\n",
       "    .dataframe tbody tr th {\n",
       "        vertical-align: top;\n",
       "    }\n",
       "\n",
       "    .dataframe thead th {\n",
       "        text-align: right;\n",
       "    }\n",
       "</style>\n",
       "<table border=\"1\" class=\"dataframe\">\n",
       "  <thead>\n",
       "    <tr style=\"text-align: right;\">\n",
       "      <th></th>\n",
       "      <th>model</th>\n",
       "      <th>details</th>\n",
       "      <th>target</th>\n",
       "      <th>split</th>\n",
       "      <th>mse</th>\n",
       "      <th>mae</th>\n",
       "      <th>r2</th>\n",
       "      <th>dist_avg</th>\n",
       "      <th>dist_r2</th>\n",
       "      <th>sqdist_avg</th>\n",
       "      <th>sqdist_r2</th>\n",
       "    </tr>\n",
       "  </thead>\n",
       "  <tbody>\n",
       "    <tr>\n",
       "      <th>0</th>\n",
       "      <td></td>\n",
       "      <td></td>\n",
       "      <td></td>\n",
       "      <td>valid</td>\n",
       "      <td>0.001485</td>\n",
       "      <td>0.028503</td>\n",
       "      <td>0.907186</td>\n",
       "      <td>0.044212</td>\n",
       "      <td>0.793423</td>\n",
       "      <td>0.002970</td>\n",
       "      <td>0.953105</td>\n",
       "    </tr>\n",
       "    <tr>\n",
       "      <th>1</th>\n",
       "      <td></td>\n",
       "      <td></td>\n",
       "      <td></td>\n",
       "      <td>train</td>\n",
       "      <td>0.000215</td>\n",
       "      <td>0.011746</td>\n",
       "      <td>0.987557</td>\n",
       "      <td>0.018440</td>\n",
       "      <td>0.921691</td>\n",
       "      <td>0.000429</td>\n",
       "      <td>0.994360</td>\n",
       "    </tr>\n",
       "  </tbody>\n",
       "</table>\n",
       "</div>"
      ],
      "text/plain": [
       "  model details target  split       mse       mae        r2  dist_avg  \\\n",
       "0                       valid  0.001485  0.028503  0.907186  0.044212   \n",
       "1                       train  0.000215  0.011746  0.987557  0.018440   \n",
       "\n",
       "    dist_r2  sqdist_avg  sqdist_r2  \n",
       "0  0.793423    0.002970   0.953105  \n",
       "1  0.921691    0.000429   0.994360  "
      ]
     },
     "execution_count": 103,
     "metadata": {},
     "output_type": "execute_result"
    }
   ],
   "source": [
    "metrics_df(learn,\"\",\"\",\"\")"
   ]
  },
  {
   "cell_type": "markdown",
   "metadata": {},
   "source": [
    "##### verify this can be fit with linear model better"
   ]
  },
  {
   "cell_type": "code",
   "execution_count": 112,
   "metadata": {},
   "outputs": [],
   "source": [
    "from sklearn.linear_model import LinearRegression\n",
    "from sklearn.model_selection import train_test_split"
   ]
  },
  {
   "cell_type": "code",
   "execution_count": 114,
   "metadata": {},
   "outputs": [],
   "source": [
    "x_cols = [e for e in data.columns if 'pts' in e]\n",
    "Xlr = data.loc[:,x_cols]\n",
    "ylr = data['point_topleft_x']\n",
    "\n",
    "Xlr_t, Xlr_v, ylr_t, ylr_v = train_test_split(Xlr, ylr)"
   ]
  },
  {
   "cell_type": "code",
   "execution_count": 119,
   "metadata": {},
   "outputs": [
    {
     "data": {
      "text/plain": [
       "(0.9999999999999952, 0.9999999999999957)"
      ]
     },
     "execution_count": 119,
     "metadata": {},
     "output_type": "execute_result"
    }
   ],
   "source": [
    "lr = LinearRegression()\n",
    "\n",
    "lr.fit(Xlr_t, ylr_t)\n",
    "\n",
    "lr.score(Xlr_t, ylr_t), lr.score(Xlr_v, ylr_v)"
   ]
  },
  {
   "cell_type": "code",
   "execution_count": 120,
   "metadata": {},
   "outputs": [
    {
     "data": {
      "text/plain": [
       "array([ -142522.62246844,  -976204.53911642,   452121.40998697,\n",
       "       -1116060.81663279,   422586.68157864,   830883.33337236,\n",
       "       -3103664.57548117,  1574454.8400496 ,  -556921.62841502,\n",
       "        -219862.46159789,  -993148.87661607,   656627.37319944,\n",
       "         379346.53066882,   -83535.51599819,   861125.18684382,\n",
       "        1632714.43433023,  2421571.97772496,    43972.49231958,\n",
       "        -215072.52242738,  -131325.47463988,  -215072.52242738,\n",
       "          16707.50319965,   689650.96103233,  -313848.30638509,\n",
       "        2296862.70315185,    36330.30143602,  -165061.28570878,\n",
       "        -318449.68005783,    22917.42325429,    36330.30143602,\n",
       "        -293469.98724647,    89252.66834942,   456458.2955619 ,\n",
       "          36330.30143602,    -8557.91040345,  -318449.68005783,\n",
       "         427069.35860509,    36330.30143602,  -220572.72573693,\n",
       "          89252.66834942,  -847738.02981983,    43972.49231958,\n",
       "        -847738.02981983,  -131325.47463988,  -847738.02981983,\n",
       "          16707.50319965,   411412.67201642,  -313848.30638509,\n",
       "         -71902.15728411,    43972.49231958,   -71902.15728411,\n",
       "        -131325.47463988,   -71902.15728411,    16707.50319965,\n",
       "         486259.03584453,  -313848.30638509,  -716684.95896533,\n",
       "          43972.49231958,  -716684.95896533,  -131325.47463988,\n",
       "        -716684.95896533,    16707.50319965,  1702154.49173753,\n",
       "        -313848.30638509,   106769.46694957,    43972.49231958,\n",
       "         106769.46694957,  -131325.47463988,   106769.46694957,\n",
       "          16707.50319965,  -526805.03371688,  -377321.20878993])"
      ]
     },
     "execution_count": 120,
     "metadata": {},
     "output_type": "execute_result"
    }
   ],
   "source": [
    "lr.coef_"
   ]
  },
  {
   "cell_type": "code",
   "execution_count": 121,
   "metadata": {},
   "outputs": [
    {
     "data": {
      "text/plain": [
       "(0.9994666825543455, 0.9994259451579021)"
      ]
     },
     "execution_count": 121,
     "metadata": {},
     "output_type": "execute_result"
    }
   ],
   "source": [
    "lr = Ridge()\n",
    "\n",
    "lr.fit(Xlr_t, ylr_t)\n",
    "\n",
    "lr.score(Xlr_t, ylr_t), lr.score(Xlr_v, ylr_v)"
   ]
  },
  {
   "cell_type": "code",
   "execution_count": 124,
   "metadata": {},
   "outputs": [
    {
     "data": {
      "image/png": "[encoded data removed]",
      "text/plain": [
       "<Figure size 432x288 with 1 Axes>"
      ]
     },
     "metadata": {
      "needs_background": "light"
     },
     "output_type": "display_data"
    }
   ],
   "source": [
    "plt.hist(lr.coef_, bins=20);"
   ]
  },
  {
   "cell_type": "code",
   "execution_count": 128,
   "metadata": {},
   "outputs": [
    {
     "data": {
      "text/plain": [
       "<BarContainer object of 72 artists>"
      ]
     },
     "execution_count": 128,
     "metadata": {},
     "output_type": "execute_result"
    },
    {
     "data": {
      "image/png": "[encoded data removed]",
      "text/plain": [
       "<Figure size 432x288 with 1 Axes>"
      ]
     },
     "metadata": {
      "needs_background": "light"
     },
     "output_type": "display_data"
    }
   ],
   "source": [
    "plt.bar(range(len(lr.coef_)), lr.coef_)"
   ]
  },
  {
   "cell_type": "code",
   "execution_count": 129,
   "metadata": {},
   "outputs": [
    {
     "data": {
      "text/plain": [
       "(0.0, -0.00021556242555598182)"
      ]
     },
     "execution_count": 129,
     "metadata": {},
     "output_type": "execute_result"
    }
   ],
   "source": [
    "lr = Lasso()\n",
    "\n",
    "lr.fit(Xlr_t, ylr_t, )\n",
    "\n",
    "lr.score(Xlr_t, ylr_t), lr.score(Xlr_v, ylr_v)"
   ]
  },
  {
   "cell_type": "code",
   "execution_count": 131,
   "metadata": {},
   "outputs": [
    {
     "data": {
      "text/plain": [
       "(-0.0, -0.0)"
      ]
     },
     "execution_count": 131,
     "metadata": {},
     "output_type": "execute_result"
    }
   ],
   "source": [
    "lr.coef_.min(), lr.coef_.max()"
   ]
  },
  {
   "cell_type": "code",
   "execution_count": 130,
   "metadata": {},
   "outputs": [
    {
     "data": {
      "image/png": "[encoded data removed]",
      "text/plain": [
       "<Figure size 432x288 with 1 Axes>"
      ]
     },
     "metadata": {
      "needs_background": "light"
     },
     "output_type": "display_data"
    }
   ],
   "source": [
    "plt.hist(lr.coef_, bins=20);"
   ]
  },
  {
   "cell_type": "code",
   "execution_count": null,
   "metadata": {},
   "outputs": [],
   "source": []
  }
 ],
 "metadata": {
  "kernelspec": {
   "display_name": "Python 3",
   "language": "python",
   "name": "python3"
  },
  "language_info": {
   "codemirror_mode": {
    "name": "ipython",
    "version": 3
   },
   "file_extension": ".py",
   "mimetype": "text/x-python",
   "name": "python",
   "nbconvert_exporter": "python",
   "pygments_lexer": "ipython3",
   "version": "3.7.6"
  }
 },
 "nbformat": 4,
 "nbformat_minor": 4
}
