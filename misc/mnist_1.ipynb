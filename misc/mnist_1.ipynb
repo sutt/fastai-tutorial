{
 "cells": [
  {
   "cell_type": "markdown",
   "metadata": {},
   "source": [
    "### Using MNIST_TINY to build Regression DataBlock\n",
    "Tutorial: https://dev.fast.ai/tutorial.datablock"
   ]
  },
  {
   "cell_type": "code",
   "execution_count": 1,
   "metadata": {},
   "outputs": [],
   "source": [
    "from fastai2.basics import *\n",
    "from fastai2.vision.all import *\n",
    "\n",
    "from matplotlib import pyplot as plt\n",
    "\n",
    "import os, sys\n",
    "import pandas as pd\n",
    "from IPython.display import display"
   ]
  },
  {
   "cell_type": "markdown",
   "metadata": {},
   "source": [
    "### Basic Classification Model"
   ]
  },
  {
   "cell_type": "code",
   "execution_count": 2,
   "metadata": {},
   "outputs": [
    {
     "data": {
      "text/html": [
       "<table border=\"1\" class=\"dataframe\">\n",
       "  <thead>\n",
       "    <tr style=\"text-align: left;\">\n",
       "      <th>epoch</th>\n",
       "      <th>train_loss</th>\n",
       "      <th>valid_loss</th>\n",
       "      <th>accuracy</th>\n",
       "      <th>time</th>\n",
       "    </tr>\n",
       "  </thead>\n",
       "  <tbody>\n",
       "    <tr>\n",
       "      <td>0</td>\n",
       "      <td>0.930658</td>\n",
       "      <td>0.434209</td>\n",
       "      <td>0.873684</td>\n",
       "      <td>00:11</td>\n",
       "    </tr>\n",
       "  </tbody>\n",
       "</table>"
      ],
      "text/plain": [
       "<IPython.core.display.HTML object>"
      ]
     },
     "metadata": {},
     "output_type": "display_data"
    }
   ],
   "source": [
    "path = untar_data(URLs.MNIST_TINY)\n",
    "dls  = ImageDataLoaders.from_folder(path, valid_pct=0.2)\n",
    "learn = cnn_learner(dls, resnet18, pretrained=True,metrics=[accuracy])\n",
    "learn.fit(1)"
   ]
  },
  {
   "cell_type": "code",
   "execution_count": 3,
   "metadata": {},
   "outputs": [
    {
     "data": {
      "text/html": [],
      "text/plain": [
       "<IPython.core.display.HTML object>"
      ]
     },
     "metadata": {},
     "output_type": "display_data"
    },
    {
     "data": {
      "text/plain": [
       "array([[123,  13,  10],\n",
       "       [  5, 126,   3],\n",
       "       [  3,   2,   0]])"
      ]
     },
     "execution_count": 3,
     "metadata": {},
     "output_type": "execute_result"
    }
   ],
   "source": [
    "interp = ClassificationInterpretation.from_learner(learn)\n",
    "interp.confusion_matrix()"
   ]
  },
  {
   "cell_type": "code",
   "execution_count": 4,
   "metadata": {},
   "outputs": [
    {
     "data": {
      "text/plain": [
       "(#3) ['3','7','test']"
      ]
     },
     "execution_count": 4,
     "metadata": {},
     "output_type": "execute_result"
    }
   ],
   "source": [
    "dls.vocab"
   ]
  },
  {
   "cell_type": "markdown",
   "metadata": {},
   "source": [
    "### Build Classification from pandas"
   ]
  },
  {
   "cell_type": "code",
   "execution_count": 5,
   "metadata": {},
   "outputs": [],
   "source": [
    "df = pd.DataFrame({'fn':[],'y':[]})\n",
    "\n",
    "for digit_cat in os.listdir(path/'train'):\n",
    "    \n",
    "    tmp = [f'/train/{digit_cat}/{e}' for e in \n",
    "           os.listdir(path/'train'/str(digit_cat))] \n",
    "    df_tmp = pd.DataFrame({'fn': tmp})\n",
    "    df_tmp['y'] = digit_cat\n",
    "    df = pd.concat((df, df_tmp))"
   ]
  },
  {
   "cell_type": "code",
   "execution_count": 6,
   "metadata": {},
   "outputs": [
    {
     "data": {
      "text/html": [
       "<div>\n",
       "<style scoped>\n",
       "    .dataframe tbody tr th:only-of-type {\n",
       "        vertical-align: middle;\n",
       "    }\n",
       "\n",
       "    .dataframe tbody tr th {\n",
       "        vertical-align: top;\n",
       "    }\n",
       "\n",
       "    .dataframe thead th {\n",
       "        text-align: right;\n",
       "    }\n",
       "</style>\n",
       "<table border=\"1\" class=\"dataframe\">\n",
       "  <thead>\n",
       "    <tr style=\"text-align: right;\">\n",
       "      <th></th>\n",
       "      <th>fn</th>\n",
       "      <th>y</th>\n",
       "    </tr>\n",
       "  </thead>\n",
       "  <tbody>\n",
       "    <tr>\n",
       "      <th>0</th>\n",
       "      <td>/train/3/7.png</td>\n",
       "      <td>3</td>\n",
       "    </tr>\n",
       "    <tr>\n",
       "      <th>1</th>\n",
       "      <td>/train/3/7030.png</td>\n",
       "      <td>3</td>\n",
       "    </tr>\n",
       "  </tbody>\n",
       "</table>\n",
       "</div>"
      ],
      "text/plain": [
       "                  fn  y\n",
       "0     /train/3/7.png  3\n",
       "1  /train/3/7030.png  3"
      ]
     },
     "metadata": {},
     "output_type": "display_data"
    },
    {
     "data": {
      "text/html": [
       "<div>\n",
       "<style scoped>\n",
       "    .dataframe tbody tr th:only-of-type {\n",
       "        vertical-align: middle;\n",
       "    }\n",
       "\n",
       "    .dataframe tbody tr th {\n",
       "        vertical-align: top;\n",
       "    }\n",
       "\n",
       "    .dataframe thead th {\n",
       "        text-align: right;\n",
       "    }\n",
       "</style>\n",
       "<table border=\"1\" class=\"dataframe\">\n",
       "  <thead>\n",
       "    <tr style=\"text-align: right;\">\n",
       "      <th></th>\n",
       "      <th>fn</th>\n",
       "      <th>y</th>\n",
       "    </tr>\n",
       "  </thead>\n",
       "  <tbody>\n",
       "    <tr>\n",
       "      <th>361</th>\n",
       "      <td>/train/7/9992.png</td>\n",
       "      <td>7</td>\n",
       "    </tr>\n",
       "    <tr>\n",
       "      <th>362</th>\n",
       "      <td>/train/7/9999.png</td>\n",
       "      <td>7</td>\n",
       "    </tr>\n",
       "  </tbody>\n",
       "</table>\n",
       "</div>"
      ],
      "text/plain": [
       "                    fn  y\n",
       "361  /train/7/9992.png  7\n",
       "362  /train/7/9999.png  7"
      ]
     },
     "metadata": {},
     "output_type": "display_data"
    },
    {
     "data": {
      "text/plain": [
       "fn    object\n",
       "y     object\n",
       "dtype: object"
      ]
     },
     "execution_count": 6,
     "metadata": {},
     "output_type": "execute_result"
    }
   ],
   "source": [
    "display(df.head(2))\n",
    "display(df.tail(2))\n",
    "df.dtypes"
   ]
  },
  {
   "cell_type": "code",
   "execution_count": 7,
   "metadata": {},
   "outputs": [],
   "source": [
    "mnist2 = DataBlock(blocks=(ImageBlock(cls=PILImageBW), CategoryBlock), \n",
    "                  splitter=RandomSplitter(),\n",
    "                   get_x=ColReader('fn', pref=path),\n",
    "                   get_y=ColReader('y'),\n",
    "                  )"
   ]
  },
  {
   "cell_type": "code",
   "execution_count": 8,
   "metadata": {},
   "outputs": [
    {
     "data": {
      "text/plain": [
       "(#2) ['3','7']"
      ]
     },
     "execution_count": 8,
     "metadata": {},
     "output_type": "execute_result"
    }
   ],
   "source": [
    "mnist2_dls = mnist2.dataloaders(df)\n",
    "mnist2_dls.vocab"
   ]
  },
  {
   "cell_type": "code",
   "execution_count": 9,
   "metadata": {},
   "outputs": [
    {
     "data": {
      "text/plain": [
       "tensor([0, 1, 1, 0, 1])"
      ]
     },
     "execution_count": 9,
     "metadata": {},
     "output_type": "execute_result"
    }
   ],
   "source": [
    "mnist2_dls.one_batch()[1][:5]"
   ]
  },
  {
   "cell_type": "code",
   "execution_count": 10,
   "metadata": {},
   "outputs": [
    {
     "data": {
      "text/html": [
       "<table border=\"1\" class=\"dataframe\">\n",
       "  <thead>\n",
       "    <tr style=\"text-align: left;\">\n",
       "      <th>epoch</th>\n",
       "      <th>train_loss</th>\n",
       "      <th>valid_loss</th>\n",
       "      <th>accuracy</th>\n",
       "      <th>time</th>\n",
       "    </tr>\n",
       "  </thead>\n",
       "  <tbody>\n",
       "    <tr>\n",
       "      <td>0</td>\n",
       "      <td>0.763503</td>\n",
       "      <td>0.273382</td>\n",
       "      <td>0.893617</td>\n",
       "      <td>00:05</td>\n",
       "    </tr>\n",
       "  </tbody>\n",
       "</table>"
      ],
      "text/plain": [
       "<IPython.core.display.HTML object>"
      ]
     },
     "metadata": {},
     "output_type": "display_data"
    }
   ],
   "source": [
    "learn2 = cnn_learner(mnist2_dls, resnet18, pretrained=True,metrics=[accuracy])\n",
    "learn2.fit(1)"
   ]
  },
  {
   "cell_type": "markdown",
   "metadata": {},
   "source": [
    "### Build a Regression Learner from pandas"
   ]
  },
  {
   "cell_type": "code",
   "execution_count": 11,
   "metadata": {},
   "outputs": [],
   "source": [
    "df2 = df.copy()\n",
    "df2['y'] = df2['y'].astype('float')"
   ]
  },
  {
   "cell_type": "code",
   "execution_count": 12,
   "metadata": {},
   "outputs": [],
   "source": [
    "mnist3 = DataBlock(blocks=(ImageBlock(cls=PILImageBW), RegressionBlock()), \n",
    "                  splitter=RandomSplitter(),\n",
    "                   get_x=ColReader('fn', pref=path),\n",
    "                   get_y=ColReader('y'),\n",
    "                  )"
   ]
  },
  {
   "cell_type": "code",
   "execution_count": 13,
   "metadata": {},
   "outputs": [],
   "source": [
    "mnist3_dls = mnist3.dataloaders(df2)"
   ]
  },
  {
   "cell_type": "code",
   "execution_count": 14,
   "metadata": {},
   "outputs": [
    {
     "data": {
      "text/plain": [
       "tensor([3., 3., 7., 3., 3.])"
      ]
     },
     "execution_count": 14,
     "metadata": {},
     "output_type": "execute_result"
    }
   ],
   "source": [
    "b = mnist3_dls.one_batch()\n",
    "b[1][:5]"
   ]
  },
  {
   "cell_type": "code",
   "execution_count": 15,
   "metadata": {},
   "outputs": [
    {
     "name": "stdout",
     "output_type": "stream",
     "text": [
      "no vocab attr\n"
     ]
    }
   ],
   "source": [
    "try: mnist3_dls.vocab\n",
    "except: print('no vocab attr')"
   ]
  },
  {
   "cell_type": "code",
   "execution_count": 16,
   "metadata": {},
   "outputs": [],
   "source": [
    "learn3 = cnn_learner(mnist3_dls, resnet18, pretrained=True,metrics=[mse])"
   ]
  },
  {
   "cell_type": "code",
   "execution_count": 17,
   "metadata": {},
   "outputs": [
    {
     "data": {
      "text/plain": [
       "(FlattenedLoss of CrossEntropyLoss(), FlattenedLoss of MSELoss())"
      ]
     },
     "execution_count": 17,
     "metadata": {},
     "output_type": "execute_result"
    }
   ],
   "source": [
    "learn2.loss_func, learn3.loss_func"
   ]
  },
  {
   "cell_type": "code",
   "execution_count": 18,
   "metadata": {},
   "outputs": [
    {
     "data": {
      "text/html": [
       "<table border=\"1\" class=\"dataframe\">\n",
       "  <thead>\n",
       "    <tr style=\"text-align: left;\">\n",
       "      <th>epoch</th>\n",
       "      <th>train_loss</th>\n",
       "      <th>valid_loss</th>\n",
       "      <th>mse</th>\n",
       "      <th>time</th>\n",
       "    </tr>\n",
       "  </thead>\n",
       "  <tbody>\n",
       "    <tr>\n",
       "      <td>0</td>\n",
       "      <td>30.813972</td>\n",
       "      <td>30.788099</td>\n",
       "      <td>30.788099</td>\n",
       "      <td>00:06</td>\n",
       "    </tr>\n",
       "  </tbody>\n",
       "</table>"
      ],
      "text/plain": [
       "<IPython.core.display.HTML object>"
      ]
     },
     "metadata": {},
     "output_type": "display_data"
    }
   ],
   "source": [
    "learn3.fit(1)"
   ]
  },
  {
   "cell_type": "markdown",
   "metadata": {},
   "source": [
    "##### Compare Regression Perf\n",
    "Worse than baseline"
   ]
  },
  {
   "cell_type": "code",
   "execution_count": 19,
   "metadata": {},
   "outputs": [
    {
     "data": {
      "text/plain": [
       "tensor(3.9419)"
      ]
     },
     "execution_count": 19,
     "metadata": {},
     "output_type": "execute_result"
    }
   ],
   "source": [
    "y = []\n",
    "for b in mnist3_dls.valid:\n",
    "    y += b[1]\n",
    "\n",
    "mean = tensor(y).mean()    \n",
    "\n",
    "yhat = [mean for _ in range(len(y))]\n",
    "\n",
    "baseline_mse = mse(tensor(yhat), tensor(y))\n",
    "\n",
    "baseline_mse"
   ]
  },
  {
   "cell_type": "code",
   "execution_count": 20,
   "metadata": {},
   "outputs": [
    {
     "data": {
      "text/html": [],
      "text/plain": [
       "<IPython.core.display.HTML object>"
      ]
     },
     "metadata": {},
     "output_type": "display_data"
    },
    {
     "data": {
      "text/plain": [
       "tensor(30.7881)"
      ]
     },
     "execution_count": 20,
     "metadata": {},
     "output_type": "execute_result"
    }
   ],
   "source": [
    "preds = learn3.get_preds()\n",
    "model_mse = mse(preds[0], preds[1])\n",
    "model_mse"
   ]
  },
  {
   "cell_type": "markdown",
   "metadata": {},
   "source": [
    "##### Clearly something is wrong with this model, as seen by yhat hist\n",
    "Needs to be normalized?"
   ]
  },
  {
   "cell_type": "code",
   "execution_count": 21,
   "metadata": {},
   "outputs": [
    {
     "data": {
      "text/plain": [
       "Text(0.5, 1.0, 'yhat values for validation: values in {3.,7.}')"
      ]
     },
     "execution_count": 21,
     "metadata": {},
     "output_type": "execute_result"
    },
    {
     "data": {
      "image/png": "[encoded data removed]",
      "text/plain": [
       "<Figure size 432x288 with 1 Axes>"
      ]
     },
     "metadata": {
      "needs_background": "light"
     },
     "output_type": "display_data"
    }
   ],
   "source": [
    "pred_values = [e[0] for e in preds[0].tolist()]\n",
    "plt.hist(pred_values);\n",
    "plt.title('yhat values for validation: values in {3.,7.}')"
   ]
  },
  {
   "cell_type": "code",
   "execution_count": 22,
   "metadata": {},
   "outputs": [
    {
     "data": {
      "text/plain": [
       "Text(0.5, 1.0, 'yactual values for validation: values in {3.,7.}')"
      ]
     },
     "execution_count": 22,
     "metadata": {},
     "output_type": "execute_result"
    },
    {
     "data": {
      "image/png": "[encoded data removed]",
      "text/plain": [
       "<Figure size 432x288 with 1 Axes>"
      ]
     },
     "metadata": {
      "needs_background": "light"
     },
     "output_type": "display_data"
    }
   ],
   "source": [
    "pred_values = [e for e in preds[1].tolist()]\n",
    "plt.hist(pred_values);\n",
    "plt.title('yactual values for validation: values in {3.,7.}')"
   ]
  },
  {
   "cell_type": "markdown",
   "metadata": {},
   "source": [
    "### Build a simple Point Learner\n",
    "It really struggles here to fit y = (0,0) for all observations."
   ]
  },
  {
   "cell_type": "code",
   "execution_count": 23,
   "metadata": {},
   "outputs": [],
   "source": [
    "def dummy_point(o):\n",
    "    return tensor(0., 0.)"
   ]
  },
  {
   "cell_type": "code",
   "execution_count": 284,
   "metadata": {},
   "outputs": [],
   "source": [
    "xxx = DataBlock(blocks=(ImageBlock(cls=PILImageBW), RegressionBlock(2)), \n",
    "                  splitter=RandomSplitter(),\n",
    "                   get_x=ColReader('fn', pref=path),\n",
    "                   get_y=dummy_point,\n",
    "                  )\n",
    "xxx_dls = xxx.dataloaders(df)"
   ]
  },
  {
   "cell_type": "code",
   "execution_count": 285,
   "metadata": {},
   "outputs": [
    {
     "data": {
      "text/plain": [
       "torch.Size([64, 1, 28, 28])"
      ]
     },
     "execution_count": 285,
     "metadata": {},
     "output_type": "execute_result"
    }
   ],
   "source": [
    "xxx_dls.one_batch()[0].shape"
   ]
  },
  {
   "cell_type": "code",
   "execution_count": 286,
   "metadata": {},
   "outputs": [
    {
     "data": {
      "text/plain": [
       "torch.Size([64, 3, 28, 28])"
      ]
     },
     "execution_count": 286,
     "metadata": {},
     "output_type": "execute_result"
    }
   ],
   "source": [
    "mnist4_dls.one_batch()[0].shape"
   ]
  },
  {
   "cell_type": "code",
   "execution_count": 290,
   "metadata": {},
   "outputs": [
    {
     "data": {
      "text/plain": [
       "fastai2.vision.core.PILImageBW"
      ]
     },
     "execution_count": 290,
     "metadata": {},
     "output_type": "execute_result"
    }
   ],
   "source": [
    "PILImageBW"
   ]
  },
  {
   "cell_type": "code",
   "execution_count": 289,
   "metadata": {},
   "outputs": [
    {
     "data": {
      "text/plain": [
       "(#568) [(PILImageBW mode=L size=28x28, tensor([0., 0.])),(PILImageBW mode=L size=28x28, tensor([0., 0.])),(PILImageBW mode=L size=28x28, tensor([0., 0.])),(PILImageBW mode=L size=28x28, tensor([0., 0.])),(PILImageBW mode=L size=28x28, tensor([0., 0.])),(PILImageBW mode=L size=28x28, tensor([0., 0.])),(PILImageBW mode=L size=28x28, tensor([0., 0.])),(PILImageBW mode=L size=28x28, tensor([0., 0.])),(PILImageBW mode=L size=28x28, tensor([0., 0.])),(PILImageBW mode=L size=28x28, tensor([0., 0.]))...]"
      ]
     },
     "execution_count": 289,
     "metadata": {},
     "output_type": "execute_result"
    }
   ],
   "source": [
    "xxx_dls.dataset"
   ]
  },
  {
   "cell_type": "code",
   "execution_count": 288,
   "metadata": {},
   "outputs": [
    {
     "data": {
      "text/plain": [
       "(#568) [(PILImageBW mode=L size=28x28, tensor([0., 0.])),(PILImageBW mode=L size=28x28, tensor([0., 0.])),(PILImageBW mode=L size=28x28, tensor([0., 0.])),(PILImageBW mode=L size=28x28, tensor([0., 0.])),(PILImageBW mode=L size=28x28, tensor([0., 0.])),(PILImageBW mode=L size=28x28, tensor([0., 0.])),(PILImageBW mode=L size=28x28, tensor([0., 0.])),(PILImageBW mode=L size=28x28, tensor([0., 0.])),(PILImageBW mode=L size=28x28, tensor([0., 0.])),(PILImageBW mode=L size=28x28, tensor([0., 0.]))...]"
      ]
     },
     "execution_count": 288,
     "metadata": {},
     "output_type": "execute_result"
    }
   ],
   "source": [
    "mnist4_dls.dataset"
   ]
  },
  {
   "cell_type": "code",
   "execution_count": 24,
   "metadata": {},
   "outputs": [],
   "source": [
    "mnist4 = DataBlock(blocks=(ImageBlock(cls=PILImageBW), RegressionBlock(2)), \n",
    "                  splitter=RandomSplitter(),\n",
    "                   get_x=ColReader('fn', pref=path),\n",
    "                   get_y=dummy_point,\n",
    "                  )"
   ]
  },
  {
   "cell_type": "code",
   "execution_count": 25,
   "metadata": {},
   "outputs": [],
   "source": [
    "mnist4_dls = mnist4.dataloaders(df)"
   ]
  },
  {
   "cell_type": "code",
   "execution_count": 26,
   "metadata": {},
   "outputs": [
    {
     "data": {
      "text/html": [
       "<table border=\"1\" class=\"dataframe\">\n",
       "  <thead>\n",
       "    <tr style=\"text-align: left;\">\n",
       "      <th>epoch</th>\n",
       "      <th>train_loss</th>\n",
       "      <th>valid_loss</th>\n",
       "      <th>mse</th>\n",
       "      <th>time</th>\n",
       "    </tr>\n",
       "  </thead>\n",
       "  <tbody>\n",
       "    <tr>\n",
       "      <td>0</td>\n",
       "      <td>3.769611</td>\n",
       "      <td>0.162181</td>\n",
       "      <td>0.162181</td>\n",
       "      <td>00:06</td>\n",
       "    </tr>\n",
       "  </tbody>\n",
       "</table>"
      ],
      "text/plain": [
       "<IPython.core.display.HTML object>"
      ]
     },
     "metadata": {},
     "output_type": "display_data"
    }
   ],
   "source": [
    "learn4 = cnn_learner(mnist4_dls, resnet18, pretrained=True,metrics=[mse])\n",
    "learn4.fit(1)"
   ]
  },
  {
   "cell_type": "code",
   "execution_count": 27,
   "metadata": {},
   "outputs": [
    {
     "data": {
      "text/html": [
       "<table border=\"1\" class=\"dataframe\">\n",
       "  <thead>\n",
       "    <tr style=\"text-align: left;\">\n",
       "      <th>epoch</th>\n",
       "      <th>train_loss</th>\n",
       "      <th>valid_loss</th>\n",
       "      <th>mse</th>\n",
       "      <th>time</th>\n",
       "    </tr>\n",
       "  </thead>\n",
       "  <tbody>\n",
       "    <tr>\n",
       "      <td>0</td>\n",
       "      <td>55.990997</td>\n",
       "      <td>3061.522949</td>\n",
       "      <td>3061.522949</td>\n",
       "      <td>00:06</td>\n",
       "    </tr>\n",
       "    <tr>\n",
       "      <td>1</td>\n",
       "      <td>32.760666</td>\n",
       "      <td>364.448730</td>\n",
       "      <td>364.448730</td>\n",
       "      <td>00:05</td>\n",
       "    </tr>\n",
       "    <tr>\n",
       "      <td>2</td>\n",
       "      <td>23.109938</td>\n",
       "      <td>2.226471</td>\n",
       "      <td>2.226471</td>\n",
       "      <td>00:05</td>\n",
       "    </tr>\n",
       "    <tr>\n",
       "      <td>3</td>\n",
       "      <td>17.247631</td>\n",
       "      <td>1.145054</td>\n",
       "      <td>1.145054</td>\n",
       "      <td>00:05</td>\n",
       "    </tr>\n",
       "    <tr>\n",
       "      <td>4</td>\n",
       "      <td>13.338984</td>\n",
       "      <td>0.257304</td>\n",
       "      <td>0.257304</td>\n",
       "      <td>00:05</td>\n",
       "    </tr>\n",
       "    <tr>\n",
       "      <td>5</td>\n",
       "      <td>10.422750</td>\n",
       "      <td>0.231678</td>\n",
       "      <td>0.231678</td>\n",
       "      <td>00:06</td>\n",
       "    </tr>\n",
       "    <tr>\n",
       "      <td>6</td>\n",
       "      <td>8.283994</td>\n",
       "      <td>0.181493</td>\n",
       "      <td>0.181493</td>\n",
       "      <td>00:06</td>\n",
       "    </tr>\n",
       "    <tr>\n",
       "      <td>7</td>\n",
       "      <td>6.662641</td>\n",
       "      <td>0.071739</td>\n",
       "      <td>0.071739</td>\n",
       "      <td>00:06</td>\n",
       "    </tr>\n",
       "  </tbody>\n",
       "</table>"
      ],
      "text/plain": [
       "<IPython.core.display.HTML object>"
      ]
     },
     "metadata": {},
     "output_type": "display_data"
    }
   ],
   "source": [
    "learn4 = cnn_learner(mnist4_dls, resnet18, pretrained=True,metrics=[mse], )\n",
    "learn4.fit(8, lr=0.1)"
   ]
  },
  {
   "cell_type": "code",
   "execution_count": 28,
   "metadata": {},
   "outputs": [
    {
     "data": {
      "text/html": [
       "<table border=\"1\" class=\"dataframe\">\n",
       "  <thead>\n",
       "    <tr style=\"text-align: left;\">\n",
       "      <th>epoch</th>\n",
       "      <th>train_loss</th>\n",
       "      <th>valid_loss</th>\n",
       "      <th>mse</th>\n",
       "      <th>time</th>\n",
       "    </tr>\n",
       "  </thead>\n",
       "  <tbody>\n",
       "    <tr>\n",
       "      <td>0</td>\n",
       "      <td>68.734726</td>\n",
       "      <td>31505.925781</td>\n",
       "      <td>31505.925781</td>\n",
       "      <td>00:07</td>\n",
       "    </tr>\n",
       "    <tr>\n",
       "      <td>1</td>\n",
       "      <td>39.002445</td>\n",
       "      <td>146.913803</td>\n",
       "      <td>146.913803</td>\n",
       "      <td>00:06</td>\n",
       "    </tr>\n",
       "    <tr>\n",
       "      <td>2</td>\n",
       "      <td>26.934591</td>\n",
       "      <td>57.332302</td>\n",
       "      <td>57.332302</td>\n",
       "      <td>00:06</td>\n",
       "    </tr>\n",
       "    <tr>\n",
       "      <td>3</td>\n",
       "      <td>19.713324</td>\n",
       "      <td>3.578053</td>\n",
       "      <td>3.578053</td>\n",
       "      <td>00:06</td>\n",
       "    </tr>\n",
       "    <tr>\n",
       "      <td>4</td>\n",
       "      <td>15.020003</td>\n",
       "      <td>0.766468</td>\n",
       "      <td>0.766468</td>\n",
       "      <td>00:05</td>\n",
       "    </tr>\n",
       "    <tr>\n",
       "      <td>5</td>\n",
       "      <td>11.748473</td>\n",
       "      <td>0.304603</td>\n",
       "      <td>0.304603</td>\n",
       "      <td>00:07</td>\n",
       "    </tr>\n",
       "    <tr>\n",
       "      <td>6</td>\n",
       "      <td>9.365639</td>\n",
       "      <td>0.708632</td>\n",
       "      <td>0.708632</td>\n",
       "      <td>00:06</td>\n",
       "    </tr>\n",
       "    <tr>\n",
       "      <td>7</td>\n",
       "      <td>7.605848</td>\n",
       "      <td>0.491366</td>\n",
       "      <td>0.491366</td>\n",
       "      <td>00:06</td>\n",
       "    </tr>\n",
       "    <tr>\n",
       "      <td>8</td>\n",
       "      <td>6.214556</td>\n",
       "      <td>0.110409</td>\n",
       "      <td>0.110409</td>\n",
       "      <td>00:05</td>\n",
       "    </tr>\n",
       "    <tr>\n",
       "      <td>9</td>\n",
       "      <td>5.100672</td>\n",
       "      <td>0.081195</td>\n",
       "      <td>0.081195</td>\n",
       "      <td>00:05</td>\n",
       "    </tr>\n",
       "    <tr>\n",
       "      <td>10</td>\n",
       "      <td>4.207639</td>\n",
       "      <td>0.013959</td>\n",
       "      <td>0.013959</td>\n",
       "      <td>00:04</td>\n",
       "    </tr>\n",
       "    <tr>\n",
       "      <td>11</td>\n",
       "      <td>3.489931</td>\n",
       "      <td>0.047413</td>\n",
       "      <td>0.047413</td>\n",
       "      <td>00:04</td>\n",
       "    </tr>\n",
       "  </tbody>\n",
       "</table>"
      ],
      "text/plain": [
       "<IPython.core.display.HTML object>"
      ]
     },
     "metadata": {},
     "output_type": "display_data"
    }
   ],
   "source": [
    "learn4 = cnn_learner(mnist4_dls, resnet18, pretrained=True,metrics=[mse])\n",
    "learn4.fit(12, lr=0.1, )"
   ]
  },
  {
   "cell_type": "code",
   "execution_count": 29,
   "metadata": {},
   "outputs": [
    {
     "data": {
      "text/html": [
       "<table border=\"1\" class=\"dataframe\">\n",
       "  <thead>\n",
       "    <tr style=\"text-align: left;\">\n",
       "      <th>epoch</th>\n",
       "      <th>train_loss</th>\n",
       "      <th>valid_loss</th>\n",
       "      <th>mse</th>\n",
       "      <th>time</th>\n",
       "    </tr>\n",
       "  </thead>\n",
       "  <tbody>\n",
       "    <tr>\n",
       "      <td>0</td>\n",
       "      <td>3.582273</td>\n",
       "      <td>0.363390</td>\n",
       "      <td>0.363390</td>\n",
       "      <td>00:04</td>\n",
       "    </tr>\n",
       "    <tr>\n",
       "      <td>1</td>\n",
       "      <td>3.452212</td>\n",
       "      <td>0.152803</td>\n",
       "      <td>0.152803</td>\n",
       "      <td>00:04</td>\n",
       "    </tr>\n",
       "    <tr>\n",
       "      <td>2</td>\n",
       "      <td>3.239171</td>\n",
       "      <td>0.345903</td>\n",
       "      <td>0.345903</td>\n",
       "      <td>00:04</td>\n",
       "    </tr>\n",
       "    <tr>\n",
       "      <td>3</td>\n",
       "      <td>3.080295</td>\n",
       "      <td>0.377377</td>\n",
       "      <td>0.377377</td>\n",
       "      <td>00:04</td>\n",
       "    </tr>\n",
       "    <tr>\n",
       "      <td>4</td>\n",
       "      <td>2.855164</td>\n",
       "      <td>0.383500</td>\n",
       "      <td>0.383500</td>\n",
       "      <td>00:04</td>\n",
       "    </tr>\n",
       "    <tr>\n",
       "      <td>5</td>\n",
       "      <td>2.687775</td>\n",
       "      <td>0.400066</td>\n",
       "      <td>0.400066</td>\n",
       "      <td>00:04</td>\n",
       "    </tr>\n",
       "    <tr>\n",
       "      <td>6</td>\n",
       "      <td>2.510169</td>\n",
       "      <td>0.473855</td>\n",
       "      <td>0.473855</td>\n",
       "      <td>00:05</td>\n",
       "    </tr>\n",
       "    <tr>\n",
       "      <td>7</td>\n",
       "      <td>2.365243</td>\n",
       "      <td>0.423849</td>\n",
       "      <td>0.423849</td>\n",
       "      <td>00:05</td>\n",
       "    </tr>\n",
       "  </tbody>\n",
       "</table>"
      ],
      "text/plain": [
       "<IPython.core.display.HTML object>"
      ]
     },
     "metadata": {},
     "output_type": "display_data"
    }
   ],
   "source": [
    "learn4 = cnn_learner(mnist4_dls, resnet18, pretrained=True,metrics=[mse])\n",
    "learn4.fit(8)"
   ]
  },
  {
   "cell_type": "markdown",
   "metadata": {},
   "source": [
    "### Build a Synthetic Regression Learning Task"
   ]
  },
  {
   "cell_type": "markdown",
   "metadata": {},
   "source": [
    "##### Function to create the point"
   ]
  },
  {
   "cell_type": "code",
   "execution_count": 85,
   "metadata": {},
   "outputs": [],
   "source": [
    "def point_from_img(fn):\n",
    "\n",
    "    img_np = np.array(Image.open(str(path) + fn))\n",
    "\n",
    "    img_bool =         np.where(img_np > 0, 1, 0)\n",
    "    row_sums =         img_bool.argmax(axis=1)\n",
    "    binary_row_sums =  np.where(row_sums > 0, 1, 0)\n",
    "    top_row_index =    binary_row_sums.tolist().index(1)\n",
    "    top_row_values =   img_np[top_row_index,:]\n",
    "    leftmost_index =   (top_row_values > 0).tolist().index(True)\n",
    "\n",
    "\n",
    "    return (top_row_index, leftmost_index)"
   ]
  },
  {
   "cell_type": "code",
   "execution_count": 87,
   "metadata": {},
   "outputs": [],
   "source": [
    "def prev_img(fn):\n",
    "    plt.imshow(np.array(Image.open(str(path) + fn)))"
   ]
  },
  {
   "cell_type": "code",
   "execution_count": 89,
   "metadata": {},
   "outputs": [
    {
     "data": {
      "text/plain": [
       "(5, 10)"
      ]
     },
     "execution_count": 89,
     "metadata": {},
     "output_type": "execute_result"
    },
    {
     "data": {
      "image/png": "[encoded data removed]",
      "text/plain": [
       "<Figure size 432x288 with 1 Axes>"
      ]
     },
     "metadata": {
      "needs_background": "light"
     },
     "output_type": "display_data"
    }
   ],
   "source": [
    "i=12\n",
    "fn = df['fn'][i]\n",
    "\n",
    "prev_img(fn)\n",
    "point_from_img(fn)"
   ]
  },
  {
   "cell_type": "markdown",
   "metadata": {},
   "source": [
    "##### Apply Function along all images, put in `df2`"
   ]
  },
  {
   "cell_type": "code",
   "execution_count": 102,
   "metadata": {
    "collapsed": true
   },
   "outputs": [
    {
     "data": {
      "text/plain": [
       "[(5, 11),\n",
       " (4, 9),\n",
       " (3, 12),\n",
       " (4, 13),\n",
       " (4, 5),\n",
       " (4, 13),\n",
       " (4, 14),\n",
       " (4, 13),\n",
       " (5, 10),\n",
       " (5, 15),\n",
       " (5, 6),\n",
       " (4, 16),\n",
       " (5, 10),\n",
       " (5, 10),\n",
       " (4, 17),\n",
       " (4, 14),\n",
       " (6, 8),\n",
       " (5, 8),\n",
       " (5, 6),\n",
       " (5, 11),\n",
       " (6, 6),\n",
       " (6, 7),\n",
       " (5, 9),\n",
       " (5, 12),\n",
       " (4, 15),\n",
       " (5, 8),\n",
       " (5, 12),\n",
       " (6, 10),\n",
       " (5, 10),\n",
       " (5, 13),\n",
       " (6, 11),\n",
       " (4, 14),\n",
       " (4, 15),\n",
       " (4, 9),\n",
       " (5, 10),\n",
       " (4, 11),\n",
       " (6, 9),\n",
       " (6, 13),\n",
       " (7, 12),\n",
       " (4, 7),\n",
       " (4, 11),\n",
       " (5, 9),\n",
       " (5, 3),\n",
       " (5, 11),\n",
       " (4, 11),\n",
       " (5, 10),\n",
       " (5, 11),\n",
       " (5, 9),\n",
       " (4, 11),\n",
       " (5, 12),\n",
       " (5, 10),\n",
       " (5, 12),\n",
       " (5, 8),\n",
       " (5, 11),\n",
       " (5, 6),\n",
       " (4, 12),\n",
       " (4, 9),\n",
       " (4, 13),\n",
       " (4, 10),\n",
       " (6, 13),\n",
       " (4, 8),\n",
       " (5, 9),\n",
       " (4, 8),\n",
       " (4, 13),\n",
       " (5, 6),\n",
       " (4, 10),\n",
       " (5, 14),\n",
       " (4, 15),\n",
       " (5, 9),\n",
       " (5, 5),\n",
       " (4, 9),\n",
       " (4, 11),\n",
       " (7, 15),\n",
       " (5, 11),\n",
       " (6, 9),\n",
       " (5, 6),\n",
       " (4, 15),\n",
       " (4, 15),\n",
       " (4, 21),\n",
       " (4, 7),\n",
       " (4, 19),\n",
       " (5, 8),\n",
       " (6, 19),\n",
       " (7, 17),\n",
       " (4, 7),\n",
       " (4, 8),\n",
       " (4, 12),\n",
       " (6, 6),\n",
       " (4, 18),\n",
       " (6, 11),\n",
       " (5, 11),\n",
       " (4, 10),\n",
       " (4, 9),\n",
       " (5, 6),\n",
       " (6, 4),\n",
       " (4, 12),\n",
       " (6, 9),\n",
       " (4, 7),\n",
       " (5, 11),\n",
       " (6, 7),\n",
       " (5, 10),\n",
       " (5, 7),\n",
       " (3, 9),\n",
       " (6, 10),\n",
       " (3, 11),\n",
       " (4, 11),\n",
       " (4, 8),\n",
       " (5, 13),\n",
       " (5, 11),\n",
       " (3, 9),\n",
       " (4, 12),\n",
       " (6, 8),\n",
       " (4, 7),\n",
       " (5, 10),\n",
       " (5, 9),\n",
       " (6, 6),\n",
       " (6, 8),\n",
       " (4, 7),\n",
       " (4, 13),\n",
       " (4, 14),\n",
       " (3, 14),\n",
       " (6, 8),\n",
       " (6, 18),\n",
       " (3, 12),\n",
       " (4, 15),\n",
       " (4, 8),\n",
       " (4, 18),\n",
       " (6, 4),\n",
       " (3, 13),\n",
       " (5, 10),\n",
       " (4, 15),\n",
       " (6, 11),\n",
       " (4, 16),\n",
       " (5, 6),\n",
       " (5, 9),\n",
       " (5, 10),\n",
       " (4, 16),\n",
       " (4, 10),\n",
       " (4, 13),\n",
       " (5, 10),\n",
       " (5, 13),\n",
       " (4, 10),\n",
       " (5, 14),\n",
       " (4, 8),\n",
       " (4, 9),\n",
       " (5, 6),\n",
       " (4, 14),\n",
       " (4, 10),\n",
       " (4, 9),\n",
       " (6, 13),\n",
       " (5, 9),\n",
       " (5, 7),\n",
       " (6, 12),\n",
       " (4, 16),\n",
       " (2, 14),\n",
       " (5, 11),\n",
       " (4, 7),\n",
       " (4, 10),\n",
       " (5, 8),\n",
       " (4, 6),\n",
       " (4, 14),\n",
       " (4, 8),\n",
       " (5, 5),\n",
       " (5, 8),\n",
       " (4, 11),\n",
       " (5, 8),\n",
       " (4, 9),\n",
       " (4, 5),\n",
       " (4, 9),\n",
       " (5, 10),\n",
       " (5, 10),\n",
       " (4, 14),\n",
       " (4, 8),\n",
       " (6, 3),\n",
       " (5, 8),\n",
       " (4, 10),\n",
       " (4, 15),\n",
       " (5, 7),\n",
       " (5, 9),\n",
       " (4, 15),\n",
       " (4, 14),\n",
       " (5, 7),\n",
       " (3, 13),\n",
       " (5, 14),\n",
       " (3, 8),\n",
       " (5, 12),\n",
       " (6, 13),\n",
       " (4, 11),\n",
       " (6, 4),\n",
       " (7, 11),\n",
       " (4, 10),\n",
       " (5, 9),\n",
       " (4, 5),\n",
       " (5, 9),\n",
       " (6, 16),\n",
       " (5, 11),\n",
       " (5, 16),\n",
       " (6, 9),\n",
       " (4, 12),\n",
       " (5, 11),\n",
       " (5, 11),\n",
       " (5, 15),\n",
       " (4, 10),\n",
       " (5, 9),\n",
       " (3, 17),\n",
       " (5, 7),\n",
       " (6, 14),\n",
       " (4, 14),\n",
       " (5, 4),\n",
       " (6, 14),\n",
       " (6, 16),\n",
       " (4, 9),\n",
       " (5, 6),\n",
       " (4, 3),\n",
       " (5, 6),\n",
       " (5, 14),\n",
       " (5, 11),\n",
       " (5, 7),\n",
       " (5, 4),\n",
       " (5, 9),\n",
       " (5, 5),\n",
       " (4, 4),\n",
       " (4, 6),\n",
       " (5, 13),\n",
       " (4, 8),\n",
       " (6, 4),\n",
       " (5, 8),\n",
       " (5, 8),\n",
       " (3, 9),\n",
       " (5, 6),\n",
       " (6, 7),\n",
       " (5, 4),\n",
       " (5, 9),\n",
       " (4, 6),\n",
       " (6, 7),\n",
       " (5, 10),\n",
       " (4, 8),\n",
       " (5, 12),\n",
       " (4, 14),\n",
       " (5, 10),\n",
       " (5, 11),\n",
       " (6, 11),\n",
       " (4, 10),\n",
       " (5, 13),\n",
       " (5, 7),\n",
       " (4, 13),\n",
       " (5, 11),\n",
       " (4, 8),\n",
       " (6, 8),\n",
       " (4, 13),\n",
       " (6, 6),\n",
       " (4, 10),\n",
       " (5, 12),\n",
       " (6, 11),\n",
       " (5, 6),\n",
       " (5, 10),\n",
       " (5, 3),\n",
       " (5, 12),\n",
       " (6, 11),\n",
       " (5, 12),\n",
       " (6, 9),\n",
       " (4, 6),\n",
       " (6, 17),\n",
       " (5, 6),\n",
       " (5, 8),\n",
       " (4, 12),\n",
       " (4, 9),\n",
       " (4, 9),\n",
       " (5, 8),\n",
       " (7, 12),\n",
       " (4, 10),\n",
       " (5, 8),\n",
       " (5, 10),\n",
       " (5, 5),\n",
       " (5, 7),\n",
       " (4, 11),\n",
       " (4, 9),\n",
       " (5, 9),\n",
       " (5, 8),\n",
       " (4, 12),\n",
       " (4, 11),\n",
       " (4, 16),\n",
       " (5, 5),\n",
       " (5, 10),\n",
       " (5, 4),\n",
       " (5, 6),\n",
       " (5, 14),\n",
       " (5, 8),\n",
       " (5, 8),\n",
       " (5, 13),\n",
       " (4, 10),\n",
       " (5, 9),\n",
       " (6, 8),\n",
       " (6, 7),\n",
       " (4, 7),\n",
       " (5, 3),\n",
       " (4, 10),\n",
       " (6, 6),\n",
       " (5, 9),\n",
       " (4, 8),\n",
       " (4, 9),\n",
       " (4, 7),\n",
       " (5, 5),\n",
       " (4, 14),\n",
       " (5, 6),\n",
       " (4, 11),\n",
       " (5, 4),\n",
       " (5, 7),\n",
       " (3, 6),\n",
       " (4, 9),\n",
       " (4, 8),\n",
       " (5, 9),\n",
       " (4, 6),\n",
       " (4, 10),\n",
       " (4, 7),\n",
       " (4, 8),\n",
       " (4, 11),\n",
       " (4, 9),\n",
       " (5, 13),\n",
       " (4, 9),\n",
       " (5, 16),\n",
       " (4, 11),\n",
       " (5, 11),\n",
       " (4, 12),\n",
       " (5, 10),\n",
       " (5, 13),\n",
       " (4, 10),\n",
       " (5, 14),\n",
       " (5, 8),\n",
       " (4, 13),\n",
       " (5, 12),\n",
       " (4, 7),\n",
       " (4, 12),\n",
       " (4, 10),\n",
       " (6, 13),\n",
       " (4, 12),\n",
       " (4, 14),\n",
       " (4, 12),\n",
       " (4, 5),\n",
       " (6, 17),\n",
       " (4, 11),\n",
       " (5, 14),\n",
       " (5, 13),\n",
       " (4, 13),\n",
       " (4, 10),\n",
       " (4, 11),\n",
       " (7, 5),\n",
       " (7, 6),\n",
       " (7, 9),\n",
       " (8, 14),\n",
       " (7, 11),\n",
       " (8, 5),\n",
       " (7, 8),\n",
       " (7, 10),\n",
       " (8, 15),\n",
       " (8, 7),\n",
       " (6, 10),\n",
       " (8, 13),\n",
       " (7, 18),\n",
       " (5, 13),\n",
       " (7, 9),\n",
       " (6, 11),\n",
       " (6, 9),\n",
       " (7, 14),\n",
       " (7, 9),\n",
       " (8, 11),\n",
       " (6, 14),\n",
       " (6, 15),\n",
       " (7, 10),\n",
       " (7, 2),\n",
       " (7, 4),\n",
       " (7, 15),\n",
       " (7, 19),\n",
       " (6, 12),\n",
       " (6, 12),\n",
       " (6, 11),\n",
       " (7, 13),\n",
       " (6, 6),\n",
       " (7, 15),\n",
       " (6, 6),\n",
       " (8, 12),\n",
       " (7, 13),\n",
       " (7, 9),\n",
       " (7, 14),\n",
       " (8, 5),\n",
       " (7, 17),\n",
       " (5, 7),\n",
       " (8, 4),\n",
       " (8, 7),\n",
       " (6, 7),\n",
       " (6, 8),\n",
       " (6, 8),\n",
       " (6, 8),\n",
       " (7, 7),\n",
       " (8, 4),\n",
       " (7, 9),\n",
       " (7, 8),\n",
       " (8, 7),\n",
       " (6, 7),\n",
       " (7, 9),\n",
       " (7, 7),\n",
       " (7, 11),\n",
       " (7, 10),\n",
       " (6, 17),\n",
       " (7, 9),\n",
       " (7, 8),\n",
       " (7, 8),\n",
       " (7, 10),\n",
       " (7, 3),\n",
       " (6, 7),\n",
       " (8, 9),\n",
       " (7, 10),\n",
       " (8, 8),\n",
       " (7, 10),\n",
       " (8, 8),\n",
       " (7, 11),\n",
       " (7, 13),\n",
       " (7, 8),\n",
       " (8, 7),\n",
       " (7, 20),\n",
       " (6, 4),\n",
       " (6, 11),\n",
       " (7, 10),\n",
       " (5, 12),\n",
       " (7, 9),\n",
       " (6, 11),\n",
       " (7, 9),\n",
       " (8, 9),\n",
       " (7, 14),\n",
       " (7, 13),\n",
       " (7, 19),\n",
       " (6, 15),\n",
       " (6, 13),\n",
       " (6, 12),\n",
       " (6, 16),\n",
       " (7, 14),\n",
       " (6, 9),\n",
       " (7, 11),\n",
       " (7, 16),\n",
       " (7, 10),\n",
       " (7, 13),\n",
       " (6, 17),\n",
       " (6, 14),\n",
       " (7, 16),\n",
       " (7, 11),\n",
       " (7, 17),\n",
       " (7, 10),\n",
       " (7, 10),\n",
       " (7, 12),\n",
       " (7, 9),\n",
       " (7, 13),\n",
       " (6, 10),\n",
       " (7, 8),\n",
       " (7, 14),\n",
       " (7, 12),\n",
       " (7, 8),\n",
       " (7, 15),\n",
       " (6, 10),\n",
       " (7, 6),\n",
       " (6, 10),\n",
       " (7, 10),\n",
       " (7, 5),\n",
       " (6, 16),\n",
       " (7, 19),\n",
       " (7, 7),\n",
       " (6, 10),\n",
       " (8, 6),\n",
       " (6, 14),\n",
       " (7, 14),\n",
       " (6, 11),\n",
       " (6, 12),\n",
       " (6, 10),\n",
       " (6, 8),\n",
       " (8, 9),\n",
       " (6, 4),\n",
       " (6, 10),\n",
       " (6, 13),\n",
       " (7, 11),\n",
       " (6, 7),\n",
       " (6, 7),\n",
       " (7, 7),\n",
       " (7, 7),\n",
       " (6, 10),\n",
       " (6, 15),\n",
       " (7, 12),\n",
       " (7, 9),\n",
       " (6, 7),\n",
       " (6, 6),\n",
       " (6, 15),\n",
       " (7, 8),\n",
       " (6, 13),\n",
       " (7, 6),\n",
       " (6, 8),\n",
       " (6, 14),\n",
       " (7, 12),\n",
       " (7, 9),\n",
       " (7, 8),\n",
       " (7, 1),\n",
       " (7, 9),\n",
       " (6, 15),\n",
       " (5, 5),\n",
       " (7, 10),\n",
       " (6, 11),\n",
       " (7, 14),\n",
       " (8, 6),\n",
       " (8, 9),\n",
       " (6, 14),\n",
       " (6, 15),\n",
       " (6, 11),\n",
       " (7, 8),\n",
       " (7, 6),\n",
       " (7, 3),\n",
       " (7, 12),\n",
       " (6, 12),\n",
       " (7, 7),\n",
       " (7, 12),\n",
       " (7, 18),\n",
       " (6, 10),\n",
       " (6, 6),\n",
       " (6, 9),\n",
       " (6, 11),\n",
       " (7, 9),\n",
       " (7, 7),\n",
       " (7, 20),\n",
       " (6, 7),\n",
       " (7, 11),\n",
       " (6, 9),\n",
       " (7, 8),\n",
       " (7, 10),\n",
       " (7, 12),\n",
       " (7, 9),\n",
       " (8, 10),\n",
       " (7, 7),\n",
       " (6, 18),\n",
       " (8, 6),\n",
       " (6, 9),\n",
       " (7, 3),\n",
       " (7, 10),\n",
       " (5, 11),\n",
       " (6, 12),\n",
       " (6, 8),\n",
       " (7, 10),\n",
       " (6, 9),\n",
       " (6, 5),\n",
       " (8, 5),\n",
       " (6, 15),\n",
       " (6, 15),\n",
       " (8, 3),\n",
       " (6, 12),\n",
       " (7, 11),\n",
       " (7, 13),\n",
       " (6, 13),\n",
       " (6, 9),\n",
       " (7, 9),\n",
       " (7, 13),\n",
       " (6, 14),\n",
       " (6, 13),\n",
       " (8, 6),\n",
       " (6, 11),\n",
       " (6, 15),\n",
       " (7, 8),\n",
       " (7, 14),\n",
       " (5, 11),\n",
       " (6, 15),\n",
       " (6, 13),\n",
       " (6, 13),\n",
       " (5, 16),\n",
       " (7, 8),\n",
       " (6, 16),\n",
       " (7, 5),\n",
       " (7, 13),\n",
       " (7, 13),\n",
       " (7, 7),\n",
       " (7, 9),\n",
       " (7, 6),\n",
       " (7, 10),\n",
       " (7, 4),\n",
       " (8, 6),\n",
       " (8, 3),\n",
       " (7, 5),\n",
       " (7, 6),\n",
       " (6, 9),\n",
       " (8, 5),\n",
       " (7, 10),\n",
       " (6, 5),\n",
       " (8, 4),\n",
       " (6, 9),\n",
       " (9, 3),\n",
       " (6, 5),\n",
       " (8, 3),\n",
       " (6, 10),\n",
       " (8, 14),\n",
       " (8, 8),\n",
       " (7, 14),\n",
       " (7, 9),\n",
       " (6, 11),\n",
       " (8, 12),\n",
       " (6, 6),\n",
       " (6, 9),\n",
       " (7, 9),\n",
       " (7, 9),\n",
       " (7, 11),\n",
       " (7, 6),\n",
       " (7, 10),\n",
       " (7, 11),\n",
       " (6, 10),\n",
       " (6, 11),\n",
       " (7, 9),\n",
       " (7, 11),\n",
       " (7, 6),\n",
       " (8, 10),\n",
       " (6, 5),\n",
       " (6, 12),\n",
       " (7, 13),\n",
       " (7, 11),\n",
       " (7, 8),\n",
       " (7, 9),\n",
       " (7, 1),\n",
       " (8, 20),\n",
       " (6, 4),\n",
       " (8, 4),\n",
       " (7, 13),\n",
       " (8, 8),\n",
       " (6, 8),\n",
       " (6, 5),\n",
       " (7, 7),\n",
       " (7, 15),\n",
       " (8, 10),\n",
       " (8, 7),\n",
       " (8, 4),\n",
       " (7, 7),\n",
       " (7, 6),\n",
       " (7, 10),\n",
       " (7, 9),\n",
       " (6, 6),\n",
       " (7, 4),\n",
       " (7, 12),\n",
       " (7, 17),\n",
       " (7, 8),\n",
       " (6, 10),\n",
       " (7, 13),\n",
       " (7, 6),\n",
       " (8, 6),\n",
       " (6, 11),\n",
       " (7, 17),\n",
       " (8, 4),\n",
       " (7, 8),\n",
       " (8, 13),\n",
       " (6, 9),\n",
       " (7, 3),\n",
       " (7, 10),\n",
       " (7, 9),\n",
       " (7, 5),\n",
       " (7, 8),\n",
       " (6, 8),\n",
       " (7, 6),\n",
       " (7, 8),\n",
       " (7, 7),\n",
       " (5, 7),\n",
       " (6, 9),\n",
       " (7, 13),\n",
       " (7, 8),\n",
       " (7, 7),\n",
       " (8, 2),\n",
       " (7, 8),\n",
       " (6, 10),\n",
       " (7, 8),\n",
       " (10, 3),\n",
       " (7, 9),\n",
       " (7, 8),\n",
       " (7, 9),\n",
       " (6, 12),\n",
       " (7, 10),\n",
       " (6, 13),\n",
       " (8, 17),\n",
       " (7, 8),\n",
       " (7, 9),\n",
       " (7, 4),\n",
       " (7, 7),\n",
       " (7, 12),\n",
       " (7, 17),\n",
       " (7, 6),\n",
       " (5, 14),\n",
       " (7, 19),\n",
       " (5, 8),\n",
       " (7, 7),\n",
       " (6, 4),\n",
       " (7, 12),\n",
       " (7, 7),\n",
       " (7, 11),\n",
       " (7, 6),\n",
       " (6, 14),\n",
       " (7, 11),\n",
       " (6, 17),\n",
       " (7, 3),\n",
       " (6, 5),\n",
       " (7, 9),\n",
       " (8, 11),\n",
       " (7, 7),\n",
       " (7, 6),\n",
       " (7, 13),\n",
       " (8, 5),\n",
       " (8, 10),\n",
       " (7, 7),\n",
       " (7, 17),\n",
       " (7, 5),\n",
       " (7, 9),\n",
       " (8, 3),\n",
       " (7, 12)]"
      ]
     },
     "execution_count": 102,
     "metadata": {},
     "output_type": "execute_result"
    }
   ],
   "source": [
    "vals = [point_from_img(e) for e in df['fn']]\n",
    "vals"
   ]
  },
  {
   "cell_type": "code",
   "execution_count": 104,
   "metadata": {},
   "outputs": [],
   "source": [
    "df_p = pd.DataFrame(vals, columns=['py','px'])"
   ]
  },
  {
   "cell_type": "code",
   "execution_count": 105,
   "metadata": {},
   "outputs": [
    {
     "data": {
      "text/html": [
       "<div>\n",
       "<style scoped>\n",
       "    .dataframe tbody tr th:only-of-type {\n",
       "        vertical-align: middle;\n",
       "    }\n",
       "\n",
       "    .dataframe tbody tr th {\n",
       "        vertical-align: top;\n",
       "    }\n",
       "\n",
       "    .dataframe thead th {\n",
       "        text-align: right;\n",
       "    }\n",
       "</style>\n",
       "<table border=\"1\" class=\"dataframe\">\n",
       "  <thead>\n",
       "    <tr style=\"text-align: right;\">\n",
       "      <th></th>\n",
       "      <th>index</th>\n",
       "      <th>fn</th>\n",
       "      <th>y</th>\n",
       "      <th>py</th>\n",
       "      <th>px</th>\n",
       "    </tr>\n",
       "  </thead>\n",
       "  <tbody>\n",
       "    <tr>\n",
       "      <th>0</th>\n",
       "      <td>0</td>\n",
       "      <td>/train/3/7.png</td>\n",
       "      <td>3</td>\n",
       "      <td>5</td>\n",
       "      <td>11</td>\n",
       "    </tr>\n",
       "    <tr>\n",
       "      <th>1</th>\n",
       "      <td>1</td>\n",
       "      <td>/train/3/7030.png</td>\n",
       "      <td>3</td>\n",
       "      <td>4</td>\n",
       "      <td>9</td>\n",
       "    </tr>\n",
       "    <tr>\n",
       "      <th>2</th>\n",
       "      <td>2</td>\n",
       "      <td>/train/3/7031.png</td>\n",
       "      <td>3</td>\n",
       "      <td>3</td>\n",
       "      <td>12</td>\n",
       "    </tr>\n",
       "    <tr>\n",
       "      <th>3</th>\n",
       "      <td>3</td>\n",
       "      <td>/train/3/7043.png</td>\n",
       "      <td>3</td>\n",
       "      <td>4</td>\n",
       "      <td>13</td>\n",
       "    </tr>\n",
       "    <tr>\n",
       "      <th>4</th>\n",
       "      <td>4</td>\n",
       "      <td>/train/3/7046.png</td>\n",
       "      <td>3</td>\n",
       "      <td>4</td>\n",
       "      <td>5</td>\n",
       "    </tr>\n",
       "    <tr>\n",
       "      <th>...</th>\n",
       "      <td>...</td>\n",
       "      <td>...</td>\n",
       "      <td>...</td>\n",
       "      <td>...</td>\n",
       "      <td>...</td>\n",
       "    </tr>\n",
       "    <tr>\n",
       "      <th>704</th>\n",
       "      <td>358</td>\n",
       "      <td>/train/7/9955.png</td>\n",
       "      <td>7</td>\n",
       "      <td>7</td>\n",
       "      <td>17</td>\n",
       "    </tr>\n",
       "    <tr>\n",
       "      <th>705</th>\n",
       "      <td>359</td>\n",
       "      <td>/train/7/9988.png</td>\n",
       "      <td>7</td>\n",
       "      <td>7</td>\n",
       "      <td>5</td>\n",
       "    </tr>\n",
       "    <tr>\n",
       "      <th>706</th>\n",
       "      <td>360</td>\n",
       "      <td>/train/7/9990.png</td>\n",
       "      <td>7</td>\n",
       "      <td>7</td>\n",
       "      <td>9</td>\n",
       "    </tr>\n",
       "    <tr>\n",
       "      <th>707</th>\n",
       "      <td>361</td>\n",
       "      <td>/train/7/9992.png</td>\n",
       "      <td>7</td>\n",
       "      <td>8</td>\n",
       "      <td>3</td>\n",
       "    </tr>\n",
       "    <tr>\n",
       "      <th>708</th>\n",
       "      <td>362</td>\n",
       "      <td>/train/7/9999.png</td>\n",
       "      <td>7</td>\n",
       "      <td>7</td>\n",
       "      <td>12</td>\n",
       "    </tr>\n",
       "  </tbody>\n",
       "</table>\n",
       "<p>709 rows × 5 columns</p>\n",
       "</div>"
      ],
      "text/plain": [
       "     index                 fn  y  py  px\n",
       "0        0     /train/3/7.png  3   5  11\n",
       "1        1  /train/3/7030.png  3   4   9\n",
       "2        2  /train/3/7031.png  3   3  12\n",
       "3        3  /train/3/7043.png  3   4  13\n",
       "4        4  /train/3/7046.png  3   4   5\n",
       "..     ...                ... ..  ..  ..\n",
       "704    358  /train/7/9955.png  7   7  17\n",
       "705    359  /train/7/9988.png  7   7   5\n",
       "706    360  /train/7/9990.png  7   7   9\n",
       "707    361  /train/7/9992.png  7   8   3\n",
       "708    362  /train/7/9999.png  7   7  12\n",
       "\n",
       "[709 rows x 5 columns]"
      ]
     },
     "execution_count": 105,
     "metadata": {},
     "output_type": "execute_result"
    }
   ],
   "source": [
    "df2 = pd.concat((df,df_p ), axis=1)\n",
    "df2"
   ]
  },
  {
   "cell_type": "markdown",
   "metadata": {},
   "source": [
    "##### ColReader Investigation"
   ]
  },
  {
   "cell_type": "code",
   "execution_count": 91,
   "metadata": {},
   "outputs": [
    {
     "data": {
      "text/html": [
       "<div>\n",
       "<style scoped>\n",
       "    .dataframe tbody tr th:only-of-type {\n",
       "        vertical-align: middle;\n",
       "    }\n",
       "\n",
       "    .dataframe tbody tr th {\n",
       "        vertical-align: top;\n",
       "    }\n",
       "\n",
       "    .dataframe thead th {\n",
       "        text-align: right;\n",
       "    }\n",
       "</style>\n",
       "<table border=\"1\" class=\"dataframe\">\n",
       "  <thead>\n",
       "    <tr style=\"text-align: right;\">\n",
       "      <th></th>\n",
       "      <th>a</th>\n",
       "      <th>b</th>\n",
       "      <th>c</th>\n",
       "    </tr>\n",
       "  </thead>\n",
       "  <tbody>\n",
       "    <tr>\n",
       "      <th>0</th>\n",
       "      <td>5,10</td>\n",
       "      <td>5</td>\n",
       "      <td>10</td>\n",
       "    </tr>\n",
       "  </tbody>\n",
       "</table>\n",
       "</div>"
      ],
      "text/plain": [
       "      a  b   c\n",
       "0  5,10  5  10"
      ]
     },
     "execution_count": 91,
     "metadata": {},
     "output_type": "execute_result"
    }
   ],
   "source": [
    "tmp_df = pd.DataFrame({'a':[\"5,10\"], 'b':[5], 'c':[10]})\n",
    "tmp_df"
   ]
  },
  {
   "cell_type": "code",
   "execution_count": 92,
   "metadata": {},
   "outputs": [
    {
     "data": {
      "text/plain": [
       "a    object\n",
       "b     int64\n",
       "c     int64\n",
       "dtype: object"
      ]
     },
     "execution_count": 92,
     "metadata": {},
     "output_type": "execute_result"
    }
   ],
   "source": [
    "tmp_df.dtypes"
   ]
  },
  {
   "cell_type": "code",
   "execution_count": 95,
   "metadata": {},
   "outputs": [
    {
     "data": {
      "text/plain": [
       "(#2) [0    5\n",
       "Name: b, dtype: int64,0    10\n",
       "Name: c, dtype: int64]"
      ]
     },
     "execution_count": 95,
     "metadata": {},
     "output_type": "execute_result"
    }
   ],
   "source": [
    "cr = ColReader(['b','c'], )\n",
    "ret = cr(tmp_df)\n",
    "ret"
   ]
  },
  {
   "cell_type": "code",
   "execution_count": 99,
   "metadata": {},
   "outputs": [
    {
     "data": {
      "text/plain": [
       "(0    5\n",
       " Name: b, dtype: int64,\n",
       " 0    10\n",
       " Name: c, dtype: int64)"
      ]
     },
     "execution_count": 99,
     "metadata": {},
     "output_type": "execute_result"
    }
   ],
   "source": [
    "ret[0], ret[1]"
   ]
  },
  {
   "cell_type": "code",
   "execution_count": 100,
   "metadata": {
    "collapsed": true
   },
   "outputs": [
    {
     "ename": "AttributeError",
     "evalue": "'Series' object has no attribute 'split'",
     "output_type": "error",
     "traceback": [
      "\u001b[0;31m---------------------------------------------------------------------------\u001b[0m",
      "\u001b[0;31mAttributeError\u001b[0m                            Traceback (most recent call last)",
      "\u001b[0;32m<ipython-input-100-7952f8502556>\u001b[0m in \u001b[0;36m<module>\u001b[0;34m\u001b[0m\n\u001b[1;32m      1\u001b[0m \u001b[0mcr\u001b[0m \u001b[0;34m=\u001b[0m \u001b[0mColReader\u001b[0m\u001b[0;34m(\u001b[0m\u001b[0;34m'a'\u001b[0m\u001b[0;34m,\u001b[0m \u001b[0mlabel_delim\u001b[0m\u001b[0;34m=\u001b[0m\u001b[0;34m','\u001b[0m\u001b[0;34m)\u001b[0m\u001b[0;34m\u001b[0m\u001b[0;34m\u001b[0m\u001b[0m\n\u001b[0;32m----> 2\u001b[0;31m \u001b[0mcr\u001b[0m\u001b[0;34m(\u001b[0m\u001b[0mtmp_df\u001b[0m\u001b[0;34m)\u001b[0m\u001b[0;34m\u001b[0m\u001b[0;34m\u001b[0m\u001b[0m\n\u001b[0m",
      "\u001b[0;32m/mnt/c/Users/wsutt/Desktop/files/fastai2-dev/sutt-fastai2-wsl/fastai2/data/transforms.py\u001b[0m in \u001b[0;36m__call__\u001b[0;34m(self, o, **kwargs)\u001b[0m\n\u001b[1;32m    198\u001b[0m \u001b[0;34m\u001b[0m\u001b[0m\n\u001b[1;32m    199\u001b[0m     \u001b[0;32mdef\u001b[0m \u001b[0m__call__\u001b[0m\u001b[0;34m(\u001b[0m\u001b[0mself\u001b[0m\u001b[0;34m,\u001b[0m \u001b[0mo\u001b[0m\u001b[0;34m,\u001b[0m \u001b[0;34m**\u001b[0m\u001b[0mkwargs\u001b[0m\u001b[0;34m)\u001b[0m\u001b[0;34m:\u001b[0m\u001b[0;34m\u001b[0m\u001b[0;34m\u001b[0m\u001b[0m\n\u001b[0;32m--> 200\u001b[0;31m         \u001b[0;32mif\u001b[0m \u001b[0mlen\u001b[0m\u001b[0;34m(\u001b[0m\u001b[0mself\u001b[0m\u001b[0;34m.\u001b[0m\u001b[0mcols\u001b[0m\u001b[0;34m)\u001b[0m \u001b[0;34m==\u001b[0m \u001b[0;36m1\u001b[0m\u001b[0;34m:\u001b[0m \u001b[0;32mreturn\u001b[0m \u001b[0mself\u001b[0m\u001b[0;34m.\u001b[0m\u001b[0m_do_one\u001b[0m\u001b[0;34m(\u001b[0m\u001b[0mo\u001b[0m\u001b[0;34m,\u001b[0m \u001b[0mself\u001b[0m\u001b[0;34m.\u001b[0m\u001b[0mcols\u001b[0m\u001b[0;34m[\u001b[0m\u001b[0;36m0\u001b[0m\u001b[0;34m]\u001b[0m\u001b[0;34m)\u001b[0m\u001b[0;34m\u001b[0m\u001b[0;34m\u001b[0m\u001b[0m\n\u001b[0m\u001b[1;32m    201\u001b[0m         \u001b[0;32mreturn\u001b[0m \u001b[0mL\u001b[0m\u001b[0;34m(\u001b[0m\u001b[0mself\u001b[0m\u001b[0;34m.\u001b[0m\u001b[0m_do_one\u001b[0m\u001b[0;34m(\u001b[0m\u001b[0mo\u001b[0m\u001b[0;34m,\u001b[0m \u001b[0mc\u001b[0m\u001b[0;34m)\u001b[0m \u001b[0;32mfor\u001b[0m \u001b[0mc\u001b[0m \u001b[0;32min\u001b[0m \u001b[0mself\u001b[0m\u001b[0;34m.\u001b[0m\u001b[0mcols\u001b[0m\u001b[0;34m)\u001b[0m\u001b[0;34m\u001b[0m\u001b[0;34m\u001b[0m\u001b[0m\n\u001b[1;32m    202\u001b[0m \u001b[0;34m\u001b[0m\u001b[0m\n",
      "\u001b[0;32m/mnt/c/Users/wsutt/Desktop/files/fastai2-dev/sutt-fastai2-wsl/fastai2/data/transforms.py\u001b[0m in \u001b[0;36m_do_one\u001b[0;34m(self, r, c)\u001b[0m\n\u001b[1;32m    195\u001b[0m         \u001b[0;32mif\u001b[0m \u001b[0mlen\u001b[0m\u001b[0;34m(\u001b[0m\u001b[0mself\u001b[0m\u001b[0;34m.\u001b[0m\u001b[0mpref\u001b[0m\u001b[0;34m)\u001b[0m\u001b[0;34m==\u001b[0m\u001b[0;36m0\u001b[0m \u001b[0;32mand\u001b[0m \u001b[0mlen\u001b[0m\u001b[0;34m(\u001b[0m\u001b[0mself\u001b[0m\u001b[0;34m.\u001b[0m\u001b[0msuff\u001b[0m\u001b[0;34m)\u001b[0m\u001b[0;34m==\u001b[0m\u001b[0;36m0\u001b[0m \u001b[0;32mand\u001b[0m \u001b[0mself\u001b[0m\u001b[0;34m.\u001b[0m\u001b[0mlabel_delim\u001b[0m \u001b[0;32mis\u001b[0m \u001b[0;32mNone\u001b[0m\u001b[0;34m:\u001b[0m \u001b[0;32mreturn\u001b[0m \u001b[0mo\u001b[0m\u001b[0;34m\u001b[0m\u001b[0;34m\u001b[0m\u001b[0m\n\u001b[1;32m    196\u001b[0m         \u001b[0;32mif\u001b[0m \u001b[0mself\u001b[0m\u001b[0;34m.\u001b[0m\u001b[0mlabel_delim\u001b[0m \u001b[0;32mis\u001b[0m \u001b[0;32mNone\u001b[0m\u001b[0;34m:\u001b[0m \u001b[0;32mreturn\u001b[0m \u001b[0;34mf'{self.pref}{o}{self.suff}'\u001b[0m\u001b[0;34m\u001b[0m\u001b[0;34m\u001b[0m\u001b[0m\n\u001b[0;32m--> 197\u001b[0;31m         \u001b[0;32melse\u001b[0m\u001b[0;34m:\u001b[0m \u001b[0;32mreturn\u001b[0m \u001b[0mo\u001b[0m\u001b[0;34m.\u001b[0m\u001b[0msplit\u001b[0m\u001b[0;34m(\u001b[0m\u001b[0mself\u001b[0m\u001b[0;34m.\u001b[0m\u001b[0mlabel_delim\u001b[0m\u001b[0;34m)\u001b[0m \u001b[0;32mif\u001b[0m \u001b[0mlen\u001b[0m\u001b[0;34m(\u001b[0m\u001b[0mo\u001b[0m\u001b[0;34m)\u001b[0m\u001b[0;34m>\u001b[0m\u001b[0;36m0\u001b[0m \u001b[0;32melse\u001b[0m \u001b[0;34m[\u001b[0m\u001b[0;34m]\u001b[0m\u001b[0;34m\u001b[0m\u001b[0;34m\u001b[0m\u001b[0m\n\u001b[0m\u001b[1;32m    198\u001b[0m \u001b[0;34m\u001b[0m\u001b[0m\n\u001b[1;32m    199\u001b[0m     \u001b[0;32mdef\u001b[0m \u001b[0m__call__\u001b[0m\u001b[0;34m(\u001b[0m\u001b[0mself\u001b[0m\u001b[0;34m,\u001b[0m \u001b[0mo\u001b[0m\u001b[0;34m,\u001b[0m \u001b[0;34m**\u001b[0m\u001b[0mkwargs\u001b[0m\u001b[0;34m)\u001b[0m\u001b[0;34m:\u001b[0m\u001b[0;34m\u001b[0m\u001b[0;34m\u001b[0m\u001b[0m\n",
      "\u001b[0;32m~/anaconda3/envs/fastai2/lib/python3.7/site-packages/pandas/core/generic.py\u001b[0m in \u001b[0;36m__getattr__\u001b[0;34m(self, name)\u001b[0m\n\u001b[1;32m   5271\u001b[0m             \u001b[0;32mif\u001b[0m \u001b[0mself\u001b[0m\u001b[0;34m.\u001b[0m\u001b[0m_info_axis\u001b[0m\u001b[0;34m.\u001b[0m\u001b[0m_can_hold_identifiers_and_holds_name\u001b[0m\u001b[0;34m(\u001b[0m\u001b[0mname\u001b[0m\u001b[0;34m)\u001b[0m\u001b[0;34m:\u001b[0m\u001b[0;34m\u001b[0m\u001b[0;34m\u001b[0m\u001b[0m\n\u001b[1;32m   5272\u001b[0m                 \u001b[0;32mreturn\u001b[0m \u001b[0mself\u001b[0m\u001b[0;34m[\u001b[0m\u001b[0mname\u001b[0m\u001b[0;34m]\u001b[0m\u001b[0;34m\u001b[0m\u001b[0;34m\u001b[0m\u001b[0m\n\u001b[0;32m-> 5273\u001b[0;31m             \u001b[0;32mreturn\u001b[0m \u001b[0mobject\u001b[0m\u001b[0;34m.\u001b[0m\u001b[0m__getattribute__\u001b[0m\u001b[0;34m(\u001b[0m\u001b[0mself\u001b[0m\u001b[0;34m,\u001b[0m \u001b[0mname\u001b[0m\u001b[0;34m)\u001b[0m\u001b[0;34m\u001b[0m\u001b[0;34m\u001b[0m\u001b[0m\n\u001b[0m\u001b[1;32m   5274\u001b[0m \u001b[0;34m\u001b[0m\u001b[0m\n\u001b[1;32m   5275\u001b[0m     \u001b[0;32mdef\u001b[0m \u001b[0m__setattr__\u001b[0m\u001b[0;34m(\u001b[0m\u001b[0mself\u001b[0m\u001b[0;34m,\u001b[0m \u001b[0mname\u001b[0m\u001b[0;34m:\u001b[0m \u001b[0mstr\u001b[0m\u001b[0;34m,\u001b[0m \u001b[0mvalue\u001b[0m\u001b[0;34m)\u001b[0m \u001b[0;34m->\u001b[0m \u001b[0;32mNone\u001b[0m\u001b[0;34m:\u001b[0m\u001b[0;34m\u001b[0m\u001b[0;34m\u001b[0m\u001b[0m\n",
      "\u001b[0;31mAttributeError\u001b[0m: 'Series' object has no attribute 'split'"
     ]
    }
   ],
   "source": [
    "cr = ColReader('a', label_delim=',')\n",
    "cr(tmp_df)"
   ]
  },
  {
   "cell_type": "code",
   "execution_count": 279,
   "metadata": {},
   "outputs": [
    {
     "data": {
      "text/plain": [
       "index     int64\n",
       "fn       object\n",
       "y        object\n",
       "py        int64\n",
       "px        int64\n",
       "dtype: object"
      ]
     },
     "execution_count": 279,
     "metadata": {},
     "output_type": "execute_result"
    }
   ],
   "source": [
    "df2.dtypes"
   ]
  },
  {
   "cell_type": "markdown",
   "metadata": {},
   "source": [
    "##### Pass info into a DataLoaders"
   ]
  },
  {
   "cell_type": "code",
   "execution_count": 164,
   "metadata": {},
   "outputs": [],
   "source": [
    "mnist5 = DataBlock(blocks=(ImageBlock(cls=PILImageBW), PointBlock), \n",
    "                  splitter=RandomSplitter(),\n",
    "                   get_x=ColReader('fn', pref=path),\n",
    "                   get_y=ColReader(['px', 'py'])\n",
    "                  )"
   ]
  },
  {
   "cell_type": "code",
   "execution_count": 165,
   "metadata": {},
   "outputs": [],
   "source": [
    "mnist5_dls = mnist5.dataloaders(df2)"
   ]
  },
  {
   "cell_type": "code",
   "execution_count": 277,
   "metadata": {},
   "outputs": [
    {
     "data": {
      "text/plain": [
       "568"
      ]
     },
     "execution_count": 277,
     "metadata": {},
     "output_type": "execute_result"
    }
   ],
   "source": [
    "len(mnist5_dls.train.get_idxs())"
   ]
  },
  {
   "cell_type": "code",
   "execution_count": 278,
   "metadata": {},
   "outputs": [
    {
     "data": {
      "text/plain": [
       "TensorPoint([[[ 0.0714, -0.5714]],\n",
       "\n",
       "        [[-0.5714, -0.6429]],\n",
       "\n",
       "        [[-0.3571, -0.5714]],\n",
       "\n",
       "        [[-0.5000, -0.5000]],\n",
       "\n",
       "        [[-0.4286, -0.4286]],\n",
       "\n",
       "        [[ 0.2143, -0.5000]],\n",
       "\n",
       "        [[ 0.2143, -0.5000]],\n",
       "\n",
       "        [[-0.1429, -0.6429]],\n",
       "\n",
       "        [[-0.2143, -0.5714]],\n",
       "\n",
       "        [[-0.3571, -0.5000]],\n",
       "\n",
       "        [[-0.3571, -0.6429]],\n",
       "\n",
       "        [[-0.5714, -0.6429]],\n",
       "\n",
       "        [[-0.0714, -0.5714]],\n",
       "\n",
       "        [[-0.5714, -0.4286]],\n",
       "\n",
       "        [[-0.7143, -0.6429]],\n",
       "\n",
       "        [[-0.2857, -0.5714]],\n",
       "\n",
       "        [[-0.4286, -0.5000]],\n",
       "\n",
       "        [[-0.5714, -0.6429]],\n",
       "\n",
       "        [[-0.3571, -0.6429]],\n",
       "\n",
       "        [[ 0.1429, -0.6429]],\n",
       "\n",
       "        [[-0.5000, -0.6429]],\n",
       "\n",
       "        [[-0.1429, -0.6429]],\n",
       "\n",
       "        [[ 0.1429, -0.5714]],\n",
       "\n",
       "        [[-0.7143, -0.5714]],\n",
       "\n",
       "        [[-0.2143, -0.5714]],\n",
       "\n",
       "        [[-0.4286, -0.5000]],\n",
       "\n",
       "        [[ 0.2143, -0.5714]],\n",
       "\n",
       "        [[-0.7857, -0.6429]],\n",
       "\n",
       "        [[-0.1429, -0.6429]],\n",
       "\n",
       "        [[-0.7143, -0.5000]],\n",
       "\n",
       "        [[-0.0714, -0.6429]],\n",
       "\n",
       "        [[-0.2857, -0.7143]],\n",
       "\n",
       "        [[-0.1429, -0.6429]],\n",
       "\n",
       "        [[-0.7857, -0.3571]],\n",
       "\n",
       "        [[-0.2857, -0.5714]],\n",
       "\n",
       "        [[-0.2857, -0.5714]],\n",
       "\n",
       "        [[-0.0714, -0.6429]],\n",
       "\n",
       "        [[ 0.0000, -0.7143]],\n",
       "\n",
       "        [[-0.0714, -0.5714]],\n",
       "\n",
       "        [[ 0.0000, -0.5714]],\n",
       "\n",
       "        [[-0.5714, -0.5714]],\n",
       "\n",
       "        [[-0.5714, -0.5714]],\n",
       "\n",
       "        [[ 0.2857, -0.5000]],\n",
       "\n",
       "        [[-0.7857, -0.5000]],\n",
       "\n",
       "        [[-0.2143, -0.5714]],\n",
       "\n",
       "        [[-0.0714, -0.5714]],\n",
       "\n",
       "        [[-0.2857, -0.5714]],\n",
       "\n",
       "        [[-0.1429, -0.6429]],\n",
       "\n",
       "        [[ 0.1429, -0.5714]],\n",
       "\n",
       "        [[-0.3571, -0.7143]],\n",
       "\n",
       "        [[-0.2857, -0.5000]],\n",
       "\n",
       "        [[-0.2143, -0.5714]],\n",
       "\n",
       "        [[-0.5714, -0.7143]],\n",
       "\n",
       "        [[ 0.0714, -0.5714]],\n",
       "\n",
       "        [[-0.3571, -0.7143]],\n",
       "\n",
       "        [[-0.2857, -0.4286]],\n",
       "\n",
       "        [[-0.4286, -0.5000]],\n",
       "\n",
       "        [[-0.4286, -0.6429]],\n",
       "\n",
       "        [[ 0.2857, -0.7143]],\n",
       "\n",
       "        [[-0.0714, -0.5000]],\n",
       "\n",
       "        [[ 0.3571, -0.7143]],\n",
       "\n",
       "        [[-0.3571, -0.5000]],\n",
       "\n",
       "        [[-0.2143, -0.6429]],\n",
       "\n",
       "        [[-0.3571, -0.5000]]])"
      ]
     },
     "execution_count": 278,
     "metadata": {},
     "output_type": "execute_result"
    }
   ],
   "source": [
    "b[1]"
   ]
  },
  {
   "cell_type": "markdown",
   "metadata": {},
   "source": [
    "##### Batches info, types, encoded + decoded"
   ]
  },
  {
   "cell_type": "code",
   "execution_count": 203,
   "metadata": {},
   "outputs": [
    {
     "data": {
      "text/plain": [
       "tensor([[[ 0.0714, -0.5714]],\n",
       "\n",
       "        [[-0.5714, -0.6429]]])"
      ]
     },
     "execution_count": 203,
     "metadata": {},
     "output_type": "execute_result"
    }
   ],
   "source": [
    "b = mnist5_dls.one_batch()\n",
    "b[1][:2]"
   ]
  },
  {
   "cell_type": "code",
   "execution_count": 227,
   "metadata": {},
   "outputs": [
    {
     "data": {
      "text/plain": [
       "TensorPoint([[15.0000,  6.0000]])"
      ]
     },
     "execution_count": 227,
     "metadata": {},
     "output_type": "execute_result"
    }
   ],
   "source": [
    "b2 = mnist5_dls.decode_batch(b, max_n=mnist5_dls.bs)\n",
    "b2[0][1]"
   ]
  },
  {
   "cell_type": "code",
   "execution_count": 228,
   "metadata": {},
   "outputs": [
    {
     "data": {
      "text/plain": [
       "(torch.Tensor, fastai2.torch_core.TensorImageBW)"
      ]
     },
     "execution_count": 228,
     "metadata": {},
     "output_type": "execute_result"
    }
   ],
   "source": [
    "type(b[0][0]), type(b2[0][0])"
   ]
  },
  {
   "cell_type": "code",
   "execution_count": 229,
   "metadata": {},
   "outputs": [
    {
     "data": {
      "text/plain": [
       "(torch.Tensor, fastai2.vision.core.TensorPoint)"
      ]
     },
     "execution_count": 229,
     "metadata": {},
     "output_type": "execute_result"
    }
   ],
   "source": [
    "type(b[1][0]), type(b2[0][1])"
   ]
  },
  {
   "cell_type": "code",
   "execution_count": 230,
   "metadata": {},
   "outputs": [
    {
     "data": {
      "text/plain": [
       "(64, 64)"
      ]
     },
     "execution_count": 230,
     "metadata": {},
     "output_type": "execute_result"
    }
   ],
   "source": [
    "len(b[0]), len(b2)"
   ]
  },
  {
   "cell_type": "markdown",
   "metadata": {},
   "source": [
    "##### Graphical Displays"
   ]
  },
  {
   "cell_type": "code",
   "execution_count": 232,
   "metadata": {},
   "outputs": [
    {
     "data": {
      "image/png": "[encoded data removed]",
      "text/plain": [
       "<Figure size 1080x432 with 10 Axes>"
      ]
     },
     "metadata": {
      "needs_background": "light"
     },
     "output_type": "display_data"
    }
   ],
   "source": [
    "rows, cols = 2,5\n",
    "fig, ax = plt.subplots(nrows=rows, ncols=cols, figsize=(3*cols,3*rows))\n",
    "axr = ax.ravel()\n",
    "\n",
    "for i in range(rows*cols):\n",
    "\n",
    "    b2[i][0].show(ctx=axr[i])\n",
    "    b2[i][1].show(ctx=axr[i], s=300, marker='o', c='red')\n"
   ]
  },
  {
   "cell_type": "markdown",
   "metadata": {},
   "source": [
    "##### Model"
   ]
  },
  {
   "cell_type": "code",
   "execution_count": 260,
   "metadata": {},
   "outputs": [
    {
     "data": {
      "text/html": [
       "<table border=\"1\" class=\"dataframe\">\n",
       "  <thead>\n",
       "    <tr style=\"text-align: left;\">\n",
       "      <th>epoch</th>\n",
       "      <th>train_loss</th>\n",
       "      <th>valid_loss</th>\n",
       "      <th>mse</th>\n",
       "      <th>time</th>\n",
       "    </tr>\n",
       "  </thead>\n",
       "  <tbody>\n",
       "    <tr>\n",
       "      <td>0</td>\n",
       "      <td>3.898243</td>\n",
       "      <td>0.231975</td>\n",
       "      <td>0.231975</td>\n",
       "      <td>00:10</td>\n",
       "    </tr>\n",
       "    <tr>\n",
       "      <td>1</td>\n",
       "      <td>3.612008</td>\n",
       "      <td>0.868372</td>\n",
       "      <td>0.868372</td>\n",
       "      <td>00:10</td>\n",
       "    </tr>\n",
       "    <tr>\n",
       "      <td>2</td>\n",
       "      <td>3.472190</td>\n",
       "      <td>16.810099</td>\n",
       "      <td>16.810099</td>\n",
       "      <td>00:09</td>\n",
       "    </tr>\n",
       "    <tr>\n",
       "      <td>3</td>\n",
       "      <td>3.249985</td>\n",
       "      <td>11.054986</td>\n",
       "      <td>11.054986</td>\n",
       "      <td>00:08</td>\n",
       "    </tr>\n",
       "    <tr>\n",
       "      <td>4</td>\n",
       "      <td>3.041879</td>\n",
       "      <td>0.773751</td>\n",
       "      <td>0.773751</td>\n",
       "      <td>00:09</td>\n",
       "    </tr>\n",
       "    <tr>\n",
       "      <td>5</td>\n",
       "      <td>2.802784</td>\n",
       "      <td>0.672220</td>\n",
       "      <td>0.672220</td>\n",
       "      <td>00:08</td>\n",
       "    </tr>\n",
       "    <tr>\n",
       "      <td>6</td>\n",
       "      <td>2.618718</td>\n",
       "      <td>0.359439</td>\n",
       "      <td>0.359439</td>\n",
       "      <td>00:08</td>\n",
       "    </tr>\n",
       "    <tr>\n",
       "      <td>7</td>\n",
       "      <td>2.470753</td>\n",
       "      <td>0.262462</td>\n",
       "      <td>0.262462</td>\n",
       "      <td>00:09</td>\n",
       "    </tr>\n",
       "  </tbody>\n",
       "</table>"
      ],
      "text/plain": [
       "<IPython.core.display.HTML object>"
      ]
     },
     "metadata": {},
     "output_type": "display_data"
    }
   ],
   "source": [
    "learn5 = cnn_learner(mnist5_dls, resnet18, pretrained=False,metrics=[mse])\n",
    "learn5.fit_one_cycle(8)"
   ]
  },
  {
   "cell_type": "code",
   "execution_count": 275,
   "metadata": {},
   "outputs": [
    {
     "data": {
      "text/plain": [
       "torch.Size([1, 28, 28])"
      ]
     },
     "execution_count": 275,
     "metadata": {},
     "output_type": "execute_result"
    }
   ],
   "source": [
    "b[0][0].shape"
   ]
  },
  {
   "cell_type": "code",
   "execution_count": 282,
   "metadata": {},
   "outputs": [
    {
     "data": {
      "text/html": [
       "<div>\n",
       "<style scoped>\n",
       "    .dataframe tbody tr th:only-of-type {\n",
       "        vertical-align: middle;\n",
       "    }\n",
       "\n",
       "    .dataframe tbody tr th {\n",
       "        vertical-align: top;\n",
       "    }\n",
       "\n",
       "    .dataframe thead th {\n",
       "        text-align: right;\n",
       "    }\n",
       "</style>\n",
       "<table border=\"1\" class=\"dataframe\">\n",
       "  <thead>\n",
       "    <tr style=\"text-align: right;\">\n",
       "      <th></th>\n",
       "      <th>index</th>\n",
       "      <th>fn</th>\n",
       "      <th>y</th>\n",
       "      <th>py</th>\n",
       "      <th>px</th>\n",
       "    </tr>\n",
       "  </thead>\n",
       "  <tbody>\n",
       "    <tr>\n",
       "      <th>0</th>\n",
       "      <td>0</td>\n",
       "      <td>/train/3/7.png</td>\n",
       "      <td>3</td>\n",
       "      <td>5</td>\n",
       "      <td>11</td>\n",
       "    </tr>\n",
       "    <tr>\n",
       "      <th>1</th>\n",
       "      <td>1</td>\n",
       "      <td>/train/3/7030.png</td>\n",
       "      <td>3</td>\n",
       "      <td>4</td>\n",
       "      <td>9</td>\n",
       "    </tr>\n",
       "    <tr>\n",
       "      <th>2</th>\n",
       "      <td>2</td>\n",
       "      <td>/train/3/7031.png</td>\n",
       "      <td>3</td>\n",
       "      <td>3</td>\n",
       "      <td>12</td>\n",
       "    </tr>\n",
       "    <tr>\n",
       "      <th>3</th>\n",
       "      <td>3</td>\n",
       "      <td>/train/3/7043.png</td>\n",
       "      <td>3</td>\n",
       "      <td>4</td>\n",
       "      <td>13</td>\n",
       "    </tr>\n",
       "    <tr>\n",
       "      <th>4</th>\n",
       "      <td>4</td>\n",
       "      <td>/train/3/7046.png</td>\n",
       "      <td>3</td>\n",
       "      <td>4</td>\n",
       "      <td>5</td>\n",
       "    </tr>\n",
       "    <tr>\n",
       "      <th>...</th>\n",
       "      <td>...</td>\n",
       "      <td>...</td>\n",
       "      <td>...</td>\n",
       "      <td>...</td>\n",
       "      <td>...</td>\n",
       "    </tr>\n",
       "    <tr>\n",
       "      <th>704</th>\n",
       "      <td>358</td>\n",
       "      <td>/train/7/9955.png</td>\n",
       "      <td>7</td>\n",
       "      <td>7</td>\n",
       "      <td>17</td>\n",
       "    </tr>\n",
       "    <tr>\n",
       "      <th>705</th>\n",
       "      <td>359</td>\n",
       "      <td>/train/7/9988.png</td>\n",
       "      <td>7</td>\n",
       "      <td>7</td>\n",
       "      <td>5</td>\n",
       "    </tr>\n",
       "    <tr>\n",
       "      <th>706</th>\n",
       "      <td>360</td>\n",
       "      <td>/train/7/9990.png</td>\n",
       "      <td>7</td>\n",
       "      <td>7</td>\n",
       "      <td>9</td>\n",
       "    </tr>\n",
       "    <tr>\n",
       "      <th>707</th>\n",
       "      <td>361</td>\n",
       "      <td>/train/7/9992.png</td>\n",
       "      <td>7</td>\n",
       "      <td>8</td>\n",
       "      <td>3</td>\n",
       "    </tr>\n",
       "    <tr>\n",
       "      <th>708</th>\n",
       "      <td>362</td>\n",
       "      <td>/train/7/9999.png</td>\n",
       "      <td>7</td>\n",
       "      <td>7</td>\n",
       "      <td>12</td>\n",
       "    </tr>\n",
       "  </tbody>\n",
       "</table>\n",
       "<p>709 rows × 5 columns</p>\n",
       "</div>"
      ],
      "text/plain": [
       "     index                 fn  y  py  px\n",
       "0        0     /train/3/7.png  3   5  11\n",
       "1        1  /train/3/7030.png  3   4   9\n",
       "2        2  /train/3/7031.png  3   3  12\n",
       "3        3  /train/3/7043.png  3   4  13\n",
       "4        4  /train/3/7046.png  3   4   5\n",
       "..     ...                ... ..  ..  ..\n",
       "704    358  /train/7/9955.png  7   7  17\n",
       "705    359  /train/7/9988.png  7   7   5\n",
       "706    360  /train/7/9990.png  7   7   9\n",
       "707    361  /train/7/9992.png  7   8   3\n",
       "708    362  /train/7/9999.png  7   7  12\n",
       "\n",
       "[709 rows x 5 columns]"
      ]
     },
     "execution_count": 282,
     "metadata": {},
     "output_type": "execute_result"
    }
   ],
   "source": [
    "df2"
   ]
  },
  {
   "cell_type": "code",
   "execution_count": 283,
   "metadata": {},
   "outputs": [
    {
     "data": {
      "text/plain": [
       "index     int64\n",
       "fn       object\n",
       "y        object\n",
       "py        int64\n",
       "px        int64\n",
       "dtype: object"
      ]
     },
     "execution_count": 283,
     "metadata": {},
     "output_type": "execute_result"
    }
   ],
   "source": [
    "df2.dtypes"
   ]
  },
  {
   "cell_type": "markdown",
   "metadata": {},
   "source": [
    "##### Evaluation"
   ]
  },
  {
   "cell_type": "code",
   "execution_count": 261,
   "metadata": {},
   "outputs": [
    {
     "data": {
      "text/html": [],
      "text/plain": [
       "<IPython.core.display.HTML object>"
      ]
     },
     "metadata": {},
     "output_type": "display_data"
    }
   ],
   "source": [
    "preds = learn5.get_preds(with_input=True, with_decoded=True, )"
   ]
  },
  {
   "cell_type": "code",
   "execution_count": 262,
   "metadata": {},
   "outputs": [
    {
     "data": {
      "text/plain": [
       "4"
      ]
     },
     "execution_count": 262,
     "metadata": {},
     "output_type": "execute_result"
    }
   ],
   "source": [
    "len(preds)"
   ]
  },
  {
   "cell_type": "code",
   "execution_count": 263,
   "metadata": {},
   "outputs": [
    {
     "data": {
      "text/plain": [
       "tensor([[ 9.6826e-02, -5.6078e-01],\n",
       "        [-4.6307e-04,  5.6478e-02],\n",
       "        [-1.0355e-01, -5.1902e-01]])"
      ]
     },
     "execution_count": 263,
     "metadata": {},
     "output_type": "execute_result"
    }
   ],
   "source": [
    "#predicted\n",
    "preds[1][:3]"
   ]
  },
  {
   "cell_type": "code",
   "execution_count": 264,
   "metadata": {},
   "outputs": [
    {
     "data": {
      "text/plain": [
       "tensor([[[-0.2143, -0.7143]],\n",
       "\n",
       "        [[-0.2857, -0.5000]],\n",
       "\n",
       "        [[-0.7143, -0.4286]]])"
      ]
     },
     "execution_count": 264,
     "metadata": {},
     "output_type": "execute_result"
    }
   ],
   "source": [
    "#actuals\n",
    "preds[2][:3]"
   ]
  },
  {
   "cell_type": "code",
   "execution_count": 265,
   "metadata": {},
   "outputs": [
    {
     "data": {
      "text/plain": [
       "tensor([[ 9.6826e-02, -5.6078e-01],\n",
       "        [-4.6307e-04,  5.6478e-02],\n",
       "        [-1.0355e-01, -5.1902e-01]])"
      ]
     },
     "execution_count": 265,
     "metadata": {},
     "output_type": "execute_result"
    }
   ],
   "source": [
    "preds[3][:3]"
   ]
  },
  {
   "cell_type": "code",
   "execution_count": 266,
   "metadata": {},
   "outputs": [],
   "source": [
    "decode_batch = mnist5_dls.decode_batch(mnist5_dls.valid.one_batch(), max_n=10)"
   ]
  },
  {
   "cell_type": "code",
   "execution_count": 267,
   "metadata": {},
   "outputs": [],
   "source": [
    "decode_preds = mnist5_dls.decode_batch((preds[0], preds[1]), max_n=10)"
   ]
  },
  {
   "cell_type": "code",
   "execution_count": 273,
   "metadata": {},
   "outputs": [
    {
     "data": {
      "text/plain": [
       "Text(0.5, 0.98, 'red:actual | green:predicted')"
      ]
     },
     "execution_count": 273,
     "metadata": {},
     "output_type": "execute_result"
    },
    {
     "data": {
      "image/png": "[encoded data removed]",
      "text/plain": [
       "<Figure size 1080x432 with 10 Axes>"
      ]
     },
     "metadata": {
      "needs_background": "light"
     },
     "output_type": "display_data"
    }
   ],
   "source": [
    "rows, cols = 2,5\n",
    "fig, ax = plt.subplots(nrows=rows, ncols=cols, figsize=(3*cols,3*rows))\n",
    "axr = ax.ravel()\n",
    "\n",
    "for i in range(rows*cols):\n",
    "\n",
    "    decode_batch[i][0].show(ctx=axr[i])\n",
    "    decode_batch[i][1].show(ctx=axr[i], s=300, marker='o', c='red')\n",
    "    decode_preds[i][1].show(ctx=axr[i], s=300, marker='o', c='green')\n",
    "\n",
    "fig.suptitle('red:actual | green:predicted')"
   ]
  },
  {
   "cell_type": "markdown",
   "metadata": {},
   "source": [
    "Hmmm, now it's black background with white text? Before it was opposite, is this causing the detremental imapct?"
   ]
  },
  {
   "cell_type": "code",
   "execution_count": 280,
   "metadata": {
    "scrolled": false
   },
   "outputs": [
    {
     "data": {
      "text/plain": [
       "Sequential(\n",
       "  (0): Sequential(\n",
       "    (0): Conv2d(3, 64, kernel_size=(7, 7), stride=(2, 2), padding=(3, 3), bias=False)\n",
       "    (1): BatchNorm2d(64, eps=1e-05, momentum=0.1, affine=True, track_running_stats=True)\n",
       "    (2): ReLU(inplace=True)\n",
       "    (3): MaxPool2d(kernel_size=3, stride=2, padding=1, dilation=1, ceil_mode=False)\n",
       "    (4): Sequential(\n",
       "      (0): BasicBlock(\n",
       "        (conv1): Conv2d(64, 64, kernel_size=(3, 3), stride=(1, 1), padding=(1, 1), bias=False)\n",
       "        (bn1): BatchNorm2d(64, eps=1e-05, momentum=0.1, affine=True, track_running_stats=True)\n",
       "        (relu): ReLU(inplace=True)\n",
       "        (conv2): Conv2d(64, 64, kernel_size=(3, 3), stride=(1, 1), padding=(1, 1), bias=False)\n",
       "        (bn2): BatchNorm2d(64, eps=1e-05, momentum=0.1, affine=True, track_running_stats=True)\n",
       "      )\n",
       "      (1): BasicBlock(\n",
       "        (conv1): Conv2d(64, 64, kernel_size=(3, 3), stride=(1, 1), padding=(1, 1), bias=False)\n",
       "        (bn1): BatchNorm2d(64, eps=1e-05, momentum=0.1, affine=True, track_running_stats=True)\n",
       "        (relu): ReLU(inplace=True)\n",
       "        (conv2): Conv2d(64, 64, kernel_size=(3, 3), stride=(1, 1), padding=(1, 1), bias=False)\n",
       "        (bn2): BatchNorm2d(64, eps=1e-05, momentum=0.1, affine=True, track_running_stats=True)\n",
       "      )\n",
       "    )\n",
       "    (5): Sequential(\n",
       "      (0): BasicBlock(\n",
       "        (conv1): Conv2d(64, 128, kernel_size=(3, 3), stride=(2, 2), padding=(1, 1), bias=False)\n",
       "        (bn1): BatchNorm2d(128, eps=1e-05, momentum=0.1, affine=True, track_running_stats=True)\n",
       "        (relu): ReLU(inplace=True)\n",
       "        (conv2): Conv2d(128, 128, kernel_size=(3, 3), stride=(1, 1), padding=(1, 1), bias=False)\n",
       "        (bn2): BatchNorm2d(128, eps=1e-05, momentum=0.1, affine=True, track_running_stats=True)\n",
       "        (downsample): Sequential(\n",
       "          (0): Conv2d(64, 128, kernel_size=(1, 1), stride=(2, 2), bias=False)\n",
       "          (1): BatchNorm2d(128, eps=1e-05, momentum=0.1, affine=True, track_running_stats=True)\n",
       "        )\n",
       "      )\n",
       "      (1): BasicBlock(\n",
       "        (conv1): Conv2d(128, 128, kernel_size=(3, 3), stride=(1, 1), padding=(1, 1), bias=False)\n",
       "        (bn1): BatchNorm2d(128, eps=1e-05, momentum=0.1, affine=True, track_running_stats=True)\n",
       "        (relu): ReLU(inplace=True)\n",
       "        (conv2): Conv2d(128, 128, kernel_size=(3, 3), stride=(1, 1), padding=(1, 1), bias=False)\n",
       "        (bn2): BatchNorm2d(128, eps=1e-05, momentum=0.1, affine=True, track_running_stats=True)\n",
       "      )\n",
       "    )\n",
       "    (6): Sequential(\n",
       "      (0): BasicBlock(\n",
       "        (conv1): Conv2d(128, 256, kernel_size=(3, 3), stride=(2, 2), padding=(1, 1), bias=False)\n",
       "        (bn1): BatchNorm2d(256, eps=1e-05, momentum=0.1, affine=True, track_running_stats=True)\n",
       "        (relu): ReLU(inplace=True)\n",
       "        (conv2): Conv2d(256, 256, kernel_size=(3, 3), stride=(1, 1), padding=(1, 1), bias=False)\n",
       "        (bn2): BatchNorm2d(256, eps=1e-05, momentum=0.1, affine=True, track_running_stats=True)\n",
       "        (downsample): Sequential(\n",
       "          (0): Conv2d(128, 256, kernel_size=(1, 1), stride=(2, 2), bias=False)\n",
       "          (1): BatchNorm2d(256, eps=1e-05, momentum=0.1, affine=True, track_running_stats=True)\n",
       "        )\n",
       "      )\n",
       "      (1): BasicBlock(\n",
       "        (conv1): Conv2d(256, 256, kernel_size=(3, 3), stride=(1, 1), padding=(1, 1), bias=False)\n",
       "        (bn1): BatchNorm2d(256, eps=1e-05, momentum=0.1, affine=True, track_running_stats=True)\n",
       "        (relu): ReLU(inplace=True)\n",
       "        (conv2): Conv2d(256, 256, kernel_size=(3, 3), stride=(1, 1), padding=(1, 1), bias=False)\n",
       "        (bn2): BatchNorm2d(256, eps=1e-05, momentum=0.1, affine=True, track_running_stats=True)\n",
       "      )\n",
       "    )\n",
       "    (7): Sequential(\n",
       "      (0): BasicBlock(\n",
       "        (conv1): Conv2d(256, 512, kernel_size=(3, 3), stride=(2, 2), padding=(1, 1), bias=False)\n",
       "        (bn1): BatchNorm2d(512, eps=1e-05, momentum=0.1, affine=True, track_running_stats=True)\n",
       "        (relu): ReLU(inplace=True)\n",
       "        (conv2): Conv2d(512, 512, kernel_size=(3, 3), stride=(1, 1), padding=(1, 1), bias=False)\n",
       "        (bn2): BatchNorm2d(512, eps=1e-05, momentum=0.1, affine=True, track_running_stats=True)\n",
       "        (downsample): Sequential(\n",
       "          (0): Conv2d(256, 512, kernel_size=(1, 1), stride=(2, 2), bias=False)\n",
       "          (1): BatchNorm2d(512, eps=1e-05, momentum=0.1, affine=True, track_running_stats=True)\n",
       "        )\n",
       "      )\n",
       "      (1): BasicBlock(\n",
       "        (conv1): Conv2d(512, 512, kernel_size=(3, 3), stride=(1, 1), padding=(1, 1), bias=False)\n",
       "        (bn1): BatchNorm2d(512, eps=1e-05, momentum=0.1, affine=True, track_running_stats=True)\n",
       "        (relu): ReLU(inplace=True)\n",
       "        (conv2): Conv2d(512, 512, kernel_size=(3, 3), stride=(1, 1), padding=(1, 1), bias=False)\n",
       "        (bn2): BatchNorm2d(512, eps=1e-05, momentum=0.1, affine=True, track_running_stats=True)\n",
       "      )\n",
       "    )\n",
       "  )\n",
       "  (1): Sequential(\n",
       "    (0): AdaptiveConcatPool2d(\n",
       "      (ap): AdaptiveAvgPool2d(output_size=1)\n",
       "      (mp): AdaptiveMaxPool2d(output_size=1)\n",
       "    )\n",
       "    (1): Flatten(full=False)\n",
       "    (2): BatchNorm1d(1024, eps=1e-05, momentum=0.1, affine=True, track_running_stats=True)\n",
       "    (3): Dropout(p=0.25, inplace=False)\n",
       "    (4): Linear(in_features=1024, out_features=512, bias=False)\n",
       "    (5): ReLU(inplace=True)\n",
       "    (6): BatchNorm1d(512, eps=1e-05, momentum=0.1, affine=True, track_running_stats=True)\n",
       "    (7): Dropout(p=0.5, inplace=False)\n",
       "    (8): Linear(in_features=512, out_features=2, bias=False)\n",
       "  )\n",
       ")"
      ]
     },
     "execution_count": 280,
     "metadata": {},
     "output_type": "execute_result"
    }
   ],
   "source": [
    "learn5.model"
   ]
  },
  {
   "cell_type": "code",
   "execution_count": null,
   "metadata": {},
   "outputs": [],
   "source": []
  }
 ],
 "metadata": {
  "kernelspec": {
   "display_name": "Python [conda env:fastai2]",
   "language": "python",
   "name": "conda-env-fastai2-py"
  },
  "language_info": {
   "codemirror_mode": {
    "name": "ipython",
    "version": 3
   },
   "file_extension": ".py",
   "mimetype": "text/x-python",
   "name": "python",
   "nbconvert_exporter": "python",
   "pygments_lexer": "ipython3",
   "version": "3.7.6"
  }
 },
 "nbformat": 4,
 "nbformat_minor": 2
}
