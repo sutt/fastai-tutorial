{
 "cells": [
  {
   "cell_type": "markdown",
   "metadata": {},
   "source": [
    "### `init-weights-2`: Fitting efficiency of zero-weights\n",
    "In this notebook, we compare learners based on init conditions"
   ]
  },
  {
   "cell_type": "code",
   "execution_count": 2,
   "metadata": {},
   "outputs": [],
   "source": [
    "import os, sys\n",
    "import copy as copyroot\n",
    "import pandas as pd\n",
    "from IPython.display import display\n",
    "from matplotlib import pyplot as plt\n",
    "from fastai.basics import *\n",
    "from fastai.vision.all import *\n",
    "import torch\n",
    "from module2.mnist_helpers import build_dls\n",
    "from module2.mnist_models import FeatsNet, zero_p"
   ]
  },
  {
   "cell_type": "markdown",
   "metadata": {},
   "source": [
    "### Traditional Workflow"
   ]
  },
  {
   "cell_type": "code",
   "execution_count": 33,
   "metadata": {},
   "outputs": [],
   "source": [
    "dls_tl =   build_dls(target='topleft')\n",
    "dls_tl_2 = build_dls(target='topleft')"
   ]
  },
  {
   "cell_type": "code",
   "execution_count": 34,
   "metadata": {},
   "outputs": [],
   "source": [
    "fn_rand = FeatsNet(feats=['pix', 'pts11', 'pts12', 'pts22'])\n",
    "\n",
    "fn_zero = FeatsNet(feats=['pix', 'pts11', 'pts12', 'pts22'])\n",
    "fn_zero = zero_p(fn_zero)"
   ]
  },
  {
   "cell_type": "code",
   "execution_count": 35,
   "metadata": {},
   "outputs": [],
   "source": [
    "learn_rand = Learner(\n",
    "                dls_tl, \n",
    "                fn_rand,\n",
    "                loss_func=MSELossFlat(), \n",
    "                y_range=(-1.,1.),\n",
    "                metrics=[R2Score()],             \n",
    "               )\n",
    "\n",
    "learn_zero = Learner(\n",
    "                dls_tl_2, \n",
    "                fn_zero,\n",
    "                loss_func=MSELossFlat(), \n",
    "                y_range=(-1.,1.),\n",
    "                metrics=[R2Score()],             \n",
    "               )"
   ]
  },
  {
   "cell_type": "code",
   "execution_count": 36,
   "metadata": {},
   "outputs": [
    {
     "data": {
      "text/html": [
       "<table border=\"1\" class=\"dataframe\">\n",
       "  <thead>\n",
       "    <tr style=\"text-align: left;\">\n",
       "      <th>epoch</th>\n",
       "      <th>train_loss</th>\n",
       "      <th>valid_loss</th>\n",
       "      <th>r2_score</th>\n",
       "      <th>time</th>\n",
       "    </tr>\n",
       "  </thead>\n",
       "  <tbody>\n",
       "    <tr>\n",
       "      <td>0</td>\n",
       "      <td>0.107882</td>\n",
       "      <td>0.038562</td>\n",
       "      <td>0.242999</td>\n",
       "      <td>00:03</td>\n",
       "    </tr>\n",
       "    <tr>\n",
       "      <td>1</td>\n",
       "      <td>0.075219</td>\n",
       "      <td>0.051592</td>\n",
       "      <td>-0.012787</td>\n",
       "      <td>00:03</td>\n",
       "    </tr>\n",
       "    <tr>\n",
       "      <td>2</td>\n",
       "      <td>0.061417</td>\n",
       "      <td>0.031668</td>\n",
       "      <td>0.378351</td>\n",
       "      <td>00:03</td>\n",
       "    </tr>\n",
       "    <tr>\n",
       "      <td>3</td>\n",
       "      <td>0.049062</td>\n",
       "      <td>0.022387</td>\n",
       "      <td>0.560523</td>\n",
       "      <td>00:03</td>\n",
       "    </tr>\n",
       "    <tr>\n",
       "      <td>4</td>\n",
       "      <td>0.041231</td>\n",
       "      <td>0.022399</td>\n",
       "      <td>0.560297</td>\n",
       "      <td>00:03</td>\n",
       "    </tr>\n",
       "    <tr>\n",
       "      <td>5</td>\n",
       "      <td>0.035331</td>\n",
       "      <td>0.018153</td>\n",
       "      <td>0.643649</td>\n",
       "      <td>00:03</td>\n",
       "    </tr>\n",
       "    <tr>\n",
       "      <td>6</td>\n",
       "      <td>0.030667</td>\n",
       "      <td>0.018925</td>\n",
       "      <td>0.628502</td>\n",
       "      <td>00:03</td>\n",
       "    </tr>\n",
       "    <tr>\n",
       "      <td>7</td>\n",
       "      <td>0.027049</td>\n",
       "      <td>0.015941</td>\n",
       "      <td>0.687070</td>\n",
       "      <td>00:03</td>\n",
       "    </tr>\n",
       "    <tr>\n",
       "      <td>8</td>\n",
       "      <td>0.024116</td>\n",
       "      <td>0.017057</td>\n",
       "      <td>0.665153</td>\n",
       "      <td>00:03</td>\n",
       "    </tr>\n",
       "    <tr>\n",
       "      <td>9</td>\n",
       "      <td>0.021784</td>\n",
       "      <td>0.014391</td>\n",
       "      <td>0.717498</td>\n",
       "      <td>00:03</td>\n",
       "    </tr>\n",
       "  </tbody>\n",
       "</table>"
      ],
      "text/plain": [
       "<IPython.core.display.HTML object>"
      ]
     },
     "metadata": {},
     "output_type": "display_data"
    }
   ],
   "source": [
    "learn_rand.fit(10)"
   ]
  },
  {
   "cell_type": "code",
   "execution_count": 37,
   "metadata": {},
   "outputs": [
    {
     "data": {
      "text/html": [
       "<table border=\"1\" class=\"dataframe\">\n",
       "  <thead>\n",
       "    <tr style=\"text-align: left;\">\n",
       "      <th>epoch</th>\n",
       "      <th>train_loss</th>\n",
       "      <th>valid_loss</th>\n",
       "      <th>r2_score</th>\n",
       "      <th>time</th>\n",
       "    </tr>\n",
       "  </thead>\n",
       "  <tbody>\n",
       "    <tr>\n",
       "      <td>0</td>\n",
       "      <td>0.245551</td>\n",
       "      <td>0.210980</td>\n",
       "      <td>-3.141655</td>\n",
       "      <td>00:03</td>\n",
       "    </tr>\n",
       "    <tr>\n",
       "      <td>1</td>\n",
       "      <td>0.196315</td>\n",
       "      <td>0.074040</td>\n",
       "      <td>-0.453441</td>\n",
       "      <td>00:03</td>\n",
       "    </tr>\n",
       "    <tr>\n",
       "      <td>2</td>\n",
       "      <td>0.143133</td>\n",
       "      <td>0.042535</td>\n",
       "      <td>0.165009</td>\n",
       "      <td>00:03</td>\n",
       "    </tr>\n",
       "    <tr>\n",
       "      <td>3</td>\n",
       "      <td>0.113816</td>\n",
       "      <td>0.039090</td>\n",
       "      <td>0.232646</td>\n",
       "      <td>00:03</td>\n",
       "    </tr>\n",
       "    <tr>\n",
       "      <td>4</td>\n",
       "      <td>0.095255</td>\n",
       "      <td>0.037464</td>\n",
       "      <td>0.264564</td>\n",
       "      <td>00:03</td>\n",
       "    </tr>\n",
       "    <tr>\n",
       "      <td>5</td>\n",
       "      <td>0.081329</td>\n",
       "      <td>0.030487</td>\n",
       "      <td>0.401526</td>\n",
       "      <td>00:03</td>\n",
       "    </tr>\n",
       "    <tr>\n",
       "      <td>6</td>\n",
       "      <td>0.071519</td>\n",
       "      <td>0.030278</td>\n",
       "      <td>0.405619</td>\n",
       "      <td>00:03</td>\n",
       "    </tr>\n",
       "    <tr>\n",
       "      <td>7</td>\n",
       "      <td>0.064270</td>\n",
       "      <td>0.029559</td>\n",
       "      <td>0.419746</td>\n",
       "      <td>00:03</td>\n",
       "    </tr>\n",
       "    <tr>\n",
       "      <td>8</td>\n",
       "      <td>0.058329</td>\n",
       "      <td>0.029035</td>\n",
       "      <td>0.430029</td>\n",
       "      <td>00:05</td>\n",
       "    </tr>\n",
       "    <tr>\n",
       "      <td>9</td>\n",
       "      <td>0.053810</td>\n",
       "      <td>0.028979</td>\n",
       "      <td>0.431136</td>\n",
       "      <td>00:04</td>\n",
       "    </tr>\n",
       "  </tbody>\n",
       "</table>"
      ],
      "text/plain": [
       "<IPython.core.display.HTML object>"
      ]
     },
     "metadata": {},
     "output_type": "display_data"
    }
   ],
   "source": [
    "learn_zero.fit(10)"
   ]
  },
  {
   "cell_type": "markdown",
   "metadata": {},
   "source": [
    "<Strikethrough> Wow, the zero'd model is the truth! </Strikethrough>\n",
    "\n",
    "Never mind: the first time thru, something went wrong, it's unclear if the zero-init is even beneficial."
   ]
  },
  {
   "cell_type": "markdown",
   "metadata": {},
   "source": [
    "### Check Distirbution of Params\n",
    "OK, it's not what we expected: it's almost uniform distribution for the zero-init'd model, instead of bi-variate."
   ]
  },
  {
   "cell_type": "code",
   "execution_count": 74,
   "metadata": {},
   "outputs": [
    {
     "data": {
      "image/png": "[encoded data removed]",
      "text/plain": [
       "<Figure size 432x288 with 1 Axes>"
      ]
     },
     "metadata": {
      "needs_background": "light"
     },
     "output_type": "display_data"
    }
   ],
   "source": [
    "learner = learn_rand\n",
    "\n",
    "params = [p for p in learner.model.state_dict().values()]\n",
    "params = torch.cat([p.flatten() for p in params])\n",
    "\n",
    "plt.hist(params.numpy(), log=True);\n",
    "plt.title('Init-Rand Params');"
   ]
  },
  {
   "cell_type": "code",
   "execution_count": 75,
   "metadata": {},
   "outputs": [
    {
     "data": {
      "image/png": "[encoded data removed]",
      "text/plain": [
       "<Figure size 432x288 with 1 Axes>"
      ]
     },
     "metadata": {
      "needs_background": "light"
     },
     "output_type": "display_data"
    }
   ],
   "source": [
    "learner = learn_zero\n",
    "\n",
    "params = [p for p in learner.model.state_dict().values()]\n",
    "params = torch.cat([p.flatten() for p in params])\n",
    "\n",
    "plt.hist(params.numpy(),log=True);\n",
    "plt.title('Init-Zero Params');"
   ]
  },
  {
   "cell_type": "code",
   "execution_count": null,
   "metadata": {},
   "outputs": [],
   "source": []
  }
 ],
 "metadata": {
  "kernelspec": {
   "display_name": "Python 3.7.9 64-bit ('devfastai': conda)",
   "language": "python",
   "name": "python37964bitdevfastaiconda0e0ad516d6eb4524903af3a3c31253d3"
  },
  "language_info": {
   "codemirror_mode": {
    "name": "ipython",
    "version": 3
   },
   "file_extension": ".py",
   "mimetype": "text/x-python",
   "name": "python",
   "nbconvert_exporter": "python",
   "pygments_lexer": "ipython3",
   "version": "3.7.9"
  }
 },
 "nbformat": 4,
 "nbformat_minor": 4
}
