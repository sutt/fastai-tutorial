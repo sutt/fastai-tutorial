{
 "cells": [
  {
   "cell_type": "markdown",
   "metadata": {},
   "source": [
    "### Metrics 3: Load, Eval, and Save resnet fits"
   ]
  },
  {
   "cell_type": "code",
   "execution_count": 115,
   "metadata": {},
   "outputs": [
    {
     "name": "stdout",
     "output_type": "stream",
     "text": [
      "The autoreload extension is already loaded. To reload it, use:\n",
      "  %reload_ext autoreload\n"
     ]
    }
   ],
   "source": [
    "import os, sys\n",
    "import copy as copyroot\n",
    "import pandas as pd\n",
    "from IPython.display import display\n",
    "from matplotlib import pyplot as plt\n",
    "from fastai2.basics import *\n",
    "from fastai2.vision.all import *\n",
    "%load_ext autoreload\n",
    "%autoreload 2\n",
    "\n",
    "from module.mnist_helpers import build_df, eda_fig_1, build_dls\n",
    "from module.mnist_models import FeatsNet\n",
    "from module.mnist_metrics import metrics_df"
   ]
  },
  {
   "cell_type": "markdown",
   "metadata": {},
   "source": [
    "#### Load + Eval Models"
   ]
  },
  {
   "cell_type": "code",
   "execution_count": 116,
   "metadata": {},
   "outputs": [],
   "source": [
    "dls_tl = build_dls(target='topleft')\n",
    "dls_cr = build_dls(target='center')"
   ]
  },
  {
   "cell_type": "code",
   "execution_count": 117,
   "metadata": {},
   "outputs": [
    {
     "data": {
      "text/plain": [
       "<fastai2.learner.Learner at 0x7f2dc7a87a90>"
      ]
     },
     "execution_count": 117,
     "metadata": {},
     "output_type": "execute_result"
    }
   ],
   "source": [
    "model_fn   = 'pt3_topleft_2'\n",
    "\n",
    "learn = cnn_learner(dls_tl, \n",
    "                    resnet18, \n",
    "                    y_range=(-1.,1.),\n",
    "                   )\n",
    "\n",
    "learn.load(model_fn)"
   ]
  },
  {
   "cell_type": "code",
   "execution_count": 118,
   "metadata": {},
   "outputs": [
    {
     "data": {
      "text/html": [],
      "text/plain": [
       "<IPython.core.display.HTML object>"
      ]
     },
     "metadata": {},
     "output_type": "display_data"
    },
    {
     "data": {
      "text/html": [],
      "text/plain": [
       "<IPython.core.display.HTML object>"
      ]
     },
     "metadata": {},
     "output_type": "display_data"
    },
    {
     "data": {
      "text/html": [
       "<div>\n",
       "<style scoped>\n",
       "    .dataframe tbody tr th:only-of-type {\n",
       "        vertical-align: middle;\n",
       "    }\n",
       "\n",
       "    .dataframe tbody tr th {\n",
       "        vertical-align: top;\n",
       "    }\n",
       "\n",
       "    .dataframe thead th {\n",
       "        text-align: right;\n",
       "    }\n",
       "</style>\n",
       "<table border=\"1\" class=\"dataframe\">\n",
       "  <thead>\n",
       "    <tr style=\"text-align: right;\">\n",
       "      <th></th>\n",
       "      <th>model</th>\n",
       "      <th>details</th>\n",
       "      <th>target</th>\n",
       "      <th>split</th>\n",
       "      <th>mse</th>\n",
       "      <th>mae</th>\n",
       "      <th>r2</th>\n",
       "      <th>dist_avg</th>\n",
       "      <th>dist_r2</th>\n",
       "      <th>sqdist_avg</th>\n",
       "      <th>sqdist_r2</th>\n",
       "    </tr>\n",
       "  </thead>\n",
       "  <tbody>\n",
       "    <tr>\n",
       "      <th>0</th>\n",
       "      <td>ResNet18</td>\n",
       "      <td>90 fit epochs</td>\n",
       "      <td>topleft</td>\n",
       "      <td>valid</td>\n",
       "      <td>0.021076</td>\n",
       "      <td>0.094615</td>\n",
       "      <td>0.441618</td>\n",
       "      <td>0.159876</td>\n",
       "      <td>0.259965</td>\n",
       "      <td>0.042151</td>\n",
       "      <td>0.340451</td>\n",
       "    </tr>\n",
       "    <tr>\n",
       "      <th>1</th>\n",
       "      <td>ResNet18</td>\n",
       "      <td>90 fit epochs</td>\n",
       "      <td>topleft</td>\n",
       "      <td>train</td>\n",
       "      <td>0.006929</td>\n",
       "      <td>0.047295</td>\n",
       "      <td>0.696516</td>\n",
       "      <td>0.073935</td>\n",
       "      <td>0.685643</td>\n",
       "      <td>0.013857</td>\n",
       "      <td>0.817581</td>\n",
       "    </tr>\n",
       "  </tbody>\n",
       "</table>\n",
       "</div>"
      ],
      "text/plain": [
       "      model        details   target  split       mse       mae        r2  \\\n",
       "0  ResNet18  90 fit epochs  topleft  valid  0.021076  0.094615  0.441618   \n",
       "1  ResNet18  90 fit epochs  topleft  train  0.006929  0.047295  0.696516   \n",
       "\n",
       "   dist_avg   dist_r2  sqdist_avg  sqdist_r2  \n",
       "0  0.159876  0.259965    0.042151   0.340451  \n",
       "1  0.073935  0.685643    0.013857   0.817581  "
      ]
     },
     "execution_count": 118,
     "metadata": {},
     "output_type": "execute_result"
    }
   ],
   "source": [
    "df_tl = metrics_df(learn, 'ResNet18', '90 fit epochs', 'topleft')\n",
    "df_tl['target'] = 'topleft'\n",
    "df_tl"
   ]
  },
  {
   "cell_type": "markdown",
   "metadata": {},
   "source": [
    "#### Center Model"
   ]
  },
  {
   "cell_type": "code",
   "execution_count": 119,
   "metadata": {},
   "outputs": [
    {
     "data": {
      "text/plain": [
       "<fastai2.learner.Learner at 0x7f2dcd97ac90>"
      ]
     },
     "execution_count": 119,
     "metadata": {},
     "output_type": "execute_result"
    }
   ],
   "source": [
    "model_fn   = 'pt3_center_4'\n",
    "\n",
    "learn = cnn_learner(dls_cr, \n",
    "                    resnet18, \n",
    "                    y_range=(-.5,.5),\n",
    "                   )\n",
    "\n",
    "learn.load(model_fn)"
   ]
  },
  {
   "cell_type": "code",
   "execution_count": 120,
   "metadata": {},
   "outputs": [
    {
     "data": {
      "text/html": [],
      "text/plain": [
       "<IPython.core.display.HTML object>"
      ]
     },
     "metadata": {},
     "output_type": "display_data"
    },
    {
     "data": {
      "text/html": [],
      "text/plain": [
       "<IPython.core.display.HTML object>"
      ]
     },
     "metadata": {},
     "output_type": "display_data"
    }
   ],
   "source": [
    "df_cr = metrics_df(learn, 'ResNet18', '90 fit epochs', 'center')\n",
    "df_cr['target'] = 'center'"
   ]
  },
  {
   "cell_type": "code",
   "execution_count": 121,
   "metadata": {},
   "outputs": [
    {
     "data": {
      "text/html": [
       "<div>\n",
       "<style scoped>\n",
       "    .dataframe tbody tr th:only-of-type {\n",
       "        vertical-align: middle;\n",
       "    }\n",
       "\n",
       "    .dataframe tbody tr th {\n",
       "        vertical-align: top;\n",
       "    }\n",
       "\n",
       "    .dataframe thead th {\n",
       "        text-align: right;\n",
       "    }\n",
       "</style>\n",
       "<table border=\"1\" class=\"dataframe\">\n",
       "  <thead>\n",
       "    <tr style=\"text-align: right;\">\n",
       "      <th></th>\n",
       "      <th>model</th>\n",
       "      <th>details</th>\n",
       "      <th>target</th>\n",
       "      <th>split</th>\n",
       "      <th>mse</th>\n",
       "      <th>mae</th>\n",
       "      <th>r2</th>\n",
       "      <th>dist_avg</th>\n",
       "      <th>dist_r2</th>\n",
       "      <th>sqdist_avg</th>\n",
       "      <th>sqdist_r2</th>\n",
       "    </tr>\n",
       "  </thead>\n",
       "  <tbody>\n",
       "    <tr>\n",
       "      <th>0</th>\n",
       "      <td>ResNet18</td>\n",
       "      <td>90 fit epochs</td>\n",
       "      <td>center</td>\n",
       "      <td>valid</td>\n",
       "      <td>0.003279</td>\n",
       "      <td>0.032108</td>\n",
       "      <td>0.425730</td>\n",
       "      <td>0.049895</td>\n",
       "      <td>0.504497</td>\n",
       "      <td>0.006558</td>\n",
       "      <td>0.471148</td>\n",
       "    </tr>\n",
       "    <tr>\n",
       "      <th>1</th>\n",
       "      <td>ResNet18</td>\n",
       "      <td>90 fit epochs</td>\n",
       "      <td>center</td>\n",
       "      <td>train</td>\n",
       "      <td>0.002611</td>\n",
       "      <td>0.029758</td>\n",
       "      <td>0.553457</td>\n",
       "      <td>0.046899</td>\n",
       "      <td>0.550879</td>\n",
       "      <td>0.005222</td>\n",
       "      <td>0.603566</td>\n",
       "    </tr>\n",
       "  </tbody>\n",
       "</table>\n",
       "</div>"
      ],
      "text/plain": [
       "      model        details  target  split       mse       mae        r2  \\\n",
       "0  ResNet18  90 fit epochs  center  valid  0.003279  0.032108  0.425730   \n",
       "1  ResNet18  90 fit epochs  center  train  0.002611  0.029758  0.553457   \n",
       "\n",
       "   dist_avg   dist_r2  sqdist_avg  sqdist_r2  \n",
       "0  0.049895  0.504497    0.006558   0.471148  \n",
       "1  0.046899  0.550879    0.005222   0.603566  "
      ]
     },
     "execution_count": 121,
     "metadata": {},
     "output_type": "execute_result"
    }
   ],
   "source": [
    "df_cr"
   ]
  },
  {
   "cell_type": "markdown",
   "metadata": {},
   "source": [
    "#### Save and Output Eval"
   ]
  },
  {
   "cell_type": "code",
   "execution_count": 122,
   "metadata": {},
   "outputs": [
    {
     "data": {
      "text/html": [
       "<div>\n",
       "<style scoped>\n",
       "    .dataframe tbody tr th:only-of-type {\n",
       "        vertical-align: middle;\n",
       "    }\n",
       "\n",
       "    .dataframe tbody tr th {\n",
       "        vertical-align: top;\n",
       "    }\n",
       "\n",
       "    .dataframe thead th {\n",
       "        text-align: right;\n",
       "    }\n",
       "</style>\n",
       "<table border=\"1\" class=\"dataframe\">\n",
       "  <thead>\n",
       "    <tr style=\"text-align: right;\">\n",
       "      <th></th>\n",
       "      <th>model</th>\n",
       "      <th>details</th>\n",
       "      <th>target</th>\n",
       "      <th>split</th>\n",
       "      <th>mse</th>\n",
       "      <th>mae</th>\n",
       "      <th>r2</th>\n",
       "      <th>dist_avg</th>\n",
       "      <th>dist_r2</th>\n",
       "      <th>sqdist_avg</th>\n",
       "      <th>sqdist_r2</th>\n",
       "    </tr>\n",
       "  </thead>\n",
       "  <tbody>\n",
       "    <tr>\n",
       "      <th>0</th>\n",
       "      <td>ResNet18</td>\n",
       "      <td>90 fit epochs</td>\n",
       "      <td>topleft</td>\n",
       "      <td>valid</td>\n",
       "      <td>0.021076</td>\n",
       "      <td>0.094615</td>\n",
       "      <td>0.441618</td>\n",
       "      <td>0.159876</td>\n",
       "      <td>0.259965</td>\n",
       "      <td>0.042151</td>\n",
       "      <td>0.340451</td>\n",
       "    </tr>\n",
       "    <tr>\n",
       "      <th>1</th>\n",
       "      <td>ResNet18</td>\n",
       "      <td>90 fit epochs</td>\n",
       "      <td>topleft</td>\n",
       "      <td>train</td>\n",
       "      <td>0.006929</td>\n",
       "      <td>0.047295</td>\n",
       "      <td>0.696516</td>\n",
       "      <td>0.073935</td>\n",
       "      <td>0.685643</td>\n",
       "      <td>0.013857</td>\n",
       "      <td>0.817581</td>\n",
       "    </tr>\n",
       "    <tr>\n",
       "      <th>2</th>\n",
       "      <td>ResNet18</td>\n",
       "      <td>90 fit epochs</td>\n",
       "      <td>center</td>\n",
       "      <td>valid</td>\n",
       "      <td>0.003279</td>\n",
       "      <td>0.032108</td>\n",
       "      <td>0.425730</td>\n",
       "      <td>0.049895</td>\n",
       "      <td>0.504497</td>\n",
       "      <td>0.006558</td>\n",
       "      <td>0.471148</td>\n",
       "    </tr>\n",
       "    <tr>\n",
       "      <th>3</th>\n",
       "      <td>ResNet18</td>\n",
       "      <td>90 fit epochs</td>\n",
       "      <td>center</td>\n",
       "      <td>train</td>\n",
       "      <td>0.002611</td>\n",
       "      <td>0.029758</td>\n",
       "      <td>0.553457</td>\n",
       "      <td>0.046899</td>\n",
       "      <td>0.550879</td>\n",
       "      <td>0.005222</td>\n",
       "      <td>0.603566</td>\n",
       "    </tr>\n",
       "  </tbody>\n",
       "</table>\n",
       "</div>"
      ],
      "text/plain": [
       "      model        details   target  split       mse       mae        r2  \\\n",
       "0  ResNet18  90 fit epochs  topleft  valid  0.021076  0.094615  0.441618   \n",
       "1  ResNet18  90 fit epochs  topleft  train  0.006929  0.047295  0.696516   \n",
       "2  ResNet18  90 fit epochs   center  valid  0.003279  0.032108  0.425730   \n",
       "3  ResNet18  90 fit epochs   center  train  0.002611  0.029758  0.553457   \n",
       "\n",
       "   dist_avg   dist_r2  sqdist_avg  sqdist_r2  \n",
       "0  0.159876  0.259965    0.042151   0.340451  \n",
       "1  0.073935  0.685643    0.013857   0.817581  \n",
       "2  0.049895  0.504497    0.006558   0.471148  \n",
       "3  0.046899  0.550879    0.005222   0.603566  "
      ]
     },
     "execution_count": 122,
     "metadata": {},
     "output_type": "execute_result"
    }
   ],
   "source": [
    "df = pd.concat((df_tl, df_cr))\n",
    "df.reset_index(inplace=True, drop=True)\n",
    "df"
   ]
  },
  {
   "cell_type": "code",
   "execution_count": 124,
   "metadata": {},
   "outputs": [],
   "source": [
    "d = 'assets/metrics-dfs/'\n",
    "df.to_csv(d + 'metrics3-df-resnet.csv', index=False)"
   ]
  },
  {
   "cell_type": "code",
   "execution_count": null,
   "metadata": {},
   "outputs": [],
   "source": []
  }
 ],
 "metadata": {
  "kernelspec": {
   "display_name": "Python 3",
   "language": "python",
   "name": "python3"
  },
  "language_info": {
   "codemirror_mode": {
    "name": "ipython",
    "version": 3
   },
   "file_extension": ".py",
   "mimetype": "text/x-python",
   "name": "python",
   "nbconvert_exporter": "python",
   "pygments_lexer": "ipython3",
   "version": "3.7.6"
  }
 },
 "nbformat": 4,
 "nbformat_minor": 4
}
