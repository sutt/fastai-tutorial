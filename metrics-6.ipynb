{
 "cells": [
  {
   "cell_type": "markdown",
   "metadata": {},
   "source": [
    "## Metrics-6: fastai.Tabular NN on point tasks\n",
    "\n",
    "This is really a tabular task because we are flattening the pixels and features before regressing. So we'll use fastai's Tabular learner to do this task and acheive results on par with the basic-ML algo's.\n",
    "\n",
    "We need to build the pts features for each of the records with pre-processing  into a dataframe so we do that in the setup.\n",
    "\n",
    "Some themes we'll explore are:\n",
    " - Normalizing/Scaling Y\n",
    " - Restricted X feature sets\n",
    " \n",
    "For scaling Y, we'll need to inverse transform before the results are on the same scale as the other algos."
   ]
  },
  {
   "cell_type": "code",
   "execution_count": 78,
   "metadata": {},
   "outputs": [
    {
     "name": "stdout",
     "output_type": "stream",
     "text": [
      "The autoreload extension is already loaded. To reload it, use:\n",
      "  %reload_ext autoreload\n"
     ]
    }
   ],
   "source": [
    "import os, sys\n",
    "import copy as copyroot\n",
    "import pandas as pd\n",
    "from IPython.display import display\n",
    "from matplotlib import pyplot as plt\n",
    "\n",
    "from fastai2.basics import *\n",
    "from fastai2.tabular.all import *\n",
    "\n",
    "from sklearn.preprocessing import Normalizer, StandardScaler\n",
    "from sklearn.metrics import r2_score\n",
    "\n",
    "%load_ext autoreload\n",
    "%autoreload 2\n",
    "\n",
    "from module.mnist_helpers import build_df, build_tabular_df, build_dls\n",
    "from module.mnist_metrics import metrics_df"
   ]
  },
  {
   "cell_type": "code",
   "execution_count": 2,
   "metadata": {},
   "outputs": [],
   "source": [
    "path = untar_data(URLs.MNIST_TINY)\n",
    "X, Y = build_tabular_df(path)"
   ]
  },
  {
   "cell_type": "code",
   "execution_count": 3,
   "metadata": {},
   "outputs": [
    {
     "data": {
      "text/plain": [
       "((709, 856), (709, 5))"
      ]
     },
     "execution_count": 3,
     "metadata": {},
     "output_type": "execute_result"
    }
   ],
   "source": [
    "X.shape, Y.shape"
   ]
  },
  {
   "cell_type": "code",
   "execution_count": 4,
   "metadata": {},
   "outputs": [],
   "source": [
    "restrict_cols = [\n",
    "    \"pts22_5\",\n",
    "    \"pts22_29\",\n",
    "    \"pts22_21\",\n",
    "    \"pts11_0\",\n",
    "    \"pts12_4\",\n",
    "    \"pts11_2\",\n",
    "]"
   ]
  },
  {
   "cell_type": "code",
   "execution_count": 5,
   "metadata": {},
   "outputs": [],
   "source": [
    "y_cols = ['point_topleft_x', 'point_topleft_y']\n",
    "y = Y[y_cols]"
   ]
  },
  {
   "cell_type": "code",
   "execution_count": 64,
   "metadata": {},
   "outputs": [],
   "source": [
    "data = pd.concat((X.loc[:,restrict_cols], y), axis=1)"
   ]
  },
  {
   "cell_type": "markdown",
   "metadata": {},
   "source": [
    "#### Point Scaling"
   ]
  },
  {
   "cell_type": "code",
   "execution_count": 65,
   "metadata": {},
   "outputs": [],
   "source": [
    "# from fastai2.vision.core import PointScaler"
   ]
  },
  {
   "cell_type": "code",
   "execution_count": 66,
   "metadata": {},
   "outputs": [],
   "source": [
    "dls_tl = build_dls(target='topleft')\n",
    "dls_cr = build_dls(target='center')\n",
    "\n",
    "point_t = dls_cr.transform[1][1]\n",
    "scale_t = dls_tl.after_item\n",
    "\n",
    "point_t, scale_t\n",
    "\n",
    "def my_scale(x): return scale_t(point_t(x))"
   ]
  },
  {
   "cell_type": "code",
   "execution_count": 67,
   "metadata": {},
   "outputs": [],
   "source": [
    "y_sc = pd.DataFrame(my_scale(Y.loc[:,y_cols]))\n",
    "\n",
    "y_sc_cols = [f'{e}_sc' for e in  y_cols]\n",
    "\n",
    "for a,b in zip(y_sc_cols, y_sc):\n",
    "    data[a] = y_sc[b]"
   ]
  },
  {
   "cell_type": "markdown",
   "metadata": {},
   "source": [
    "#### Normalization"
   ]
  },
  {
   "cell_type": "code",
   "execution_count": 68,
   "metadata": {},
   "outputs": [],
   "source": [
    "ss = StandardScaler()\n",
    "\n",
    "ss.fit(data[y_sc_cols])\n",
    "y_norm = pd.DataFrame(ss.transform(data[y_sc_cols]))"
   ]
  },
  {
   "cell_type": "code",
   "execution_count": 69,
   "metadata": {},
   "outputs": [],
   "source": [
    "y_norm_cols = [f'{e}_norm' for e in  y_sc_cols]\n",
    "\n",
    "for a,b in zip(y_norm_cols, y_norm):\n",
    "    data[a] = y_norm[b]"
   ]
  },
  {
   "cell_type": "code",
   "execution_count": 70,
   "metadata": {},
   "outputs": [
    {
     "data": {
      "text/plain": [
       "Index(['pts22_5', 'pts22_29', 'pts22_21', 'pts11_0', 'pts12_4', 'pts11_2',\n",
       "       'point_topleft_x', 'point_topleft_y', 'point_topleft_x_sc',\n",
       "       'point_topleft_y_sc', 'point_topleft_x_sc_norm',\n",
       "       'point_topleft_y_sc_norm'],\n",
       "      dtype='object')"
      ]
     },
     "execution_count": 70,
     "metadata": {},
     "output_type": "execute_result"
    }
   ],
   "source": [
    "data.columns"
   ]
  },
  {
   "cell_type": "markdown",
   "metadata": {},
   "source": [
    "#### Build Tabular DL, Learner"
   ]
  },
  {
   "cell_type": "code",
   "execution_count": 72,
   "metadata": {},
   "outputs": [],
   "source": [
    "dls = TabularDataLoaders.from_df(data, \n",
    "                                 path='.', \n",
    "                                 y_names=['point_topleft_x_sc_norm',\n",
    "                                          'point_topleft_y_sc_norm'],\n",
    "                                 procs=[Normalize])"
   ]
  },
  {
   "cell_type": "code",
   "execution_count": 73,
   "metadata": {},
   "outputs": [],
   "source": [
    "learn = tabular_learner(dls,)"
   ]
  },
  {
   "cell_type": "markdown",
   "metadata": {},
   "source": [
    "#### Fit + Eval"
   ]
  },
  {
   "cell_type": "code",
   "execution_count": 74,
   "metadata": {},
   "outputs": [
    {
     "data": {
      "text/html": [],
      "text/plain": [
       "<IPython.core.display.HTML object>"
      ]
     },
     "metadata": {},
     "output_type": "display_data"
    }
   ],
   "source": [
    "with learn.no_logging(): learn.fit(40)"
   ]
  },
  {
   "cell_type": "code",
   "execution_count": 98,
   "metadata": {},
   "outputs": [
    {
     "data": {
      "text/html": [],
      "text/plain": [
       "<IPython.core.display.HTML object>"
      ]
     },
     "metadata": {},
     "output_type": "display_data"
    },
    {
     "data": {
      "text/html": [],
      "text/plain": [
       "<IPython.core.display.HTML object>"
      ]
     },
     "metadata": {},
     "output_type": "display_data"
    },
    {
     "data": {
      "text/html": [
       "<div>\n",
       "<style scoped>\n",
       "    .dataframe tbody tr th:only-of-type {\n",
       "        vertical-align: middle;\n",
       "    }\n",
       "\n",
       "    .dataframe tbody tr th {\n",
       "        vertical-align: top;\n",
       "    }\n",
       "\n",
       "    .dataframe thead th {\n",
       "        text-align: right;\n",
       "    }\n",
       "</style>\n",
       "<table border=\"1\" class=\"dataframe\">\n",
       "  <thead>\n",
       "    <tr style=\"text-align: right;\">\n",
       "      <th></th>\n",
       "      <th>model</th>\n",
       "      <th>details</th>\n",
       "      <th>target</th>\n",
       "      <th>split</th>\n",
       "      <th>mse</th>\n",
       "      <th>mae</th>\n",
       "      <th>r2</th>\n",
       "      <th>dist_avg</th>\n",
       "      <th>dist_r2</th>\n",
       "      <th>sqdist_avg</th>\n",
       "      <th>sqdist_r2</th>\n",
       "    </tr>\n",
       "  </thead>\n",
       "  <tbody>\n",
       "    <tr>\n",
       "      <th>0</th>\n",
       "      <td>fastai.Tabular 1.1</td>\n",
       "      <td>epochs=40 | 6 features for X | y-norm</td>\n",
       "      <td>topleft</td>\n",
       "      <td>valid</td>\n",
       "      <td>0.003428</td>\n",
       "      <td>0.043780</td>\n",
       "      <td>0.996079</td>\n",
       "      <td>0.071832</td>\n",
       "      <td>0.939635</td>\n",
       "      <td>0.006855</td>\n",
       "      <td>0.996038</td>\n",
       "    </tr>\n",
       "    <tr>\n",
       "      <th>1</th>\n",
       "      <td>fastai.Tabular 1.1</td>\n",
       "      <td>epochs=40 | 6 features for X | y-norm</td>\n",
       "      <td>topleft</td>\n",
       "      <td>train</td>\n",
       "      <td>0.003756</td>\n",
       "      <td>0.045848</td>\n",
       "      <td>0.996358</td>\n",
       "      <td>0.076084</td>\n",
       "      <td>0.941759</td>\n",
       "      <td>0.007512</td>\n",
       "      <td>0.996365</td>\n",
       "    </tr>\n",
       "  </tbody>\n",
       "</table>\n",
       "</div>"
      ],
      "text/plain": [
       "                model                                details   target  split  \\\n",
       "0  fastai.Tabular 1.1  epochs=40 | 6 features for X | y-norm  topleft  valid   \n",
       "1  fastai.Tabular 1.1  epochs=40 | 6 features for X | y-norm  topleft  train   \n",
       "\n",
       "        mse       mae        r2  dist_avg   dist_r2  sqdist_avg  sqdist_r2  \n",
       "0  0.003428  0.043780  0.996079  0.071832  0.939635    0.006855   0.996038  \n",
       "1  0.003756  0.045848  0.996358  0.076084  0.941759    0.007512   0.996365  "
      ]
     },
     "execution_count": 98,
     "metadata": {},
     "output_type": "execute_result"
    }
   ],
   "source": [
    "metrics_norm = metrics_df(learn,\n",
    "                           \"fastai.Tabular 1.1\",\n",
    "                            \"epochs=40 | 6 features for X | y-norm\",\n",
    "                            \"topleft\" )\n",
    "metrics_norm"
   ]
  },
  {
   "cell_type": "code",
   "execution_count": 99,
   "metadata": {},
   "outputs": [
    {
     "data": {
      "text/html": [],
      "text/plain": [
       "<IPython.core.display.HTML object>"
      ]
     },
     "metadata": {},
     "output_type": "display_data"
    },
    {
     "data": {
      "text/html": [],
      "text/plain": [
       "<IPython.core.display.HTML object>"
      ]
     },
     "metadata": {},
     "output_type": "display_data"
    },
    {
     "data": {
      "text/html": [
       "<div>\n",
       "<style scoped>\n",
       "    .dataframe tbody tr th:only-of-type {\n",
       "        vertical-align: middle;\n",
       "    }\n",
       "\n",
       "    .dataframe tbody tr th {\n",
       "        vertical-align: top;\n",
       "    }\n",
       "\n",
       "    .dataframe thead th {\n",
       "        text-align: right;\n",
       "    }\n",
       "</style>\n",
       "<table border=\"1\" class=\"dataframe\">\n",
       "  <thead>\n",
       "    <tr style=\"text-align: right;\">\n",
       "      <th></th>\n",
       "      <th>model</th>\n",
       "      <th>details</th>\n",
       "      <th>target</th>\n",
       "      <th>split</th>\n",
       "      <th>mse</th>\n",
       "      <th>mae</th>\n",
       "      <th>r2</th>\n",
       "      <th>dist_avg</th>\n",
       "      <th>dist_r2</th>\n",
       "      <th>sqdist_avg</th>\n",
       "      <th>sqdist_r2</th>\n",
       "    </tr>\n",
       "  </thead>\n",
       "  <tbody>\n",
       "    <tr>\n",
       "      <th>0</th>\n",
       "      <td>fastai.Tabular 1.1</td>\n",
       "      <td>epochs=40 | 6 features for X | y-norm</td>\n",
       "      <td>topleft</td>\n",
       "      <td>valid</td>\n",
       "      <td>0.000163</td>\n",
       "      <td>0.008432</td>\n",
       "      <td>0.996079</td>\n",
       "      <td>0.014859</td>\n",
       "      <td>0.930329</td>\n",
       "      <td>0.000326</td>\n",
       "      <td>0.994995</td>\n",
       "    </tr>\n",
       "    <tr>\n",
       "      <th>1</th>\n",
       "      <td>fastai.Tabular 1.1</td>\n",
       "      <td>epochs=40 | 6 features for X | y-norm</td>\n",
       "      <td>topleft</td>\n",
       "      <td>train</td>\n",
       "      <td>0.000171</td>\n",
       "      <td>0.008702</td>\n",
       "      <td>0.996358</td>\n",
       "      <td>0.015400</td>\n",
       "      <td>0.934759</td>\n",
       "      <td>0.000342</td>\n",
       "      <td>0.995479</td>\n",
       "    </tr>\n",
       "  </tbody>\n",
       "</table>\n",
       "</div>"
      ],
      "text/plain": [
       "                model                                details   target  split  \\\n",
       "0  fastai.Tabular 1.1  epochs=40 | 6 features for X | y-norm  topleft  valid   \n",
       "1  fastai.Tabular 1.1  epochs=40 | 6 features for X | y-norm  topleft  train   \n",
       "\n",
       "        mse       mae        r2  dist_avg   dist_r2  sqdist_avg  sqdist_r2  \n",
       "0  0.000163  0.008432  0.996079  0.014859  0.930329    0.000326   0.994995  \n",
       "1  0.000171  0.008702  0.996358  0.015400  0.934759    0.000342   0.995479  "
      ]
     },
     "execution_count": 99,
     "metadata": {},
     "output_type": "execute_result"
    }
   ],
   "source": [
    "metrics_unnorm = metrics_df(learn, \n",
    "                            \"fastai.Tabular 1.1\",\n",
    "                            \"epochs=40 | 6 features for X | y-norm\",\n",
    "                            \"topleft\", \n",
    "                            y_scaler=ss)\n",
    "metrics_unnorm"
   ]
  },
  {
   "cell_type": "markdown",
   "metadata": {},
   "source": [
    "#### Save"
   ]
  },
  {
   "cell_type": "code",
   "execution_count": 100,
   "metadata": {},
   "outputs": [],
   "source": [
    "metrics_unnorm.to_csv('assets/metrics-dfs/metrics6-fasttab-1x.csv',\n",
    "                     index=False)"
   ]
  },
  {
   "cell_type": "code",
   "execution_count": null,
   "metadata": {},
   "outputs": [],
   "source": []
  }
 ],
 "metadata": {
  "kernelspec": {
   "display_name": "Python 3",
   "language": "python",
   "name": "python3"
  },
  "language_info": {
   "codemirror_mode": {
    "name": "ipython",
    "version": 3
   },
   "file_extension": ".py",
   "mimetype": "text/x-python",
   "name": "python",
   "nbconvert_exporter": "python",
   "pygments_lexer": "ipython3",
   "version": "3.7.6"
  }
 },
 "nbformat": 4,
 "nbformat_minor": 4
}
